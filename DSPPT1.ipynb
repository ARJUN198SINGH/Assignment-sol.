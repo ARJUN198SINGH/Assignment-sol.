{
 "cells": [
  {
   "cell_type": "markdown",
   "id": "5d007326-47ed-4f68-913b-cba699217a66",
   "metadata": {},
   "source": [
    "1. Write a Python program to reverse a string without using any built-in string reversal functions.\n"
   ]
  },
  {
   "cell_type": "code",
   "execution_count": 1,
   "id": "79eb6176-2cdb-4b82-a907-d43178394758",
   "metadata": {},
   "outputs": [
    {
     "data": {
      "text/plain": [
       "'dlrowolleh'"
      ]
     },
     "execution_count": 1,
     "metadata": {},
     "output_type": "execute_result"
    }
   ],
   "source": [
    "def rev(a):\n",
    "    b=''\n",
    "    k=len(a)-1\n",
    "    while(k>=0):\n",
    "        b=b+a[k]\n",
    "        k=k-1\n",
    "    return b\n",
    "a='helloworld'    \n",
    "rev(a)"
   ]
  },
  {
   "cell_type": "code",
   "execution_count": null,
   "id": "9dbeda00-9e1b-4d6e-8ceb-83f487c0dbed",
   "metadata": {},
   "outputs": [],
   "source": []
  },
  {
   "cell_type": "markdown",
   "id": "e33773a7-c817-4329-8734-1bdc543fb25e",
   "metadata": {},
   "source": [
    "2. Implement a function to check if a given string is a palindrome."
   ]
  },
  {
   "cell_type": "code",
   "execution_count": 2,
   "id": "1479be21-ebc9-4ba5-8272-680960ba9933",
   "metadata": {},
   "outputs": [
    {
     "data": {
      "text/plain": [
       "'pallendrome'"
      ]
     },
     "execution_count": 2,
     "metadata": {},
     "output_type": "execute_result"
    }
   ],
   "source": [
    "def pall(a):\n",
    "    b=''\n",
    "    c=len(a)-1\n",
    "    while(c>=0):\n",
    "        b=b+a[c]\n",
    "        c=c-1\n",
    "    if(a==b):\n",
    "        return 'pallendrome'\n",
    "    else:\n",
    "        return 'not a pallendrome'\n",
    "pall('madam')"
   ]
  },
  {
   "cell_type": "code",
   "execution_count": null,
   "id": "868e2a85-a746-48bd-9e91-4de1b96e7f90",
   "metadata": {},
   "outputs": [],
   "source": []
  },
  {
   "cell_type": "markdown",
   "id": "b7f59ee5-3cf8-445b-9cf6-4c41c2317def",
   "metadata": {},
   "source": [
    "3. Write a program to find the largest element in a given list."
   ]
  },
  {
   "cell_type": "code",
   "execution_count": 3,
   "id": "a5544e94-066e-4ee8-9b7d-e79b6a8c665f",
   "metadata": {},
   "outputs": [
    {
     "data": {
      "text/plain": [
       "45"
      ]
     },
     "execution_count": 3,
     "metadata": {},
     "output_type": "execute_result"
    }
   ],
   "source": [
    "def largest(a):\n",
    "    n=len(a)-1\n",
    "    for i in range(len(a)):\n",
    "        for j in range(i+1,len(a)):\n",
    "            if(a[i]>a[j]):\n",
    "                a[i],a[j]=a[j],a[i]\n",
    "    return a[n]\n",
    "q=[1,45,2,5,4,2]   \n",
    "largest(q)    "
   ]
  },
  {
   "cell_type": "code",
   "execution_count": null,
   "id": "c077c1fd-e1d6-4311-91df-5f478dd09b20",
   "metadata": {},
   "outputs": [],
   "source": []
  },
  {
   "cell_type": "markdown",
   "id": "fbeebf89-bd31-4ec1-b982-56234027bdc5",
   "metadata": {},
   "source": [
    "4. Implement a function to count the occurrence of each element in a list.\n"
   ]
  },
  {
   "cell_type": "code",
   "execution_count": 4,
   "id": "bec5da44-5ec5-43fb-9a81-bbae9d578968",
   "metadata": {},
   "outputs": [
    {
     "data": {
      "text/plain": [
       "4"
      ]
     },
     "execution_count": 4,
     "metadata": {},
     "output_type": "execute_result"
    }
   ],
   "source": [
    "def occ(a,target):\n",
    "    c=0\n",
    "    for i in a:\n",
    "        if(target==i):\n",
    "            c=c+1\n",
    "    return c\n",
    "\n",
    "a=[1,1,2,3,4,5,5,5,6,4,2,3,5]\n",
    "target=5\n",
    "occ(a,target)"
   ]
  },
  {
   "cell_type": "code",
   "execution_count": null,
   "id": "d8cee521-c50a-415c-b95f-4836088e86b2",
   "metadata": {},
   "outputs": [],
   "source": []
  },
  {
   "cell_type": "markdown",
   "id": "82eb41bf-5c82-46bf-a7c6-c514a8a16a06",
   "metadata": {},
   "source": [
    "5. Write a Python program to find the second largest number in a list."
   ]
  },
  {
   "cell_type": "code",
   "execution_count": 5,
   "id": "c355e195-a39a-4630-bcc0-9154e9b42c3e",
   "metadata": {},
   "outputs": [
    {
     "data": {
      "text/plain": [
       "34"
      ]
     },
     "execution_count": 5,
     "metadata": {},
     "output_type": "execute_result"
    }
   ],
   "source": [
    "def sec(a):\n",
    "    p=len(a)-2\n",
    "    for i in range(len(a)):\n",
    "        for j in range(i+1,len(a)):\n",
    "            if(a[i]>a[j]):\n",
    "                a[i],a[j]=a[j],a[i]\n",
    "    return a[p]\n",
    "\n",
    "a=[1,34,4,42,32,12]\n",
    "sec(a)"
   ]
  },
  {
   "cell_type": "code",
   "execution_count": null,
   "id": "c74ce233-b2c6-4fa2-8cb1-06943e5feeae",
   "metadata": {},
   "outputs": [],
   "source": []
  },
  {
   "cell_type": "markdown",
   "id": "95ae7405-8061-4045-8cde-869870cfd7ef",
   "metadata": {},
   "source": [
    "6. Implement a function to remove duplicate elements from a list."
   ]
  },
  {
   "cell_type": "code",
   "execution_count": 6,
   "id": "6e2a886e-984e-4ae1-8982-3302a081cc2d",
   "metadata": {},
   "outputs": [
    {
     "data": {
      "text/plain": [
       "[1, 3, 4, 5, 6]"
      ]
     },
     "execution_count": 6,
     "metadata": {},
     "output_type": "execute_result"
    }
   ],
   "source": [
    "def dup(a):    \n",
    "    a=set(a)\n",
    "    a=list(a)\n",
    "    return a\n",
    "a=[1,1,1,3,4,3,5,6]\n",
    "dup(a)"
   ]
  },
  {
   "cell_type": "code",
   "execution_count": null,
   "id": "6f55df12-a737-4565-8675-498b05caa6c5",
   "metadata": {},
   "outputs": [],
   "source": []
  },
  {
   "cell_type": "markdown",
   "id": "df12770d-2a8c-4372-9d25-e819f9ac224e",
   "metadata": {},
   "source": [
    "7. Write a program to calculate the factorial of a given number."
   ]
  },
  {
   "cell_type": "code",
   "execution_count": 7,
   "id": "086643d6-0fa5-4d40-bda6-eee8e7fce1e7",
   "metadata": {},
   "outputs": [
    {
     "data": {
      "text/plain": [
       "120"
      ]
     },
     "execution_count": 7,
     "metadata": {},
     "output_type": "execute_result"
    }
   ],
   "source": [
    "def fact(n):\n",
    "    if(n==0):\n",
    "        return 1\n",
    "    elif(n==1):\n",
    "        return 1\n",
    "    else:\n",
    "        return n*fact(n-1)\n",
    "fact(5)"
   ]
  },
  {
   "cell_type": "code",
   "execution_count": null,
   "id": "45800478-5011-4b28-b557-f6a89d7d27e3",
   "metadata": {},
   "outputs": [],
   "source": []
  },
  {
   "cell_type": "markdown",
   "id": "3a2daa81-902d-4d88-9b90-91d1cd7a3503",
   "metadata": {},
   "source": [
    "8. Implement a function to check if a given number is prime.\n"
   ]
  },
  {
   "cell_type": "code",
   "execution_count": 8,
   "id": "7ece8f2c-2e9e-4bf2-b471-bf34b3f0d6d2",
   "metadata": {},
   "outputs": [],
   "source": [
    "def prime(n):\n",
    "    if(n<=0):\n",
    "        return 'plz enter +ve number'\n",
    "    elif(n==1):\n",
    "        return 'not prime'\n",
    "    elif(n==2):\n",
    "        return 'prime'\n",
    "    else:\n",
    "        for i in range(2,n//2+1):\n",
    "            if(n%i==0):\n",
    "                return 'not prime'\n",
    "                break\n",
    "        else:\n",
    "            return 'prime'"
   ]
  },
  {
   "cell_type": "code",
   "execution_count": 9,
   "id": "fbaa0b6b-0db4-45f8-8e59-08f39b003241",
   "metadata": {},
   "outputs": [
    {
     "data": {
      "text/plain": [
       "'prime'"
      ]
     },
     "execution_count": 9,
     "metadata": {},
     "output_type": "execute_result"
    }
   ],
   "source": [
    "prime(5)"
   ]
  },
  {
   "cell_type": "code",
   "execution_count": null,
   "id": "ef3e8a01-0cfa-4da3-95e6-686b063554aa",
   "metadata": {},
   "outputs": [],
   "source": []
  },
  {
   "cell_type": "markdown",
   "id": "34c4f3a1-e06d-495a-ab03-89d445d71047",
   "metadata": {},
   "source": [
    "9. Write a Python program to sort a list of integers in ascending order.\n"
   ]
  },
  {
   "cell_type": "code",
   "execution_count": 10,
   "id": "ab352e86-d28d-4397-8bc2-522338c0758f",
   "metadata": {},
   "outputs": [
    {
     "data": {
      "text/plain": [
       "[1, 4, 4, 6, 6, 9]"
      ]
     },
     "execution_count": 10,
     "metadata": {},
     "output_type": "execute_result"
    }
   ],
   "source": [
    "def sort(a):\n",
    "    a.sort()\n",
    "    return a\n",
    "b=[1,4,6,6,4,9]\n",
    "sort(b)"
   ]
  },
  {
   "cell_type": "code",
   "execution_count": 11,
   "id": "558cb576-7687-4e9b-b18e-a0321660a8b8",
   "metadata": {},
   "outputs": [],
   "source": [
    "def sort1(a):\n",
    "    for i in range(len(a)):\n",
    "        for j in range(i+1,len(a)):\n",
    "            if(a[i]>a[j]):\n",
    "                a[i],a[j]=a[j],a[i]\n",
    "    return a"
   ]
  },
  {
   "cell_type": "code",
   "execution_count": 12,
   "id": "cd111ad6-a273-4512-a72e-f96c91ebf59b",
   "metadata": {},
   "outputs": [
    {
     "data": {
      "text/plain": [
       "[3, 3, 4, 6, 23]"
      ]
     },
     "execution_count": 12,
     "metadata": {},
     "output_type": "execute_result"
    }
   ],
   "source": [
    "t=[4,3,6,23,3]\n",
    "sort1(t)"
   ]
  },
  {
   "cell_type": "code",
   "execution_count": null,
   "id": "7119ceac-ba3c-4bdc-b9cb-8e0547c312e3",
   "metadata": {},
   "outputs": [],
   "source": []
  },
  {
   "cell_type": "markdown",
   "id": "ee011ccf-ede7-458e-9369-209deb8d92b6",
   "metadata": {},
   "source": [
    "10. Implement a function to find the sum of all numbers in a list.\n"
   ]
  },
  {
   "cell_type": "code",
   "execution_count": 13,
   "id": "5fbc200d-b9cb-4919-bc1b-8eaef0508be1",
   "metadata": {},
   "outputs": [],
   "source": [
    "def sum1(a):\n",
    "    b=sum(a)\n",
    "    return b"
   ]
  },
  {
   "cell_type": "code",
   "execution_count": 14,
   "id": "4f0bb17d-6365-44f8-8154-236f7c1c6e7d",
   "metadata": {},
   "outputs": [
    {
     "data": {
      "text/plain": [
       "33"
      ]
     },
     "execution_count": 14,
     "metadata": {},
     "output_type": "execute_result"
    }
   ],
   "source": [
    "t=[11,22]\n",
    "sum1(t)"
   ]
  },
  {
   "cell_type": "code",
   "execution_count": 15,
   "id": "c61e2c8f-9594-4247-a327-58ed61a91c8d",
   "metadata": {},
   "outputs": [],
   "source": [
    "def sum2(n):\n",
    "    s=0\n",
    "    for i in n:\n",
    "        s=s+i\n",
    "    return s"
   ]
  },
  {
   "cell_type": "code",
   "execution_count": 16,
   "id": "f0c39d0a-aa7d-4500-9441-bebabfa875f2",
   "metadata": {},
   "outputs": [
    {
     "data": {
      "text/plain": [
       "33"
      ]
     },
     "execution_count": 16,
     "metadata": {},
     "output_type": "execute_result"
    }
   ],
   "source": [
    "t=[11,22]\n",
    "sum2(t)"
   ]
  },
  {
   "cell_type": "code",
   "execution_count": null,
   "id": "4cc9dbb9-129a-45aa-b9f5-c5584de90f1e",
   "metadata": {},
   "outputs": [],
   "source": []
  },
  {
   "cell_type": "markdown",
   "id": "a6e09950-f554-4686-abd8-e62f3e1176eb",
   "metadata": {},
   "source": [
    "11. Write a program to find the common elements between two lists.\n"
   ]
  },
  {
   "cell_type": "code",
   "execution_count": 17,
   "id": "98b83243-996b-4034-a5f0-4f9ee756ebe3",
   "metadata": {},
   "outputs": [],
   "source": [
    "def common(w,e):\n",
    "    c=[]\n",
    "    for i in w:\n",
    "        if(i in e):\n",
    "            c.append(i)\n",
    "    return c"
   ]
  },
  {
   "cell_type": "code",
   "execution_count": 18,
   "id": "df0fa023-e5c5-45a3-9806-33b8516a0d89",
   "metadata": {},
   "outputs": [
    {
     "data": {
      "text/plain": [
       "[2, 4, 5]"
      ]
     },
     "execution_count": 18,
     "metadata": {},
     "output_type": "execute_result"
    }
   ],
   "source": [
    "w=[2,4,5,'we',9]\n",
    "e=[2,5,'w',4,5]\n",
    "common(w,e)"
   ]
  },
  {
   "cell_type": "code",
   "execution_count": null,
   "id": "08f3ee05-733f-44ee-8cd2-a9420621ace5",
   "metadata": {},
   "outputs": [],
   "source": []
  },
  {
   "cell_type": "markdown",
   "id": "cd1c00a9-b86d-432c-8d72-7ce4114d7808",
   "metadata": {},
   "source": [
    "12. Implement a function to check if a given string is an anagram of another string.\n"
   ]
  },
  {
   "cell_type": "code",
   "execution_count": 19,
   "id": "941bd528-1f98-4258-a0e1-1dff1adc4687",
   "metadata": {},
   "outputs": [],
   "source": [
    "def angram(a,w):\n",
    "    for i in a:\n",
    "        if(i in w):\n",
    "            t=True\n",
    "        else:\n",
    "            t=False\n",
    "            break\n",
    "    return t"
   ]
  },
  {
   "cell_type": "code",
   "execution_count": 20,
   "id": "aa2aa45f-a34f-496b-846a-ae8e7b6b0d16",
   "metadata": {},
   "outputs": [
    {
     "data": {
      "text/plain": [
       "True"
      ]
     },
     "execution_count": 20,
     "metadata": {},
     "output_type": "execute_result"
    }
   ],
   "source": [
    "angram('abcd','bcda')"
   ]
  },
  {
   "cell_type": "code",
   "execution_count": null,
   "id": "aafb9702-0b0a-4f66-9125-9431b07ec81b",
   "metadata": {},
   "outputs": [],
   "source": []
  },
  {
   "cell_type": "markdown",
   "id": "41e63c50-ac7b-4050-9279-e8b4c79e2ea3",
   "metadata": {},
   "source": [
    "13. Write a Python program to generate all permutations of a given string.\n"
   ]
  },
  {
   "cell_type": "code",
   "execution_count": 21,
   "id": "3f80cd58-4763-4e68-8c75-90ecaf6789eb",
   "metadata": {},
   "outputs": [
    {
     "ename": "SyntaxError",
     "evalue": "incomplete input (296905541.py, line 3)",
     "output_type": "error",
     "traceback": [
      "\u001b[0;36m  Cell \u001b[0;32mIn[21], line 3\u001b[0;36m\u001b[0m\n\u001b[0;31m    for j in range():\u001b[0m\n\u001b[0m                     ^\u001b[0m\n\u001b[0;31mSyntaxError\u001b[0m\u001b[0;31m:\u001b[0m incomplete input\n"
     ]
    }
   ],
   "source": [
    "s='abc'\n",
    "for i in range(len(s)):\n",
    "    for j in range():"
   ]
  },
  {
   "cell_type": "code",
   "execution_count": null,
   "id": "f0f02733-1de4-43ed-82c6-d1e525a68b01",
   "metadata": {},
   "outputs": [],
   "source": []
  },
  {
   "cell_type": "markdown",
   "id": "6036e0d1-b60a-45d5-a129-ffa1c937bbb1",
   "metadata": {},
   "source": [
    "14. Implement a function to calculate the Fibonacci sequence up to a given number of terms.\n"
   ]
  },
  {
   "cell_type": "code",
   "execution_count": 22,
   "id": "49a82db7-f94e-4a12-81c4-c4c4771d7354",
   "metadata": {},
   "outputs": [],
   "source": [
    "def fib(n):\n",
    "    if(n<=0):\n",
    "        return 'plz enter'\n",
    "    if(n==1):\n",
    "        return 0\n",
    "    if(n==2):\n",
    "        return 1\n",
    "    else:\n",
    "        l=[]\n",
    "        a,b=0,1\n",
    "        while(n>=1):\n",
    "            l.append(a)\n",
    "            q=a+b\n",
    "            a=b\n",
    "            b=q\n",
    "            n=n-1\n",
    "    for i in l:\n",
    "        print(i)"
   ]
  },
  {
   "cell_type": "code",
   "execution_count": 23,
   "id": "e5414229-1211-4c91-9217-b21c6056db9e",
   "metadata": {},
   "outputs": [
    {
     "name": "stdout",
     "output_type": "stream",
     "text": [
      "0\n",
      "1\n",
      "1\n",
      "2\n",
      "3\n",
      "5\n",
      "8\n"
     ]
    }
   ],
   "source": [
    "fib(7)"
   ]
  },
  {
   "cell_type": "code",
   "execution_count": null,
   "id": "fc8d42a6-7c79-4761-bda5-d51a5774de32",
   "metadata": {},
   "outputs": [],
   "source": []
  },
  {
   "cell_type": "markdown",
   "id": "cec65909-e67f-4c7d-8502-ea564815ec29",
   "metadata": {},
   "source": [
    "15. Write a program to find the median of a list of numbers.\n"
   ]
  },
  {
   "cell_type": "code",
   "execution_count": 41,
   "id": "6f07c4f1-9c19-4031-843a-97ebc4434614",
   "metadata": {},
   "outputs": [
    {
     "name": "stdout",
     "output_type": "stream",
     "text": [
      "7\n"
     ]
    }
   ],
   "source": [
    "a=[7,2,5,7,9]\n",
    "a.sort()\n",
    "if(len(a)%2!=0):\n",
    "    print(a[(len(a)//2+1)-1])\n",
    "else:\n",
    "    print((a[(len(a)//2)-1]+a[(len(a)//2+1)-1])/2)"
   ]
  },
  {
   "cell_type": "code",
   "execution_count": null,
   "id": "67937505-786e-49a0-b4c1-5de94b0c1cf8",
   "metadata": {},
   "outputs": [],
   "source": []
  },
  {
   "cell_type": "markdown",
   "id": "c533ce81-2742-49a3-b6a8-af94f4d23f37",
   "metadata": {},
   "source": [
    "16. Implement a function to check if a given list is sorted in non-decreasing order.\n"
   ]
  },
  {
   "cell_type": "code",
   "execution_count": 18,
   "id": "28d8b962-87b3-4192-88e2-31d4e61470ba",
   "metadata": {},
   "outputs": [],
   "source": [
    "def desc(l):\n",
    "    p=l.copy()\n",
    "    l.sort()\n",
    "    q=l[::-1]\n",
    "    if(p==q):\n",
    "        return 'descending order'\n",
    "    else:\n",
    "        return 'not in descending order'"
   ]
  },
  {
   "cell_type": "code",
   "execution_count": 19,
   "id": "1099c7c4-babd-42dd-b2e4-aa1313644990",
   "metadata": {},
   "outputs": [
    {
     "data": {
      "text/plain": [
       "'not in descending order'"
      ]
     },
     "execution_count": 19,
     "metadata": {},
     "output_type": "execute_result"
    }
   ],
   "source": [
    "l=[3,2,1,7]\n",
    "desc(l)"
   ]
  },
  {
   "cell_type": "code",
   "execution_count": null,
   "id": "cdf451c6-64bc-4356-b63d-c49d5877b6fd",
   "metadata": {},
   "outputs": [],
   "source": []
  },
  {
   "cell_type": "markdown",
   "id": "07770f98-76d1-48b3-811b-1acb88e2b31b",
   "metadata": {},
   "source": [
    "17. Write a Python program to find the intersection of two lists."
   ]
  },
  {
   "cell_type": "code",
   "execution_count": 25,
   "id": "08106560-8a22-402e-8b73-886ab6fca87c",
   "metadata": {},
   "outputs": [],
   "source": [
    "def inter(l1,l2):\n",
    "    l1=set(l1)\n",
    "    l2=set(l2)\n",
    "    return list(l1.intersection(l2))"
   ]
  },
  {
   "cell_type": "code",
   "execution_count": 26,
   "id": "730d8c26-8c66-4d30-8d11-d1eece743306",
   "metadata": {},
   "outputs": [
    {
     "data": {
      "text/plain": [
       "[1, 2]"
      ]
     },
     "execution_count": 26,
     "metadata": {},
     "output_type": "execute_result"
    }
   ],
   "source": [
    "l1=[1,2,1]\n",
    "l2=[1,3,2]\n",
    "inter(l1,l2)"
   ]
  },
  {
   "cell_type": "code",
   "execution_count": null,
   "id": "f98247b1-8033-4114-a9e8-6d8ac25dc5c0",
   "metadata": {},
   "outputs": [],
   "source": []
  },
  {
   "cell_type": "markdown",
   "id": "0ab74346-93a5-49fb-97c7-2664e4df8529",
   "metadata": {},
   "source": [
    "18. Implement a function to find the maximum subarray sum in a given list."
   ]
  },
  {
   "cell_type": "markdown",
   "id": "62b0501b-8f3c-4699-81e3-dff6deac835e",
   "metadata": {},
   "source": [
    "19. Write a program to remove all vowels from a given string."
   ]
  },
  {
   "cell_type": "code",
   "execution_count": 4,
   "id": "62b8d406-74ca-43df-8b6b-b2b80d18eb09",
   "metadata": {},
   "outputs": [],
   "source": [
    "def string(a):\n",
    "    w=''\n",
    "    for i in a:\n",
    "        if(i=='A' or i=='E' or i=='I' or i=='O' or i=='U' or i=='a' or i=='e' or i=='i' or i=='o' or i=='u'):\n",
    "            continue\n",
    "        else:\n",
    "            w=w+i\n",
    "    return w"
   ]
  },
  {
   "cell_type": "code",
   "execution_count": 5,
   "id": "9cf659a8-fc0c-458d-b489-1e9711954f25",
   "metadata": {},
   "outputs": [
    {
     "data": {
      "text/plain": [
       "'rjn sngh'"
      ]
     },
     "execution_count": 5,
     "metadata": {},
     "output_type": "execute_result"
    }
   ],
   "source": [
    "name='arjun singh'\n",
    "string(name)"
   ]
  },
  {
   "cell_type": "code",
   "execution_count": null,
   "id": "79adda8c-9093-4540-b057-5faeaa3e330c",
   "metadata": {},
   "outputs": [],
   "source": []
  },
  {
   "cell_type": "markdown",
   "id": "22ce401f-cb19-4905-a593-27e22e8325a5",
   "metadata": {},
   "source": [
    "20. Implement a function to reverse the order of words in a given sentence."
   ]
  },
  {
   "cell_type": "code",
   "execution_count": 33,
   "id": "f0561d83-2488-4152-bb1c-d63a43aeec7c",
   "metadata": {},
   "outputs": [],
   "source": [
    "def rev(a):\n",
    "    w=''\n",
    "    b=len(a)-1\n",
    "    for i in range(b,-1,-1):\n",
    "        w=w+a[i]\n",
    "    return w"
   ]
  },
  {
   "cell_type": "code",
   "execution_count": 34,
   "id": "c1b66ee4-4375-4c9b-917f-a2fbeb08e4e5",
   "metadata": {},
   "outputs": [
    {
     "data": {
      "text/plain": [
       "'tac a si siht'"
      ]
     },
     "execution_count": 34,
     "metadata": {},
     "output_type": "execute_result"
    }
   ],
   "source": [
    "t=a='this is a cat'\n",
    "rev(t)"
   ]
  },
  {
   "cell_type": "code",
   "execution_count": null,
   "id": "50944c99-7f89-4b5c-a20d-3eb47914aaee",
   "metadata": {},
   "outputs": [],
   "source": []
  },
  {
   "cell_type": "markdown",
   "id": "378c2539-55f5-4b0e-8bcb-c932e14c5ba5",
   "metadata": {},
   "source": [
    "21. Write a Python program to check if two strings are anagrams of each other."
   ]
  },
  {
   "cell_type": "code",
   "execution_count": 8,
   "id": "c653ddf3-0c5b-4a80-a2f7-2918a104753c",
   "metadata": {},
   "outputs": [
    {
     "data": {
      "text/plain": [
       "'string are anagrams'"
      ]
     },
     "execution_count": 8,
     "metadata": {},
     "output_type": "execute_result"
    }
   ],
   "source": [
    "def ang(s1,s2):\n",
    "    if(len(s1)==len(s2)):\n",
    "        for i in s1:\n",
    "            if(i in s2):\n",
    "                continue\n",
    "            else:\n",
    "                return 'string are not anagrams'\n",
    "                break\n",
    "        else:\n",
    "            return 'string are anagrams'\n",
    "    else:\n",
    "        return 'string are not anagrams'\n",
    "s1='abcd'\n",
    "s2='bcda'\n",
    "ang(s1,s2)"
   ]
  },
  {
   "cell_type": "code",
   "execution_count": null,
   "id": "c0f890f1-073e-4b98-af3b-53f81ae4ab5f",
   "metadata": {},
   "outputs": [],
   "source": []
  },
  {
   "cell_type": "markdown",
   "id": "692b2cd9-9eab-4882-86ee-c215b6d4da3a",
   "metadata": {},
   "source": [
    "22. Implement a function to find the first non-repeating character in a string."
   ]
  },
  {
   "cell_type": "code",
   "execution_count": 1,
   "id": "4abbf837-af0d-432b-a8e4-6f78bd08a2e6",
   "metadata": {},
   "outputs": [
    {
     "name": "stdout",
     "output_type": "stream",
     "text": [
      "d\n"
     ]
    }
   ],
   "source": [
    "def non_rep(a):\n",
    "    for i in a:\n",
    "        if(a.count(i)==1):\n",
    "            print(i)\n",
    "            break\n",
    "a='abcdabc' \n",
    "non_rep(a)"
   ]
  },
  {
   "cell_type": "code",
   "execution_count": null,
   "id": "64bf4bd3-c4e7-4008-8cb7-53eef4fa9318",
   "metadata": {},
   "outputs": [],
   "source": []
  },
  {
   "cell_type": "markdown",
   "id": "506a8025-a331-4ab4-a1df-1f43e4f501d1",
   "metadata": {},
   "source": [
    "23. Write a program to find the prime factors of a given number."
   ]
  },
  {
   "cell_type": "code",
   "execution_count": 25,
   "id": "829dd702-4c28-44eb-a755-16bbdfb66866",
   "metadata": {},
   "outputs": [
    {
     "data": {
      "text/plain": [
       "[2, 3, 47]"
      ]
     },
     "execution_count": 25,
     "metadata": {},
     "output_type": "execute_result"
    }
   ],
   "source": [
    "def prime(a): \n",
    "    o=a\n",
    "    w=[]\n",
    "    i=2\n",
    "    while(o>i):\n",
    "        if(a%i==0):\n",
    "            w.append(i)\n",
    "            a=a//i\n",
    "            i=i+1\n",
    "        else:\n",
    "            i=i+1\n",
    "    return w\n",
    "a=282\n",
    "prime(a)"
   ]
  },
  {
   "cell_type": "code",
   "execution_count": null,
   "id": "b8d308c5-5368-476d-a9ed-0bf4db226ba7",
   "metadata": {},
   "outputs": [],
   "source": []
  },
  {
   "cell_type": "markdown",
   "id": "f2b1826c-10b8-49c8-a97e-ec5b8b11bec3",
   "metadata": {},
   "source": [
    "24. Implement a function to check if a given number is a power of two."
   ]
  },
  {
   "cell_type": "code",
   "execution_count": 12,
   "id": "4e5eabc9-468e-4195-8c7a-e04b4d5566c9",
   "metadata": {},
   "outputs": [
    {
     "name": "stdout",
     "output_type": "stream",
     "text": [
      "2^ 5\n"
     ]
    }
   ],
   "source": [
    "def power(n):\n",
    "    for i in range(0,n//2):\n",
    "        if(pow(2,i)==n):\n",
    "            print('2^',i)\n",
    "            break\n",
    "    else:\n",
    "        print('not a power of 2')\n",
    "n=32\n",
    "power(n)"
   ]
  },
  {
   "cell_type": "code",
   "execution_count": null,
   "id": "96903664-92e3-4a88-962c-e6478d38eebc",
   "metadata": {},
   "outputs": [],
   "source": []
  },
  {
   "cell_type": "markdown",
   "id": "f0775ef4-25b3-44b1-b707-88d397df1568",
   "metadata": {},
   "source": [
    "25. Write a Python program to merge two sorted lists into a single sorted list."
   ]
  },
  {
   "cell_type": "code",
   "execution_count": 21,
   "id": "ab7b6283-18f6-4926-99c6-faf9f9aeb418",
   "metadata": {},
   "outputs": [
    {
     "data": {
      "text/plain": [
       "[1, 2, 3, 4, 6, 7, 8, 10]"
      ]
     },
     "execution_count": 21,
     "metadata": {},
     "output_type": "execute_result"
    }
   ],
   "source": [
    "def sort(a,b):\n",
    "    c=a+b\n",
    "    c.sort()\n",
    "    return c\n",
    "    \n",
    "a=[1,2,4,10]\n",
    "b=[3,6,7,8]    \n",
    "sort(a,b)"
   ]
  },
  {
   "cell_type": "code",
   "execution_count": null,
   "id": "8e02a09e-dcd8-472d-bdd0-3da09f08b92d",
   "metadata": {},
   "outputs": [],
   "source": []
  },
  {
   "cell_type": "markdown",
   "id": "6c43f285-4021-417a-aa53-5631656b3dd0",
   "metadata": {},
   "source": [
    "26. Implement a function to find the mode of a list of numbers.\n"
   ]
  },
  {
   "cell_type": "code",
   "execution_count": 2,
   "id": "8cff50ae-8d47-41cc-afa4-21c7b14cf945",
   "metadata": {},
   "outputs": [
    {
     "data": {
      "text/plain": [
       "1"
      ]
     },
     "execution_count": 2,
     "metadata": {},
     "output_type": "execute_result"
    }
   ],
   "source": [
    "def mode(a):\n",
    "    max=0\n",
    "    for i in a:\n",
    "        aa=a.count(i)\n",
    "        if(aa>max):\n",
    "            max=aa\n",
    "            min=i\n",
    "    return min\n",
    "a=[1,1,1,1,1,1,2,2,2,2,3,34,34,434,34,34,34,43]\n",
    "mode(a)"
   ]
  },
  {
   "cell_type": "code",
   "execution_count": null,
   "id": "c4e9426c-8ebf-4e2a-873b-f253b6871a23",
   "metadata": {},
   "outputs": [],
   "source": []
  },
  {
   "cell_type": "markdown",
   "id": "07817455-47ec-42c8-8baf-c1de48b9647d",
   "metadata": {},
   "source": [
    "27. Write a program to find the greatest common divisor (GCD) of two numbers.\n"
   ]
  },
  {
   "cell_type": "code",
   "execution_count": 8,
   "id": "f60cd541-6a2d-4bfa-9eb0-ebdcb3b060b6",
   "metadata": {},
   "outputs": [
    {
     "data": {
      "text/plain": [
       "3"
      ]
     },
     "execution_count": 8,
     "metadata": {},
     "output_type": "execute_result"
    }
   ],
   "source": [
    "def gcd(a,b):\n",
    "    if(a>b):\n",
    "        sm=b\n",
    "    else:\n",
    "        sm=a\n",
    "    for i in range(1,sm+1):\n",
    "        if(a%i==0 and b%i==0):\n",
    "            gcd=i\n",
    "    return gcd\n",
    "a=12\n",
    "b=15\n",
    "gcd(a,b)"
   ]
  },
  {
   "cell_type": "code",
   "execution_count": null,
   "id": "58a03b60-09d5-4619-b7a1-22cfa19860d1",
   "metadata": {},
   "outputs": [],
   "source": []
  },
  {
   "cell_type": "markdown",
   "id": "2e5dede5-02ad-419b-b1fb-16b4ab6630ac",
   "metadata": {},
   "source": [
    "28. Implement a function to calculate the square root of a given number.\n"
   ]
  },
  {
   "cell_type": "code",
   "execution_count": 10,
   "id": "b34aa3ca-0e5e-48fe-b4b6-7128ff574676",
   "metadata": {},
   "outputs": [
    {
     "data": {
      "text/plain": [
       "4.0"
      ]
     },
     "execution_count": 10,
     "metadata": {},
     "output_type": "execute_result"
    }
   ],
   "source": [
    "def sq(a):\n",
    "    return pow(a,0.5)\n",
    "sq(16)"
   ]
  },
  {
   "cell_type": "code",
   "execution_count": null,
   "id": "2de297c3-59fb-40db-987d-389b17da1114",
   "metadata": {},
   "outputs": [],
   "source": []
  },
  {
   "cell_type": "markdown",
   "id": "9a4166a3-5f45-41e4-b938-8e9d3e2e1830",
   "metadata": {},
   "source": [
    "29. Write a Python program to check if a given string is a valid palindrome ignoring non-alphanumeric characters.\n"
   ]
  },
  {
   "cell_type": "code",
   "execution_count": 19,
   "id": "6b7922de-11f4-4325-bc1f-bfa4175add39",
   "metadata": {},
   "outputs": [
    {
     "name": "stdout",
     "output_type": "stream",
     "text": [
      "pallendrome\n"
     ]
    }
   ],
   "source": [
    "a='mad$a@m'\n",
    "s=''\n",
    "for i in a:\n",
    "    if(i.isalnum()):\n",
    "        s=s+i\n",
    "b=s\n",
    "t=s[::-1]\n",
    "if(b==t):\n",
    "    print('pallendrome')\n",
    "else:\n",
    "    print('not a pallendrome')"
   ]
  },
  {
   "cell_type": "code",
   "execution_count": null,
   "id": "e17e4832-60cb-47b2-943e-46aec66470d2",
   "metadata": {},
   "outputs": [],
   "source": []
  },
  {
   "cell_type": "markdown",
   "id": "d066e133-4a3a-46c3-9e71-a8271e61b703",
   "metadata": {},
   "source": [
    "30. Implement a function to find the minimum element in a rotated sorted list.\n"
   ]
  },
  {
   "cell_type": "code",
   "execution_count": 1,
   "id": "5bf8eec3-e6ac-4e8c-a5bf-995322f91c6a",
   "metadata": {},
   "outputs": [
    {
     "data": {
      "text/plain": [
       "0"
      ]
     },
     "execution_count": 1,
     "metadata": {},
     "output_type": "execute_result"
    }
   ],
   "source": [
    "def minn(a):\n",
    "    return min(a)\n",
    "a=[1,2,4,0]\n",
    "minn(a)"
   ]
  },
  {
   "cell_type": "code",
   "execution_count": null,
   "id": "375c134b-80ee-417c-9162-b9cea9192e63",
   "metadata": {},
   "outputs": [],
   "source": []
  },
  {
   "cell_type": "markdown",
   "id": "a01a126c-4782-41e3-ad64-d3a646c75cc7",
   "metadata": {},
   "source": [
    "31. Write a program to find the sum of all even numbers in a list."
   ]
  },
  {
   "cell_type": "code",
   "execution_count": 6,
   "id": "302651ed-f9cd-45a9-9ed3-04129b61ff0e",
   "metadata": {},
   "outputs": [
    {
     "data": {
      "text/plain": [
       "12"
      ]
     },
     "execution_count": 6,
     "metadata": {},
     "output_type": "execute_result"
    }
   ],
   "source": [
    "\n",
    "def ev(a):\n",
    "    t=0\n",
    "    for i in a:\n",
    "        if(i%2==0):\n",
    "            t=t+i\n",
    "    return t\n",
    "a=[2,3,4,5,6]\n",
    "ev(a)"
   ]
  },
  {
   "cell_type": "code",
   "execution_count": null,
   "id": "a47c2064-1ffc-4bdc-8c30-8b5c3f0d1fee",
   "metadata": {},
   "outputs": [],
   "source": []
  },
  {
   "cell_type": "markdown",
   "id": "c8abbc7e-6028-48f1-803a-e91ea85cd163",
   "metadata": {},
   "source": [
    "32. Implement a function to calculate the power of a number using recursion.\n"
   ]
  },
  {
   "cell_type": "code",
   "execution_count": 1,
   "id": "86154206-d6a2-4a64-8b00-c9efea7d3b4f",
   "metadata": {},
   "outputs": [],
   "source": [
    "def power(a,d):\n",
    "    if(d==0):\n",
    "        return 1\n",
    "    elif(d==1):\n",
    "        return a\n",
    "    else:\n",
    "        return a*power(a,d-1)"
   ]
  },
  {
   "cell_type": "code",
   "execution_count": 6,
   "id": "0a040047-02f8-4cb1-9b6e-8420df9ae616",
   "metadata": {},
   "outputs": [
    {
     "data": {
      "text/plain": [
       "27"
      ]
     },
     "execution_count": 6,
     "metadata": {},
     "output_type": "execute_result"
    }
   ],
   "source": [
    "power(3,3)"
   ]
  },
  {
   "cell_type": "code",
   "execution_count": null,
   "id": "6960adcb-bd85-46a3-9fd7-f9f16334d7bc",
   "metadata": {},
   "outputs": [],
   "source": []
  },
  {
   "cell_type": "markdown",
   "id": "a9a3b7d1-033c-4056-aaff-5e5279d70c3c",
   "metadata": {},
   "source": [
    "33. Write a Python program to remove duplicates from a list while preserving the order."
   ]
  },
  {
   "cell_type": "code",
   "execution_count": 30,
   "id": "cdb9e961-dc49-4871-b9bb-2e62e9cb54fc",
   "metadata": {},
   "outputs": [
    {
     "data": {
      "text/plain": [
       "[1, 2, 6, 9, 3, 4, 5]"
      ]
     },
     "execution_count": 30,
     "metadata": {},
     "output_type": "execute_result"
    }
   ],
   "source": [
    "def dup(a):\n",
    "    for i in a:\n",
    "        if(a.count(i)>=2):\n",
    "            a.remove(i)\n",
    "    return a\n",
    "a=[1,2,3,4,5,6,9,3,4,5]   \n",
    "dup(a)"
   ]
  },
  {
   "cell_type": "code",
   "execution_count": null,
   "id": "dfacc744-0733-49b9-8f19-8ae72e62eb83",
   "metadata": {},
   "outputs": [],
   "source": []
  },
  {
   "cell_type": "markdown",
   "id": "bc608ab2-f451-4910-a35d-7f09f165cb95",
   "metadata": {},
   "source": [
    "34. Implement a function to find the longest common prefix among a list of strings."
   ]
  },
  {
   "cell_type": "markdown",
   "id": "04868439-5a16-4960-8ba3-e9436225939b",
   "metadata": {},
   "source": [
    "35. Write a program to check if a given number is a perfect square."
   ]
  },
  {
   "cell_type": "code",
   "execution_count": 20,
   "id": "e5ebda15-27ca-4bce-9fe8-cbacfaac521b",
   "metadata": {},
   "outputs": [],
   "source": [
    "def perfect(w):\n",
    "    for i in range(1,w//2+1):\n",
    "        if(w==int(pow(i,2))):\n",
    "            print(i)\n",
    "            break"
   ]
  },
  {
   "cell_type": "code",
   "execution_count": 21,
   "id": "d1ac0f16-44e2-4f15-8f29-9f089257e336",
   "metadata": {},
   "outputs": [
    {
     "name": "stdout",
     "output_type": "stream",
     "text": [
      "6\n"
     ]
    }
   ],
   "source": [
    "perfect(36)"
   ]
  },
  {
   "cell_type": "code",
   "execution_count": null,
   "id": "a0704a44-af5d-45f7-ac6f-1660106f2969",
   "metadata": {},
   "outputs": [],
   "source": []
  },
  {
   "cell_type": "markdown",
   "id": "68db1317-6387-4f11-9329-8b842b5e720d",
   "metadata": {},
   "source": [
    "36. Implement a function to calculate the product of all elements in a list."
   ]
  },
  {
   "cell_type": "code",
   "execution_count": 26,
   "id": "f42a1bcb-deb3-49ed-b5ee-6d01c2e002d0",
   "metadata": {},
   "outputs": [],
   "source": [
    "def pro(a):\n",
    "    t=1\n",
    "    for i in a:\n",
    "        t=t*i\n",
    "    return t"
   ]
  },
  {
   "cell_type": "code",
   "execution_count": 29,
   "id": "af941fd8-394b-4e72-b9ef-3291114000df",
   "metadata": {},
   "outputs": [
    {
     "data": {
      "text/plain": [
       "24"
      ]
     },
     "execution_count": 29,
     "metadata": {},
     "output_type": "execute_result"
    }
   ],
   "source": [
    "pro([1,2,3,4])"
   ]
  },
  {
   "cell_type": "code",
   "execution_count": null,
   "id": "3819e307-0b37-49a5-885f-922fe3bec995",
   "metadata": {},
   "outputs": [],
   "source": []
  },
  {
   "cell_type": "markdown",
   "id": "88cbb64a-f7fb-4322-82b5-51f5283dccd3",
   "metadata": {},
   "source": [
    "37. Write a Python program to reverse the order of words in a sentence while preserving the word order."
   ]
  },
  {
   "cell_type": "code",
   "execution_count": 44,
   "id": "67f3a21e-97a1-4847-ab3e-e8f203706799",
   "metadata": {},
   "outputs": [
    {
     "data": {
      "text/plain": [
       "'iih ym eman si nujra hgnis'"
      ]
     },
     "execution_count": 44,
     "metadata": {},
     "output_type": "execute_result"
    }
   ],
   "source": [
    "def rev(a):\n",
    "    a=a.split(' ')\n",
    "    st=''\n",
    "    for i in a:\n",
    "        i=i[::-1]\n",
    "        st=st+i+' '\n",
    "    return st.strip()\n",
    "a='hii my name is arjun singh'\n",
    "rev(a)"
   ]
  },
  {
   "cell_type": "code",
   "execution_count": null,
   "id": "ae9bacbd-e70e-41dd-81da-a9136b3f101a",
   "metadata": {},
   "outputs": [],
   "source": []
  },
  {
   "cell_type": "markdown",
   "id": "78cb35c9-b922-4201-813e-a0115aab2943",
   "metadata": {},
   "source": [
    "38. Implement a function to find the missing number in a given list of consecutive numbers."
   ]
  },
  {
   "cell_type": "code",
   "execution_count": 57,
   "id": "3da8a852-ff93-46a0-989b-e79d75646971",
   "metadata": {},
   "outputs": [
    {
     "data": {
      "text/plain": [
       "7"
      ]
     },
     "execution_count": 57,
     "metadata": {},
     "output_type": "execute_result"
    }
   ],
   "source": [
    "def miss(a):\n",
    "    d=a[1]-a[0]\n",
    "    for i in range(len(a)-1):\n",
    "        if(a[i]+d==a[i+1]):\n",
    "            if(i==len(a)-1):\n",
    "                return 'no missing'\n",
    "        else:\n",
    "            return a[i]+d\n",
    "a=[1,2,3,4,5,6,8]\n",
    "miss(a)"
   ]
  },
  {
   "cell_type": "code",
   "execution_count": null,
   "id": "eea4e2c5-d746-4d8c-ae7b-0a6668048ce3",
   "metadata": {},
   "outputs": [],
   "source": []
  },
  {
   "cell_type": "markdown",
   "id": "c8e72e99-d599-46f0-ad74-f7d9ddff5c55",
   "metadata": {},
   "source": [
    "39. Write a program to find the sum of digits of a given number."
   ]
  },
  {
   "cell_type": "code",
   "execution_count": 61,
   "id": "2a3bd8ee-2c17-4662-a949-5bd22022eed1",
   "metadata": {},
   "outputs": [
    {
     "data": {
      "text/plain": [
       "15"
      ]
     },
     "execution_count": 61,
     "metadata": {},
     "output_type": "execute_result"
    }
   ],
   "source": [
    "def sums(a):\n",
    "    s=0\n",
    "    while(a>0):\n",
    "        r=a%10\n",
    "        s=s+r\n",
    "        a=a//10\n",
    "    return s\n",
    "sums(456)"
   ]
  },
  {
   "cell_type": "code",
   "execution_count": null,
   "id": "9619b205-d467-4a20-9d1b-8d60a42b6705",
   "metadata": {},
   "outputs": [],
   "source": []
  },
  {
   "cell_type": "markdown",
   "id": "1669f9cd-73c5-4291-804b-61beb4d42194",
   "metadata": {},
   "source": []
  },
  {
   "cell_type": "code",
   "execution_count": null,
   "id": "f9588419-9bd6-46b7-8cfa-1270f24964ca",
   "metadata": {},
   "outputs": [],
   "source": []
  },
  {
   "cell_type": "markdown",
   "id": "3b0ead77-77ec-4ca3-8fbc-5b85393ca2e4",
   "metadata": {},
   "source": [
    "40. Implement a function to check if a given string is a valid palindrome considering case sensitivity."
   ]
  },
  {
   "cell_type": "code",
   "execution_count": 73,
   "id": "f01d4191-8ca2-4e23-814d-8d28f05f91e1",
   "metadata": {},
   "outputs": [
    {
     "data": {
      "text/plain": [
       "'not a pallendrome'"
      ]
     },
     "execution_count": 73,
     "metadata": {},
     "output_type": "execute_result"
    }
   ],
   "source": [
    "def pakll(a):\n",
    "    e=a\n",
    "    if(e==a[::-1]):\n",
    "        return 'pallendrome'\n",
    "    else:\n",
    "        return 'not a pallendrome'\n",
    "a='Madam'\n",
    "pakll(a)"
   ]
  },
  {
   "cell_type": "code",
   "execution_count": null,
   "id": "589f1292-f494-4812-8b34-ef938497bd39",
   "metadata": {},
   "outputs": [],
   "source": []
  },
  {
   "cell_type": "markdown",
   "id": "af883927-29d7-481f-b387-96f0119aee82",
   "metadata": {},
   "source": [
    "41. Write a Python program to find the smallest missing positive integer in a list.\n",
    "43. Write a program to find the number of occurrences of a given element in a list."
   ]
  },
  {
   "cell_type": "code",
   "execution_count": 1,
   "id": "4161a99a-ddf4-4379-8c3c-1d9aa322c9d8",
   "metadata": {},
   "outputs": [
    {
     "data": {
      "text/plain": [
       "4"
      ]
     },
     "execution_count": 1,
     "metadata": {},
     "output_type": "execute_result"
    }
   ],
   "source": [
    "def occ(l,a):\n",
    "    return l.count(a)\n",
    "a=3\n",
    "l=[1,1,2,2,3,3,3,3]\n",
    "occ(l,a)"
   ]
  },
  {
   "cell_type": "code",
   "execution_count": null,
   "id": "28787853-335a-42fc-ad01-423c8a1f71be",
   "metadata": {},
   "outputs": [],
   "source": []
  },
  {
   "cell_type": "markdown",
   "id": "22aaad2c-ed8e-4106-8cb6-9ff48cc6b917",
   "metadata": {},
   "source": [
    "\n",
    "45. Write a Python program to remove all duplicates from a string.\n",
    "\n"
   ]
  },
  {
   "cell_type": "code",
   "execution_count": 20,
   "id": "a9c5b7b2-8d8c-4a19-b069-0a3c5f9172cd",
   "metadata": {},
   "outputs": [
    {
     "data": {
      "text/plain": [
       "'ujsrgniah'"
      ]
     },
     "execution_count": 20,
     "metadata": {},
     "output_type": "execute_result"
    }
   ],
   "source": [
    "a='arjunsingh'\n",
    "a=list(set(a))\n",
    "''.join(a)"
   ]
  },
  {
   "cell_type": "code",
   "execution_count": null,
   "id": "af4035b2-c325-4511-a1eb-4d7c90deef49",
   "metadata": {},
   "outputs": [],
   "source": []
  },
  {
   "cell_type": "code",
   "execution_count": null,
   "id": "79c229f8-0344-4575-84ff-df9d8c4e052b",
   "metadata": {},
   "outputs": [],
   "source": []
  },
  {
   "cell_type": "code",
   "execution_count": null,
   "id": "5153bc2a-f350-49ff-ad62-4860bf47c284",
   "metadata": {},
   "outputs": [],
   "source": []
  }
 ],
 "metadata": {
  "kernelspec": {
   "display_name": "Python 3 (ipykernel)",
   "language": "python",
   "name": "python3"
  },
  "language_info": {
   "codemirror_mode": {
    "name": "ipython",
    "version": 3
   },
   "file_extension": ".py",
   "mimetype": "text/x-python",
   "name": "python",
   "nbconvert_exporter": "python",
   "pygments_lexer": "ipython3",
   "version": "3.10.8"
  }
 },
 "nbformat": 4,
 "nbformat_minor": 5
}
