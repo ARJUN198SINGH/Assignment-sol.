{
 "cells": [
  {
   "cell_type": "markdown",
   "id": "fad6a784-4e06-4699-b69a-804b8db91981",
   "metadata": {},
   "source": [
    "Q1. How does bagging reduce overfitting in decision trees?\n",
    "\n",
    "ANS:-Bagging takes advantage of ensemble learning wherein multiple weak learners outperform a single strong learner. It helps reduce variance and thus helps us avoid overfitting."
   ]
  },
  {
   "cell_type": "code",
   "execution_count": null,
   "id": "9fb04163-ab58-416f-bd22-5ab6be97a410",
   "metadata": {},
   "outputs": [],
   "source": []
  },
  {
   "cell_type": "markdown",
   "id": "db582e0c-3bc6-4e8d-a48d-2a029a6a9ae3",
   "metadata": {},
   "source": [
    "Q2. What are the advantages and disadvantages of using different types of base learners in bagging?\n",
    "\n",
    "ANS:-Bagging offers the advantage of allowing many weak learners to combine efforts to outdo a single strong learner. It also helps in the reduction of variance, hence eliminating the overfitting of models in the procedure. One disadvantage of bagging is that it introduces a loss of interpretability of a model."
   ]
  },
  {
   "cell_type": "code",
   "execution_count": null,
   "id": "4aed9359-6255-4e84-a266-e8e80702a088",
   "metadata": {},
   "outputs": [],
   "source": []
  },
  {
   "cell_type": "markdown",
   "id": "03264653-18ae-4d0c-a149-fc1f79ee2ef6",
   "metadata": {},
   "source": [
    "Q3. How does the choice of base learner affect the bias-variance tradeoff in bagging?\n",
    "\n",
    "ANS:-Bagging reduces the variance without making the predictions biased. This technique acts as a base to many ensemble techniques so understanding the intuition behind it is crucial."
   ]
  },
  {
   "cell_type": "code",
   "execution_count": null,
   "id": "fa91dc10-7a66-41ca-b089-0a0e7f1eea16",
   "metadata": {},
   "outputs": [],
   "source": []
  },
  {
   "cell_type": "markdown",
   "id": "6f33185a-432a-46fa-be2a-853dd1936ac8",
   "metadata": {},
   "source": [
    "Q4. Can bagging be used for both classification and regression tasks? How does it differ in each case?\n",
    "\n",
    "ANS:-Bagging avoids overfitting of data and is used for both regression and classification models, specifically for decision tree algorithms."
   ]
  },
  {
   "cell_type": "code",
   "execution_count": null,
   "id": "fb14141a-9630-4634-bc3b-a59f9ac56230",
   "metadata": {},
   "outputs": [],
   "source": []
  },
  {
   "cell_type": "markdown",
   "id": "8dc3485a-18e8-41d2-acff-40353946739b",
   "metadata": {},
   "source": [
    "Q5. What is the role of ensemble size in bagging? How many models should be included in the ensemble?\n",
    "\n",
    "ANS:-There are no restrictions/guidelines on the number of models. You can start even from 3 models. You can keep the number of models as a hyperparameter if the training cost is less."
   ]
  },
  {
   "cell_type": "code",
   "execution_count": null,
   "id": "1f48bfc0-1ade-43b5-8096-dd8ee60bb536",
   "metadata": {},
   "outputs": [],
   "source": []
  },
  {
   "cell_type": "markdown",
   "id": "23a0965f-8151-4f6e-b1ae-1f1da5a427a0",
   "metadata": {},
   "source": [
    "Q6. Can you provide an example of a real-world application of bagging in machine learning?\n",
    "\n",
    "ANS:-Bagging is a plant breeding technique for preventing self-pollination in bisexual blooms."
   ]
  },
  {
   "cell_type": "code",
   "execution_count": null,
   "id": "2598b91e-1d69-4263-b125-ff69335ea846",
   "metadata": {},
   "outputs": [],
   "source": []
  }
 ],
 "metadata": {
  "kernelspec": {
   "display_name": "Python 3 (ipykernel)",
   "language": "python",
   "name": "python3"
  },
  "language_info": {
   "codemirror_mode": {
    "name": "ipython",
    "version": 3
   },
   "file_extension": ".py",
   "mimetype": "text/x-python",
   "name": "python",
   "nbconvert_exporter": "python",
   "pygments_lexer": "ipython3",
   "version": "3.10.8"
  }
 },
 "nbformat": 4,
 "nbformat_minor": 5
}
