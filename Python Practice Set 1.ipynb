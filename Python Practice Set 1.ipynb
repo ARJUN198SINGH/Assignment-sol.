{
 "cells": [
  {
   "cell_type": "markdown",
   "id": "6b6da3a8-0f28-4062-84e1-2cdd8d1ccf54",
   "metadata": {},
   "source": [
    "Q1. Write a Python program that defines a function called \"add_numbers\" that takes two arguments (i.e., \n",
    "numbers) and returns their sum. Within the function, add the two numbers together and return the result \n",
    "using the return statement. Call the function with the values 5 and 6, and print out the returned result. \n",
    "This will result in the addition of 5 and 6, with the output of the program being the sum of these two \n",
    "numbers."
   ]
  },
  {
   "cell_type": "code",
   "execution_count": 1,
   "id": "e1b4ac60-8b2c-484d-8125-e96748d882c2",
   "metadata": {},
   "outputs": [
    {
     "data": {
      "text/plain": [
       "11"
      ]
     },
     "execution_count": 1,
     "metadata": {},
     "output_type": "execute_result"
    }
   ],
   "source": [
    "def add_numbers(a,b):\n",
    "    return a+b\n",
    "add_numbers(5,6)"
   ]
  },
  {
   "cell_type": "code",
   "execution_count": null,
   "id": "9fdeb552-90fc-45b2-a6b9-e8986db2ba21",
   "metadata": {},
   "outputs": [],
   "source": []
  },
  {
   "cell_type": "markdown",
   "id": "3504396c-c9ee-4912-928b-81a76f5e1f0d",
   "metadata": {},
   "source": [
    "Q2. Write a Python program that calculates the square root of a given number using a built-in function. \n",
    "Specifically, the program should take an integer or float input from the user, calculate its square root \n",
    "using the 'sqrt()' function from the 'math' module, and print out the result to the user. As an example, \n",
    "calculate the square root of the number 625 using this program, which should output the value of 25."
   ]
  },
  {
   "cell_type": "code",
   "execution_count": 6,
   "id": "429a8b79-ab6b-45eb-bbc6-698e27b52e99",
   "metadata": {},
   "outputs": [
    {
     "name": "stdin",
     "output_type": "stream",
     "text": [
      "enter 625\n"
     ]
    },
    {
     "data": {
      "text/plain": [
       "25.0"
      ]
     },
     "execution_count": 6,
     "metadata": {},
     "output_type": "execute_result"
    }
   ],
   "source": [
    "import math\n",
    "a=int(input('enter'))\n",
    "math.sqrt(a)"
   ]
  },
  {
   "cell_type": "code",
   "execution_count": null,
   "id": "57c62088-141d-4918-a141-73908b11ac2a",
   "metadata": {},
   "outputs": [],
   "source": []
  },
  {
   "cell_type": "markdown",
   "id": "8bfdeb6d-e312-4a93-a3d4-e061bcac5c11",
   "metadata": {},
   "source": [
    "Q3.Write a program that prints all prime numbers between 0 to 50."
   ]
  },
  {
   "cell_type": "code",
   "execution_count": 15,
   "id": "d97e2694-30da-4307-89c3-1821c19b3a2b",
   "metadata": {},
   "outputs": [
    {
     "name": "stdout",
     "output_type": "stream",
     "text": [
      "2\n",
      "3\n",
      "5\n",
      "7\n",
      "11\n",
      "13\n",
      "17\n",
      "19\n",
      "23\n",
      "29\n",
      "31\n",
      "37\n",
      "41\n",
      "43\n",
      "47\n"
     ]
    }
   ],
   "source": [
    "def pr(a,b):\n",
    "    for i in range(a,b+1):\n",
    "        if(i==0):\n",
    "            continue\n",
    "        elif(i==1):\n",
    "            continue\n",
    "        else:\n",
    "            for j in range(2,(i//2)+1):\n",
    "                if(i%j==0):\n",
    "                    break\n",
    "            else:\n",
    "                print(i)\n",
    "pr(0,50)"
   ]
  },
  {
   "cell_type": "code",
   "execution_count": null,
   "id": "878c7934-a25b-4524-8f3f-15625c549306",
   "metadata": {},
   "outputs": [],
   "source": []
  },
  {
   "cell_type": "markdown",
   "id": "22c0a49f-fc63-4da5-b279-1c2604f275eb",
   "metadata": {},
   "source": [
    "Q4.How can we swap the values of three variables (let's say a, b, and c) without using a fourth variable? \n",
    "For example, if we have a=5, b=8, and c=9, how can we obtain a=9, b=5, and c=8? The challenge is to \n",
    "perform this operation without using an additional variable to store any of the values during the \n",
    "swapping process."
   ]
  },
  {
   "cell_type": "code",
   "execution_count": 19,
   "id": "e1c55812-ca9b-49cd-840a-63bc56c46c98",
   "metadata": {},
   "outputs": [
    {
     "name": "stdout",
     "output_type": "stream",
     "text": [
      "9 5 8\n"
     ]
    }
   ],
   "source": [
    "a,b,c=5,8,9\n",
    "a,b,c=c,a,b\n",
    "print(a,b,c)\n",
    "\n",
    "\n",
    "    "
   ]
  },
  {
   "cell_type": "code",
   "execution_count": null,
   "id": "cab53ef3-f266-4e66-ad5d-afa113e1df32",
   "metadata": {},
   "outputs": [],
   "source": []
  },
  {
   "cell_type": "markdown",
   "id": "06f00575-43cf-49be-99d2-3fc80f85a950",
   "metadata": {},
   "source": [
    "Q5. Can you write a program that determines the nature of a given number (in this case, 87) as being \n",
    "positive, negative, or zero? The program should be designed to take the number as input and perform the \n",
    "necessary calculations to determine if the number is positive (i.e., greater than zero), negative (i.e., less \n",
    "than zero), or zero (i.e., equal to zero). The output of the program should indicate which of these three \n",
    "categories the given number falls into."
   ]
  },
  {
   "cell_type": "code",
   "execution_count": 21,
   "id": "156b1f56-3ae0-4864-a991-82021c2a58ae",
   "metadata": {},
   "outputs": [
    {
     "name": "stdin",
     "output_type": "stream",
     "text": [
      "enter the number 89\n"
     ]
    },
    {
     "name": "stdout",
     "output_type": "stream",
     "text": [
      " greater than zero\n"
     ]
    }
   ],
   "source": [
    "a=int(input('enter the number'))\n",
    "if(a>0):\n",
    "    print(' greater than zero')\n",
    "elif(a<0):\n",
    "    print(' less than zero')\n",
    "else:\n",
    "    print('equal to zero')"
   ]
  },
  {
   "cell_type": "code",
   "execution_count": null,
   "id": "35e509e6-07a5-44a7-bee4-73280d99e2a0",
   "metadata": {},
   "outputs": [],
   "source": []
  },
  {
   "cell_type": "markdown",
   "id": "683f2dc7-2455-47ca-8c23-02f33e34cf76",
   "metadata": {},
   "source": [
    "Q6. How can you create a program that determines whether a given number (in this case, 98) is even or \n",
    "odd? The program should be designed to take the number as input and perform the necessary \n",
    "calculations to determine whether it is divisible by two. If the number is divisible by two without leaving a \n",
    "remainder, it is an even number, and if there is a remainder, it is an odd number. The output of the \n",
    "program should indicate whether the given number is even or odd."
   ]
  },
  {
   "cell_type": "code",
   "execution_count": 22,
   "id": "15b9976a-410c-4fa2-b2c3-338bcf5eea0b",
   "metadata": {},
   "outputs": [
    {
     "name": "stdin",
     "output_type": "stream",
     "text": [
      "enter the number 98\n"
     ]
    },
    {
     "name": "stdout",
     "output_type": "stream",
     "text": [
      "EVEN\n"
     ]
    }
   ],
   "source": [
    "a=int(input('enter the number'))\n",
    "if(a%2==0):\n",
    "    print('EVEN')\n",
    "else:\n",
    "    print('ODD')"
   ]
  },
  {
   "cell_type": "code",
   "execution_count": null,
   "id": "73678f79-9b83-4d90-b2e0-40a326b0e6b6",
   "metadata": {},
   "outputs": [],
   "source": []
  },
  {
   "cell_type": "markdown",
   "id": "84159b35-d9fa-4177-a3a9-0322ad98c3a4",
   "metadata": {},
   "source": [
    "Q7.Write a program for sum of digits.the digits are 76543 and the output should be  25."
   ]
  },
  {
   "cell_type": "code",
   "execution_count": 28,
   "id": "b148a86c-d437-4a53-ba49-6b7f000d1374",
   "metadata": {},
   "outputs": [
    {
     "name": "stdin",
     "output_type": "stream",
     "text": [
      "enter the number 76543\n"
     ]
    },
    {
     "data": {
      "text/plain": [
       "25"
      ]
     },
     "execution_count": 28,
     "metadata": {},
     "output_type": "execute_result"
    }
   ],
   "source": [
    "a=int(input('enter the number'))\n",
    "def summ(a):\n",
    "    s=0\n",
    "    while(a>0):\n",
    "        r=a%10\n",
    "        s=s+r\n",
    "        a=a//10\n",
    "    return s\n",
    "summ(a)"
   ]
  },
  {
   "cell_type": "markdown",
   "id": "2a706153-9faf-4aff-a40e-543af0110963",
   "metadata": {},
   "source": [
    "Q8.Write a program for reversing the given number  5436 and the output  should be 6345."
   ]
  },
  {
   "cell_type": "code",
   "execution_count": 77,
   "id": "21bd901e-be91-4067-9be8-afb418c70fb8",
   "metadata": {},
   "outputs": [
    {
     "name": "stdin",
     "output_type": "stream",
     "text": [
      "enter the number 5436\n"
     ]
    },
    {
     "data": {
      "text/plain": [
       "6345"
      ]
     },
     "execution_count": 77,
     "metadata": {},
     "output_type": "execute_result"
    }
   ],
   "source": [
    "a=int(input('enter the number'))\n",
    "def rev(a):\n",
    "    s=0\n",
    "    while(a>0):\n",
    "        r=a%10\n",
    "        s=s*10+r\n",
    "        a=a//10\n",
    "    return s\n",
    "rev(a)"
   ]
  },
  {
   "cell_type": "code",
   "execution_count": null,
   "id": "d2801d9a-e2b8-47a5-91f5-3147a290f50f",
   "metadata": {},
   "outputs": [],
   "source": [
    "#OR"
   ]
  },
  {
   "cell_type": "code",
   "execution_count": 78,
   "id": "32088891-2fae-4b91-a1d3-6dbd28216843",
   "metadata": {},
   "outputs": [
    {
     "name": "stdin",
     "output_type": "stream",
     "text": [
      "enter rhe number 5436\n"
     ]
    },
    {
     "data": {
      "text/plain": [
       "6345"
      ]
     },
     "execution_count": 78,
     "metadata": {},
     "output_type": "execute_result"
    }
   ],
   "source": [
    "a=input('enter rhe number')\n",
    "a.split()\n",
    "k=[]\n",
    "for i in range(-1,-5,-1):\n",
    "    k.append(a[i])\n",
    "k=''.join(k)\n",
    "int(k)"
   ]
  },
  {
   "cell_type": "code",
   "execution_count": null,
   "id": "d27c817d-fcb3-4530-ad12-05d35b6c6f71",
   "metadata": {},
   "outputs": [],
   "source": []
  },
  {
   "cell_type": "markdown",
   "id": "85ce4692-2f1c-4104-9533-9ed907988813",
   "metadata": {},
   "source": [
    "Q9.Write a program to check if a given number 371 is an Armstrong number?"
   ]
  },
  {
   "cell_type": "code",
   "execution_count": 86,
   "id": "364c828b-0cf6-422f-9870-4d883923bad3",
   "metadata": {},
   "outputs": [
    {
     "name": "stdin",
     "output_type": "stream",
     "text": [
      " 371\n"
     ]
    },
    {
     "name": "stdout",
     "output_type": "stream",
     "text": [
      "armstrong number\n"
     ]
    }
   ],
   "source": [
    "a=int(input(''))\n",
    "b=len(str(a))\n",
    "p=a\n",
    "s=0\n",
    "while(a>0):\n",
    "    r=a%10\n",
    "    s=s+r**(b)\n",
    "    a=a//10\n",
    "if(s==p):\n",
    "    print('armstrong number')\n",
    "else:\n",
    "    print('not a armstrong number')\n",
    "    "
   ]
  },
  {
   "cell_type": "code",
   "execution_count": null,
   "id": "bdb59174-28bb-4dc9-9e80-22f0f9a2d970",
   "metadata": {},
   "outputs": [],
   "source": []
  },
  {
   "cell_type": "markdown",
   "id": "f5892903-551d-4241-9cf8-f916f29c17ad",
   "metadata": {},
   "source": [
    "Q10.Write a program the given year is 1996, a leap year."
   ]
  },
  {
   "cell_type": "code",
   "execution_count": 94,
   "id": "b590fdb4-33b4-4ef8-8db3-b924c0eadda3",
   "metadata": {},
   "outputs": [
    {
     "name": "stdin",
     "output_type": "stream",
     "text": [
      "enter the year 1996\n"
     ]
    },
    {
     "name": "stdout",
     "output_type": "stream",
     "text": [
      "leap year\n"
     ]
    }
   ],
   "source": [
    "a=int(input('enter the year'))\n",
    "if(a%4==0):\n",
    "    if(a%100==0):\n",
    "        if(a%400==0):\n",
    "            print('leap year')\n",
    "        else:\n",
    "            print('not a leap year')\n",
    "    else:\n",
    "        print('leap year')\n",
    "else:\n",
    "    print('not leap year')"
   ]
  },
  {
   "cell_type": "code",
   "execution_count": null,
   "id": "1bf97f5d-76d1-4fd8-abb0-fd5f6ecd60db",
   "metadata": {},
   "outputs": [],
   "source": []
  }
 ],
 "metadata": {
  "kernelspec": {
   "display_name": "Python 3 (ipykernel)",
   "language": "python",
   "name": "python3"
  },
  "language_info": {
   "codemirror_mode": {
    "name": "ipython",
    "version": 3
   },
   "file_extension": ".py",
   "mimetype": "text/x-python",
   "name": "python",
   "nbconvert_exporter": "python",
   "pygments_lexer": "ipython3",
   "version": "3.10.8"
  }
 },
 "nbformat": 4,
 "nbformat_minor": 5
}
