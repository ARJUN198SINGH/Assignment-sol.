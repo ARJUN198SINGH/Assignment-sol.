{
 "cells": [
  {
   "cell_type": "markdown",
   "id": "4a47d019-b5f8-401c-8707-0f202979f24e",
   "metadata": {},
   "source": [
    "Q1. Can you create a Python program that reads a text file and counts the number of words contained \n",
    "within it? The program should be designed to read the file and break it down into individual words, using \n",
    "spaces, punctuation marks, and other delimiters to separate the words. It should then count the number \n",
    "of words found in the file and display this count as output. The program should be flexible enough to work \n",
    "with different text files and should be able to handle a variety of formatting and punctuation styles."
   ]
  },
  {
   "cell_type": "code",
   "execution_count": 1,
   "id": "f9604cde-69f8-4f35-9631-70a0242ea542",
   "metadata": {},
   "outputs": [],
   "source": [
    "f=open('test.txt','w')\n",
    "f.write('Bayes Theorem states that the conditional probability of an event, based on the occurrence of another event, is equal to the likelihood of the second event given the first event multiplied by the probability of the first event.')\n",
    "f.close()     "
   ]
  },
  {
   "cell_type": "code",
   "execution_count": 2,
   "id": "178a89b2-937f-4337-9d31-c5f3ed4a6aa6",
   "metadata": {},
   "outputs": [
    {
     "name": "stdout",
     "output_type": "stream",
     "text": [
      "Bayes Theorem states that the conditional probability of an event, based on the occurrence of another event, is equal to the likelihood of the second event given the first event multiplied by the probability of the first event.\n",
      "\n",
      "the no. of words present in text file is 38\n",
      "[5, 7, 6, 4, 3, 11, 11, 2, 2, 6, 5, 2, 3, 10, 2, 7, 6, 2, 5, 2, 3, 10, 2, 3, 6, 5, 5, 3, 5, 5, 10, 2, 3, 11, 2, 3, 5, 6]\n"
     ]
    }
   ],
   "source": [
    "f=open('test.txt','r')\n",
    "b=f.read()\n",
    "c=b.split()\n",
    "print(b)\n",
    "print('\\nthe no. of words present in text file is',len(c))\n",
    "p=list(map(lambda x:len(x),c))\n",
    "print(p)\n",
    "f.close()"
   ]
  },
  {
   "cell_type": "code",
   "execution_count": null,
   "id": "960bc998-d865-4c25-b6c6-75266a312ea7",
   "metadata": {},
   "outputs": [],
   "source": []
  },
  {
   "cell_type": "markdown",
   "id": "831d317f-3d6d-4b76-86f2-2c6aff4e2193",
   "metadata": {},
   "source": [
    "Q2. Could you help me create a Python program that can find and display the longest word in a text file? \n",
    "The program should be able to read any text file and separate its contents into individual words, taking \n",
    "into account various delimiters like spaces, punctuation marks, and other characters. Then, it should \n",
    "compare the length of each word and determine which one is the longest, and finally, print that word as \n",
    "output. The program should be versatile enough to work with various text files and be able to handle \n",
    "different formatting styles and punctuation."
   ]
  },
  {
   "cell_type": "code",
   "execution_count": 3,
   "id": "8605bbba-d72f-4ada-8a8a-72d620bc8f0c",
   "metadata": {},
   "outputs": [],
   "source": [
    "f=open('test.txt','r')\n",
    "a=f.read()\n",
    "b=a.split()\n",
    "for i in range(len(b)):          \n",
    "    for j in range(len(b)):         \n",
    "        if(len(b[i])<len(b[j])):\n",
    "            s=b[j]\n",
    "    \n"
   ]
  },
  {
   "cell_type": "code",
   "execution_count": 4,
   "id": "76f1184b-92cf-45d0-987f-a0c1786ec15a",
   "metadata": {},
   "outputs": [
    {
     "data": {
      "text/plain": [
       "'probability'"
      ]
     },
     "execution_count": 4,
     "metadata": {},
     "output_type": "execute_result"
    }
   ],
   "source": [
    "s"
   ]
  },
  {
   "cell_type": "code",
   "execution_count": null,
   "id": "92600bae-34c1-478f-a409-7e30133abdfa",
   "metadata": {},
   "outputs": [],
   "source": []
  },
  {
   "cell_type": "markdown",
   "id": "75a8c431-6411-4231-84eb-07c9722df13e",
   "metadata": {},
   "source": []
  },
  {
   "cell_type": "code",
   "execution_count": 5,
   "id": "e8629646-c4d3-4a1b-9c79-cc304877cdab",
   "metadata": {},
   "outputs": [
    {
     "name": "stdout",
     "output_type": "stream",
     "text": [
      "3\n"
     ]
    }
   ],
   "source": [
    "with open(\"hello.txt\",'w') as my_file:\n",
    "    print(my_file.write('dff'))\n"
   ]
  },
  {
   "cell_type": "code",
   "execution_count": 6,
   "id": "77351dff-b929-4f8c-bd5a-460ec695b9bd",
   "metadata": {},
   "outputs": [
    {
     "name": "stdout",
     "output_type": "stream",
     "text": [
      "dff\n"
     ]
    }
   ],
   "source": [
    "with open(\"hello.txt\",'r') as my_file:    \n",
    "    print(my_file.read())"
   ]
  },
  {
   "cell_type": "code",
   "execution_count": null,
   "id": "890efd5b-6c21-44f4-ad83-122d61afb795",
   "metadata": {},
   "outputs": [],
   "source": []
  },
  {
   "cell_type": "markdown",
   "id": "fc246caf-98a4-4b80-a610-b2d609812a9f",
   "metadata": {},
   "source": [
    "Q3. Write a Python program to read a text file and print out the most frequent word(s) in the file."
   ]
  },
  {
   "cell_type": "code",
   "execution_count": null,
   "id": "54694c5a-9cfc-4f19-95fb-12c8d114f392",
   "metadata": {},
   "outputs": [],
   "source": []
  },
  {
   "cell_type": "code",
   "execution_count": null,
   "id": "cdca0e5a-d9ac-4fe6-b5c8-fa8fef7311b6",
   "metadata": {},
   "outputs": [],
   "source": []
  },
  {
   "cell_type": "code",
   "execution_count": null,
   "id": "165dc4fa-93cf-48e7-abf7-5bb4b321eaeb",
   "metadata": {},
   "outputs": [],
   "source": []
  },
  {
   "cell_type": "code",
   "execution_count": 7,
   "id": "6ed14637-7ecf-4dfa-b69d-aef987800dbc",
   "metadata": {},
   "outputs": [],
   "source": [
    "f=open('test.txt','r')\n",
    "a=f.read()\n",
    "b=a.split()\n",
    "c=[]\n",
    "for i in range(len(b)):\n",
    "    c.append(b.count(b[i]))\n",
    "    \n",
    "    \n",
    "    "
   ]
  },
  {
   "cell_type": "code",
   "execution_count": 8,
   "id": "6d6884ed-0cbe-41ac-adfc-332bd3a9125b",
   "metadata": {},
   "outputs": [],
   "source": [
    "d=max(c)\n",
    "e=c.index(d)"
   ]
  },
  {
   "cell_type": "code",
   "execution_count": 9,
   "id": "508c368a-91f8-4564-b3b7-2d7312b9c3b6",
   "metadata": {},
   "outputs": [
    {
     "data": {
      "text/plain": [
       "'the'"
      ]
     },
     "execution_count": 9,
     "metadata": {},
     "output_type": "execute_result"
    }
   ],
   "source": [
    "b[e]"
   ]
  },
  {
   "cell_type": "code",
   "execution_count": null,
   "id": "cbe04e0c-4709-476b-ad28-fc97aa5b4f11",
   "metadata": {},
   "outputs": [],
   "source": []
  },
  {
   "cell_type": "markdown",
   "id": "f2044504-7df6-4b92-9a98-2e1eee6e9058",
   "metadata": {},
   "source": [
    "Q4. How can you use Python to count the number of rows in a CSV file?"
   ]
  },
  {
   "cell_type": "code",
   "execution_count": 10,
   "id": "25f97ae0-e9b7-4c81-9a2b-2e4ebbfd561e",
   "metadata": {},
   "outputs": [],
   "source": [
    "a=[['arjun',12],['hii',65],['ere',5]]\n",
    "fields = ['Name', 'Branch'] "
   ]
  },
  {
   "cell_type": "code",
   "execution_count": 11,
   "id": "e152d365-d40d-4425-b350-3b6037f65dd2",
   "metadata": {},
   "outputs": [],
   "source": [
    "import csv\n",
    "with open('cs.csv','w') as f:\n",
    "    b=csv.writer(f)\n",
    "    b.writerow(fields)\n",
    "    b.writerows(a)\n",
    "\n",
    "    \n",
    "    "
   ]
  },
  {
   "cell_type": "code",
   "execution_count": null,
   "id": "072a5155-18df-4c7b-bd1a-2bba37238c4d",
   "metadata": {},
   "outputs": [],
   "source": []
  },
  {
   "cell_type": "markdown",
   "id": "9ca35ede-c04e-41ac-9aad-1d566175fa6d",
   "metadata": {},
   "source": [
    "Q5. How can you use Python to calculate the average of a specific column in a CSV file?"
   ]
  },
  {
   "cell_type": "code",
   "execution_count": 19,
   "id": "311d1bb5-25f5-447e-b0d2-5820719380db",
   "metadata": {},
   "outputs": [],
   "source": [
    "with open('cs.csv','r') as f:\n",
    "    b=f.read()"
   ]
  },
  {
   "cell_type": "code",
   "execution_count": null,
   "id": "db5083b2-5dd9-4db2-b27d-9f73a98d80b5",
   "metadata": {},
   "outputs": [],
   "source": []
  },
  {
   "cell_type": "markdown",
   "id": "f85cb0aa-fc93-4fcc-ae68-0a1b36e104d7",
   "metadata": {},
   "source": [
    "Q6. Write a Python program to read a JSON file and print out the value of a specified key."
   ]
  },
  {
   "cell_type": "code",
   "execution_count": 20,
   "id": "013325a6-dfde-4dfd-96e7-5b86d2adf31f",
   "metadata": {},
   "outputs": [],
   "source": [
    "import json\n",
    "dictionary = {\n",
    "\t\"name\": \"sathiyajith\",\n",
    "\t\"rollno\": 56,\n",
    "\t\"cgpa\": 8.6,\n",
    "\t\"phonenumber\": \"9976770500\"\n",
    "}\n",
    "json_object = json.dumps(dictionary, indent=4)\n",
    "with open(\"sample.json\", \"w\") as outfile:\n",
    "\toutfile.write(json_object)\n"
   ]
  },
  {
   "cell_type": "code",
   "execution_count": 21,
   "id": "8987b416-0619-4855-a8ff-99980f57579a",
   "metadata": {},
   "outputs": [],
   "source": [
    "with open(\"sample.json\", \"r\") as outfile:\n",
    "\tf=outfile.read()\n"
   ]
  },
  {
   "cell_type": "code",
   "execution_count": 25,
   "id": "76236626-0654-49ee-8540-ff843bcd59bd",
   "metadata": {},
   "outputs": [
    {
     "data": {
      "text/plain": [
       "'{\\n    \"name\": \"sathiyajith\",\\n    \"rollno\": 56,\\n    \"cgpa\": 8.6,\\n    \"phonenumber\": \"9976770500\"\\n}'"
      ]
     },
     "execution_count": 25,
     "metadata": {},
     "output_type": "execute_result"
    }
   ],
   "source": [
    "f"
   ]
  },
  {
   "cell_type": "code",
   "execution_count": null,
   "id": "4fa88ed3-c4b8-4023-9a7e-5bd5d4043d4a",
   "metadata": {},
   "outputs": [],
   "source": []
  },
  {
   "cell_type": "markdown",
   "id": "8a59971b-e7a7-4363-a5f8-1e64a8bcdde9",
   "metadata": {},
   "source": [
    "Q7. Can you provide a Python code snippet to write a list of strings into a text file where each string is \n",
    "written on a new line?"
   ]
  },
  {
   "cell_type": "code",
   "execution_count": 30,
   "id": "ad0eba79-2517-4523-a308-c4a4d4f6d4b3",
   "metadata": {},
   "outputs": [],
   "source": [
    "with open('app.txt','w') as f:\n",
    "    f.write('hiii\\n arjun\\n')"
   ]
  },
  {
   "cell_type": "code",
   "execution_count": 31,
   "id": "c2cfa259-c98e-42d8-81c3-4cc2be5e8759",
   "metadata": {},
   "outputs": [
    {
     "data": {
      "text/plain": [
       "'hiii\\n arjun\\n'"
      ]
     },
     "execution_count": 31,
     "metadata": {},
     "output_type": "execute_result"
    }
   ],
   "source": [
    "with open('app.txt','r') as f:\n",
    "    a=f.read()\n",
    "a"
   ]
  },
  {
   "cell_type": "code",
   "execution_count": null,
   "id": "7e31fed7-f3df-464f-af1a-2916cd09b54f",
   "metadata": {},
   "outputs": [],
   "source": []
  },
  {
   "cell_type": "markdown",
   "id": "8c3456c9-6937-45bf-8ff3-104984a7352d",
   "metadata": {},
   "source": [
    "Q8. Can you provide a Python code to read a binary file and display the data in hexadecimal format."
   ]
  },
  {
   "cell_type": "code",
   "execution_count": null,
   "id": "ec7b1588-6c35-4458-a40f-1240f663ee22",
   "metadata": {},
   "outputs": [],
   "source": []
  },
  {
   "cell_type": "markdown",
   "id": "0cf818b9-39cd-4b0d-8eda-47e08962b8d2",
   "metadata": {},
   "source": [
    "Q9. Can you write a Python code to read a Comma-Separated Values (CSV) file, apply a specific condition \n",
    "to each row, and create a new CSV file that contains only the rows that satisfy the condition? For example, \n",
    "if the CSV file contains information about products and their prices, you may want to create a new CSV \n",
    "file that only includes the products that are within a certain price range. The program should be able to \n",
    "read the CSV file, compare the values in each row to the specified condition, and write the rows that meet \n",
    "the criteria to a new CSV file."
   ]
  },
  {
   "cell_type": "code",
   "execution_count": 33,
   "id": "faebf838-fb0c-46ec-8a91-5166228d3fb5",
   "metadata": {},
   "outputs": [],
   "source": [
    "fields=['arjun','singh']\n",
    "a=[['hi','p'],['qw','ty'],['rt','po']]\n",
    "with open('app.csv','w') as f:\n",
    "    b=csv.writer(f)\n",
    "    b.writerow(fields)\n",
    "    b.writerows(a)\n"
   ]
  },
  {
   "cell_type": "code",
   "execution_count": null,
   "id": "fe26c201-fbed-48d8-93bb-364acca73869",
   "metadata": {},
   "outputs": [],
   "source": []
  },
  {
   "cell_type": "markdown",
   "id": "fc858a24-3f15-4659-b9d4-d9e0f424abc3",
   "metadata": {},
   "source": [
    "Q10. Write a Python program to read a text file, count the frequency of each word, and write the results to \n",
    "a new text file."
   ]
  },
  {
   "cell_type": "code",
   "execution_count": 35,
   "id": "dd4ee806-1d87-4abd-9b07-40916eacb02d",
   "metadata": {},
   "outputs": [],
   "source": [
    "with open('app.txt','w') as f:\n",
    "    f.write('Data science is a field of applied mathematics and statistics that provides useful information based on large amounts of complex data or big data. Data science, or data-driven science, combines aspects of different fields with the aid of computation to interpret reams of data for decision-making purposes.')"
   ]
  },
  {
   "cell_type": "code",
   "execution_count": 36,
   "id": "6584fb7b-94ee-4dc5-a2ec-e0fc22186718",
   "metadata": {},
   "outputs": [],
   "source": [
    "with open('app.txt','r') as f:\n",
    "    b=f.read()\n",
    "    "
   ]
  },
  {
   "cell_type": "code",
   "execution_count": 39,
   "id": "410e45c8-6741-410b-be91-43186e58b1fe",
   "metadata": {},
   "outputs": [],
   "source": [
    "b=b.split()"
   ]
  },
  {
   "cell_type": "code",
   "execution_count": 40,
   "id": "062159ff-cb80-4cf6-8ffb-83f46327011e",
   "metadata": {},
   "outputs": [
    {
     "data": {
      "text/plain": [
       "[4,\n",
       " 7,\n",
       " 2,\n",
       " 1,\n",
       " 5,\n",
       " 2,\n",
       " 7,\n",
       " 11,\n",
       " 3,\n",
       " 10,\n",
       " 4,\n",
       " 8,\n",
       " 6,\n",
       " 11,\n",
       " 5,\n",
       " 2,\n",
       " 5,\n",
       " 7,\n",
       " 2,\n",
       " 7,\n",
       " 4,\n",
       " 2,\n",
       " 3,\n",
       " 5,\n",
       " 4,\n",
       " 8,\n",
       " 2,\n",
       " 11,\n",
       " 8,\n",
       " 8,\n",
       " 7,\n",
       " 2,\n",
       " 9,\n",
       " 6,\n",
       " 4,\n",
       " 3,\n",
       " 3,\n",
       " 2,\n",
       " 11,\n",
       " 2,\n",
       " 9,\n",
       " 5,\n",
       " 2,\n",
       " 4,\n",
       " 3,\n",
       " 15,\n",
       " 9]"
      ]
     },
     "execution_count": 40,
     "metadata": {},
     "output_type": "execute_result"
    }
   ],
   "source": [
    "list(map(lambda x:len(x),b))"
   ]
  },
  {
   "cell_type": "code",
   "execution_count": null,
   "id": "30d0b4e3-37a4-4a8d-9f42-80d1bab9e3cf",
   "metadata": {},
   "outputs": [],
   "source": []
  }
 ],
 "metadata": {
  "kernelspec": {
   "display_name": "Python 3 (ipykernel)",
   "language": "python",
   "name": "python3"
  },
  "language_info": {
   "codemirror_mode": {
    "name": "ipython",
    "version": 3
   },
   "file_extension": ".py",
   "mimetype": "text/x-python",
   "name": "python",
   "nbconvert_exporter": "python",
   "pygments_lexer": "ipython3",
   "version": "3.10.8"
  }
 },
 "nbformat": 4,
 "nbformat_minor": 5
}
