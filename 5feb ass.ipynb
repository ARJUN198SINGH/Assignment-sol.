{
 "cells": [
  {
   "cell_type": "markdown",
   "id": "354853d1-960d-4bb2-a763-72d25aaaef0d",
   "metadata": {},
   "source": [
    "Q1. Explain Class and Object with respect to \n",
    "Object-Oriented Programming. Give a suitable example"
   ]
  },
  {
   "cell_type": "markdown",
   "id": "2f5af376-007d-44d8-b9f8-3f1c9e3e49ed",
   "metadata": {},
   "source": [
    "#sol:-\n",
    "class is the blueprint or structure to store  the object"
   ]
  },
  {
   "cell_type": "code",
   "execution_count": 3,
   "id": "0fde7bf1-7f98-4538-b5b7-3126ea35dc62",
   "metadata": {},
   "outputs": [
    {
     "name": "stdout",
     "output_type": "stream",
     "text": [
      "hii arjun\n",
      "arjun\n"
     ]
    }
   ],
   "source": [
    "#example\n",
    "class A:\n",
    "    def __init__(self,name,roll,sub):\n",
    "        self.name=name\n",
    "        self.roll=roll\n",
    "        self.sub=sub\n",
    "    def sweet(self):\n",
    "        print('hii',self.name)\n",
    "q=A('arjun',12,'qwerty')\n",
    "q.sweet()\n",
    "print(q.name)        "
   ]
  },
  {
   "cell_type": "code",
   "execution_count": null,
   "id": "3820b66a-ab6f-47da-a30b-1aee40e9d0db",
   "metadata": {},
   "outputs": [],
   "source": []
  },
  {
   "cell_type": "markdown",
   "id": "e157441a-c083-4bdb-a0e5-ec986625bb9d",
   "metadata": {},
   "source": [
    "Q2. Name the four pillars of OOPs.\n",
    "\n",
    "SOl:- INHERITANCE,ENCAPULATION,ABSTRACTION,POLYMORPHISM"
   ]
  },
  {
   "cell_type": "code",
   "execution_count": null,
   "id": "2c15e0c9-779e-4684-b310-742157eeeb21",
   "metadata": {},
   "outputs": [],
   "source": []
  },
  {
   "cell_type": "markdown",
   "id": "65b83db4-1154-43e8-9034-26c8462594b3",
   "metadata": {},
   "source": [
    "Q3. Explain why the __init__() function is used. Give a suitable example.\n",
    "\n",
    "sOL:-To declare the objects in that class. \n"
   ]
  },
  {
   "cell_type": "code",
   "execution_count": 6,
   "id": "8098ce2d-3c7a-4ee6-80ce-6432a68e1b25",
   "metadata": {},
   "outputs": [
    {
     "name": "stdout",
     "output_type": "stream",
     "text": [
      "arjun\n"
     ]
    }
   ],
   "source": [
    "class A:\n",
    "    def __init__(self,name,roll,sub):\n",
    "        self.name=name\n",
    "        self.roll=roll\n",
    "        self.sub=sub\n",
    "\n",
    "        \n",
    "print(q.name) "
   ]
  },
  {
   "cell_type": "code",
   "execution_count": null,
   "id": "3b345e00-c591-4e44-9ccd-e294b26d36d4",
   "metadata": {},
   "outputs": [],
   "source": []
  },
  {
   "cell_type": "markdown",
   "id": "c0ed30e0-20f2-4b8f-9c41-f42f49f91d5e",
   "metadata": {},
   "source": [
    "Q4. Why self is used in OOPs?\n",
    "\n",
    "Sol:-self is instance of current class and it is used to fetch the data \n",
    "from that particular class."
   ]
  },
  {
   "cell_type": "code",
   "execution_count": null,
   "id": "72eebf59-f859-4251-82a7-3912cf2a0087",
   "metadata": {},
   "outputs": [],
   "source": []
  },
  {
   "cell_type": "markdown",
   "id": "d70c147c-76cc-4ab4-a067-ffcd0b3644eb",
   "metadata": {},
   "source": [
    "Q5. What is inheritance? Give an example for each type of inheritance.\n",
    "\n",
    "Ans:-inheritance is the process where the child class\n",
    "acquire the property of parent class.\n",
    "Five types of inheritance are :-single inheritance,Multiple inheritance,\n",
    "hierarchial inheritance,multilevel inheritance, Hybrid inheritance"
   ]
  },
  {
   "cell_type": "code",
   "execution_count": null,
   "id": "0a72fbbb-a646-4d77-8455-65bb251a4a26",
   "metadata": {},
   "outputs": [],
   "source": []
  }
 ],
 "metadata": {
  "kernelspec": {
   "display_name": "Python 3 (ipykernel)",
   "language": "python",
   "name": "python3"
  },
  "language_info": {
   "codemirror_mode": {
    "name": "ipython",
    "version": 3
   },
   "file_extension": ".py",
   "mimetype": "text/x-python",
   "name": "python",
   "nbconvert_exporter": "python",
   "pygments_lexer": "ipython3",
   "version": "3.10.8"
  }
 },
 "nbformat": 4,
 "nbformat_minor": 5
}
