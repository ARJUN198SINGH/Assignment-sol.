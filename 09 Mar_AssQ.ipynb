{
 "cells": [
  {
   "cell_type": "markdown",
   "id": "29c1dd24-fcdd-4ed8-b253-fc674eab5dd5",
   "metadata": {},
   "source": [
    "Q1. What is the Probability density function?\n",
    "\n",
    "ANS:-probability density function is works on the continuous random variable."
   ]
  },
  {
   "cell_type": "code",
   "execution_count": null,
   "id": "94dd8824-6e6a-4121-b425-3021d9c0b3e4",
   "metadata": {},
   "outputs": [],
   "source": []
  },
  {
   "cell_type": "markdown",
   "id": "4830748a-36a4-43d4-9395-ba84982787ee",
   "metadata": {},
   "source": [
    "Q2: What is Cumulative Density Function (CDF)? Explain with an example. Why CDF is used?\n",
    "\n",
    "ANS:-The Cumulative Distribution Function (CDF), of a real-valued random variable X, evaluated at x, is the probability function that X will take a value less than or equal to x."
   ]
  },
  {
   "cell_type": "code",
   "execution_count": null,
   "id": "caa5408b-1e8c-4591-9aec-bc2e7a142595",
   "metadata": {},
   "outputs": [],
   "source": []
  },
  {
   "cell_type": "markdown",
   "id": "a7f41ffc-efc9-419d-9267-b0a726cf89c8",
   "metadata": {},
   "source": [
    "Q3: What are some examples of situations where the normal distribution might be used as a model? \n",
    "Explain how the parameters of the normal distribution relate to the shape of the distribution.\n",
    "\n",
    "ANS:-\n",
    "For example in the school the height of the students of a particular class can be represent as a normal distribution and normal distribution shows the mean value of the height of the students and the shape of the normal distribution is like a Bell curve"
   ]
  },
  {
   "cell_type": "code",
   "execution_count": null,
   "id": "de642177-7f14-42bb-b028-594904425fb5",
   "metadata": {},
   "outputs": [],
   "source": []
  },
  {
   "cell_type": "markdown",
   "id": "480b1a89-7005-41fd-8101-9aaa195610df",
   "metadata": {},
   "source": [
    "Q4: Explain the importance of Normal Distribution. Give a few real-life examples of Normal \n",
    "Distribution. \n",
    "\n",
    "ANS:-By the normal distribution curve we can find out the mean of a particular data and the distribution of the data according to its standard deviation and it is also used to solve real life problems for example like if you want to know the height of the students for a particular class then by drawing normal distribution curve we can find out the height of the student and can easily known by the normal distribution that the height of the students can very from particular point to point by knowing is standard deviation and the variance"
   ]
  },
  {
   "cell_type": "code",
   "execution_count": null,
   "id": "a7564d6b-e481-4f1b-836c-9cc66c86e97d",
   "metadata": {},
   "outputs": [],
   "source": []
  },
  {
   "cell_type": "markdown",
   "id": "890ab69a-6f91-479b-bd93-ea6d65b5d7d4",
   "metadata": {},
   "source": [
    "Q5: What is Bernaulli Distribution? Give an Example. What is the difference between Bernoulli \n",
    "Distribution and Binomial Distribution?\n",
    "\n",
    "ANS:- Bernoulli distribution is the decision which is based on discrete probability distribution which is discrete rent on variable and we draw probability mass function for it.\n",
    "ex:- tossing a coin.\n",
    "Successive value is also same as the mean value in Bernoulli distribution.\n",
    "\n",
    "When will distribution is also a discrete probability distribution and panel diseases are used when we have number of trials.\n",
    "ex. tossing a coin no. of times."
   ]
  },
  {
   "cell_type": "code",
   "execution_count": null,
   "id": "3e014f42-a1bf-4a35-b946-5816531dea6c",
   "metadata": {},
   "outputs": [],
   "source": []
  },
  {
   "cell_type": "markdown",
   "id": "68ecb58c-b125-4daa-8964-69d3910c3534",
   "metadata": {},
   "source": [
    "6. Consider a dataset with a mean of 50 and a standard deviation of 10. If we assume that the dataset \n",
    "is normally distributed, what is the probability that a randomly selected observation will be greater \n",
    "than 60? Use the appropriate formula and show your calculations."
   ]
  },
  {
   "cell_type": "code",
   "execution_count": null,
   "id": "fb83685f-92d5-4993-99c7-bdd47bd115e1",
   "metadata": {},
   "outputs": [],
   "source": []
  },
  {
   "cell_type": "code",
   "execution_count": null,
   "id": "aa1f1a0a-6df8-43ec-ab6a-d822b1af428f",
   "metadata": {},
   "outputs": [],
   "source": []
  },
  {
   "cell_type": "markdown",
   "id": "c403b50f-ea8e-488e-a219-f1290a6322a2",
   "metadata": {},
   "source": [
    "Q7: Explain uniform Distribution with an example.\n",
    "\n",
    "ANS:-uniform distribution refers to a type of probability distribution in which all outcomes are equally likely. \n",
    "\n",
    "EX;- tossing a coin because head and tail are equally likely.  "
   ]
  },
  {
   "cell_type": "code",
   "execution_count": null,
   "id": "94176971-5a0b-4eda-8512-fd08505a60d8",
   "metadata": {},
   "outputs": [],
   "source": []
  },
  {
   "cell_type": "markdown",
   "id": "748a51ce-2403-405c-aca2-d3466e581e00",
   "metadata": {},
   "source": [
    "Q8: What is the z score? State the importance of the z score.\n",
    "\n",
    "ANS:-Z score is the value which shows how many standard deviation units from that point to the mean.\n",
    "it is used to find the area under curve and provide information of accept of reject the hypothesis."
   ]
  },
  {
   "cell_type": "code",
   "execution_count": null,
   "id": "62a571c7-0d7e-4fa6-82e7-8f532a7a69b0",
   "metadata": {},
   "outputs": [],
   "source": []
  },
  {
   "cell_type": "markdown",
   "id": "b37bca6d-5992-4272-a480-3277d2706471",
   "metadata": {},
   "source": [
    "Q9: What is Central Limit Theorem? State the significance of the Central Limit Theorem.\n",
    "\n",
    "ANS:-The distribution of sample means approximates a normal distribution as the sample size gets larger, regardless of the population's distribution."
   ]
  },
  {
   "cell_type": "code",
   "execution_count": null,
   "id": "db9c76d8-238f-49cd-a067-aa4b06ca12df",
   "metadata": {},
   "outputs": [],
   "source": []
  },
  {
   "cell_type": "markdown",
   "id": "8b9f063d-9c5f-46ae-832c-497f2f1a4957",
   "metadata": {},
   "source": [
    "Q10: State the assumptions of the Central Limit Theorem.\n",
    "\n",
    "ANS:-The central limit theorem states that if you have a population with mean μ and standard deviation σ and take sufficiently large random samples from the population with replacement , then the distribution of the sample means will be approximately normally distributed\n"
   ]
  },
  {
   "cell_type": "code",
   "execution_count": null,
   "id": "114a1f7c-cbf0-41e1-ac10-796b02a65aa8",
   "metadata": {},
   "outputs": [],
   "source": []
  }
 ],
 "metadata": {
  "kernelspec": {
   "display_name": "Python 3 (ipykernel)",
   "language": "python",
   "name": "python3"
  },
  "language_info": {
   "codemirror_mode": {
    "name": "ipython",
    "version": 3
   },
   "file_extension": ".py",
   "mimetype": "text/x-python",
   "name": "python",
   "nbconvert_exporter": "python",
   "pygments_lexer": "ipython3",
   "version": "3.10.8"
  }
 },
 "nbformat": 4,
 "nbformat_minor": 5
}
