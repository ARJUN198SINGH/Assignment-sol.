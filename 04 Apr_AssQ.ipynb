{
 "cells": [
  {
   "cell_type": "markdown",
   "id": "6cbc869b-e828-46b4-ab18-7c2072abc02b",
   "metadata": {},
   "source": [
    "Q1. Describe the decision tree classifier algorithm and how it works to make predictions.\n",
    "\n",
    "ANS:-Then we have to predict something by using the categorical and numerical data at that time we use decision tree classifier algorithm. Firstly we will take it from the library that is sklearn.model_selection after that we import decision tree classifier and and train the model by using train data And then we predict the value by using test data on this basis we get our output in binary number And we can convert these binary numbers into our prediction model as given."
   ]
  },
  {
   "cell_type": "code",
   "execution_count": null,
   "id": "c8da8184-e05b-4c55-82fe-8f86e5aeed4e",
   "metadata": {},
   "outputs": [],
   "source": []
  },
  {
   "cell_type": "markdown",
   "id": "8e026ceb-288c-4219-be6c-34e0125b737d",
   "metadata": {},
   "source": [
    "Q2. Provide a step-by-step explanation of the mathematical intuition behind decision tree classification.\n",
    "\n",
    "ANS:-\n",
    "(1) we will take it from the library that is sklearn.model_selection after that (2) we import decision tree classifier and and train the model by using train data And\n",
    "(3) we predict the value by using test data on this basis we get our output in binary number \n",
    "(4) we can convert these binary numbers into our prediction model as given."
   ]
  },
  {
   "cell_type": "code",
   "execution_count": null,
   "id": "59273f9c-86a3-49d6-8251-37fe603cca8c",
   "metadata": {},
   "outputs": [],
   "source": []
  },
  {
   "cell_type": "markdown",
   "id": "daf05a10-4d6e-434d-a92a-a0b77a85b5c1",
   "metadata": {},
   "source": [
    "Q3. Explain how a decision tree classifier can be used to solve a binary classification problem.\n",
    "\n",
    "ANS:-\n",
    "we will take it from the library that is sklearn.model_selection after that we import decision tree classifier and and train the model by using train data And then we predict the value by using test data on this basis we get our output in binary number And we can convert these binary numbers into our prediction model as given."
   ]
  },
  {
   "cell_type": "code",
   "execution_count": null,
   "id": "e43d8713-b6d1-4839-864e-25f02f02e14c",
   "metadata": {},
   "outputs": [],
   "source": []
  },
  {
   "cell_type": "markdown",
   "id": "ee4a1dfd-ee7a-427c-9b67-4e5c51b606a0",
   "metadata": {},
   "source": [
    "Q4. Discuss the geometric intuition behind decision tree classification and how it can be used to make predictions.\n",
    "\n",
    "ANS:-A decision node, represented by a square, shows a decision to be made, and an end node shows the final outcome of a decision path. Decision trees can also be drawn with flowchart symbols, which some people find easier to read and understand."
   ]
  },
  {
   "cell_type": "code",
   "execution_count": null,
   "id": "8367ccbe-6ca9-4875-9155-b0198471bda9",
   "metadata": {},
   "outputs": [],
   "source": []
  },
  {
   "cell_type": "markdown",
   "id": "a3b4b39c-ac2e-454b-9008-428361744f07",
   "metadata": {},
   "source": [
    "Q5. Define the confusion matrix and describe how it can be used to evaluate the performance of a \n",
    "classification model.\n",
    "\n",
    "ANS:-A confusion matrix is a table that is used to define the performance of a classification algorithm. A confusion matrix visualizes and summarizes the performance of a classification algorithm. A confusion matrix is shown in Table 5.1, where benign tissue is called healthy and malignant tissue is considered cancerous."
   ]
  },
  {
   "cell_type": "code",
   "execution_count": null,
   "id": "4d861d2b-10a9-445d-86a5-e5b9702a07f4",
   "metadata": {},
   "outputs": [],
   "source": []
  },
  {
   "cell_type": "markdown",
   "id": "05c48bf1-3aab-4c2d-b3b0-89ce09f68ba8",
   "metadata": {},
   "source": [
    "Q6. Provide an example of a confusion matrix and explain how precision, recall, and F1 score can be \n",
    "calculated from it.\n",
    "\n",
    "ANS:-Precision and recall are two evaluation metrics used to measure the performance of a classifier in binary and multiclass classification problems. \n",
    "\n",
    "Precision measures the accuracy of positive predictions, while recall measures the completeness of positive predictions.\n",
    "\n",
    "The F1 score is calculated as the harmonic mean of the precision and recall scores."
   ]
  },
  {
   "cell_type": "code",
   "execution_count": null,
   "id": "d1182c18-0117-40e2-b8a1-f257c8d85658",
   "metadata": {},
   "outputs": [],
   "source": []
  },
  {
   "cell_type": "markdown",
   "id": "ede3bfe3-fe10-4f55-9ca4-97dabbab4d0a",
   "metadata": {},
   "source": [
    "Q7. Discuss the importance of choosing an appropriate evaluation metric for a classification problem and \n",
    "explain how this can be done.\n",
    "\n",
    "ANS:-\n",
    "Accuracy, confusion matrix, log-loss, and AUC-ROC are some of the most popular metrics. Precision-recall is a widely used metrics for classification problems."
   ]
  },
  {
   "cell_type": "code",
   "execution_count": null,
   "id": "89d6b1ed-3bb7-4cbc-9ac7-3d3aea1f0c2e",
   "metadata": {},
   "outputs": [],
   "source": []
  },
  {
   "cell_type": "markdown",
   "id": "5078895c-081f-48aa-9ada-a418da2287a1",
   "metadata": {},
   "source": [
    "Q8. Provide an example of a classification problem where precision is the most important metric, and \n",
    "explain why.\n",
    "\n",
    "ANS:-Email Spam detection:This is one of the example where Precision is more important than Recall. Quick Recap: Precision: This tells when you predict something positive, how many times they were actually positive."
   ]
  },
  {
   "cell_type": "code",
   "execution_count": null,
   "id": "914d99c8-ea58-4fb5-a61f-df4c2715e21c",
   "metadata": {},
   "outputs": [],
   "source": []
  },
  {
   "cell_type": "markdown",
   "id": "0fe5cf2e-be86-4478-b573-484b327abbfa",
   "metadata": {},
   "source": [
    "Q9. Provide an example of a classification problem where recall is the most important metric, and explain \n",
    "why.\n",
    "\n",
    "ANS:-"
   ]
  }
 ],
 "metadata": {
  "kernelspec": {
   "display_name": "Python 3 (ipykernel)",
   "language": "python",
   "name": "python3"
  },
  "language_info": {
   "codemirror_mode": {
    "name": "ipython",
    "version": 3
   },
   "file_extension": ".py",
   "mimetype": "text/x-python",
   "name": "python",
   "nbconvert_exporter": "python",
   "pygments_lexer": "ipython3",
   "version": "3.10.8"
  }
 },
 "nbformat": 4,
 "nbformat_minor": 5
}
