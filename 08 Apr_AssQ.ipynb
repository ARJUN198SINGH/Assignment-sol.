{
 "cells": [
  {
   "cell_type": "markdown",
   "id": "be2c3462-0c9f-4c38-8c93-9d07ca4c6657",
   "metadata": {},
   "source": [
    "Q1. In order to predict house price based on several characteristics, such as location, square footage, \n",
    "number of bedrooms, etc., you are developing an SVM regression model. Which regression metric in this \n",
    "situation would be the best to employ?\n",
    "\n",
    "ANS:-In order to predict house price based on several characteristics, such as location, square footage, \n",
    "number of bedrooms, etc., you are developing an SVM regression model.regression metric in this \n",
    "situation would be the best to employ we will choose MSE and R2 SCORE."
   ]
  },
  {
   "cell_type": "code",
   "execution_count": null,
   "id": "2dd51e31-0485-442b-a6af-59633d73c28e",
   "metadata": {},
   "outputs": [],
   "source": []
  },
  {
   "cell_type": "markdown",
   "id": "65f1e4d8-38e8-40a0-b3fd-9ed8f3e3e21d",
   "metadata": {},
   "source": [
    "Q2. You have built an SVM regression model and are trying to decide between using MSE or R-squared as \n",
    "your evaluation metric. Which metric would be more appropriate if your goal is to predict the actual price \n",
    "of a house as accurately as possible?\n",
    "\n",
    "ANS:-we will  calculated the RMSE on a test set, then it will be a better metric in assessing how well your model will perform in predictions for future observations, i.e. estimating accuracy on an unseen observations."
   ]
  },
  {
   "cell_type": "code",
   "execution_count": null,
   "id": "137e4afb-7c52-4128-b74b-96cebc3e2efa",
   "metadata": {},
   "outputs": [],
   "source": []
  },
  {
   "cell_type": "markdown",
   "id": "4843b9f5-ac8e-48af-b2c9-a06610503252",
   "metadata": {},
   "source": [
    "Q3. You have a dataset with a significant number of outliers and are trying to select an appropriate \n",
    "regression metric to use with your SVM model. Which metric would be the most appropriate in this \n",
    "scenario?"
   ]
  },
  {
   "cell_type": "code",
   "execution_count": null,
   "id": "26618b2d-7383-40c2-8689-eb4f2a28a497",
   "metadata": {},
   "outputs": [],
   "source": []
  },
  {
   "cell_type": "markdown",
   "id": "550b409b-4ed2-41b3-9006-7c941551c6b4",
   "metadata": {},
   "source": [
    "Q4. You have built an SVM regression model using a polynomial kernel and are trying to select the best \n",
    "metric to evaluate its performance. You have calculated both MSE and RMSE and found that both values \n",
    "are very close. Which metric should you choose to use in this case?\n",
    "\n",
    "ANS:-RMSE is one of the most common metrics to use when working with regression models and is often preferred over MSE. The reason for this is primarily the much greater interpretation of the resulting number, which makes it much easier to understand the objective performance of the model."
   ]
  },
  {
   "cell_type": "code",
   "execution_count": null,
   "id": "4ac03bcc-af80-40b2-9f65-d1c0bb1e5df4",
   "metadata": {},
   "outputs": [],
   "source": []
  },
  {
   "cell_type": "markdown",
   "id": "a60d6027-c3ce-4fbb-a592-5920df44947c",
   "metadata": {},
   "source": [
    "Q5. You are comparing the performance of different SVM regression models using different kernels (linear, \n",
    "polynomial, and RBF) and are trying to select the best evaluation metric. Which metric would be most \n",
    "appropriate if your goal is to measure how well the model explains the variance in the target variable?\n",
    "\n",
    "ANS:- in this case we will use the linear kernel its goal is to measure how well the model explains the variance in the target variable."
   ]
  },
  {
   "cell_type": "code",
   "execution_count": null,
   "id": "f21d7c42-f6d2-4d96-9146-5868fef6c66b",
   "metadata": {},
   "outputs": [],
   "source": []
  }
 ],
 "metadata": {
  "kernelspec": {
   "display_name": "Python 3 (ipykernel)",
   "language": "python",
   "name": "python3"
  },
  "language_info": {
   "codemirror_mode": {
    "name": "ipython",
    "version": 3
   },
   "file_extension": ".py",
   "mimetype": "text/x-python",
   "name": "python",
   "nbconvert_exporter": "python",
   "pygments_lexer": "ipython3",
   "version": "3.10.8"
  }
 },
 "nbformat": 4,
 "nbformat_minor": 5
}
