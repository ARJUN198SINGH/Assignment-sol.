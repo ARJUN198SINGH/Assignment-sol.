{
 "cells": [
  {
   "cell_type": "markdown",
   "id": "bb25eda8-2afd-40a8-b561-23dcf5b6351b",
   "metadata": {},
   "source": [
    "Q1. Explain the difference between simple linear regression and multiple linear regression. Provide an \n",
    "example of each.\n",
    "\n",
    "ANS:- Simple linear regression is the regression which lies on the single plane.\n",
    "Ex:- we have The data of height and weight.and we use simple linear regression line equation That is Y = M X + C or y=Q0+Q1x1.\n",
    "\n",
    "multiple linear regression is the regression which lies on the 3D.\n",
    "ex:- then we have three coordinate data.\n"
   ]
  },
  {
   "cell_type": "code",
   "execution_count": null,
   "id": "d068e684-108d-4384-b454-6ba055a85279",
   "metadata": {},
   "outputs": [],
   "source": []
  },
  {
   "cell_type": "markdown",
   "id": "83a3bfc6-7d76-44db-82ac-ed9b36b33db5",
   "metadata": {},
   "source": [
    "Q2. Discuss the assumptions of linear regression. How can you check whether these assumptions hold in \n",
    "a given dataset?\n",
    "\n",
    "ANS:-\n",
    "assumptions of linear regression are:-\n",
    "\n",
    "Linear relationship.\n",
    "\n",
    "Multivariate normality.\n",
    "\n",
    "No or little multicollinearity.\n",
    "\n",
    "No auto-correlation.\n",
    "\n",
    "Homoscedasticity."
   ]
  },
  {
   "cell_type": "code",
   "execution_count": null,
   "id": "17d7bbf8-1959-4e2c-a550-2e189cb41dfb",
   "metadata": {},
   "outputs": [],
   "source": []
  },
  {
   "cell_type": "markdown",
   "id": "4e1d5dec-5160-47b7-b502-18fb73a13271",
   "metadata": {},
   "source": [
    "Q3. How do you interpret the slope and intercept in a linear regression model? Provide an example using a real-world scenario.\n",
    "\n",
    "ANS:-in linear regression model we have the equation y=mx+c. where M is the slope corresponding to the X axis and intercept is the distance between the linear regression line to the origin point on Y axis."
   ]
  },
  {
   "cell_type": "code",
   "execution_count": null,
   "id": "d6f1c7e1-3553-4721-bb61-843749df9b2a",
   "metadata": {},
   "outputs": [],
   "source": []
  },
  {
   "cell_type": "markdown",
   "id": "510932f6-feed-44ae-b042-77779528eedf",
   "metadata": {},
   "source": [
    "Q4. Explain the concept of gradient descent. How is it used in machine learning?\n",
    "\n",
    "ANS:- gradient descent is the process by which we can get the perfect linear regression line. it it provides the quantity to increase or decrease in slope or intersection on with this basis we get the perfect line with the minimal error.\n",
    "it is mostly used in model machine learning because perfect linear line regression provides high accuracy and good prediction."
   ]
  },
  {
   "cell_type": "code",
   "execution_count": null,
   "id": "9e3afffa-35bf-4d04-b19e-3a9937124fdb",
   "metadata": {},
   "outputs": [],
   "source": []
  },
  {
   "cell_type": "markdown",
   "id": "81ed69d9-c641-4f3f-87f2-9ac4f45156e3",
   "metadata": {},
   "source": [
    "Q5. Describe the multiple linear regression model. How does it differ from simple linear regression?\n",
    "\n",
    "ANS:- multiple linear regression model is the model which consists of 3 features. If we have three features then we have to show these features subset data points in the 3D structure. and when we have simple linear regression it means we have two features that is we can show these two data points and 2d structure."
   ]
  },
  {
   "cell_type": "code",
   "execution_count": null,
   "id": "e6adfd22-8206-4449-9a69-90aaaf75fcaa",
   "metadata": {},
   "outputs": [],
   "source": []
  },
  {
   "cell_type": "markdown",
   "id": "74370257-c7d1-401f-961e-81c36df41e6b",
   "metadata": {},
   "source": [
    "Q6. Explain the concept of multicollinearity in multiple linear regression. How can you detect and \n",
    "address this issue?\n",
    "\n",
    "ANS:-\n",
    "Multicollinearity occurs when two or more independent variables in a data frame have a high correlation with one another in a regression model. This means that one independent variable can be predicted from another in a regression model."
   ]
  },
  {
   "cell_type": "code",
   "execution_count": null,
   "id": "1a991745-804a-4053-885d-3c4ba3308134",
   "metadata": {},
   "outputs": [],
   "source": []
  },
  {
   "cell_type": "markdown",
   "id": "34b9df62-4897-49da-a985-0735aa61512d",
   "metadata": {},
   "source": [
    "Q7. Describe the polynomial regression model. How is it different from linear regression?\n",
    "\n",
    "ANS:- polynomial regression model is the model which consist of the data which is not linear means means present in the data set shows non linear data points when we draw it on a scatter plot then we can see that there is no straight line So in this case we used polynomial regression line with minimum error. It is different from linear regression model because linear regression model is the model which provide perfect district line with minimum error."
   ]
  },
  {
   "cell_type": "code",
   "execution_count": null,
   "id": "0f4d8324-0533-4733-aeac-a4498b5d6d38",
   "metadata": {},
   "outputs": [],
   "source": []
  },
  {
   "cell_type": "markdown",
   "id": "40a33bfb-3422-4538-bc24-1820c1e0ebed",
   "metadata": {},
   "source": [
    "Q8. What are the advantages and disadvantages of polynomial regression compared to linear \n",
    "regression? In what situations would you prefer to use polynomial regression?\n",
    "\n",
    "ANS:-\n",
    "the advantage of polynomial regression compared to linear regressions are we get high accuracy and good prediction in ML model in nonlinear data set with the minimum error.\n",
    "the disadvantage of Polian regulation compared to linear regression is to identify the best possible polynomial curve in lesser time."
   ]
  },
  {
   "cell_type": "code",
   "execution_count": null,
   "id": "182f85e6-6b84-4f07-8d24-4a2cf2699d9f",
   "metadata": {},
   "outputs": [],
   "source": []
  }
 ],
 "metadata": {
  "kernelspec": {
   "display_name": "Python 3 (ipykernel)",
   "language": "python",
   "name": "python3"
  },
  "language_info": {
   "codemirror_mode": {
    "name": "ipython",
    "version": 3
   },
   "file_extension": ".py",
   "mimetype": "text/x-python",
   "name": "python",
   "nbconvert_exporter": "python",
   "pygments_lexer": "ipython3",
   "version": "3.10.8"
  }
 },
 "nbformat": 4,
 "nbformat_minor": 5
}
