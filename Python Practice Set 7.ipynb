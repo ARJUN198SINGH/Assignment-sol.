{
 "cells": [
  {
   "cell_type": "markdown",
   "id": "95a538c8-c4e2-495c-b802-859ade203be8",
   "metadata": {},
   "source": [
    "Q1. Write a program that spawns two threads. One thread should print even numbers between 0 and 10, \n",
    "and the other thread should print odd numbers between 1 and 9"
   ]
  },
  {
   "cell_type": "code",
   "execution_count": 50,
   "id": "4d8b1988-294e-42f0-ae6f-01844b74c3be",
   "metadata": {},
   "outputs": [
    {
     "name": "stdout",
     "output_type": "stream",
     "text": [
      "0\n",
      "2\n",
      "4\n",
      "6\n",
      "8\n",
      "10\n",
      "1\n",
      "3\n",
      "5\n",
      "7\n",
      "9\n"
     ]
    }
   ],
   "source": [
    "import threading\n",
    "\n",
    "def print_even():\n",
    "    for i in range(0, 11, 2):\n",
    "        print(i)\n",
    "        \n",
    "def print_odd():\n",
    "    for i in range(1, 10, 2):\n",
    "        print(i)\n",
    "\n",
    "t1 = threading.Thread(target=print_even)\n",
    "t2 = threading.Thread(target=print_odd)\n",
    "\n",
    "t1.start()\n",
    "t2.start()\n",
    "\n",
    "t1.join()\n",
    "t2.join()\n"
   ]
  },
  {
   "cell_type": "code",
   "execution_count": null,
   "id": "e37c7f03-b5c8-43a1-98a5-a3100b682b8c",
   "metadata": {},
   "outputs": [],
   "source": []
  },
  {
   "cell_type": "markdown",
   "id": "8d50eecb-8f65-41de-8617-13c91ea843c2",
   "metadata": {},
   "source": [
    "Q2. Write a program that generates a list of random numbers and sorts them using multithreading. Use \n",
    "two threads to sort the first half and the second half of the list in parallel"
   ]
  },
  {
   "cell_type": "code",
   "execution_count": 44,
   "id": "13670d4f-e5e2-460c-9a20-6eaed2949d13",
   "metadata": {},
   "outputs": [
    {
     "data": {
      "text/plain": [
       "array([2, 5, 6, 5, 3, 5, 2, 2, 4, 4])"
      ]
     },
     "execution_count": 44,
     "metadata": {},
     "output_type": "execute_result"
    }
   ],
   "source": [
    "import numpy as np\n",
    "a=np.random.randint(1,10,10)\n",
    "a"
   ]
  },
  {
   "cell_type": "code",
   "execution_count": 45,
   "id": "bff132b7-abd9-48f1-953c-78cd0fa472e6",
   "metadata": {},
   "outputs": [
    {
     "data": {
      "text/plain": [
       "[2, 5, 6, 5, 3]"
      ]
     },
     "execution_count": 45,
     "metadata": {},
     "output_type": "execute_result"
    }
   ],
   "source": [
    "b=[]\n",
    "for i in range(len(a)//2):\n",
    "    b.append(a[i])\n",
    "b"
   ]
  },
  {
   "cell_type": "code",
   "execution_count": 46,
   "id": "d366474c-9ffd-421c-ae3b-796048f8e3ab",
   "metadata": {},
   "outputs": [
    {
     "data": {
      "text/plain": [
       "[5, 2, 2, 4, 4]"
      ]
     },
     "execution_count": 46,
     "metadata": {},
     "output_type": "execute_result"
    }
   ],
   "source": [
    "d=len(a)//2\n",
    "c=[]\n",
    "for i in range(d,len(a)):\n",
    "    c.append(a[i])\n",
    "c"
   ]
  },
  {
   "cell_type": "code",
   "execution_count": 47,
   "id": "f0e914ab-aeff-4807-ad41-7248c46eeb03",
   "metadata": {},
   "outputs": [],
   "source": [
    "def sort1sthalf():\n",
    "    for i in range(len(b)):\n",
    "        for j in range(i+1):\n",
    "            if(b[i]<b[j]):\n",
    "                b[i],b[j]=b[j],b[i]\n",
    "    print(b)\n",
    "            \n",
    "\n",
    "def sort2ndhalf():\n",
    "    for i in range(len(c)):\n",
    "        for j in range(i+1):\n",
    "            if(c[i]<c[j]):\n",
    "                c[i],c[j]=c[j],c[i]\n",
    "    print(c)\n",
    "            \n",
    "    "
   ]
  },
  {
   "cell_type": "code",
   "execution_count": 48,
   "id": "04b0a982-73be-46e1-abb6-366d6318f39d",
   "metadata": {},
   "outputs": [
    {
     "name": "stdout",
     "output_type": "stream",
     "text": [
      "[2, 2, 4, 4, 5]\n"
     ]
    }
   ],
   "source": [
    "sort2ndhalf()"
   ]
  },
  {
   "cell_type": "code",
   "execution_count": 49,
   "id": "a9220b9c-988f-40f8-a406-bf543c3f0e0c",
   "metadata": {},
   "outputs": [
    {
     "name": "stdout",
     "output_type": "stream",
     "text": [
      "[2, 3, 5, 5, 6]\n",
      "[2, 2, 4, 4, 5]\n"
     ]
    }
   ],
   "source": [
    "import threading\n",
    "t1=threading.Thread(target=sort1sthalf)\n",
    "t2=threading.Thread(target=sort2ndhalf)\n",
    "t1.start()\n",
    "t2.start()\n",
    "t1.join()\n",
    "t2.join()\n",
    "\n"
   ]
  },
  {
   "cell_type": "code",
   "execution_count": null,
   "id": "82e421be-622c-4e2f-a507-6c0277ec0565",
   "metadata": {},
   "outputs": [],
   "source": []
  },
  {
   "cell_type": "markdown",
   "id": "5e43ebae-3d37-4b31-be11-1231fe7f8063",
   "metadata": {},
   "source": [
    "Q3. Write a program that simulates a bank account transaction. The program should create two threads, \n",
    "one for a deposit and one for a withdrawal. The deposit thread should add \n",
    "\n",
    "100 to the account,and the withdrawal thread should withdraw\n",
    "\n",
    "50 from the account. Run the program for 10 iterations."
   ]
  },
  {
   "cell_type": "code",
   "execution_count": null,
   "id": "e2e8001f-55c3-4ff6-8d56-2b8e39f0a598",
   "metadata": {},
   "outputs": [],
   "source": []
  },
  {
   "cell_type": "markdown",
   "id": "6b482bb4-f90b-4754-8b43-918242d27991",
   "metadata": {},
   "source": [
    "Q4. Write a Python program that creates a thread to print out the current date and time every 5 seconds. \n",
    "The program should continue running until the user presses the 'q' key."
   ]
  },
  {
   "cell_type": "code",
   "execution_count": 2,
   "id": "0fd259d0-3916-4ab8-83a8-7296b35d3e85",
   "metadata": {},
   "outputs": [
    {
     "name": "stdout",
     "output_type": "stream",
     "text": [
      "2023-03-29 15:08:58.278393\n",
      "2023-03-29 15:09:03.280306\n"
     ]
    },
    {
     "name": "stdin",
     "output_type": "stream",
     "text": [
      "Press q to quit:  q\n"
     ]
    },
    {
     "ename": "SystemExit",
     "evalue": "",
     "output_type": "error",
     "traceback": [
      "An exception has occurred, use %tb to see the full traceback.\n",
      "\u001b[0;31mSystemExit\u001b[0m\n"
     ]
    },
    {
     "name": "stderr",
     "output_type": "stream",
     "text": [
      "/opt/conda/lib/python3.10/site-packages/IPython/core/interactiveshell.py:3441: UserWarning: To exit: use 'exit', 'quit', or Ctrl-D.\n",
      "  warn(\"To exit: use 'exit', 'quit', or Ctrl-D.\", stacklevel=1)\n"
     ]
    },
    {
     "name": "stdout",
     "output_type": "stream",
     "text": [
      "2023-03-29 15:09:08.285486\n",
      "2023-03-29 15:09:13.290661\n",
      "2023-03-29 15:09:18.292264\n"
     ]
    }
   ],
   "source": [
    "import threading\n",
    "import time\n",
    "import datetime\n",
    "import sys\n",
    "\n",
    "def print_time():\n",
    "    while True:\n",
    "        now = datetime.datetime.now()\n",
    "        print(now)\n",
    "        time.sleep(5)\n",
    "\n",
    "if __name__ == '__main__':\n",
    "    t = threading.Thread(target=print_time)\n",
    "    t.start()\n",
    "\n",
    "    while True:\n",
    "        user_input = input(\"Press q to quit: \")\n",
    "        if user_input == 'q':\n",
    "            sys.exit()\n"
   ]
  },
  {
   "cell_type": "code",
   "execution_count": null,
   "id": "9314f5e1-fef0-40ea-8f88-5e4f78cc25c6",
   "metadata": {},
   "outputs": [],
   "source": []
  },
  {
   "cell_type": "markdown",
   "id": "f28ad251-97d3-4632-8fd6-07f923860e42",
   "metadata": {},
   "source": [
    "Q5. Write a Python program that creates two threads. Each thread should print out the numbers from 1 to \n",
    "10. The two threads should run concurrently and print out the numbers in an interleaved fashion."
   ]
  },
  {
   "cell_type": "code",
   "execution_count": 4,
   "id": "fc376507-90c9-40a3-a450-23fafd83e850",
   "metadata": {},
   "outputs": [
    {
     "name": "stdout",
     "output_type": "stream",
     "text": [
      "1\n",
      "2\n",
      "3\n",
      "4\n",
      "5\n",
      "6\n",
      "7\n",
      "8\n",
      "9\n",
      "10\n",
      "1\n",
      "2\n",
      "3\n",
      "4\n",
      "5\n",
      "6\n",
      "7\n",
      "8\n",
      "9\n",
      "10\n"
     ]
    }
   ],
   "source": [
    "import threading\n",
    "def app():\n",
    "    for i in range(1,11):\n",
    "        print(i)\n",
    "def apps():\n",
    "    for i in range(1,11):\n",
    "        print(i)\n",
    "t1=threading.Thread(target=app)\n",
    "t2=threading.Thread(target=apps)\n",
    "t1.start()\n",
    "t2.start()\n",
    "t1.join()\n",
    "t2.join()"
   ]
  },
  {
   "cell_type": "code",
   "execution_count": null,
   "id": "ec7d1490-a23d-4008-b6b6-3d105966c60b",
   "metadata": {},
   "outputs": [],
   "source": []
  },
  {
   "cell_type": "markdown",
   "id": "c7649e41-d686-4473-8efa-63a18f9476b9",
   "metadata": {},
   "source": [
    "Q7. Here's a Python program that creates a thread to count down from 5 to 0 and prints \"Blastoff!\" when \n",
    "the count reaches 0:"
   ]
  },
  {
   "cell_type": "code",
   "execution_count": 2,
   "id": "c1c09cbe-bf0d-40c8-9a6c-ffdaa8698123",
   "metadata": {},
   "outputs": [
    {
     "name": "stdout",
     "output_type": "stream",
     "text": [
      "5\n",
      "4\n",
      "3\n",
      "2\n",
      "1\n",
      "0\n",
      "Blastoff!\n"
     ]
    }
   ],
   "source": [
    "import threading\n",
    "import time\n",
    "\n",
    "def countdown():\n",
    "    for i in range(5, -1, -1):\n",
    "        print(i)\n",
    "        time.sleep(1)\n",
    "    print(\"Blastoff!\")\n",
    "\n",
    "t = threading.Thread(target=countdown)\n",
    "t.start()\n",
    "\n",
    "        "
   ]
  },
  {
   "cell_type": "code",
   "execution_count": 17,
   "id": "ceca4dea-d714-473d-8afc-dbb889994acb",
   "metadata": {},
   "outputs": [
    {
     "name": "stdout",
     "output_type": "stream",
     "text": [
      "0\n",
      "2023-03-30 07:02:02.909723\n",
      "1\n",
      "2023-03-30 07:02:04.911891\n",
      "2\n",
      "2023-03-30 07:02:06.914087\n",
      "3\n",
      "2023-03-30 07:02:08.916268\n",
      "4\n",
      "2023-03-30 07:02:10.917743\n",
      "5\n",
      "2023-03-30 07:02:12.919919\n"
     ]
    }
   ],
   "source": [
    "import datetime\n",
    "for i in range(0,5+1):\n",
    "        print(i)\n",
    "        \n",
    "        print(datetime.datetime.now())\n",
    "        time.sleep(2)"
   ]
  },
  {
   "cell_type": "code",
   "execution_count": null,
   "id": "bf74efea-b8b1-4744-94d0-ea3b94bb9a90",
   "metadata": {},
   "outputs": [],
   "source": []
  },
  {
   "cell_type": "markdown",
   "id": "e254d1a6-3874-4fd1-bb86-1f25e1568594",
   "metadata": {},
   "source": [
    "Q8. Write a program that creates a thread to print the Fibonacci sequence up to a certain number n. The \n",
    "main thread should prompt the user for the value of n."
   ]
  },
  {
   "cell_type": "code",
   "execution_count": 21,
   "id": "755a05e7-efb2-441a-aa4f-05ac2b09c07b",
   "metadata": {},
   "outputs": [
    {
     "name": "stdin",
     "output_type": "stream",
     "text": [
      "enter the no. 9\n"
     ]
    },
    {
     "name": "stdout",
     "output_type": "stream",
     "text": [
      "0\n",
      "1\n",
      "1\n",
      "2\n",
      "3\n",
      "5\n",
      "8\n",
      "13\n",
      "21\n"
     ]
    }
   ],
   "source": [
    "import threading\n",
    "def fibb(n):\n",
    "    a,b=0,1\n",
    "    while(n>0):\n",
    "        print(a)\n",
    "        q=a+b\n",
    "        a=b\n",
    "        b=q\n",
    "        n=n-1\n",
    "n=int(input('enter the no.'))\n",
    "p=fibb(n)\n",
    "t=threading.Thread(target=p)\n",
    "t.start()"
   ]
  },
  {
   "cell_type": "code",
   "execution_count": null,
   "id": "7aac56d4-40df-442d-9cf1-444b550fd93e",
   "metadata": {},
   "outputs": [],
   "source": []
  },
  {
   "cell_type": "markdown",
   "id": "b9c00102-4466-4301-a02b-ea3354e627f0",
   "metadata": {},
   "source": [
    "Q9. Write a program that creates two threads to add and subtract numbers from a shared variable. The \n",
    "shared variable should start at 0, and each thread should perform 10 iterations of adding or subtracting a \n",
    "random integer between 1 and 10. The program should print the final value of the shared variable."
   ]
  },
  {
   "cell_type": "code",
   "execution_count": null,
   "id": "3e8a6755-0909-4a7b-9735-17e9aae29c75",
   "metadata": {},
   "outputs": [],
   "source": []
  },
  {
   "cell_type": "code",
   "execution_count": null,
   "id": "6c0af61b-4596-40e1-a46c-fc8ae7754ce2",
   "metadata": {},
   "outputs": [],
   "source": []
  },
  {
   "cell_type": "markdown",
   "id": "bf36f60c-33a9-4635-9b2f-e941d293240d",
   "metadata": {},
   "source": [
    "Q10. Write a program that creates a thread to calculate the sum of the numbers from 1 to 100 and prints \n",
    "the result."
   ]
  },
  {
   "cell_type": "code",
   "execution_count": 5,
   "id": "d4263784-93df-42f1-830a-8952e0945ea7",
   "metadata": {},
   "outputs": [],
   "source": [
    "import threading\n",
    "import time \n",
    "import datetime\n",
    "def summ():\n",
    "    s=0\n",
    "    for i in range(100):\n",
    "        s=s+i\n",
    "    print('hii')\n",
    "    time.sleep(5)\n",
    "    print(s)\n",
    "    print(datetime.datetime.now())\n",
    "    "
   ]
  },
  {
   "cell_type": "code",
   "execution_count": 6,
   "id": "acfe37d6-38ba-474f-975e-8b8945ab2936",
   "metadata": {},
   "outputs": [
    {
     "name": "stdout",
     "output_type": "stream",
     "text": [
      "hii\n",
      "4950\n",
      "2023-03-30 07:44:13.352558\n"
     ]
    }
   ],
   "source": [
    "summ()"
   ]
  },
  {
   "cell_type": "code",
   "execution_count": null,
   "id": "de135dcc-e2a5-46d1-9af0-22edb59ef1e9",
   "metadata": {},
   "outputs": [],
   "source": []
  }
 ],
 "metadata": {
  "kernelspec": {
   "display_name": "Python 3 (ipykernel)",
   "language": "python",
   "name": "python3"
  },
  "language_info": {
   "codemirror_mode": {
    "name": "ipython",
    "version": 3
   },
   "file_extension": ".py",
   "mimetype": "text/x-python",
   "name": "python",
   "nbconvert_exporter": "python",
   "pygments_lexer": "ipython3",
   "version": "3.10.8"
  }
 },
 "nbformat": 4,
 "nbformat_minor": 5
}
