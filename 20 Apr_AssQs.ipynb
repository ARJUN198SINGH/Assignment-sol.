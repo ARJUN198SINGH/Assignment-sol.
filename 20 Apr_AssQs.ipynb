{
 "cells": [
  {
   "cell_type": "markdown",
   "id": "330ecf83-0d28-42f7-842d-24192c42430b",
   "metadata": {},
   "source": [
    "Q1. What is the KNN algorithm?\n",
    "\n",
    "ANS:-The k-nearest neighbors algorithm, also known as KNN or k-NN, is a non-parametric, supervised learning classifier, which uses proximity to make classifications or predictions about the grouping of an individual data point."
   ]
  },
  {
   "cell_type": "code",
   "execution_count": null,
   "id": "27657923-a98c-4d3f-97d8-fd6112dbc875",
   "metadata": {},
   "outputs": [],
   "source": []
  },
  {
   "cell_type": "markdown",
   "id": "6f462141-62ee-4abf-bb4d-f6127304cfa1",
   "metadata": {},
   "source": [
    "Q2. How do you choose the value of K in KNN?\n",
    "\n",
    "ANS:-The choice of k will largely depend on the input data as data with more outliers or noise will likely perform better with higher values of k. Overall, it is recommended to have an odd number for k to avoid ties in classification, and cross-validation tactics can help you choose the optimal k for your dataset"
   ]
  },
  {
   "cell_type": "code",
   "execution_count": null,
   "id": "4506ed48-4226-4270-8435-edce58fe98bf",
   "metadata": {},
   "outputs": [],
   "source": []
  },
  {
   "cell_type": "markdown",
   "id": "83d39b98-8a45-40c7-aa0c-7ca0bb2c4580",
   "metadata": {},
   "source": [
    "Q3. What is the difference between KNN classifier and KNN regressor?\n",
    "\n",
    "ANS:-KNN regression tries to predict the value of the output variable by using a local average. KNN classification attempts to predict the class to which the output variable belong by computing the local probability"
   ]
  },
  {
   "cell_type": "code",
   "execution_count": null,
   "id": "2abfcc8f-f2e7-4a0a-90c2-6bbfa2b8f35e",
   "metadata": {},
   "outputs": [],
   "source": []
  },
  {
   "cell_type": "markdown",
   "id": "108cdac0-3577-4867-a4b8-79bb1517a86a",
   "metadata": {},
   "source": [
    "Q4. How do you measure the performance of KNN?\n",
    "\n",
    "ANS:-The main concept for k-NN depends on calculating the distances between the tested, and the training data samples in order to identify its nearest neighbours. "
   ]
  },
  {
   "cell_type": "code",
   "execution_count": null,
   "id": "bc04f2e3-f556-49ae-b0ff-6adec8ec3d6b",
   "metadata": {},
   "outputs": [],
   "source": []
  },
  {
   "cell_type": "markdown",
   "id": "a3b07979-a421-4367-8ec6-0ef627e73cd6",
   "metadata": {},
   "source": [
    "Q5. What is the curse of dimensionality in KNN?\n",
    "\n",
    "ANS:-The “Curse of Dimensionality” is a tongue in cheek way of stating that there's a ton of space in high-dimensional data sets. The size of the data space grows exponentially with the number of dimensions. This means that the size of your data set must also grow exponentially in order to keep the same density.\n"
   ]
  },
  {
   "cell_type": "code",
   "execution_count": null,
   "id": "1d408e6c-ffb4-4688-a4d0-ff020d4e792f",
   "metadata": {},
   "outputs": [],
   "source": []
  },
  {
   "cell_type": "markdown",
   "id": "bd50fdf0-b05e-472f-9e68-1a1ec9a5cf6a",
   "metadata": {},
   "source": [
    "Q6. How do you handle missing values in KNN?\n",
    "\n",
    "ANS:-Each sample's missing values are imputed using the mean value of the 'k'-neighbors found in the dataset."
   ]
  },
  {
   "cell_type": "code",
   "execution_count": null,
   "id": "472e29f7-9dd7-492d-b3a2-2345bcbf4890",
   "metadata": {},
   "outputs": [],
   "source": []
  },
  {
   "cell_type": "markdown",
   "id": "937263ae-bd3d-40e3-989b-1b66f9c76a3f",
   "metadata": {},
   "source": [
    "Q7. Compare and contrast the performance of the KNN classifier and regressor. Which one is better for \n",
    "which type of problem?\n",
    "\n",
    "ANS:-It can be used for both classification and regression problems! KNN algorithm is by far more popularly used for classification problems,"
   ]
  },
  {
   "cell_type": "code",
   "execution_count": null,
   "id": "72834d64-3e93-4094-bd20-0baca12d9b69",
   "metadata": {},
   "outputs": [],
   "source": []
  },
  {
   "cell_type": "markdown",
   "id": "74708c99-d479-4b0b-8f2a-4487f5a5471a",
   "metadata": {},
   "source": [
    "Q8. What are the strengths and weaknesses of the KNN algorithm for classification and regression tasks, \n",
    "and how can these be addressed?\n",
    "\n",
    "ANS:-\n",
    "It has advantages - nonparametric architecture, simple and powerful, requires no traning time, but it also has disadvantage - memory intensive, classification and estimation are slow."
   ]
  },
  {
   "cell_type": "code",
   "execution_count": null,
   "id": "98b9a55d-1cb4-4f0b-a274-54963e32bc9c",
   "metadata": {},
   "outputs": [],
   "source": []
  },
  {
   "cell_type": "markdown",
   "id": "eb6b083e-9fc3-42af-b6a1-f6b895ed39d1",
   "metadata": {},
   "source": [
    "Q9. What is the difference between Euclidean distance and Manhattan distance in KNN?\n",
    "\n",
    "ANS:-Manhattan distance is usually preferred over the more common \n",
    "\n",
    "Euclidean distance when there is high dimensionality in the data.\n",
    "\n",
    "Hamming distance is used to measure the distance between categorical variables, and the Cosine distance metric is mainly used to find the amount of similarity between two data points."
   ]
  },
  {
   "cell_type": "code",
   "execution_count": null,
   "id": "e867d46a-435d-473a-8492-2f4c803d6367",
   "metadata": {},
   "outputs": [],
   "source": []
  },
  {
   "cell_type": "markdown",
   "id": "77a97715-1b64-44c7-bfb3-e632b11a795d",
   "metadata": {},
   "source": [
    "Q10. What is the role of feature scaling in KNN?\n",
    "\n",
    "ANS:-Feature scaling is essential for machine learning algorithms that calculate distances between data. If not scaled, the feature with a higher value range starts dominating when calculating distances. KNN which uses Euclidean distance is one such algorithm which essentially require scaling."
   ]
  },
  {
   "cell_type": "code",
   "execution_count": null,
   "id": "a7fb6322-3a0a-42f9-9a37-9de6e3b919bb",
   "metadata": {},
   "outputs": [],
   "source": []
  },
  {
   "cell_type": "code",
   "execution_count": null,
   "id": "e07ab5d1-70eb-41a9-b97c-9818163c7fc8",
   "metadata": {},
   "outputs": [],
   "source": []
  },
  {
   "cell_type": "code",
   "execution_count": null,
   "id": "3a12d628-d905-4dd3-9ba3-7ed244289664",
   "metadata": {},
   "outputs": [],
   "source": []
  }
 ],
 "metadata": {
  "kernelspec": {
   "display_name": "Python 3 (ipykernel)",
   "language": "python",
   "name": "python3"
  },
  "language_info": {
   "codemirror_mode": {
    "name": "ipython",
    "version": 3
   },
   "file_extension": ".py",
   "mimetype": "text/x-python",
   "name": "python",
   "nbconvert_exporter": "python",
   "pygments_lexer": "ipython3",
   "version": "3.10.8"
  }
 },
 "nbformat": 4,
 "nbformat_minor": 5
}
