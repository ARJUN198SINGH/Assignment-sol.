{
 "cells": [
  {
   "cell_type": "markdown",
   "id": "e2610b98-87fe-462d-a877-23ac7aa6bccf",
   "metadata": {},
   "source": [
    "Q1. Create a list in python using the followings: 2,3,4,5,6,7 with variable ‘a’\n",
    "\n",
    "Add ‘mango to the above list\n",
    "\n",
    "Also add banana, grapes & orange in the list \n",
    "\n",
    "insert apple in the 5th position of a variable ‘a’\n",
    "\n",
    "Remove last item from the list\t   "
   ]
  },
  {
   "cell_type": "code",
   "execution_count": 19,
   "id": "b988df26-04da-4696-94ad-7e39d34375f8",
   "metadata": {},
   "outputs": [],
   "source": [
    "a=[2,3,4,5,6,7]\n",
    "a.append('mango')"
   ]
  },
  {
   "cell_type": "code",
   "execution_count": 20,
   "id": "fc2b308f-b80c-480e-8a10-7cbda6392f82",
   "metadata": {},
   "outputs": [],
   "source": [
    "a.append('banana')"
   ]
  },
  {
   "cell_type": "code",
   "execution_count": 21,
   "id": "f8272d4e-3a1a-4475-9520-55a5e2425fc6",
   "metadata": {},
   "outputs": [
    {
     "data": {
      "text/plain": [
       "[2, 3, 4, 5, 'apple', 6, 7, 'mango', 'banana', 'grapes']"
      ]
     },
     "execution_count": 21,
     "metadata": {},
     "output_type": "execute_result"
    }
   ],
   "source": [
    "a.append('grapes')\n",
    "a.append('orange')\n",
    "a.insert(4,'apple')\n",
    "a.pop()\n",
    "a"
   ]
  },
  {
   "cell_type": "code",
   "execution_count": null,
   "id": "04ee7fdb-858c-4a1f-a24e-4b7bc4a4d9f1",
   "metadata": {},
   "outputs": [],
   "source": []
  },
  {
   "cell_type": "markdown",
   "id": "62c036d9-e7a1-4abb-97b8-441831597941",
   "metadata": {},
   "source": [
    "Q2.\n",
    "\n",
    "L = [1,2,3,4,5,6,7]\n",
    "\n",
    "Using the above list slice from 1:4"
   ]
  },
  {
   "cell_type": "code",
   "execution_count": 22,
   "id": "b87cf178-0904-4c9c-9f60-e26195aecfb0",
   "metadata": {},
   "outputs": [
    {
     "data": {
      "text/plain": [
       "[2, 3, 4]"
      ]
     },
     "execution_count": 22,
     "metadata": {},
     "output_type": "execute_result"
    }
   ],
   "source": [
    "L = [1,2,3,4,5,6,7]\n",
    "L[1:4]"
   ]
  },
  {
   "cell_type": "code",
   "execution_count": null,
   "id": "4111cb26-926d-4a24-b48c-90a2f1935e4a",
   "metadata": {},
   "outputs": [],
   "source": []
  },
  {
   "cell_type": "markdown",
   "id": "d1afcb15-89e0-4234-b187-f8073f187cbb",
   "metadata": {},
   "source": [
    "Q3. Reverse the order of given string L = [4,5,6,8,3] Without using reverse() function"
   ]
  },
  {
   "cell_type": "code",
   "execution_count": 23,
   "id": "e7951cad-0513-438d-9daa-eda83e98eba3",
   "metadata": {},
   "outputs": [],
   "source": [
    "l = [4,5,6,8,3]"
   ]
  },
  {
   "cell_type": "code",
   "execution_count": 24,
   "id": "a485b123-7378-40ec-9c9a-0b349055a011",
   "metadata": {},
   "outputs": [],
   "source": [
    "l=l[::-1]"
   ]
  },
  {
   "cell_type": "code",
   "execution_count": 25,
   "id": "82d81b92-f267-49cc-ba3f-994f923eb9d1",
   "metadata": {},
   "outputs": [
    {
     "data": {
      "text/plain": [
       "[3, 8, 6, 5, 4]"
      ]
     },
     "execution_count": 25,
     "metadata": {},
     "output_type": "execute_result"
    }
   ],
   "source": [
    "l"
   ]
  },
  {
   "cell_type": "code",
   "execution_count": 26,
   "id": "0218c128-461b-4c75-bc19-7401e73ff3ab",
   "metadata": {},
   "outputs": [],
   "source": [
    "l.reverse()"
   ]
  },
  {
   "cell_type": "code",
   "execution_count": 27,
   "id": "f4b3d3dd-8716-4800-be0c-27b5d25d4f61",
   "metadata": {},
   "outputs": [
    {
     "data": {
      "text/plain": [
       "[4, 5, 6, 8, 3]"
      ]
     },
     "execution_count": 27,
     "metadata": {},
     "output_type": "execute_result"
    }
   ],
   "source": [
    "l"
   ]
  },
  {
   "cell_type": "code",
   "execution_count": null,
   "id": "e90a11f7-b272-48ea-b6e8-fd955222c48a",
   "metadata": {},
   "outputs": [],
   "source": []
  },
  {
   "cell_type": "markdown",
   "id": "16e4b846-2d80-4fd2-8552-4ca48f30cdf7",
   "metadata": {},
   "source": [
    "Q4. Use list comprehension to square the given list L=[2,4,7,3,6,8]."
   ]
  },
  {
   "cell_type": "code",
   "execution_count": 50,
   "id": "369ad5ce-3911-4875-8757-332f388605d3",
   "metadata": {},
   "outputs": [
    {
     "data": {
      "text/plain": [
       "[4, 16, 49, 9, 36, 64]"
      ]
     },
     "execution_count": 50,
     "metadata": {},
     "output_type": "execute_result"
    }
   ],
   "source": [
    "l=[2,4,7,3,6,8]\n",
    "l=[i*i for i in l]\n",
    "l"
   ]
  },
  {
   "cell_type": "code",
   "execution_count": 51,
   "id": "1a46ee00-add4-4875-af98-913aa8556381",
   "metadata": {},
   "outputs": [],
   "source": [
    "l=list(map(lambda x:x**0.5,l))"
   ]
  },
  {
   "cell_type": "code",
   "execution_count": 52,
   "id": "4e2ae0a8-ff56-43e5-87ad-9ed969526b04",
   "metadata": {},
   "outputs": [
    {
     "data": {
      "text/plain": [
       "[2.0, 4.0, 7.0, 3.0, 6.0, 8.0]"
      ]
     },
     "execution_count": 52,
     "metadata": {},
     "output_type": "execute_result"
    }
   ],
   "source": [
    "l"
   ]
  },
  {
   "cell_type": "code",
   "execution_count": null,
   "id": "359f4c58-a241-458c-a645-537722a03c5e",
   "metadata": {},
   "outputs": [],
   "source": []
  },
  {
   "cell_type": "markdown",
   "id": "2fcb3575-b126-471d-9c49-0fa42ed789a5",
   "metadata": {},
   "source": [
    "Q5. Create a function that takes in a tuple of integers and returns the sum of the integers. Test the \n",
    "function with a tuple of your choice."
   ]
  },
  {
   "cell_type": "code",
   "execution_count": 55,
   "id": "946a4797-0f17-41c4-8e5e-b6c4e4bcb88d",
   "metadata": {},
   "outputs": [
    {
     "data": {
      "text/plain": [
       "6"
      ]
     },
     "execution_count": 55,
     "metadata": {},
     "output_type": "execute_result"
    }
   ],
   "source": [
    "def add(a):\n",
    "    s=0\n",
    "    for i in a:\n",
    "        s=s+i\n",
    "    return s\n",
    "add((1,2,3))"
   ]
  },
  {
   "cell_type": "code",
   "execution_count": null,
   "id": "78486335-9bff-42eb-8e65-d064f1a7e158",
   "metadata": {},
   "outputs": [],
   "source": []
  },
  {
   "cell_type": "markdown",
   "id": "d9454e23-5d94-4262-a6dd-8a7e02014f09",
   "metadata": {},
   "source": [
    "Q6. Create two sets of your favourite fruits, and use the union() method to combine them into a single set. \n",
    "Print the resulting set to the console."
   ]
  },
  {
   "cell_type": "code",
   "execution_count": 56,
   "id": "8d195bcb-5c56-47ce-9c4b-cc52e3e43ec6",
   "metadata": {},
   "outputs": [
    {
     "data": {
      "text/plain": [
       "{'apple', 'banana', 'grape', 'kiwi', 'orange', 'pear'}"
      ]
     },
     "execution_count": 56,
     "metadata": {},
     "output_type": "execute_result"
    }
   ],
   "source": [
    "fruits1 = {\"apple\", \"banana\", \"pear\"}\n",
    "fruits2 = {\"orange\", \"grape\", \"kiwi\"}\n",
    "fruits1.union(fruits2)"
   ]
  },
  {
   "cell_type": "code",
   "execution_count": null,
   "id": "9b816959-ff83-4e32-85a3-c914f70c2541",
   "metadata": {},
   "outputs": [],
   "source": []
  },
  {
   "cell_type": "markdown",
   "id": "95b825f8-5b18-422f-a3a0-3614c5b4834e",
   "metadata": {},
   "source": [
    "Q7. Create a set of random words, and use the add() method to add a new word to the set. Print the \n",
    "resulting set to the console"
   ]
  },
  {
   "cell_type": "code",
   "execution_count": 57,
   "id": "c45cc39e-347c-4c22-9a6e-c1ddc2bfc029",
   "metadata": {},
   "outputs": [],
   "source": [
    "words = {\"hello\", \"world\", \"python\"}"
   ]
  },
  {
   "cell_type": "code",
   "execution_count": 58,
   "id": "f7973894-2648-4a37-af80-9864d09b18d3",
   "metadata": {},
   "outputs": [],
   "source": [
    "words.add('programs')"
   ]
  },
  {
   "cell_type": "code",
   "execution_count": 61,
   "id": "bb3fd6d1-2f0e-4faf-8336-25ae0d250230",
   "metadata": {},
   "outputs": [
    {
     "data": {
      "text/plain": [
       "{'hello', 'programs', 'python', 'world'}"
      ]
     },
     "execution_count": 61,
     "metadata": {},
     "output_type": "execute_result"
    }
   ],
   "source": [
    "words"
   ]
  },
  {
   "cell_type": "code",
   "execution_count": null,
   "id": "b48c549a-f627-4afe-acae-f7c3f56492e1",
   "metadata": {},
   "outputs": [],
   "source": []
  },
  {
   "cell_type": "markdown",
   "id": "f0878aba-d1dd-419c-bec2-7d297da5c000",
   "metadata": {},
   "source": [
    "Q8. Create a set of your favourite animals, and use the remove() method to remove one animal from the \n",
    "set. Print the resulting set to the console"
   ]
  },
  {
   "cell_type": "code",
   "execution_count": 60,
   "id": "78ceae9d-8140-4ccd-a5a8-1aad9cc10bea",
   "metadata": {},
   "outputs": [
    {
     "data": {
      "text/plain": [
       "{'dog', 'hamster', 'parrot'}"
      ]
     },
     "execution_count": 60,
     "metadata": {},
     "output_type": "execute_result"
    }
   ],
   "source": [
    "animals = {\"dog\", \"cat\", \"hamster\", \"parrot\"}\n",
    "animals.remove('cat')\n",
    "animals"
   ]
  },
  {
   "cell_type": "code",
   "execution_count": null,
   "id": "2d9a69d3-b90f-4f31-afd1-eff308ad08da",
   "metadata": {},
   "outputs": [],
   "source": []
  },
  {
   "cell_type": "markdown",
   "id": "48ad2ccd-0b65-45b6-b6b9-048cfc863911",
   "metadata": {},
   "source": [
    "Q9. favorite_books = {\"1984\", \"To Kill a Mockingbird\", \"Pride and Prejudice\"}\n",
    "\n",
    "      favorite_movies = [\"The Shawshank Redemption\", \"The Godfather\", \"The Dark Knight\"]\n",
    "\n",
    "      Use the zip() function to combine the book set and movie list into a list of tuples  representing book/ \n",
    "\n",
    " movie pairs. Print the resulting list"
   ]
  },
  {
   "cell_type": "code",
   "execution_count": 64,
   "id": "82e6a2ba-3703-43e7-a0a4-08b5cba7d9e9",
   "metadata": {},
   "outputs": [
    {
     "name": "stdout",
     "output_type": "stream",
     "text": [
      "[('To Kill a Mockingbird', 'The Shawshank Redemption'), ('Pride and Prejudice', 'The Godfather'), ('1984', 'The Dark Knight')]\n"
     ]
    }
   ],
   "source": [
    "favorite_books = {\"1984\", \"To Kill a Mockingbird\", \"Pride and Prejudice\"}\n",
    "favorite_movies = [\"The Shawshank Redemption\", \"The Godfather\", \"The Dark Knight\"]\n",
    "resulting_list=list(zip(favorite_books,favorite_movies))\n",
    "print(resulting_list)"
   ]
  },
  {
   "cell_type": "code",
   "execution_count": null,
   "id": "1f67893c-0fd9-4843-8d4f-0576a2e7ee28",
   "metadata": {},
   "outputs": [],
   "source": []
  },
  {
   "cell_type": "markdown",
   "id": "58888705-1931-477a-bfcd-66d24701a116",
   "metadata": {},
   "source": [
    "Q10. Write a Python program to find the difference between consecutive numbers in a list."
   ]
  },
  {
   "cell_type": "code",
   "execution_count": 69,
   "id": "a2c656e1-79e4-4600-98f4-cb14868ff05e",
   "metadata": {},
   "outputs": [
    {
     "name": "stdout",
     "output_type": "stream",
     "text": [
      "1\n",
      "1\n",
      "1\n",
      "5\n"
     ]
    }
   ],
   "source": [
    "a=[1,2,3,4,9]\n",
    "for i in range(1,len(a)):\n",
    "    q=a[i]-a[i-1]\n",
    "    print(q)"
   ]
  },
  {
   "cell_type": "code",
   "execution_count": null,
   "id": "48c3236c-fffe-42c8-81ae-948f3aaaf1c1",
   "metadata": {},
   "outputs": [],
   "source": []
  }
 ],
 "metadata": {
  "kernelspec": {
   "display_name": "Python 3 (ipykernel)",
   "language": "python",
   "name": "python3"
  },
  "language_info": {
   "codemirror_mode": {
    "name": "ipython",
    "version": 3
   },
   "file_extension": ".py",
   "mimetype": "text/x-python",
   "name": "python",
   "nbconvert_exporter": "python",
   "pygments_lexer": "ipython3",
   "version": "3.10.8"
  }
 },
 "nbformat": 4,
 "nbformat_minor": 5
}
