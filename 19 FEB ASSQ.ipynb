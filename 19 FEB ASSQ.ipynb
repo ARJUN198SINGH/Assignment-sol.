{
 "cells": [
  {
   "cell_type": "markdown",
   "id": "794850ca-7b96-4c46-ae18-0f973d304e5a",
   "metadata": {},
   "source": [
    "SOL(1):-\n",
    "flask framework is the framework where the programmer write the \n",
    "python code for the print some thing and it generate the url of\n",
    "the program for accessing from the server.\n",
    "advantages are like easy to use,portable and easily understable"
   ]
  },
  {
   "cell_type": "code",
   "execution_count": null,
   "id": "7347900e-d21f-45b5-86f3-5ea164637dce",
   "metadata": {},
   "outputs": [],
   "source": []
  },
  {
   "cell_type": "markdown",
   "id": "135bedb8-a0a6-4bd9-980b-65e46cbbd01d",
   "metadata": {},
   "source": [
    "SOL(2):-"
   ]
  },
  {
   "cell_type": "code",
   "execution_count": null,
   "id": "7439c1a7-5387-4fc0-9a7b-1d8b6fad6e7b",
   "metadata": {},
   "outputs": [],
   "source": [
    "from flask import Flask\n",
    "from flask import request\n",
    "app = Flask(__name__)\n",
    "\n",
    "@app.route(\"/\")\n",
    "def hello_world():\n",
    "    return \"<h1>Hello World!!</h1>\"\n",
    "if __name__==\"__main__\":\n",
    "    app.run(host=\"0.0.0.0\")"
   ]
  },
  {
   "cell_type": "code",
   "execution_count": null,
   "id": "789fbf97-df12-429a-bd24-754b17b699f3",
   "metadata": {},
   "outputs": [],
   "source": [
    "https://lemon-pilot-jlbwn.pwskills.app:5000"
   ]
  },
  {
   "cell_type": "code",
   "execution_count": null,
   "id": "f313025b-cdb9-4ec5-a9d8-cef5da6357f6",
   "metadata": {},
   "outputs": [],
   "source": []
  },
  {
   "cell_type": "markdown",
   "id": "1da03b53-e3e6-4d32-bcee-4308668f515f",
   "metadata": {},
   "source": [
    "SOL(3):-app routing is the routing or the way in which \n",
    "it provide the way by which we can assess the particular \n",
    "function with out any problem."
   ]
  },
  {
   "cell_type": "code",
   "execution_count": null,
   "id": "746c31f6-7aa6-4435-bafa-926b07642931",
   "metadata": {},
   "outputs": [],
   "source": []
  },
  {
   "cell_type": "markdown",
   "id": "a18ae7ec-fd54-496c-8c90-db13b8946016",
   "metadata": {},
   "source": [
    "SOL(4):-"
   ]
  },
  {
   "cell_type": "code",
   "execution_count": null,
   "id": "7081800b-1bed-4b7f-9847-36bd0364f159",
   "metadata": {},
   "outputs": [],
   "source": [
    "from flask import Flask\n",
    "from flask import request\n",
    "app = Flask(__name__)\n",
    "\n",
    "@app.route(\"/welcome\")\n",
    "def hello_world():\n",
    "    return \"<h1>Welcome to ABC Corporation</h1>\"\n",
    "\n",
    "@app.route(\"/\")\n",
    "def hello_world1():\n",
    "    return \"\"\"<h1>  Company Name: ABC Corporation\n",
    "        Location: India\n",
    "        Contact Detail: 999-999-9999</h1>\"\"\"\n",
    "\n",
    "\n",
    "if __name__==\"__main__\":\n",
    "    app.run(host=\"0.0.0.0\")"
   ]
  },
  {
   "cell_type": "code",
   "execution_count": null,
   "id": "6a5bb835-dd24-4ff0-9f17-4b5aa40bfcf5",
   "metadata": {},
   "outputs": [],
   "source": [
    "https://lemon-pilot-jlbwn.pwskills.app:5000/welcome\n",
    "https://lemon-pilot-jlbwn.pwskills.app:5000"
   ]
  },
  {
   "cell_type": "code",
   "execution_count": null,
   "id": "5e35a91c-9406-4b3e-8987-3cf899333425",
   "metadata": {},
   "outputs": [],
   "source": []
  },
  {
   "cell_type": "code",
   "execution_count": null,
   "id": "9c705fab-ed7b-47c9-8ffb-5d11b8e4686e",
   "metadata": {},
   "outputs": [],
   "source": []
  }
 ],
 "metadata": {
  "kernelspec": {
   "display_name": "Python 3 (ipykernel)",
   "language": "python",
   "name": "python3"
  },
  "language_info": {
   "codemirror_mode": {
    "name": "ipython",
    "version": 3
   },
   "file_extension": ".py",
   "mimetype": "text/x-python",
   "name": "python",
   "nbconvert_exporter": "python",
   "pygments_lexer": "ipython3",
   "version": "3.10.8"
  }
 },
 "nbformat": 4,
 "nbformat_minor": 5
}
