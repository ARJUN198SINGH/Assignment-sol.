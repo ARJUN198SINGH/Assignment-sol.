{
 "cells": [
  {
   "cell_type": "markdown",
   "id": "9eb87986-f880-413a-9397-88950297eb82",
   "metadata": {},
   "source": [
    "Q1. What is Elastic Net Regression and how does it differ from other regression techniques?\n",
    "\n",
    "ANS:-Elastic net regression is the regression which is you used to reduce the overfitting and helps in feature selection. This regression is the combination of lasso regression and the Ridge regression. Details different from the other regression techniques because it provides the benefits of both the techniques."
   ]
  },
  {
   "cell_type": "code",
   "execution_count": null,
   "id": "29d41b01-a024-4e99-95a3-9b704aed56e9",
   "metadata": {},
   "outputs": [],
   "source": []
  },
  {
   "cell_type": "markdown",
   "id": "99d69ad7-ebd8-4154-b153-939723bd53f7",
   "metadata": {},
   "source": [
    "Q2. How do you choose the optimal values of the regularization parameters for Elastic Net Regression?\n",
    "\n",
    "ANS:-Firstly we will import the library from sklearn.matrix Import elastic net\n",
    "And after that we use the elastic net function and this function takes 2 inputs one is The scaled X_train and the other is X_train.It is used to the model."
   ]
  },
  {
   "cell_type": "code",
   "execution_count": null,
   "id": "e49db738-13ab-4f9d-8949-74499e656849",
   "metadata": {},
   "outputs": [],
   "source": []
  },
  {
   "cell_type": "markdown",
   "id": "b9dd1982-903f-4bc6-ad90-7ccd9356c5ac",
   "metadata": {},
   "source": [
    "Q3. What are the advantages and disadvantages of Elastic Net Regression?\n",
    "\n",
    "ANS:-The advantages of elastic net regression is to provides the benefits of both the regression techniques like lasso regression and regression.\n",
    "\n",
    "The Disadvantages of elastic net regression is that v are not sure that it will return high accuracy than the other regression Techniques like lasso regression or ridge regression."
   ]
  },
  {
   "cell_type": "code",
   "execution_count": null,
   "id": "4e35888d-f161-443d-b2fb-2c21eaf31d18",
   "metadata": {},
   "outputs": [],
   "source": []
  },
  {
   "cell_type": "markdown",
   "id": "13c305ca-ff20-4c69-a61b-822ab9696139",
   "metadata": {},
   "source": [
    "Q4. What are some common use cases for Elastic Net Regression?\n",
    "\n",
    "ANS:-The lasso regression allows you to shrink or regularize these coefficients to avoid overfitting and make them work better on different datasets. This type of regression is used when the dataset shows high multicollinearity or when you want to automate variable elimination and feature selection"
   ]
  },
  {
   "cell_type": "code",
   "execution_count": null,
   "id": "f54b4076-f444-4e15-9c5d-7aa30a12a12c",
   "metadata": {},
   "outputs": [],
   "source": []
  },
  {
   "cell_type": "markdown",
   "id": "30981ef8-9e9b-4a49-b05a-c47bf7956e5c",
   "metadata": {},
   "source": [
    "Q5. How do you interpret the coefficients in Elastic Net Regression?\n",
    "\n",
    "ANS:- to find the interrupt the coefficient in elastic net regression we can easily find out by the Use of coefficient function(Elastin_net_regression.coeff_()).\n"
   ]
  },
  {
   "cell_type": "code",
   "execution_count": null,
   "id": "1816f5ec-35d0-44ca-9410-a8566c738e4f",
   "metadata": {},
   "outputs": [],
   "source": []
  },
  {
   "cell_type": "markdown",
   "id": "c9863fb1-bf1d-40dd-80d6-11da03465f4b",
   "metadata": {},
   "source": [
    "Q6. How do you handle missing values when using Elastic Net Regression?\n",
    "\n",
    "ANS:-We can use detection method in the elastic net regression \n",
    "or before the use of elastic net regression we need to handle the missing values and we can do EDA on the data set after that we have to divide the data set into train or test dataset then we can use easily elastic net regression."
   ]
  },
  {
   "cell_type": "code",
   "execution_count": null,
   "id": "e2b7bad0-8273-42f1-8df6-30cf0ca03033",
   "metadata": {},
   "outputs": [],
   "source": []
  },
  {
   "cell_type": "markdown",
   "id": "d821af61-b3be-4f71-a282-9aaa45544155",
   "metadata": {},
   "source": [
    "Q7. How do you use Elastic Net Regression for feature selection?\n",
    "\n",
    "ANS:- \n",
    "\n",
    "from sklearn.model_selection import ElasticNet\n",
    "\n",
    "el=ElasticNet()\n",
    "\n",
    "el.fit(X_train_scaled,y_train)\n",
    "\n",
    "y_test_predict=el.predict(X_test_scaled)\n"
   ]
  },
  {
   "cell_type": "code",
   "execution_count": null,
   "id": "c2baf74f-8934-4c88-b72c-5d5514175870",
   "metadata": {},
   "outputs": [],
   "source": []
  },
  {
   "cell_type": "markdown",
   "id": "f3dfffc4-6785-4e73-b776-2ab50771ba68",
   "metadata": {},
   "source": [
    "Q8. How do you pickle and unpickle a trained Elastic Net Regression model in Python?\n",
    "\n",
    "ANS:- it is used to pickle the trained data object in the hard disk,\n",
    "\n",
    "import pickle\n",
    "\n",
    "pickle.dump(scaler,open('scaler.pkl','wb'))\n",
    "\n",
    "it is used to unpickle the trained data from hard disk to oject. \n",
    "\n",
    "scaler=open('scaler.pkl','rb')\n"
   ]
  },
  {
   "cell_type": "code",
   "execution_count": null,
   "id": "c78e83a9-ed60-4238-b830-21d1fc8c963c",
   "metadata": {},
   "outputs": [],
   "source": []
  },
  {
   "cell_type": "markdown",
   "id": "2031f325-ab58-4e6b-a96d-7c08e70e6573",
   "metadata": {},
   "source": [
    "Q9. What is the purpose of pickling a model in machine learning?\n",
    "\n",
    "ANS:-The advantage or the purpose of pickling a model in machine learning that it allows you to save your ML models, to minimise lengthy re-training and allow you to share, commit, and re-load pre-trained machine learning models."
   ]
  },
  {
   "cell_type": "code",
   "execution_count": null,
   "id": "ebff9011-5807-4296-bf5b-0a8ed76a13a9",
   "metadata": {},
   "outputs": [],
   "source": []
  }
 ],
 "metadata": {
  "kernelspec": {
   "display_name": "Python 3 (ipykernel)",
   "language": "python",
   "name": "python3"
  },
  "language_info": {
   "codemirror_mode": {
    "name": "ipython",
    "version": 3
   },
   "file_extension": ".py",
   "mimetype": "text/x-python",
   "name": "python",
   "nbconvert_exporter": "python",
   "pygments_lexer": "ipython3",
   "version": "3.10.8"
  }
 },
 "nbformat": 4,
 "nbformat_minor": 5
}
