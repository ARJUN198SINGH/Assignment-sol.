{
 "cells": [
  {
   "cell_type": "markdown",
   "id": "e5a2e59c-d562-4165-a194-425edd2a776a",
   "metadata": {},
   "source": [
    "sol(1):-A database is a collection of related data and database is of two type structured and unstructured.\n",
    "SQL stands for structure query language and SQL is used to perform operation on the relation in which the data is stored in the form of tables which contains rows and columns.\n",
    "NOSQL stands for no structure query language and it is used to perform operations on the data which is in the form of files and that data is not in the form of tables."
   ]
  },
  {
   "cell_type": "markdown",
   "id": "a1fcf757-7bd6-432c-b539-d49ce9b9f12d",
   "metadata": {},
   "source": [
    "sol(2):-\n",
    "DDL stands for data definition language and it is the command of SQL.\n",
    "Create command is used to create table and drop command is used to delete that particular table and alter command is used to perform different ask such as renamed the table or add column or Delete column and truncate command is used for delete all the temples present in the table."
   ]
  },
  {
   "cell_type": "markdown",
   "id": "097167e8-2cd7-4fec-af37-05e140fefc0f",
   "metadata": {},
   "source": [
    "sol(3):-\n",
    "DML stand for data manipulate language and it used to perform insertion update delete operations in the relation and insert command is used to insert values in the table and update command is used to update values in the table and delete command is used to delete one or more couples in the table.\n",
    "\n",
    "sol(4):-DQL Stands for data query language and it is used to retrieve the data from the tables and the select command is used to retrieve or face the data from the table.\n",
    "\n",
    "sol(5):-\n",
    "Primary key is a key or an attribute which is unique and not null and it is used to uniquely identify any two tuple in the table.\n",
    "Foreign ki is the key or an attribute which is present in referencing table and that attribute take reference from the primary key of reference table or base table.\n",
    "\n",
    "sol(6):-\n",
    "\n",
    "sol(7):-"
   ]
  },
  {
   "cell_type": "code",
   "execution_count": null,
   "id": "1d4ba361-07eb-4fdd-a9e1-1f982cd208fd",
   "metadata": {},
   "outputs": [],
   "source": []
  }
 ],
 "metadata": {
  "kernelspec": {
   "display_name": "Python 3 (ipykernel)",
   "language": "python",
   "name": "python3"
  },
  "language_info": {
   "codemirror_mode": {
    "name": "ipython",
    "version": 3
   },
   "file_extension": ".py",
   "mimetype": "text/x-python",
   "name": "python",
   "nbconvert_exporter": "python",
   "pygments_lexer": "ipython3",
   "version": "3.10.8"
  }
 },
 "nbformat": 4,
 "nbformat_minor": 5
}
