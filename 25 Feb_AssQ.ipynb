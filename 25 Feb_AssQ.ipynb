{
 "cells": [
  {
   "cell_type": "code",
   "execution_count": 2,
   "id": "3e275e21-7d6f-4e2a-8c0f-679b7f661444",
   "metadata": {},
   "outputs": [],
   "source": [
    "import pandas as pd\n",
    "\n",
    "course_name = ['Data Science', 'Machine Learning', 'Big Data', 'Data Engineer']\n",
    "\n",
    "duration =  [2,3,6,4]\n",
    "\n",
    "df = pd.DataFrame(data = {'course_name' : course_name, 'duration' : duration})"
   ]
  },
  {
   "cell_type": "code",
   "execution_count": 3,
   "id": "31aeb5d5-02cb-4a50-9923-bae33bab8330",
   "metadata": {},
   "outputs": [
    {
     "data": {
      "text/html": [
       "<div>\n",
       "<style scoped>\n",
       "    .dataframe tbody tr th:only-of-type {\n",
       "        vertical-align: middle;\n",
       "    }\n",
       "\n",
       "    .dataframe tbody tr th {\n",
       "        vertical-align: top;\n",
       "    }\n",
       "\n",
       "    .dataframe thead th {\n",
       "        text-align: right;\n",
       "    }\n",
       "</style>\n",
       "<table border=\"1\" class=\"dataframe\">\n",
       "  <thead>\n",
       "    <tr style=\"text-align: right;\">\n",
       "      <th></th>\n",
       "      <th>course_name</th>\n",
       "      <th>duration</th>\n",
       "    </tr>\n",
       "  </thead>\n",
       "  <tbody>\n",
       "    <tr>\n",
       "      <th>0</th>\n",
       "      <td>Data Science</td>\n",
       "      <td>2</td>\n",
       "    </tr>\n",
       "    <tr>\n",
       "      <th>1</th>\n",
       "      <td>Machine Learning</td>\n",
       "      <td>3</td>\n",
       "    </tr>\n",
       "    <tr>\n",
       "      <th>2</th>\n",
       "      <td>Big Data</td>\n",
       "      <td>6</td>\n",
       "    </tr>\n",
       "    <tr>\n",
       "      <th>3</th>\n",
       "      <td>Data Engineer</td>\n",
       "      <td>4</td>\n",
       "    </tr>\n",
       "  </tbody>\n",
       "</table>\n",
       "</div>"
      ],
      "text/plain": [
       "        course_name  duration\n",
       "0      Data Science         2\n",
       "1  Machine Learning         3\n",
       "2          Big Data         6\n",
       "3     Data Engineer         4"
      ]
     },
     "execution_count": 3,
     "metadata": {},
     "output_type": "execute_result"
    }
   ],
   "source": [
    "df"
   ]
  },
  {
   "cell_type": "markdown",
   "id": "3b1d573d-7dc1-4342-80b4-e18ae3994400",
   "metadata": {},
   "source": [
    "Q1. Write a code to print the data present in the second row of the dataframe, df."
   ]
  },
  {
   "cell_type": "code",
   "execution_count": 4,
   "id": "654257cd-796f-4c3a-a937-19e5c10104a4",
   "metadata": {},
   "outputs": [
    {
     "data": {
      "text/html": [
       "<div>\n",
       "<style scoped>\n",
       "    .dataframe tbody tr th:only-of-type {\n",
       "        vertical-align: middle;\n",
       "    }\n",
       "\n",
       "    .dataframe tbody tr th {\n",
       "        vertical-align: top;\n",
       "    }\n",
       "\n",
       "    .dataframe thead th {\n",
       "        text-align: right;\n",
       "    }\n",
       "</style>\n",
       "<table border=\"1\" class=\"dataframe\">\n",
       "  <thead>\n",
       "    <tr style=\"text-align: right;\">\n",
       "      <th></th>\n",
       "      <th>course_name</th>\n",
       "      <th>duration</th>\n",
       "    </tr>\n",
       "  </thead>\n",
       "  <tbody>\n",
       "    <tr>\n",
       "      <th>1</th>\n",
       "      <td>Machine Learning</td>\n",
       "      <td>3</td>\n",
       "    </tr>\n",
       "  </tbody>\n",
       "</table>\n",
       "</div>"
      ],
      "text/plain": [
       "        course_name  duration\n",
       "1  Machine Learning         3"
      ]
     },
     "execution_count": 4,
     "metadata": {},
     "output_type": "execute_result"
    }
   ],
   "source": [
    "df.iloc[1:2,[0,1]]\n"
   ]
  },
  {
   "cell_type": "code",
   "execution_count": null,
   "id": "43b50fdb-5219-4d66-b1de-1fa85abea28a",
   "metadata": {},
   "outputs": [],
   "source": []
  },
  {
   "cell_type": "markdown",
   "id": "580894a5-c28b-4158-970c-5b39ccd4ff81",
   "metadata": {},
   "source": [
    "Q2. What is the difference between the functions loc and iloc in pandas.DataFrame"
   ]
  },
  {
   "cell_type": "markdown",
   "id": "ec8c6a9a-37d5-46b5-ae5b-e82a71ca33aa",
   "metadata": {},
   "source": [
    "ANS:The difference between the functions loc and iloc in pandas DataFrame\n",
    "is that the loc function takes column name with the values present \n",
    "in the rows and iloc just takes values and return dataframe."
   ]
  },
  {
   "cell_type": "code",
   "execution_count": null,
   "id": "881be55e-9a90-46e6-886b-65ac1263bbd4",
   "metadata": {},
   "outputs": [],
   "source": []
  },
  {
   "cell_type": "markdown",
   "id": "570e2508-a4d1-43c7-948e-d8ce373f1b69",
   "metadata": {},
   "source": [
    "Q3. Reindex the given dataframe using a variable, reindex = [3,0,1,2] and store it in the variable, new_df \n",
    "then find the output for both new_df.loc[2] and new_df.iloc[2].\n",
    "Did you observe any difference in both the outputs? If so then explain it"
   ]
  },
  {
   "cell_type": "code",
   "execution_count": 5,
   "id": "f3b935ec-14d6-414f-8286-ade1207de479",
   "metadata": {},
   "outputs": [
    {
     "data": {
      "text/html": [
       "<div>\n",
       "<style scoped>\n",
       "    .dataframe tbody tr th:only-of-type {\n",
       "        vertical-align: middle;\n",
       "    }\n",
       "\n",
       "    .dataframe tbody tr th {\n",
       "        vertical-align: top;\n",
       "    }\n",
       "\n",
       "    .dataframe thead th {\n",
       "        text-align: right;\n",
       "    }\n",
       "</style>\n",
       "<table border=\"1\" class=\"dataframe\">\n",
       "  <thead>\n",
       "    <tr style=\"text-align: right;\">\n",
       "      <th></th>\n",
       "      <th>course_name</th>\n",
       "      <th>duration</th>\n",
       "    </tr>\n",
       "  </thead>\n",
       "  <tbody>\n",
       "    <tr>\n",
       "      <th>0</th>\n",
       "      <td>Data Science</td>\n",
       "      <td>2</td>\n",
       "    </tr>\n",
       "    <tr>\n",
       "      <th>1</th>\n",
       "      <td>Machine Learning</td>\n",
       "      <td>3</td>\n",
       "    </tr>\n",
       "    <tr>\n",
       "      <th>2</th>\n",
       "      <td>Big Data</td>\n",
       "      <td>6</td>\n",
       "    </tr>\n",
       "    <tr>\n",
       "      <th>3</th>\n",
       "      <td>Data Engineer</td>\n",
       "      <td>4</td>\n",
       "    </tr>\n",
       "  </tbody>\n",
       "</table>\n",
       "</div>"
      ],
      "text/plain": [
       "        course_name  duration\n",
       "0      Data Science         2\n",
       "1  Machine Learning         3\n",
       "2          Big Data         6\n",
       "3     Data Engineer         4"
      ]
     },
     "execution_count": 5,
     "metadata": {},
     "output_type": "execute_result"
    }
   ],
   "source": [
    "df"
   ]
  },
  {
   "cell_type": "code",
   "execution_count": 6,
   "id": "78627d8d-7f30-4390-8846-5de6824d2275",
   "metadata": {},
   "outputs": [],
   "source": [
    "new_df=df.reindex([3,0,1,2])"
   ]
  },
  {
   "cell_type": "code",
   "execution_count": 7,
   "id": "3bdb76c6-a1f0-4de3-99d5-fa78578964f2",
   "metadata": {},
   "outputs": [
    {
     "data": {
      "text/html": [
       "<div>\n",
       "<style scoped>\n",
       "    .dataframe tbody tr th:only-of-type {\n",
       "        vertical-align: middle;\n",
       "    }\n",
       "\n",
       "    .dataframe tbody tr th {\n",
       "        vertical-align: top;\n",
       "    }\n",
       "\n",
       "    .dataframe thead th {\n",
       "        text-align: right;\n",
       "    }\n",
       "</style>\n",
       "<table border=\"1\" class=\"dataframe\">\n",
       "  <thead>\n",
       "    <tr style=\"text-align: right;\">\n",
       "      <th></th>\n",
       "      <th>course_name</th>\n",
       "      <th>duration</th>\n",
       "    </tr>\n",
       "  </thead>\n",
       "  <tbody>\n",
       "    <tr>\n",
       "      <th>3</th>\n",
       "      <td>Data Engineer</td>\n",
       "      <td>4</td>\n",
       "    </tr>\n",
       "    <tr>\n",
       "      <th>0</th>\n",
       "      <td>Data Science</td>\n",
       "      <td>2</td>\n",
       "    </tr>\n",
       "    <tr>\n",
       "      <th>1</th>\n",
       "      <td>Machine Learning</td>\n",
       "      <td>3</td>\n",
       "    </tr>\n",
       "    <tr>\n",
       "      <th>2</th>\n",
       "      <td>Big Data</td>\n",
       "      <td>6</td>\n",
       "    </tr>\n",
       "  </tbody>\n",
       "</table>\n",
       "</div>"
      ],
      "text/plain": [
       "        course_name  duration\n",
       "3     Data Engineer         4\n",
       "0      Data Science         2\n",
       "1  Machine Learning         3\n",
       "2          Big Data         6"
      ]
     },
     "execution_count": 7,
     "metadata": {},
     "output_type": "execute_result"
    }
   ],
   "source": [
    "new_df"
   ]
  },
  {
   "cell_type": "code",
   "execution_count": 8,
   "id": "a3215e5c-6de7-4d72-90fd-68d7f6f34acd",
   "metadata": {},
   "outputs": [
    {
     "data": {
      "text/plain": [
       "course_name    Big Data\n",
       "duration              6\n",
       "Name: 2, dtype: object"
      ]
     },
     "execution_count": 8,
     "metadata": {},
     "output_type": "execute_result"
    }
   ],
   "source": [
    "new_df.loc[2]"
   ]
  },
  {
   "cell_type": "code",
   "execution_count": 9,
   "id": "860bd5cf-b3ab-49f9-9a34-d7cc5d88c9b0",
   "metadata": {},
   "outputs": [
    {
     "data": {
      "text/plain": [
       "course_name    Machine Learning\n",
       "duration                      3\n",
       "Name: 1, dtype: object"
      ]
     },
     "execution_count": 9,
     "metadata": {},
     "output_type": "execute_result"
    }
   ],
   "source": [
    "new_df.iloc[2]"
   ]
  },
  {
   "cell_type": "markdown",
   "id": "33268714-c926-450c-8f44-d31a5100c3f8",
   "metadata": {},
   "source": [
    "we observe that both are returning the different values\n"
   ]
  },
  {
   "cell_type": "code",
   "execution_count": null,
   "id": "fa7c249d-51e1-4e8f-91ed-7610b8b1eadc",
   "metadata": {},
   "outputs": [],
   "source": []
  },
  {
   "cell_type": "code",
   "execution_count": 10,
   "id": "55d5a149-896f-4a76-9cd6-3971b7ad7aff",
   "metadata": {},
   "outputs": [],
   "source": [
    "import pandas as pd\n",
    "\n",
    "import numpy as np\n",
    "\n",
    "columns = ['column_1', 'column_2', 'column_3', 'column_4', 'column_5', 'column_6']\n",
    "\n",
    "indices = [1,2,3,4,5,6]\n",
    "\n",
    "#Creating a dataframe:\n",
    "\n",
    "df1 = pd.DataFrame(np.random.rand(6,6), columns = columns, index = indices)\n"
   ]
  },
  {
   "cell_type": "code",
   "execution_count": 11,
   "id": "68504deb-3ad8-4de2-bd1d-6a02b67a8329",
   "metadata": {},
   "outputs": [
    {
     "data": {
      "text/html": [
       "<div>\n",
       "<style scoped>\n",
       "    .dataframe tbody tr th:only-of-type {\n",
       "        vertical-align: middle;\n",
       "    }\n",
       "\n",
       "    .dataframe tbody tr th {\n",
       "        vertical-align: top;\n",
       "    }\n",
       "\n",
       "    .dataframe thead th {\n",
       "        text-align: right;\n",
       "    }\n",
       "</style>\n",
       "<table border=\"1\" class=\"dataframe\">\n",
       "  <thead>\n",
       "    <tr style=\"text-align: right;\">\n",
       "      <th></th>\n",
       "      <th>column_1</th>\n",
       "      <th>column_2</th>\n",
       "      <th>column_3</th>\n",
       "      <th>column_4</th>\n",
       "      <th>column_5</th>\n",
       "      <th>column_6</th>\n",
       "    </tr>\n",
       "  </thead>\n",
       "  <tbody>\n",
       "    <tr>\n",
       "      <th>1</th>\n",
       "      <td>0.945916</td>\n",
       "      <td>0.147849</td>\n",
       "      <td>0.827100</td>\n",
       "      <td>0.989795</td>\n",
       "      <td>0.306548</td>\n",
       "      <td>0.516464</td>\n",
       "    </tr>\n",
       "    <tr>\n",
       "      <th>2</th>\n",
       "      <td>0.132754</td>\n",
       "      <td>0.240911</td>\n",
       "      <td>0.612191</td>\n",
       "      <td>0.716993</td>\n",
       "      <td>0.784992</td>\n",
       "      <td>0.229394</td>\n",
       "    </tr>\n",
       "    <tr>\n",
       "      <th>3</th>\n",
       "      <td>0.265798</td>\n",
       "      <td>0.336899</td>\n",
       "      <td>0.898173</td>\n",
       "      <td>0.775464</td>\n",
       "      <td>0.609711</td>\n",
       "      <td>0.072037</td>\n",
       "    </tr>\n",
       "    <tr>\n",
       "      <th>4</th>\n",
       "      <td>0.032749</td>\n",
       "      <td>0.362606</td>\n",
       "      <td>0.200667</td>\n",
       "      <td>0.331942</td>\n",
       "      <td>0.668250</td>\n",
       "      <td>0.125248</td>\n",
       "    </tr>\n",
       "    <tr>\n",
       "      <th>5</th>\n",
       "      <td>0.450534</td>\n",
       "      <td>0.505613</td>\n",
       "      <td>0.422768</td>\n",
       "      <td>0.556811</td>\n",
       "      <td>0.087988</td>\n",
       "      <td>0.901227</td>\n",
       "    </tr>\n",
       "    <tr>\n",
       "      <th>6</th>\n",
       "      <td>0.567016</td>\n",
       "      <td>0.194573</td>\n",
       "      <td>0.751008</td>\n",
       "      <td>0.952512</td>\n",
       "      <td>0.979954</td>\n",
       "      <td>0.872463</td>\n",
       "    </tr>\n",
       "  </tbody>\n",
       "</table>\n",
       "</div>"
      ],
      "text/plain": [
       "   column_1  column_2  column_3  column_4  column_5  column_6\n",
       "1  0.945916  0.147849  0.827100  0.989795  0.306548  0.516464\n",
       "2  0.132754  0.240911  0.612191  0.716993  0.784992  0.229394\n",
       "3  0.265798  0.336899  0.898173  0.775464  0.609711  0.072037\n",
       "4  0.032749  0.362606  0.200667  0.331942  0.668250  0.125248\n",
       "5  0.450534  0.505613  0.422768  0.556811  0.087988  0.901227\n",
       "6  0.567016  0.194573  0.751008  0.952512  0.979954  0.872463"
      ]
     },
     "execution_count": 11,
     "metadata": {},
     "output_type": "execute_result"
    }
   ],
   "source": [
    "df1 "
   ]
  },
  {
   "cell_type": "code",
   "execution_count": null,
   "id": "91fea4da-7614-4e4c-acbb-4345ad4baf49",
   "metadata": {},
   "outputs": [],
   "source": []
  },
  {
   "cell_type": "markdown",
   "id": "407ad6d6-e3a4-4ea5-82cb-f07130fd4d4b",
   "metadata": {},
   "source": [
    "Q4. Write a code to find the following statistical measurements for the above dataframe df1:\n",
    "\n",
    "(i) \tmean of each and every column present in the dataframe.\n",
    "\n",
    "(ii) standard deviation of column, ‘column_2'."
   ]
  },
  {
   "cell_type": "code",
   "execution_count": 12,
   "id": "ee9d9cac-e18c-43d8-99c5-78041792acc2",
   "metadata": {},
   "outputs": [
    {
     "data": {
      "text/plain": [
       "column_1    0.399128\n",
       "column_2    0.298075\n",
       "column_3    0.618651\n",
       "column_4    0.720586\n",
       "column_5    0.572907\n",
       "column_6    0.452805\n",
       "dtype: float64"
      ]
     },
     "execution_count": 12,
     "metadata": {},
     "output_type": "execute_result"
    }
   ],
   "source": [
    "df1.mean()"
   ]
  },
  {
   "cell_type": "code",
   "execution_count": 13,
   "id": "60e53798-4b41-4b3b-8811-b6a18e35cf7b",
   "metadata": {},
   "outputs": [
    {
     "data": {
      "text/plain": [
       "0.13060775042315942"
      ]
     },
     "execution_count": 13,
     "metadata": {},
     "output_type": "execute_result"
    }
   ],
   "source": [
    "df1['column_2'].std()"
   ]
  },
  {
   "cell_type": "code",
   "execution_count": null,
   "id": "7c5f3eb9-7b57-4f6a-ae51-e3ecec199dc6",
   "metadata": {},
   "outputs": [],
   "source": []
  },
  {
   "cell_type": "markdown",
   "id": "7aec809c-c61f-4d0b-8c12-4ac478f78e2c",
   "metadata": {},
   "source": [
    "Q5. Replace the data present in the second row of column, ‘column_2’ by a string variable then find the \n",
    "mean of column, column_2.\n",
    "\n",
    "If you are getting errors in executing it then explain why.\n",
    "\n",
    "[Hint: To replace the data use df1.loc[] and equate this to string data of your choice.]"
   ]
  },
  {
   "cell_type": "code",
   "execution_count": 14,
   "id": "5df0f5c8-bf15-453a-88e1-bb9594e1784b",
   "metadata": {},
   "outputs": [],
   "source": [
    "df1['column_2'][2]='column'"
   ]
  },
  {
   "cell_type": "code",
   "execution_count": 15,
   "id": "28562335-34a7-4c3d-9b1a-505851095591",
   "metadata": {},
   "outputs": [
    {
     "data": {
      "text/html": [
       "<div>\n",
       "<style scoped>\n",
       "    .dataframe tbody tr th:only-of-type {\n",
       "        vertical-align: middle;\n",
       "    }\n",
       "\n",
       "    .dataframe tbody tr th {\n",
       "        vertical-align: top;\n",
       "    }\n",
       "\n",
       "    .dataframe thead th {\n",
       "        text-align: right;\n",
       "    }\n",
       "</style>\n",
       "<table border=\"1\" class=\"dataframe\">\n",
       "  <thead>\n",
       "    <tr style=\"text-align: right;\">\n",
       "      <th></th>\n",
       "      <th>column_1</th>\n",
       "      <th>column_2</th>\n",
       "      <th>column_3</th>\n",
       "      <th>column_4</th>\n",
       "      <th>column_5</th>\n",
       "      <th>column_6</th>\n",
       "    </tr>\n",
       "  </thead>\n",
       "  <tbody>\n",
       "    <tr>\n",
       "      <th>1</th>\n",
       "      <td>0.945916</td>\n",
       "      <td>0.147849</td>\n",
       "      <td>0.827100</td>\n",
       "      <td>0.989795</td>\n",
       "      <td>0.306548</td>\n",
       "      <td>0.516464</td>\n",
       "    </tr>\n",
       "    <tr>\n",
       "      <th>2</th>\n",
       "      <td>0.132754</td>\n",
       "      <td>column</td>\n",
       "      <td>0.612191</td>\n",
       "      <td>0.716993</td>\n",
       "      <td>0.784992</td>\n",
       "      <td>0.229394</td>\n",
       "    </tr>\n",
       "    <tr>\n",
       "      <th>3</th>\n",
       "      <td>0.265798</td>\n",
       "      <td>0.336899</td>\n",
       "      <td>0.898173</td>\n",
       "      <td>0.775464</td>\n",
       "      <td>0.609711</td>\n",
       "      <td>0.072037</td>\n",
       "    </tr>\n",
       "    <tr>\n",
       "      <th>4</th>\n",
       "      <td>0.032749</td>\n",
       "      <td>0.362606</td>\n",
       "      <td>0.200667</td>\n",
       "      <td>0.331942</td>\n",
       "      <td>0.668250</td>\n",
       "      <td>0.125248</td>\n",
       "    </tr>\n",
       "    <tr>\n",
       "      <th>5</th>\n",
       "      <td>0.450534</td>\n",
       "      <td>0.505613</td>\n",
       "      <td>0.422768</td>\n",
       "      <td>0.556811</td>\n",
       "      <td>0.087988</td>\n",
       "      <td>0.901227</td>\n",
       "    </tr>\n",
       "    <tr>\n",
       "      <th>6</th>\n",
       "      <td>0.567016</td>\n",
       "      <td>0.194573</td>\n",
       "      <td>0.751008</td>\n",
       "      <td>0.952512</td>\n",
       "      <td>0.979954</td>\n",
       "      <td>0.872463</td>\n",
       "    </tr>\n",
       "  </tbody>\n",
       "</table>\n",
       "</div>"
      ],
      "text/plain": [
       "   column_1  column_2  column_3  column_4  column_5  column_6\n",
       "1  0.945916  0.147849  0.827100  0.989795  0.306548  0.516464\n",
       "2  0.132754    column  0.612191  0.716993  0.784992  0.229394\n",
       "3  0.265798  0.336899  0.898173  0.775464  0.609711  0.072037\n",
       "4  0.032749  0.362606  0.200667  0.331942  0.668250  0.125248\n",
       "5  0.450534  0.505613  0.422768  0.556811  0.087988  0.901227\n",
       "6  0.567016  0.194573  0.751008  0.952512  0.979954  0.872463"
      ]
     },
     "execution_count": 15,
     "metadata": {},
     "output_type": "execute_result"
    }
   ],
   "source": [
    "df1"
   ]
  },
  {
   "cell_type": "code",
   "execution_count": 16,
   "id": "fd756acb-7cb3-41df-b25a-37e439a5a0c8",
   "metadata": {},
   "outputs": [],
   "source": [
    "df1.loc[[2],'column_2']='singh'"
   ]
  },
  {
   "cell_type": "code",
   "execution_count": 17,
   "id": "5bfbd75f-5d56-4dd4-9534-fd5a9777da25",
   "metadata": {},
   "outputs": [
    {
     "data": {
      "text/html": [
       "<div>\n",
       "<style scoped>\n",
       "    .dataframe tbody tr th:only-of-type {\n",
       "        vertical-align: middle;\n",
       "    }\n",
       "\n",
       "    .dataframe tbody tr th {\n",
       "        vertical-align: top;\n",
       "    }\n",
       "\n",
       "    .dataframe thead th {\n",
       "        text-align: right;\n",
       "    }\n",
       "</style>\n",
       "<table border=\"1\" class=\"dataframe\">\n",
       "  <thead>\n",
       "    <tr style=\"text-align: right;\">\n",
       "      <th></th>\n",
       "      <th>column_1</th>\n",
       "      <th>column_2</th>\n",
       "      <th>column_3</th>\n",
       "      <th>column_4</th>\n",
       "      <th>column_5</th>\n",
       "      <th>column_6</th>\n",
       "    </tr>\n",
       "  </thead>\n",
       "  <tbody>\n",
       "    <tr>\n",
       "      <th>1</th>\n",
       "      <td>0.945916</td>\n",
       "      <td>0.147849</td>\n",
       "      <td>0.827100</td>\n",
       "      <td>0.989795</td>\n",
       "      <td>0.306548</td>\n",
       "      <td>0.516464</td>\n",
       "    </tr>\n",
       "    <tr>\n",
       "      <th>2</th>\n",
       "      <td>0.132754</td>\n",
       "      <td>singh</td>\n",
       "      <td>0.612191</td>\n",
       "      <td>0.716993</td>\n",
       "      <td>0.784992</td>\n",
       "      <td>0.229394</td>\n",
       "    </tr>\n",
       "    <tr>\n",
       "      <th>3</th>\n",
       "      <td>0.265798</td>\n",
       "      <td>0.336899</td>\n",
       "      <td>0.898173</td>\n",
       "      <td>0.775464</td>\n",
       "      <td>0.609711</td>\n",
       "      <td>0.072037</td>\n",
       "    </tr>\n",
       "    <tr>\n",
       "      <th>4</th>\n",
       "      <td>0.032749</td>\n",
       "      <td>0.362606</td>\n",
       "      <td>0.200667</td>\n",
       "      <td>0.331942</td>\n",
       "      <td>0.668250</td>\n",
       "      <td>0.125248</td>\n",
       "    </tr>\n",
       "    <tr>\n",
       "      <th>5</th>\n",
       "      <td>0.450534</td>\n",
       "      <td>0.505613</td>\n",
       "      <td>0.422768</td>\n",
       "      <td>0.556811</td>\n",
       "      <td>0.087988</td>\n",
       "      <td>0.901227</td>\n",
       "    </tr>\n",
       "    <tr>\n",
       "      <th>6</th>\n",
       "      <td>0.567016</td>\n",
       "      <td>0.194573</td>\n",
       "      <td>0.751008</td>\n",
       "      <td>0.952512</td>\n",
       "      <td>0.979954</td>\n",
       "      <td>0.872463</td>\n",
       "    </tr>\n",
       "  </tbody>\n",
       "</table>\n",
       "</div>"
      ],
      "text/plain": [
       "   column_1  column_2  column_3  column_4  column_5  column_6\n",
       "1  0.945916  0.147849  0.827100  0.989795  0.306548  0.516464\n",
       "2  0.132754     singh  0.612191  0.716993  0.784992  0.229394\n",
       "3  0.265798  0.336899  0.898173  0.775464  0.609711  0.072037\n",
       "4  0.032749  0.362606  0.200667  0.331942  0.668250  0.125248\n",
       "5  0.450534  0.505613  0.422768  0.556811  0.087988  0.901227\n",
       "6  0.567016  0.194573  0.751008  0.952512  0.979954  0.872463"
      ]
     },
     "execution_count": 17,
     "metadata": {},
     "output_type": "execute_result"
    }
   ],
   "source": [
    "df1"
   ]
  },
  {
   "cell_type": "markdown",
   "id": "ce2dbaa0-d6af-4754-b99d-5c8859e53567",
   "metadata": {},
   "source": [
    "IT IS SHOWING ERROR WHEN WE FIND MEAN OF COLUMN_2 BEACAUSE THIS COLUMN CONTAIN\n",
    "STRING VALUE WITH FLOAT VALUES AND WE KNOW THAT WE CANT FIND MEAN OF STRING VALUE."
   ]
  },
  {
   "cell_type": "code",
   "execution_count": null,
   "id": "24a7d606-66df-499c-b90e-e70b26c713ed",
   "metadata": {},
   "outputs": [],
   "source": []
  },
  {
   "cell_type": "markdown",
   "id": "ec117ce7-01b5-4e12-9106-1895b6e3139c",
   "metadata": {},
   "source": [
    "Q6. What do you understand about the windows function in pandas and list the types of windows \n",
    "functions?"
   ]
  },
  {
   "cell_type": "code",
   "execution_count": null,
   "id": "9c338d3f-abd3-4509-91b9-9b3d167a8511",
   "metadata": {},
   "outputs": [],
   "source": []
  },
  {
   "cell_type": "markdown",
   "id": "96beb2d6-6c51-4d65-9d7a-b1401fbec400",
   "metadata": {},
   "source": [
    "Q7. Write a code to print only the current month and year at the time of answering this question."
   ]
  },
  {
   "cell_type": "code",
   "execution_count": 18,
   "id": "f953e923-f47c-4766-8661-fbbcdecbfb1d",
   "metadata": {},
   "outputs": [],
   "source": [
    "import pandas as pd\n",
    "a=pd.date_range(start='2023-03-18',end='2023-03-18')"
   ]
  },
  {
   "cell_type": "code",
   "execution_count": 19,
   "id": "bc2f47ac-45cf-49ea-a06f-c7e81aa60a47",
   "metadata": {},
   "outputs": [],
   "source": [
    "b=pd.DataFrame({'date':a})"
   ]
  },
  {
   "cell_type": "code",
   "execution_count": 20,
   "id": "af308ea6-9d2a-4946-a28e-fb2f62370566",
   "metadata": {},
   "outputs": [],
   "source": [
    "b['year']=b['date'].dt.year\n",
    "b['months']=b['date'].dt.month"
   ]
  },
  {
   "cell_type": "code",
   "execution_count": 21,
   "id": "0cbbe6eb-193f-4e3b-94c4-a77e6c3654ed",
   "metadata": {},
   "outputs": [
    {
     "data": {
      "text/html": [
       "<div>\n",
       "<style scoped>\n",
       "    .dataframe tbody tr th:only-of-type {\n",
       "        vertical-align: middle;\n",
       "    }\n",
       "\n",
       "    .dataframe tbody tr th {\n",
       "        vertical-align: top;\n",
       "    }\n",
       "\n",
       "    .dataframe thead th {\n",
       "        text-align: right;\n",
       "    }\n",
       "</style>\n",
       "<table border=\"1\" class=\"dataframe\">\n",
       "  <thead>\n",
       "    <tr style=\"text-align: right;\">\n",
       "      <th></th>\n",
       "      <th>date</th>\n",
       "      <th>year</th>\n",
       "      <th>months</th>\n",
       "    </tr>\n",
       "  </thead>\n",
       "  <tbody>\n",
       "    <tr>\n",
       "      <th>0</th>\n",
       "      <td>2023-03-18</td>\n",
       "      <td>2023</td>\n",
       "      <td>3</td>\n",
       "    </tr>\n",
       "  </tbody>\n",
       "</table>\n",
       "</div>"
      ],
      "text/plain": [
       "        date  year  months\n",
       "0 2023-03-18  2023       3"
      ]
     },
     "execution_count": 21,
     "metadata": {},
     "output_type": "execute_result"
    }
   ],
   "source": [
    "b"
   ]
  },
  {
   "cell_type": "code",
   "execution_count": null,
   "id": "bdd90396-d4c7-4778-8931-0b1bdb4c99fa",
   "metadata": {},
   "outputs": [],
   "source": []
  },
  {
   "cell_type": "markdown",
   "id": "830f93e6-402c-475d-bdf9-2dd8bc251b50",
   "metadata": {},
   "source": [
    "Q8. Write a Python program that takes in two dates as input (in the format YYYY-MM-DD) and \n",
    "calculates the difference between them in days, hours, and minutes using Pandas time delta. The \n",
    "program should prompt the user to enter the dates and display the result"
   ]
  },
  {
   "cell_type": "code",
   "execution_count": 22,
   "id": "64fa6579-6faf-4a30-8c92-7bb0b4b9e2b5",
   "metadata": {},
   "outputs": [
    {
     "name": "stdin",
     "output_type": "stream",
     "text": [
      " 2023-01-25\n",
      " 2023-01-28\n"
     ]
    }
   ],
   "source": [
    "a=input('')\n",
    "b=input('')"
   ]
  },
  {
   "cell_type": "code",
   "execution_count": 23,
   "id": "d00f4e4a-326f-4c3b-bca8-1b9d7b703626",
   "metadata": {},
   "outputs": [],
   "source": [
    "c=a.split('-')\n",
    "d=b.split('-')\n",
    "\n",
    "import pandas as pd"
   ]
  },
  {
   "cell_type": "code",
   "execution_count": 24,
   "id": "6419f058-6303-4224-b787-3863b082be48",
   "metadata": {},
   "outputs": [],
   "source": [
    "years=int(d[0])-int(c[0])\n",
    "months=int(d[1])-int(c[1])\n",
    "dayss=int(d[2])-int(c[2])"
   ]
  },
  {
   "cell_type": "code",
   "execution_count": 25,
   "id": "26c78cc8-9ca7-4d5d-b132-a79752607d79",
   "metadata": {},
   "outputs": [
    {
     "data": {
      "text/plain": [
       "Timedelta('3 days 00:00:00')"
      ]
     },
     "execution_count": 25,
     "metadata": {},
     "output_type": "execute_result"
    }
   ],
   "source": [
    "b=pd.Timedelta(days=dayss)\n",
    "b"
   ]
  },
  {
   "cell_type": "code",
   "execution_count": null,
   "id": "33a2bac4-cdca-4fb8-94a2-bbe856f560b3",
   "metadata": {},
   "outputs": [],
   "source": []
  },
  {
   "cell_type": "markdown",
   "id": "07416cdf-b99e-443d-a751-60ed6b7b1f88",
   "metadata": {},
   "source": [
    "Q9. Write a Python program that reads a CSV file containing categorical data and converts a specified \n",
    "column to a categorical data type. The program should prompt the user to enter the file path, column \n",
    "name, and category order, and then display the sorted data."
   ]
  },
  {
   "cell_type": "code",
   "execution_count": null,
   "id": "40058788-3e88-424c-9f19-ca10921be4bb",
   "metadata": {},
   "outputs": [],
   "source": []
  },
  {
   "cell_type": "code",
   "execution_count": null,
   "id": "d7889d9c-969a-429b-b034-6fee199548c8",
   "metadata": {},
   "outputs": [],
   "source": []
  },
  {
   "cell_type": "code",
   "execution_count": null,
   "id": "a8a5b8ac-5726-45da-b9b0-3bf4f40ce227",
   "metadata": {},
   "outputs": [],
   "source": []
  }
 ],
 "metadata": {
  "kernelspec": {
   "display_name": "Python 3 (ipykernel)",
   "language": "python",
   "name": "python3"
  },
  "language_info": {
   "codemirror_mode": {
    "name": "ipython",
    "version": 3
   },
   "file_extension": ".py",
   "mimetype": "text/x-python",
   "name": "python",
   "nbconvert_exporter": "python",
   "pygments_lexer": "ipython3",
   "version": "3.10.8"
  }
 },
 "nbformat": 4,
 "nbformat_minor": 5
}
