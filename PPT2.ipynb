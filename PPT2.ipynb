{
 "cells": [
  {
   "cell_type": "markdown",
   "id": "2db85919-7464-40f7-bc68-4ac0cd7270cb",
   "metadata": {},
   "source": [
    "<aside>\n",
    "💡 **Question 1**\n",
    "Given an integer array nums of 2n integers, group these integers into n pairs (a1, b1), (a2, b2),..., (an, bn) such that the sum of min(ai, bi) for all i is maximized. Return the maximized sum.\n",
    "\n",
    "**Example 1:**\n",
    "Input: nums = [1,4,3,2]\n",
    "Output: 4\n",
    "\n",
    "**Explanation:** All possible pairings (ignoring the ordering of elements) are:\n",
    "\n",
    "1. (1, 4), (2, 3) -> min(1, 4) + min(2, 3) = 1 + 2 = 3\n",
    "2. (1, 3), (2, 4) -> min(1, 3) + min(2, 4) = 1 + 2 = 3\n",
    "3. (1, 2), (3, 4) -> min(1, 2) + min(3, 4) = 1 + 3 = 4\n",
    "So the maximum possible sum is 4\n",
    "</aside>"
   ]
  },
  {
   "cell_type": "code",
   "execution_count": 1,
   "id": "9819d5e1-7e41-45e4-885d-d92759dba8d7",
   "metadata": {},
   "outputs": [
    {
     "data": {
      "text/plain": [
       "5"
      ]
     },
     "execution_count": 1,
     "metadata": {},
     "output_type": "execute_result"
    }
   ],
   "source": [
    "def maxsum(nums):\n",
    "    l=[]\n",
    "    for i in range(len(nums)-1):\n",
    "        for j in range(i+1,len(nums)):\n",
    "            l.append((nums[i],nums[j]))\n",
    "    j=0\n",
    "    p=[]\n",
    "    for i in range(len(l)-1):\n",
    "        j=j+1\n",
    "        p.append(min(l[i])+min(l[j]))\n",
    "    return max(p)\n",
    "nums = [1,4,3,2] \n",
    "maxsum(nums)"
   ]
  },
  {
   "cell_type": "code",
   "execution_count": null,
   "id": "c7413fde-e31a-45b2-8fa5-901d1bc1ed7b",
   "metadata": {},
   "outputs": [],
   "source": []
  },
  {
   "cell_type": "markdown",
   "id": "123f0c81-1c8c-436f-b07b-1ee291058e7a",
   "metadata": {},
   "source": [
    "Question 2\n",
    "Alice has n candies, where the ith candy is of type candyType[i]. Alice noticed that she started to gain weight, so she visited a doctor. \n",
    "\n",
    "The doctor advised Alice to only eat n / 2 of the candies she has (n is always even). Alice likes her candies very much, and she wants to eat the maximum number of different types of candies while still following the doctor's advice. \n",
    "\n",
    "Given the integer array candyType of length n, return the maximum number of different types of candies she can eat if she only eats n / 2 of them.\n",
    "\n",
    "Example 1:\n",
    "Input: candyType = [1,1,2,2,3,3]\n",
    "Output: 3\n",
    "\n",
    "Explanation: Alice can only eat 6 / 2 = 3 candies. Since there are only 3 types, she can eat one of each type."
   ]
  },
  {
   "cell_type": "code",
   "execution_count": 2,
   "id": "388c69cc-4ac4-401d-a0a7-727c114fd48e",
   "metadata": {},
   "outputs": [
    {
     "name": "stdout",
     "output_type": "stream",
     "text": [
      "3\n"
     ]
    }
   ],
   "source": [
    "def maxcandy(candyType):\n",
    "    c=1\n",
    "    m=set(candyType)\n",
    "    print(len(m))\n",
    "candyType = [1,1,2,2,3,3]\n",
    "maxcandy(candyType)\n",
    "    "
   ]
  },
  {
   "cell_type": "code",
   "execution_count": null,
   "id": "96ec832c-b413-4a96-b1d4-cb0daf1f3c5e",
   "metadata": {},
   "outputs": [],
   "source": []
  },
  {
   "cell_type": "markdown",
   "id": "c9e90022-a404-4843-ac92-6c15958ccbaf",
   "metadata": {},
   "source": [
    "Question 3\n",
    "We define a harmonious array as an array where the difference between its maximum value\n",
    "and its minimum value is exactly 1.\n",
    "\n",
    "Given an integer array nums, return the length of its longest harmonious subsequence\n",
    "among all its possible subsequences.\n",
    "\n",
    "A subsequence of an array is a sequence that can be derived from the array by deleting some or no elements without changing the order of the remaining elements.\n",
    "\n",
    "Example 1:\n",
    "Input: nums = [1,3,2,2,5,2,3,7]\n",
    "Output: 5\n",
    "\n",
    "Explanation: The longest harmonious subsequence is [3,2,2,2,3]."
   ]
  },
  {
   "cell_type": "code",
   "execution_count": 3,
   "id": "913342d8-080f-469d-abb3-93a679dc58e2",
   "metadata": {},
   "outputs": [
    {
     "name": "stdout",
     "output_type": "stream",
     "text": [
      "5\n"
     ]
    }
   ],
   "source": [
    "def findLHS(nums):\n",
    "    freqMap = {}\n",
    "    for num in nums:\n",
    "        if num in freqMap:\n",
    "            freqMap[num] += 1\n",
    "        else:\n",
    "            freqMap[num] = 1\n",
    "    \n",
    "    maxLen = 0\n",
    "    for num in freqMap:\n",
    "        if num + 1 in freqMap:\n",
    "            combinedFreq = freqMap[num] + freqMap[num + 1]\n",
    "            maxLen = max(maxLen, combinedFreq)\n",
    "    \n",
    "    return maxLen\n",
    "\n",
    "nums = [1,3,2,2,5,2,3,7]\n",
    "result = findLHS(nums)\n",
    "print(result)"
   ]
  },
  {
   "cell_type": "code",
   "execution_count": null,
   "id": "9a802f66-cec8-45f1-bf25-c0777584e64f",
   "metadata": {},
   "outputs": [],
   "source": []
  },
  {
   "cell_type": "markdown",
   "id": "5f619a53-ec32-46dc-9fbf-a00a49dc4ab7",
   "metadata": {},
   "source": [
    "Question 4\n",
    "You have a long flowerbed in which some of the plots are planted, and some are not.\n",
    "However, flowers cannot be planted in adjacent plots.\n",
    "Given an integer array flowerbed containing 0's and 1's, where 0 means empty and 1 means not empty, and an integer n, return true if n new flowers can be planted in the flowerbed without violating the no-adjacent-flowers rule and false otherwise.\n",
    "\n",
    "Example 1:\n",
    "Input: flowerbed = [1,0,0,0,1], n = 1\n",
    "Output: true"
   ]
  },
  {
   "cell_type": "code",
   "execution_count": 76,
   "id": "c4c3fd3c-168b-45ac-9428-2d322aec52ba",
   "metadata": {},
   "outputs": [
    {
     "name": "stdout",
     "output_type": "stream",
     "text": [
      "True\n"
     ]
    }
   ],
   "source": [
    "def canPlaceFlowers(flowerbed, n):\n",
    "    count = 0\n",
    "    paddedBed = [0] + flowerbed + [0]\n",
    "\n",
    "    for i in range(1, len(paddedBed) - 1):\n",
    "        if paddedBed[i] == paddedBed[i - 1] == paddedBed[i + 1] == 0:\n",
    "            count += 1\n",
    "            paddedBed[i] = 1\n",
    "\n",
    "    return count >= n\n",
    "flowerbed = [1, 0, 0, 0, 1]\n",
    "n = 1\n",
    "result = canPlaceFlowers(flowerbed, n)\n",
    "print(result)"
   ]
  },
  {
   "cell_type": "code",
   "execution_count": null,
   "id": "2697c2e8-33b3-406f-b360-5fb5097b885d",
   "metadata": {},
   "outputs": [],
   "source": []
  },
  {
   "cell_type": "markdown",
   "id": "8c7f0a38-48f5-4fc7-8d8e-10e8fa446111",
   "metadata": {},
   "source": [
    "Question 5\n",
    "Given an integer array nums, find three numbers whose product is maximum and return the maximum product.\n",
    "\n",
    "Example 1:\n",
    "Input: nums = [1,2,3]\n",
    "Output: 6"
   ]
  },
  {
   "cell_type": "code",
   "execution_count": 40,
   "id": "20681fa8-eb4c-4f2c-a9c9-6a1acccf007d",
   "metadata": {},
   "outputs": [
    {
     "name": "stdout",
     "output_type": "stream",
     "text": [
      "(2, 3)\n"
     ]
    }
   ],
   "source": [
    "nums = [1,2,3]\n",
    "p=[]\n",
    "for i in range(len(nums)):\n",
    "    for j in range(i+1,len(nums)):\n",
    "        p.append((nums[i],nums[j],nums[i]*nums[j]))\n",
    "print(max(p)[0:2])"
   ]
  },
  {
   "cell_type": "code",
   "execution_count": null,
   "id": "e6cf1c22-5901-40f4-bd16-7b322072a87c",
   "metadata": {},
   "outputs": [],
   "source": []
  },
  {
   "cell_type": "markdown",
   "id": "2570d0b1-2892-4ecd-8a84-6ecb85eac87b",
   "metadata": {},
   "source": [
    "Question 6\n",
    "Given an array of integers nums which is sorted in ascending order, and an integer target,\n",
    "write a function to search target in nums. If target exists, then return its index. Otherwise,\n",
    "return -1.\n",
    "\n",
    "You must write an algorithm with O(log n) runtime complexity.\n",
    "\n",
    "Input: nums = [-1,0,3,5,9,12], target = 9\n",
    "Output: 4\n",
    "\n",
    "Explanation: 9 exists in nums and its index is 4"
   ]
  },
  {
   "cell_type": "code",
   "execution_count": 7,
   "id": "87acb352-999e-4859-b426-275f4510f9bd",
   "metadata": {},
   "outputs": [
    {
     "name": "stdout",
     "output_type": "stream",
     "text": [
      "4\n"
     ]
    }
   ],
   "source": [
    "def findindex(nums,target):\n",
    "    if(target in nums):\n",
    "        print(nums.index(target))\n",
    "    else:\n",
    "        print(-1)\n",
    "nums = [-1,0,3,5,9,12]\n",
    "target=9\n",
    "findindex(nums,target)"
   ]
  },
  {
   "cell_type": "code",
   "execution_count": null,
   "id": "407ed587-2c2b-4854-8670-959117e679c5",
   "metadata": {},
   "outputs": [],
   "source": []
  },
  {
   "cell_type": "markdown",
   "id": "8ff937a3-4d7b-49d8-956b-6b3aab27eb46",
   "metadata": {},
   "source": [
    "Question 7\n",
    "An array is monotonic if it is either monotone increasing or monotone decreasing.\n",
    "\n",
    "An array nums is monotone increasing if for all i <= j, nums[i] <= nums[j]. An array nums is\n",
    "monotone decreasing if for all i <= j, nums[i] >= nums[j].\n",
    "\n",
    "Given an integer array nums, return true if the given array is monotonic, or false otherwise.\n",
    "\n",
    "Example 1:\n",
    "Input: nums = [1,2,2,3]\n",
    "Output: true"
   ]
  },
  {
   "cell_type": "code",
   "execution_count": 73,
   "id": "d951235d-742a-4622-8a98-cb28129e22f9",
   "metadata": {},
   "outputs": [
    {
     "data": {
      "text/plain": [
       "True"
      ]
     },
     "execution_count": 73,
     "metadata": {},
     "output_type": "execute_result"
    }
   ],
   "source": [
    "def har(nums):\n",
    "    for i in range(len(nums)-1):\n",
    "        if(nums[i+1]>=nums[i]):\n",
    "            p=True\n",
    "        else:\n",
    "            p=False\n",
    "            break\n",
    "    return p\n",
    "nums = [1,2,2,3]\n",
    "har(nums)"
   ]
  },
  {
   "cell_type": "code",
   "execution_count": null,
   "id": "31382e04-d477-47c7-a0f8-635cf917bf81",
   "metadata": {},
   "outputs": [],
   "source": []
  },
  {
   "cell_type": "markdown",
   "id": "4705fd01-4867-48e5-9d50-2fd48a25f39e",
   "metadata": {},
   "source": [
    "Question 8\n",
    "You are given an integer array nums and an integer k.\n",
    "\n",
    "In one operation, you can choose any index i where 0 <= i < nums.length and change nums[i] to nums[i] + x where x is an integer from the range [-k, k]. You can apply this operation at most once for each index i.\n",
    "\n",
    "The score of nums is the difference between the maximum and minimum elements in nums.\n",
    "\n",
    "Return the minimum score of nums after applying the mentioned operation at most once for each index in it.\n",
    "\n",
    "Example 1:\n",
    "Input: nums = [1], k = 0\n",
    "Output: 0\n",
    "\n",
    "Explanation: The score is max(nums) - min(nums) = 1 - 1 = 0."
   ]
  },
  {
   "cell_type": "code",
   "execution_count": 69,
   "id": "57005707-c037-44b6-8b4c-cd904d5dc916",
   "metadata": {},
   "outputs": [
    {
     "name": "stdout",
     "output_type": "stream",
     "text": [
      "1\n"
     ]
    }
   ],
   "source": [
    "def erp(nums,k):\n",
    "    p=nums[0:k]\n",
    "    print(max(p) - min(p))\n",
    "erp(nums,k)"
   ]
  },
  {
   "cell_type": "code",
   "execution_count": null,
   "id": "2cc77da5-fe35-454e-a305-c064848a90bc",
   "metadata": {},
   "outputs": [],
   "source": []
  },
  {
   "cell_type": "code",
   "execution_count": null,
   "id": "ba174dfc-f4c7-452f-9655-275131d84f6e",
   "metadata": {},
   "outputs": [],
   "source": []
  }
 ],
 "metadata": {
  "kernelspec": {
   "display_name": "Python 3 (ipykernel)",
   "language": "python",
   "name": "python3"
  },
  "language_info": {
   "codemirror_mode": {
    "name": "ipython",
    "version": 3
   },
   "file_extension": ".py",
   "mimetype": "text/x-python",
   "name": "python",
   "nbconvert_exporter": "python",
   "pygments_lexer": "ipython3",
   "version": "3.10.8"
  }
 },
 "nbformat": 4,
 "nbformat_minor": 5
}
