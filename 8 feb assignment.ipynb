{
 "cells": [
  {
   "cell_type": "markdown",
   "id": "814e7868-1070-4083-9578-533f99fd2ed3",
   "metadata": {},
   "source": [
    "Sol (1):-Abstraction is the process of hiding the main class skeleton and when we create new class then these new class inherit the parent or main class skeleton functions."
   ]
  },
  {
   "cell_type": "code",
   "execution_count": 21,
   "id": "7ba1230e-e3ea-4de3-9a7b-d94145b2aec7",
   "metadata": {},
   "outputs": [],
   "source": [
    "#EXAMPLE:-\n",
    "import abc\n",
    "class first:\n",
    "    @abc.abstractmethod\n",
    "    def name(self):\n",
    "        pass\n",
    "    @abc.abstractmethod\n",
    "    def _class(self):\n",
    "        pass\n",
    "    @abc.abstractmethod\n",
    "    def roll(self):\n",
    "        pass\n",
    "        "
   ]
  },
  {
   "cell_type": "code",
   "execution_count": 22,
   "id": "41d50dea-43a0-4c47-9b82-948ea3912005",
   "metadata": {},
   "outputs": [],
   "source": [
    "class tenth(first):\n",
    "    def name(self):\n",
    "        return 'hhii'\n",
    "    def roll(self):\n",
    "        return '22'"
   ]
  },
  {
   "cell_type": "code",
   "execution_count": 23,
   "id": "0c4bc30c-ce43-49c2-98c6-f5555a28a08d",
   "metadata": {},
   "outputs": [],
   "source": [
    "class master(first):\n",
    "    def name(self):\n",
    "        return 'hello'\n",
    "    def _class(self):\n",
    "        return '12'\n"
   ]
  },
  {
   "cell_type": "code",
   "execution_count": 24,
   "id": "972bcd31-98d4-48ee-b3e6-5c0a929a7f02",
   "metadata": {},
   "outputs": [],
   "source": [
    "a=master()"
   ]
  },
  {
   "cell_type": "code",
   "execution_count": 25,
   "id": "f66a586b-c76e-4d4a-84cc-e4f56f812761",
   "metadata": {},
   "outputs": [
    {
     "data": {
      "text/plain": [
       "'hello'"
      ]
     },
     "execution_count": 25,
     "metadata": {},
     "output_type": "execute_result"
    }
   ],
   "source": [
    "a.name()"
   ]
  },
  {
   "cell_type": "code",
   "execution_count": 26,
   "id": "4d87315f-a8ea-41cc-a20c-c31b3e0eccdc",
   "metadata": {},
   "outputs": [
    {
     "data": {
      "text/plain": [
       "'12'"
      ]
     },
     "execution_count": 26,
     "metadata": {},
     "output_type": "execute_result"
    }
   ],
   "source": [
    "a._class()"
   ]
  },
  {
   "cell_type": "code",
   "execution_count": null,
   "id": "11d744d3-72b4-451c-afb5-754bf75f0d55",
   "metadata": {},
   "outputs": [],
   "source": []
  },
  {
   "cell_type": "markdown",
   "id": "7523a2ef-94f6-4fc3-9128-293e906c07b8",
   "metadata": {},
   "source": [
    "Sol(2):-Abstraction is the process of hiding the main class skeleton and when we create new class then these new class inherit the parent or main class skeleton functions.\n",
    "\n",
    "Encapsulation is the component of oops language and it is used to hide the variable present in the function inside the class and when we call that class by using the object variable and when we want to take the value from that object and by using the variable then at the time it will not give any hint and we use double underscore front of the variable present in the class."
   ]
  },
  {
   "cell_type": "markdown",
   "id": "87f34f0f-4c2b-4605-aa00-7d9f4c4f317c",
   "metadata": {},
   "source": [
    "Sol(3):-abc module is a module present in the Python which is used in during the abstraction process and it is used with the decorator function.\n",
    "It is used to make the skeleton of class and provide choice in the new class which is present in the main class"
   ]
  },
  {
   "cell_type": "markdown",
   "id": "d80b8211-a8b1-4f02-a55b-179227a676ac",
   "metadata": {},
   "source": [
    "Sol(4):-Abstraction is the process of hiding the main class skeleton and when we create new class then these new class inherit the parent or main class skeleton functions.\n",
    "firstly we have to import abc meodule and after that we need to make the skeleton of the class by using the @abc don't accept method"
   ]
  },
  {
   "cell_type": "code",
   "execution_count": null,
   "id": "cfb3a339-fc63-4a05-97f3-bb5b2dcf3788",
   "metadata": {},
   "outputs": [],
   "source": [
    "Sol(2):-"
   ]
  }
 ],
 "metadata": {
  "kernelspec": {
   "display_name": "Python 3 (ipykernel)",
   "language": "python",
   "name": "python3"
  },
  "language_info": {
   "codemirror_mode": {
    "name": "ipython",
    "version": 3
   },
   "file_extension": ".py",
   "mimetype": "text/x-python",
   "name": "python",
   "nbconvert_exporter": "python",
   "pygments_lexer": "ipython3",
   "version": "3.10.8"
  }
 },
 "nbformat": 4,
 "nbformat_minor": 5
}
