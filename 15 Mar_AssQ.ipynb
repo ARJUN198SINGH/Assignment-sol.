{
 "cells": [
  {
   "cell_type": "markdown",
   "id": "1b4646e5-c063-4fa1-9875-9b0a69c55518",
   "metadata": {},
   "source": [
    "Q1:- Explain the following with an example-\n",
    "\n",
    "a) Artificial Intelligence\n",
    "\n",
    "b) Machine Learning,\n",
    "\n",
    "c) Deep Learning\n",
    "\n",
    "ANS:- (A):-artificial intelligence is the way of doing a work by a machine without the use of human beings.\n",
    "Ex:- self driving cars.\n",
    "\n",
    "(B):-machine learning is the subset of artificial intelligence and it first train by using dataset and then \n",
    "test the model and after checking the accuracy it is used to solve real life problem.\n",
    "Ex:-reccomandation system of netflix\n",
    "\n",
    "(C)deep learning:-deep learning is the subset of artificial intelligence."
   ]
  },
  {
   "cell_type": "code",
   "execution_count": null,
   "id": "afeaf0ff-cdac-4c0c-aa98-e1ad6a078a84",
   "metadata": {},
   "outputs": [],
   "source": []
  },
  {
   "cell_type": "markdown",
   "id": "737caa19-3bd6-4f98-84cf-6f145895dd6a",
   "metadata": {},
   "source": [
    "Q2- What is supervised learning? List some examples of supervised learning.\n",
    "\n",
    "ANS:-supervised learning is the learning which need labeled data and it is of two types i.e. classification and regression.and in this learning we know the output.\n",
    "\n",
    "EX:-study time and playing time decide the student will fail or pass."
   ]
  },
  {
   "cell_type": "code",
   "execution_count": null,
   "id": "7d2d876e-d4e5-4c62-bfa9-b2a357275dfe",
   "metadata": {},
   "outputs": [],
   "source": []
  },
  {
   "cell_type": "markdown",
   "id": "4601b2a6-6832-4a9b-add9-a689e594388d",
   "metadata": {},
   "source": [
    "Q3- What is unsupervised learning? List some examples of unsupervised learning?\n",
    "\n",
    "ANS:-unsupervised learning is the learning we do not know the output.\n",
    "\n",
    "EX:-cluster of peoples in the graph of expenditure and salary."
   ]
  },
  {
   "cell_type": "code",
   "execution_count": null,
   "id": "28b76f46-b4ce-4e44-89fe-25d9b9f5cae1",
   "metadata": {},
   "outputs": [],
   "source": []
  },
  {
   "cell_type": "markdown",
   "id": "27302937-7a94-4896-b15d-21342b19910c",
   "metadata": {},
   "source": [
    "Q4- What is the difference betwen AI, ML, DL, and DS?\n",
    "\n",
    "ANS:-ML AND DL IS THE SUBSET OF AI AND THE COLLECTION OF SUBSET OF AI,DL,ML IS DS."
   ]
  },
  {
   "cell_type": "code",
   "execution_count": null,
   "id": "40c51267-d211-4608-8a64-0b6aa0317ea6",
   "metadata": {},
   "outputs": [],
   "source": []
  },
  {
   "cell_type": "markdown",
   "id": "c56311e3-fbd2-45e3-ab48-5be01169df73",
   "metadata": {},
   "source": [
    "Q5:-What are the main differences betwen supervised, unsupervised, and semi-supervised lKarning?\n",
    "\n",
    "ANS:-Semi supervised learning is the learning which is the combination of supervised and unsupervised learning and on the other hand supervised learning is the learning which need labeled data and it is of two types i.e. classification and regression.and in this learning we know the output.\n",
    "unsupervised learning is the learning we do not know the output."
   ]
  },
  {
   "cell_type": "code",
   "execution_count": null,
   "id": "4b88ee86-6e03-445f-afeb-59843e76b1d6",
   "metadata": {},
   "outputs": [],
   "source": []
  },
  {
   "cell_type": "markdown",
   "id": "0f72806b-0f52-4805-8087-8599bd007294",
   "metadata": {},
   "source": [
    "Q6- What is train, test and validation split? Explain the importance of each term?\n",
    "\n",
    "ANS:- train split is the split we take it from data set and used that data to train the machine learning model and test is used to test the machine learning model to obtain how much accurate is it end validation split data is the data in which the machine learning something new and provide more accurate prediction."
   ]
  },
  {
   "cell_type": "code",
   "execution_count": null,
   "id": "bf55a154-be36-49bc-8e6d-d90f9afe842a",
   "metadata": {},
   "outputs": [],
   "source": []
  },
  {
   "cell_type": "markdown",
   "id": "654c4257-3726-40fe-860b-d9b011ee36da",
   "metadata": {},
   "source": [
    "Q7- How can unsupervised learning be used in anomaly detection?\n",
    "\n",
    "ANS:-Unsupervised is useful when the data is unlabeled and thus requires less work to process the data set before- hand. Anomaly detection techniques of unsupervised nature assume that normal data points occur considerably more frequently than anomalous data points.\n"
   ]
  },
  {
   "cell_type": "code",
   "execution_count": null,
   "id": "31949ebc-9eaa-45c2-98ec-217b35aebdc6",
   "metadata": {},
   "outputs": [],
   "source": []
  },
  {
   "cell_type": "markdown",
   "id": "3a541de3-cedd-41b4-898f-f7d024927474",
   "metadata": {},
   "source": [
    "Q8- List down some commonly used supervised learning algorithms and unsupervisKd learning algorithms.\n",
    "\n",
    "ANS:-The most commonly used Supervised Learning algorithms are decision tree, logistic regression, linear regression, support vector machine. \n",
    "\n",
    "The most commonly used Unsupervised Learning algorithms are k-means clustering, hierarchical clustering, and apriori algorithm."
   ]
  },
  {
   "cell_type": "code",
   "execution_count": null,
   "id": "a760f22a-db52-4baa-b0a4-5384785ddbbb",
   "metadata": {},
   "outputs": [],
   "source": []
  }
 ],
 "metadata": {
  "kernelspec": {
   "display_name": "Python 3 (ipykernel)",
   "language": "python",
   "name": "python3"
  },
  "language_info": {
   "codemirror_mode": {
    "name": "ipython",
    "version": 3
   },
   "file_extension": ".py",
   "mimetype": "text/x-python",
   "name": "python",
   "nbconvert_exporter": "python",
   "pygments_lexer": "ipython3",
   "version": "3.10.8"
  }
 },
 "nbformat": 4,
 "nbformat_minor": 5
}
