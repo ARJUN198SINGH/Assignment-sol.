{
 "cells": [
  {
   "cell_type": "markdown",
   "id": "e42d6221-5335-422e-84bf-cf1770b37bea",
   "metadata": {},
   "source": [
    "Q1. You are writing code for a company. The requirement of the company is that you create a python \n",
    "function that will check whether the password entered by the user is correct or not. The function should \n",
    "take the password as input and return the string “Valid Password” if the entered password follows the \n",
    "below-given password guidelines else it should return “Invalid Password”.\n",
    "\n",
    "Note: 1. The Password should contain at least two uppercase letters and at least two lowercase letters.\n",
    "\n",
    "2. The Password should contain at least a number and three special characters.\n",
    "\n",
    "3. The length of the password should be 10 characters long."
   ]
  },
  {
   "cell_type": "code",
   "execution_count": 2,
   "id": "acf79d23-03be-4e34-90f9-9d8d32def2b3",
   "metadata": {},
   "outputs": [
    {
     "name": "stdin",
     "output_type": "stream",
     "text": [
      "enter the password   JHYFY%$#%^hgfgf465df45\n"
     ]
    },
    {
     "name": "stdout",
     "output_type": "stream",
     "text": [
      "Valid Passwor\n"
     ]
    }
   ],
   "source": [
    "#AAaa2!@#\n",
    "def password(b):\n",
    "    u,l,n,s,l1=0,0,0,0,0\n",
    "    for i in b:\n",
    "        if(i.isupper()):\n",
    "            u+=1\n",
    "        elif(i.islower()):\n",
    "            l+=1\n",
    "        elif(i.isdigit()):\n",
    "            n+=1\n",
    "        else:\n",
    "            s+=1\n",
    "    if(len(b)>=10 and u>=2 and l>=2 and n>=1 and s>=3):\n",
    "        return'Valid Passwor'\n",
    "    else:\n",
    "        return 'Invalid Password'\n",
    "a=input('enter the password  ')\n",
    "print(password(a))"
   ]
  },
  {
   "cell_type": "code",
   "execution_count": null,
   "id": "dc31e50b-f5e6-4cce-a283-f0fad7cf9632",
   "metadata": {},
   "outputs": [],
   "source": []
  },
  {
   "cell_type": "markdown",
   "id": "275bb2a8-7c7e-418f-a0a7-81b4834b2e56",
   "metadata": {},
   "source": [
    "Q2. Solve the below-given questions using at least one of the following: \n",
    "\n",
    "1. Lambda functioJ\n",
    "2. Filter functioJ\n",
    "3. Map functioJ\n",
    "4. List ComprehensioI\n",
    "\n",
    "B Check if the string starts with a particular letterY\n",
    "\n",
    "B Check if the string is numericY\n",
    "\n",
    "B Sort a list of tuples having fruit names and their quantity. \n",
    "[(\"mango\",99),(\"orange\",80), (\"grapes\", 1000)-\n",
    "\n",
    "B Find the squares of numbers from 1 to 10Y\n",
    "\n",
    "B Find the cube root of numbers from 1 to 10Y\n",
    "\n",
    "B Check if a given number is evenY\n",
    "\n",
    "B Filter odd numbers from the given list.[1,2,3,4,5,6,7,8,9,10-\n",
    "\n",
    "B Sort a list of integers into positive and negative integers lists.\n",
    "\n",
    " [1,2,3,4,5,6,-1,-2,-3,-4,-5,0]"
   ]
  },
  {
   "cell_type": "code",
   "execution_count": 8,
   "id": "35e621ef-d5dc-40fb-8f6f-9a34a42a41b6",
   "metadata": {},
   "outputs": [
    {
     "name": "stdin",
     "output_type": "stream",
     "text": [
      "enter w\n"
     ]
    },
    {
     "data": {
      "text/plain": [
       "[]"
      ]
     },
     "execution_count": 8,
     "metadata": {},
     "output_type": "execute_result"
    }
   ],
   "source": [
    "#sol:-1\n",
    "s='pwskills'\n",
    "q=input('enter')\n",
    "list(filter(lambda x: x==q,s[0]))"
   ]
  },
  {
   "cell_type": "code",
   "execution_count": 13,
   "id": "02b41640-402a-4168-a76d-2eb50cb050d8",
   "metadata": {},
   "outputs": [
    {
     "data": {
      "text/plain": [
       "['3', '4', '3', '3']"
      ]
     },
     "execution_count": 13,
     "metadata": {},
     "output_type": "execute_result"
    }
   ],
   "source": [
    "#sol:-2\n",
    "q='uygy34ghgy33'\n",
    "list(filter(lambda x: x.isnumeric(),q))\n"
   ]
  },
  {
   "cell_type": "code",
   "execution_count": null,
   "id": "17c0e583-0e15-4e3a-8d6b-b0da81dffb8c",
   "metadata": {},
   "outputs": [],
   "source": [
    "#Sol:- 3\n",
    "l=[(\"mango\",99),(\"orange\",80), (\"grapes\", 1000)]\n"
   ]
  },
  {
   "cell_type": "code",
   "execution_count": 14,
   "id": "90c83d0a-54c3-40b6-8c45-066e96ed97eb",
   "metadata": {},
   "outputs": [
    {
     "data": {
      "text/plain": [
       "[1, 4, 9, 16, 25, 36, 49, 64, 81, 100]"
      ]
     },
     "execution_count": 14,
     "metadata": {},
     "output_type": "execute_result"
    }
   ],
   "source": [
    "#sol:-4\n",
    "k=[]\n",
    "for i in range(1,11):\n",
    "    k.append(i)\n",
    "list(map(lambda x:x**2,k))"
   ]
  },
  {
   "cell_type": "code",
   "execution_count": 18,
   "id": "c764ad1e-e83d-496f-b300-1b3ae3462e71",
   "metadata": {},
   "outputs": [
    {
     "data": {
      "text/plain": [
       "[1, 8, 27, 64, 125, 216, 343, 512, 729, 1000]"
      ]
     },
     "execution_count": 18,
     "metadata": {},
     "output_type": "execute_result"
    }
   ],
   "source": [
    "#sol:-5\n",
    "k=[]\n",
    "for i in range(1,11):\n",
    "    k.append(i)\n",
    "list(map(lambda x:x**3,k))"
   ]
  },
  {
   "cell_type": "code",
   "execution_count": 18,
   "id": "5272300f-2b7e-4948-acf7-3147b3dcdf8c",
   "metadata": {},
   "outputs": [
    {
     "data": {
      "text/plain": [
       "[1, 8, 27, 64, 125, 216, 343, 512, 729, 1000]"
      ]
     },
     "execution_count": 18,
     "metadata": {},
     "output_type": "execute_result"
    }
   ],
   "source": [
    "#sol:-6\n"
   ]
  },
  {
   "cell_type": "code",
   "execution_count": 20,
   "id": "ccad2ab6-7692-4845-b37b-6e5f9a6369ab",
   "metadata": {},
   "outputs": [
    {
     "data": {
      "text/plain": [
       "[1, 3, 5, 7, 9]"
      ]
     },
     "execution_count": 20,
     "metadata": {},
     "output_type": "execute_result"
    }
   ],
   "source": [
    "#sol:-7\n",
    "l=[1,2,3,4,5,6,7,8,9,10]\n",
    "list(filter(lambda c:c%2!=0,l))"
   ]
  },
  {
   "cell_type": "code",
   "execution_count": 32,
   "id": "78bd5f44-884c-4317-9dfd-cda71d0c84cc",
   "metadata": {},
   "outputs": [
    {
     "data": {
      "text/plain": [
       "[1, 2, 3, 4, 5]"
      ]
     },
     "execution_count": 32,
     "metadata": {},
     "output_type": "execute_result"
    }
   ],
   "source": [
    "#sol:-8\n",
    "l=[1,2,3,4,5,6,-1,-2,-3,-4,-5,0]\n",
    "g=[]\n",
    "[l[i] for i in range(len(l)-2) if(l[i]<l[i+1])]"
   ]
  },
  {
   "cell_type": "code",
   "execution_count": null,
   "id": "95fb617b-1640-4e92-965c-77a9a5b9dff7",
   "metadata": {},
   "outputs": [],
   "source": []
  }
 ],
 "metadata": {
  "kernelspec": {
   "display_name": "Python 3 (ipykernel)",
   "language": "python",
   "name": "python3"
  },
  "language_info": {
   "codemirror_mode": {
    "name": "ipython",
    "version": 3
   },
   "file_extension": ".py",
   "mimetype": "text/x-python",
   "name": "python",
   "nbconvert_exporter": "python",
   "pygments_lexer": "ipython3",
   "version": "3.10.8"
  }
 },
 "nbformat": 4,
 "nbformat_minor": 5
}
