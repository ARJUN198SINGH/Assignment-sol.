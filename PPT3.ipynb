{
 "cells": [
  {
   "cell_type": "markdown",
   "id": "8295e14c-6085-45b2-a9e1-1865afc11174",
   "metadata": {},
   "source": [
    "Question 1\n",
    "Given an integer array nums of length n and an integer target, find three integers\n",
    "in nums such that the sum is closest to the target.\n",
    "Return the sum of the three integers.\n",
    "\n",
    "You may assume that each input would have exactly one solution.\n",
    "\n",
    "\n",
    "Example 1:\n",
    "Input: nums = [-1,2,1,-4], target = 1\n",
    "Output: 2\n",
    "\n",
    "Explanation: The sum that is closest to the target is 2. (-1 + 2 + 1 = 2)."
   ]
  },
  {
   "cell_type": "code",
   "execution_count": 1,
   "id": "1de04674-0717-476d-ab2c-6a62dcd0b1af",
   "metadata": {},
   "outputs": [],
   "source": [
    "def threeSumClosest(nums, target):\n",
    "    nums.sort()\n",
    "    closestSum = float('inf')\n",
    "\n",
    "    for i in range(len(nums) - 2):\n",
    "        left = i + 1\n",
    "        right = len(nums) - 1\n",
    "\n",
    "        while left < right:\n",
    "            currentSum = nums[i] + nums[left] + nums[right]\n",
    "\n",
    "            if currentSum == target:\n",
    "                return target\n",
    "\n",
    "            if abs(currentSum - target) < abs(closestSum - target):\n",
    "                closestSum = currentSum\n",
    "\n",
    "            if currentSum < target:\n",
    "                left += 1\n",
    "            else:\n",
    "                right -= 1\n",
    "\n",
    "    return closestSum\n"
   ]
  },
  {
   "cell_type": "code",
   "execution_count": 2,
   "id": "e1c4fc37-587a-4dfb-aa6e-331d0a0f4736",
   "metadata": {},
   "outputs": [
    {
     "data": {
      "text/plain": [
       "2"
      ]
     },
     "execution_count": 2,
     "metadata": {},
     "output_type": "execute_result"
    }
   ],
   "source": [
    "nums = [-1,2,1,-4]\n",
    "target = 1\n",
    "threeSumClosest(nums, target)"
   ]
  },
  {
   "cell_type": "code",
   "execution_count": null,
   "id": "e8a08001-d845-469f-bfd2-f406893c07ef",
   "metadata": {},
   "outputs": [],
   "source": []
  },
  {
   "cell_type": "markdown",
   "id": "5909c3df-2599-4285-8ba6-89f20e548837",
   "metadata": {},
   "source": [
    "Question 2\n",
    "Given an array nums of n integers, return an array of all the unique quadruplets\n",
    "[nums[a], nums[b], nums[c], nums[d]] such that:\n",
    "           ● 0 <= a, b, c, d < n\n",
    "           ● a, b, c, and d are distinct.\n",
    "           ● nums[a] + nums[b] + nums[c] + nums[d] == target\n",
    "\n",
    "You may return the answer in any order.\n",
    "\n",
    "Example 1:\n",
    "Input: nums = [1,0,-1,0,-2,2], target = 0\n",
    "Output: [[-2,-1,1,2],[-2,0,0,2],[-1,0,0,1]]"
   ]
  },
  {
   "cell_type": "code",
   "execution_count": 7,
   "id": "7568fe70-74f4-4af9-a03f-2a60f5f006c0",
   "metadata": {},
   "outputs": [
    {
     "data": {
      "text/plain": [
       "[[1, 0, -1, 0], [1, -1, -2, 2], [0, 0, -2, 2]]"
      ]
     },
     "execution_count": 7,
     "metadata": {},
     "output_type": "execute_result"
    }
   ],
   "source": [
    "def maxi(nums,t):\n",
    "    m=[]\n",
    "    p=[]\n",
    "    for i in range(len(nums)):\n",
    "        for j in range(i+1,len(nums)):\n",
    "            for k in range(j+1,len(nums)):\n",
    "                for l in range(k+1,len(nums)):\n",
    "                    m.append([nums[i],nums[j],nums[k],nums[l],nums[i]+nums[j]+nums[k]+nums[l]])\n",
    "            \n",
    "    for i in range(len(m)):\n",
    "        if(m[i][4]==t):\n",
    "            p.append(m[i][0:4])\n",
    "    return p\n",
    "\n",
    "nums = [1,0,-1,0,-2,2]\n",
    "target=0\n",
    "maxi(nums,target)          "
   ]
  },
  {
   "cell_type": "code",
   "execution_count": null,
   "id": "6a9a3b13-a2c1-48f1-b924-013e1a39d0c7",
   "metadata": {},
   "outputs": [],
   "source": []
  },
  {
   "cell_type": "markdown",
   "id": "52380dca-ce49-4f2c-828f-30f57a729dca",
   "metadata": {},
   "source": [
    "<aside>\n",
    "💡 **Question 3**\n",
    "A permutation of an array of integers is an arrangement of its members into a\n",
    "sequence or linear order.\n",
    "\n",
    "For example, for arr = [1,2,3], the following are all the permutations of arr:\n",
    "[1,2,3], [1,3,2], [2, 1, 3], [2, 3, 1], [3,1,2], [3,2,1].\n",
    "\n",
    "The next permutation of an array of integers is the next lexicographically greater\n",
    "permutation of its integer. More formally, if all the permutations of the array are\n",
    "sorted in one container according to their lexicographical order, then the next\n",
    "permutation of that array is the permutation that follows it in the sorted container.\n",
    "\n",
    "If such an arrangement is not possible, the array must be rearranged as the\n",
    "lowest possible order (i.e., sorted in ascending order).\n",
    "\n",
    "● For example, the next permutation of arr = [1,2,3] is [1,3,2].\n",
    "● Similarly, the next permutation of arr = [2,3,1] is [3,1,2].\n",
    "● While the next permutation of arr = [3,2,1] is [1,2,3] because [3,2,1] does not\n",
    "have a lexicographical larger rearrangement.\n",
    "\n",
    "Given an array of integers nums, find the next permutation of nums.\n",
    "The replacement must be in place and use only constant extra memory.\n",
    "\n",
    "**Example 1:**\n",
    "Input: nums = [1,2,3]\n",
    "Output: [1,3,2]\n",
    "\n",
    "</aside>"
   ]
  },
  {
   "cell_type": "code",
   "execution_count": null,
   "id": "3c916038-de2c-4b3a-82a2-a4740c33f448",
   "metadata": {},
   "outputs": [],
   "source": []
  },
  {
   "cell_type": "code",
   "execution_count": null,
   "id": "79595ecf-cc89-40b9-8c8c-15cff824a576",
   "metadata": {},
   "outputs": [],
   "source": []
  },
  {
   "cell_type": "markdown",
   "id": "4833d76c-b7de-4e6a-9d05-958d850d0959",
   "metadata": {},
   "source": [
    "Question 4\n",
    "Given a sorted array of distinct integers and a target value, return the index if the\n",
    "target is found. If not, return the index where it would be if it were inserted in\n",
    "order.\n",
    "\n",
    "You must write an algorithm with O(log n) runtime complexity.\n",
    "\n",
    "Example 1:\n",
    "Input: nums = [1,3,5,6], target = 5\n",
    "Output: 2"
   ]
  },
  {
   "cell_type": "code",
   "execution_count": 10,
   "id": "649bc6d6-d255-41b4-a312-0c80f16cc7ac",
   "metadata": {},
   "outputs": [
    {
     "name": "stdout",
     "output_type": "stream",
     "text": [
      "2\n"
     ]
    }
   ],
   "source": [
    "def hi(nums,t):\n",
    "    if(t in nums):\n",
    "        print(nums.index(t))\n",
    "    else:\n",
    "        for i in range(len(nums)):\n",
    "            if(t<nums[i]):\n",
    "                print(i)\n",
    "                break\n",
    "nums = [1,3,5,6]\n",
    "target=5\n",
    "hi(nums,target)\n",
    "    "
   ]
  },
  {
   "cell_type": "code",
   "execution_count": null,
   "id": "3c4d0d70-a5ea-4ef8-8c78-ee4930327357",
   "metadata": {},
   "outputs": [],
   "source": []
  },
  {
   "cell_type": "markdown",
   "id": "a6bf64db-9f0a-4e47-9635-d89a4b5a2961",
   "metadata": {},
   "source": [
    "<aside>\n",
    "💡 **Question 5**\n",
    "You are given a large integer represented as an integer array digits, where each\n",
    "digits[i] is the ith digit of the integer. The digits are ordered from most significant\n",
    "to least significant in left-to-right order. The large integer does not contain any\n",
    "leading 0's.\n",
    "\n",
    "Increment the large integer by one and return the resulting array of digits.\n",
    "\n",
    "**Example 1:**\n",
    "Input: digits = [1,2,3]\n",
    "Output: [1,2,4]\n",
    "\n",
    "**Explanation:** The array represents the integer 123.\n",
    "Incrementing by one gives 123 + 1 = 124.\n",
    "Thus, the result should be [1,2,4].\n",
    "\n",
    "</aside>"
   ]
  },
  {
   "cell_type": "code",
   "execution_count": 11,
   "id": "c9ee1b92-f900-4652-b87e-4003ee29cfef",
   "metadata": {},
   "outputs": [
    {
     "data": {
      "text/plain": [
       "[1, 2, 4]"
      ]
     },
     "execution_count": 11,
     "metadata": {},
     "output_type": "execute_result"
    }
   ],
   "source": [
    "def ok(d):\n",
    "    d=''.join(d)\n",
    "    e=str(int(d)+1)\n",
    "    l=[]\n",
    "    for i in range(len(e)):\n",
    "        l.append(int(e[i]))\n",
    "    return l\n",
    "\n",
    "digit=['1','2','3']\n",
    "ok(digit)"
   ]
  },
  {
   "cell_type": "code",
   "execution_count": null,
   "id": "88892f53-5023-498a-b56d-a61d3a5d9e9b",
   "metadata": {},
   "outputs": [],
   "source": []
  },
  {
   "cell_type": "markdown",
   "id": "9da896f9-4571-44d2-b156-597089f8d252",
   "metadata": {},
   "source": [
    "Question 6\n",
    "Given a non-empty array of integers nums, every element appears twice except\n",
    "for one. Find that single one.\n",
    "\n",
    "You must implement a solution with a linear runtime complexity and use only\n",
    "constant extra space.\n",
    "\n",
    "Example 1:\n",
    "Input: nums = [2,2,1]\n",
    "Output: 1"
   ]
  },
  {
   "cell_type": "code",
   "execution_count": 12,
   "id": "2314594f-f286-4f7b-a824-1e16b9c434bf",
   "metadata": {},
   "outputs": [
    {
     "name": "stdout",
     "output_type": "stream",
     "text": [
      "1\n"
     ]
    }
   ],
   "source": [
    "def hii(nums):\n",
    "    for i in nums:\n",
    "        if(nums.count(i)==2):\n",
    "            continue\n",
    "        else:\n",
    "            print(i)\n",
    "            break\n",
    "nums=[2,2,1]\n",
    "hii(nums)"
   ]
  },
  {
   "cell_type": "code",
   "execution_count": null,
   "id": "9bb389f7-9593-4929-98c1-c7aea3b06117",
   "metadata": {},
   "outputs": [],
   "source": []
  },
  {
   "cell_type": "markdown",
   "id": "29b4205f-f320-4e3d-8e00-89c2e471b5b4",
   "metadata": {},
   "source": [
    "Question 7\n",
    "You are given an inclusive range [lower, upper] and a sorted unique integer array\n",
    "nums, where all elements are within the inclusive range.\n",
    "\n",
    "A number x is considered missing if x is in the range [lower, upper] and x is not in\n",
    "nums.\n",
    "\n",
    "Return the shortest sorted list of ranges that exactly covers all the missing\n",
    "numbers. That is, no element of nums is included in any of the ranges, and each\n",
    "missing number is covered by one of the ranges.\n",
    "\n",
    "Example 1:\n",
    "Input: nums = [0,1,3,50,75], lower = 0, upper = 99\n",
    "Output: [[2,2],[4,49],[51,74],[76,99]]\n",
    "\n",
    "Explanation: The ranges are:\n",
    "[2,2]\n",
    "[4,49]\n",
    "[51,74]\n",
    "[76,99]"
   ]
  },
  {
   "cell_type": "code",
   "execution_count": 13,
   "id": "3e4b7e17-46fd-4c4b-9620-ea72f068758c",
   "metadata": {},
   "outputs": [],
   "source": [
    "def findMissingRanges(nums, lower, upper):\n",
    "    missing_ranges = []\n",
    "    # Helper function to add a range to the result\n",
    "    def addRange(start, end):\n",
    "        if start == end:\n",
    "            missing_ranges.append(str(start))\n",
    "        else:\n",
    "            missing_ranges.append(str(start) + \"->\" + str(end))\n",
    "    \n",
    "    # Handle the case when the array is empty\n",
    "    if not nums:\n",
    "        addRange(lower, upper)\n",
    "        return missing_ranges\n",
    "\n",
    "    # Check for missing ranges between lower and the first element\n",
    "    if nums[0] > lower:\n",
    "        addRange(lower, nums[0] - 1)\n",
    "    \n",
    "    # Check for missing ranges between consecutive elements\n",
    "    for i in range(1, len(nums)):\n",
    "        if nums[i] > nums[i-1] + 1:\n",
    "            addRange(nums[i-1] + 1, nums[i] - 1)\n",
    "    \n",
    "    # Check for missing ranges between the last element and upper\n",
    "    if nums[-1] < upper:\n",
    "        addRange(nums[-1] + 1, upper)\n",
    "    \n",
    "    return missing_ranges\n"
   ]
  },
  {
   "cell_type": "code",
   "execution_count": 14,
   "id": "a31c40cb-b59d-4402-8ea2-319a89426a5a",
   "metadata": {},
   "outputs": [
    {
     "name": "stdout",
     "output_type": "stream",
     "text": [
      "['2', '4->49', '51->74', '76->99']\n"
     ]
    }
   ],
   "source": [
    "nums = [0, 1, 3, 50, 75]\n",
    "lower = 0\n",
    "upper = 99\n",
    "result = findMissingRanges(nums, lower, upper)\n",
    "print(result)\n"
   ]
  },
  {
   "cell_type": "code",
   "execution_count": null,
   "id": "e4f5db96-5be6-4065-9ad8-26eaf2a5b1b9",
   "metadata": {},
   "outputs": [],
   "source": []
  },
  {
   "cell_type": "markdown",
   "id": "a95ee231-97dd-4c95-8012-3bb3ad6c2371",
   "metadata": {},
   "source": [
    "Question 8\n",
    "Given an array of meeting time intervals where intervals[i] = [starti, endi],\n",
    "determine if a person could attend all meetings.\n",
    "\n",
    "Example 1:\n",
    "Input: intervals = [[0,30],[5,10],[15,20]]\n",
    "Output: false"
   ]
  },
  {
   "cell_type": "code",
   "execution_count": 15,
   "id": "753b23ae-ab3d-4dbb-bc8e-2502a2a411c5",
   "metadata": {},
   "outputs": [],
   "source": [
    "def canAttendMeetings(intervals):\n",
    "    # Sort the intervals based on their start times\n",
    "    intervals.sort(key=lambda x: x[0])\n",
    "\n",
    "    # Check for overlaps\n",
    "    for i in range(1, len(intervals)):\n",
    "        if intervals[i][0] < intervals[i-1][1]:\n",
    "            return False\n",
    "\n",
    "    return True\n"
   ]
  },
  {
   "cell_type": "code",
   "execution_count": 16,
   "id": "a0d9f82a-88d8-4487-bd0b-6f8c7b9158bf",
   "metadata": {},
   "outputs": [
    {
     "name": "stdout",
     "output_type": "stream",
     "text": [
      "False\n"
     ]
    }
   ],
   "source": [
    "intervals = [[0, 30], [5, 10], [15, 20]]\n",
    "result = canAttendMeetings(intervals)\n",
    "print(result)\n"
   ]
  },
  {
   "cell_type": "code",
   "execution_count": null,
   "id": "07664ad5-c2a6-42e4-a0ec-3085b5f4c467",
   "metadata": {},
   "outputs": [],
   "source": []
  }
 ],
 "metadata": {
  "kernelspec": {
   "display_name": "Python 3 (ipykernel)",
   "language": "python",
   "name": "python3"
  },
  "language_info": {
   "codemirror_mode": {
    "name": "ipython",
    "version": 3
   },
   "file_extension": ".py",
   "mimetype": "text/x-python",
   "name": "python",
   "nbconvert_exporter": "python",
   "pygments_lexer": "ipython3",
   "version": "3.10.8"
  }
 },
 "nbformat": 4,
 "nbformat_minor": 5
}
