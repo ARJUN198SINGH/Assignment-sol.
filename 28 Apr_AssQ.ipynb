{
 "cells": [
  {
   "cell_type": "markdown",
   "id": "27bd9632-f806-4c50-bac3-3a4a3a454db6",
   "metadata": {},
   "source": [
    "Q1. What is hierarchical clustering, and how is it different from other clustering techniques?\n",
    "\n",
    "ANS:-Hierarchical clustering is a popular method for grouping objects. It creates groups so that objects within a group are similar to each other and different from objects in other groups. Clusters are visually represented in a hierarchical tree called a dendrogram."
   ]
  },
  {
   "cell_type": "code",
   "execution_count": null,
   "id": "c68e4cda-8927-4056-a83e-af10a6e52fa9",
   "metadata": {},
   "outputs": [],
   "source": []
  },
  {
   "cell_type": "markdown",
   "id": "976c35d6-564c-4093-8268-c84657b68b44",
   "metadata": {},
   "source": [
    "Q2. What are the two main types of hierarchical clustering algorithms? Describe each in brief.\n",
    "\n",
    "ANS:-There are two main types of hierarchical clustering:\n",
    "\n",
    "Agglomerative: Initially, each object is considered to be its own cluster. According to a particular procedure, the clusters are then merged step by step until a single cluster remains. \n",
    "\n",
    "Divisive: The Divisive method is the opposite of the Agglomerative method."
   ]
  },
  {
   "cell_type": "code",
   "execution_count": null,
   "id": "b7bfa56c-9459-436d-9ce3-6ecc2612eb65",
   "metadata": {},
   "outputs": [],
   "source": []
  },
  {
   "cell_type": "markdown",
   "id": "18807fea-48d2-44cb-abd2-6bc537de4795",
   "metadata": {},
   "source": [
    "Q3. How do you determine the distance between two clusters in hierarchical clustering, and what are the \n",
    "common distance metrics used?\n",
    "\n",
    "ANS:-For most common hierarchical clustering software, the default distance measure is the Euclidean distance. This is the square root of the sum of the square differences. However, for gene expression, correlation distance is often used."
   ]
  },
  {
   "cell_type": "code",
   "execution_count": null,
   "id": "f486e3c1-b071-4746-86c2-2df944202520",
   "metadata": {},
   "outputs": [],
   "source": []
  },
  {
   "cell_type": "markdown",
   "id": "d8262927-c745-4d13-81de-83f37923991b",
   "metadata": {},
   "source": [
    "Q4. How do you determine the optimal number of clusters in hierarchical clustering, and what are some \n",
    "common methods used for this purpose?\n",
    "\n",
    "ANS:-To get the optimal number of clusters for hierarchical clustering, we make use a dendrogram which is tree-like chart that shows the sequences of merges or splits of clusters. If two clusters are merged, the dendrogram will join them in a graph and the height of the join will be the distance between those clusters."
   ]
  },
  {
   "cell_type": "code",
   "execution_count": null,
   "id": "5c8bae09-045c-4613-bb99-9ef475509950",
   "metadata": {},
   "outputs": [],
   "source": []
  },
  {
   "cell_type": "markdown",
   "id": "eafa3131-ddd2-4ddf-ad42-65f447e9b0ab",
   "metadata": {},
   "source": [
    "Q5. What are dendrograms in hierarchical clustering, and how are they useful in analyzing the results?\n",
    "\n",
    "ANS:-A dendrogram is a tree-structured graph used in heat maps to visualize the result of a hierarchical clustering calculation. The result of a clustering is presented either as the distance or the similarity between the clustered rows or columns depending on the selected distance measure."
   ]
  },
  {
   "cell_type": "code",
   "execution_count": null,
   "id": "92b77f32-2012-4be3-b397-bd4e300638d9",
   "metadata": {},
   "outputs": [],
   "source": []
  },
  {
   "cell_type": "markdown",
   "id": "98c7cfb8-1441-4f52-a25c-dc3bf3134f2d",
   "metadata": {},
   "source": [
    "Q6. Can hierarchical clustering be used for both numerical and categorical data? If yes, how are the \n",
    "distance metrics different for each type of data?\n",
    "\n",
    "ANS:-Most distance metrics, and hence the hierarchical clustering methods, work either with continuous-only or categorical-only data. In applications, however, observations are often described by a combination of both continuous and categorical variables."
   ]
  },
  {
   "cell_type": "code",
   "execution_count": null,
   "id": "cd9f2613-3302-422a-bd43-c99950fe7ea6",
   "metadata": {},
   "outputs": [],
   "source": []
  },
  {
   "cell_type": "markdown",
   "id": "04aaeaaa-ddb5-4bce-8a6f-182234bd505d",
   "metadata": {},
   "source": [
    "Q7. How can you use hierarchical clustering to identify outliers or anomalies in your data?\n",
    "\n",
    "ANS:-In K-Means clustering outliers are found by distance based approach and cluster based approach. In case of hierarchical clustering, by using dendrogram outliers are found. The goal of the project is to detect the outlier and remove the outliers to make the clustering more reliable."
   ]
  },
  {
   "cell_type": "code",
   "execution_count": null,
   "id": "e3a755ea-0e1d-445f-8eaa-b07ca8af6741",
   "metadata": {},
   "outputs": [],
   "source": []
  }
 ],
 "metadata": {
  "kernelspec": {
   "display_name": "Python 3 (ipykernel)",
   "language": "python",
   "name": "python3"
  },
  "language_info": {
   "codemirror_mode": {
    "name": "ipython",
    "version": 3
   },
   "file_extension": ".py",
   "mimetype": "text/x-python",
   "name": "python",
   "nbconvert_exporter": "python",
   "pygments_lexer": "ipython3",
   "version": "3.10.8"
  }
 },
 "nbformat": 4,
 "nbformat_minor": 5
}
