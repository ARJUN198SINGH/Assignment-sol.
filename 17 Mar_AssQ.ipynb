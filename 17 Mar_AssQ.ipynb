{
 "cells": [
  {
   "cell_type": "markdown",
   "id": "deb11187-641b-46ee-8321-9c535acdcca1",
   "metadata": {},
   "source": [
    "Q1: What are missing values in a dataset? Why is it essential to handle missing values? Name some \n",
    "algorithms that are not affected by missing values.\n",
    "\n",
    "ANS:- \n",
    "Missing values in dataset are the values which are missing why any reasons and the reasons may be dependent or independent.\n",
    "\n",
    "It is essential to handle missing values because missing value can cause low accuracy and wrong prediction.\n",
    "\n",
    "some algorithms that are not affected by missing values are like house prediction in house prediction we have different factors like number of room and location.We can find out the result by just knowing the number of rooms and if we have the location then we can also find out the value of the house by just knowing its location."
   ]
  },
  {
   "cell_type": "code",
   "execution_count": null,
   "id": "ebd4d4a7-7145-4c3a-a373-55445e939e13",
   "metadata": {},
   "outputs": [],
   "source": []
  },
  {
   "cell_type": "markdown",
   "id": "ac8937ba-e7b3-4ca6-92b6-d2b21d53f2b0",
   "metadata": {},
   "source": [
    "Q2: List down techniques used to handle missing data.  Give an example of each with python code."
   ]
  },
  {
   "cell_type": "markdown",
   "id": "d25b5823-e7eb-4453-ae3c-b0403e3561bb",
   "metadata": {},
   "source": [
    "ANS:-\n",
    "we have different techniques used to handle the missing data in the data set. if we have missing data set then the first method we can fill the mean value in the missing data Or we can or we can fill the median value in the missing data if the data is missing is the type of integer float value But in case of categorical data we can use the mode so by which we can fill the using the mode method. or by any chance if the there is few data is missing there then in some situations we can ignore or delete that the rows from the data set. "
   ]
  },
  {
   "cell_type": "code",
   "execution_count": null,
   "id": "7d8d50b9-be41-4ea5-bff8-59d5b317bce3",
   "metadata": {},
   "outputs": [],
   "source": []
  },
  {
   "cell_type": "markdown",
   "id": "142348a0-2de9-48d3-af46-1dc28b439d0f",
   "metadata": {},
   "source": [
    "Q3: Explain the imbalanced data. What will happen if imbalanced data is not handled?"
   ]
  },
  {
   "cell_type": "markdown",
   "id": "19b5c261-9087-45dc-b60f-6f3ed52870cc",
   "metadata": {},
   "source": [
    "ANS:-\n",
    "Imbalanced data is the data if we have not equal output prediction data for example if we have a data set and in one column we have two choices that is yes or no And number of yes present in the column is not equal to number of no present in the column So in that condition the data is imbalanced data.\n",
    "is it data is not handled then we get same prediction every time and we can say that the model is dumb."
   ]
  },
  {
   "cell_type": "code",
   "execution_count": null,
   "id": "953a9e7b-0ed6-44b0-bea6-12c212f10c98",
   "metadata": {},
   "outputs": [],
   "source": []
  },
  {
   "cell_type": "markdown",
   "id": "81b82d8d-a45e-4f89-894b-0661dd1a552f",
   "metadata": {},
   "source": [
    "Q4: What are Up-sampling and Down-sampling? Explain with an example when up-sampling and down\u0002sampling are required.\n",
    "\n",
    "ANS:-\n",
    "upsampling is used in imbalance the data and in upsampling process We have to increase the number of data in the minority data set and in case of down sampling we have to decrease the number of data in the majority data set.\n",
    "\n",
    "for example if we have the data of messages and these messages are of two types First is personal messages and second is spam messages.so if wse have more personal messages data than the spam messages in that condition we increase the no. of data of spam messages to get better accuracy and prediction and vice versa."
   ]
  },
  {
   "cell_type": "code",
   "execution_count": null,
   "id": "d35f7c14-b3ae-4c22-b350-608d84b33997",
   "metadata": {},
   "outputs": [],
   "source": []
  },
  {
   "cell_type": "markdown",
   "id": "5db3e9db-2ef0-44e0-96cb-e24a65038b8e",
   "metadata": {},
   "source": [
    "Q5: What is data Augmentation? Explain SMOTE?\n",
    "\n",
    "ANS:-\n",
    "Data augmentation is a technique of artificially increasing the training set by creating modified copies of a dataset using existing data.\n",
    "SMOTE is a method which is used to up a up-sampling the data in the data set.\n"
   ]
  },
  {
   "cell_type": "code",
   "execution_count": null,
   "id": "41ddfb03-33a9-4fd2-a038-9d1e0ece35e7",
   "metadata": {},
   "outputs": [],
   "source": []
  },
  {
   "cell_type": "markdown",
   "id": "d0adda4f-2041-48ce-a2ea-6a4db2f629dc",
   "metadata": {},
   "source": [
    "Q6: What are outliers in a dataset? Why is it essential to handle outliers?\n",
    "\n",
    "ANS:- outliers are the values present in the data set deck is not do anything but just decrease the accurary.\n",
    "it is essential to handle outliers because it provide low prediction."
   ]
  },
  {
   "cell_type": "code",
   "execution_count": null,
   "id": "9cacdd87-8ad6-4dae-80b4-f6395d9cb827",
   "metadata": {},
   "outputs": [],
   "source": []
  },
  {
   "cell_type": "markdown",
   "id": "7da84e95-7a21-46cf-81cd-2d23c3f9533f",
   "metadata": {},
   "source": [
    "Q7: You are working on a project that requires analyzing customer data. However, you notice that some of \n",
    "the data is missing. What are some techniques you can use to handle the missing data in your analysis?\n",
    "\n",
    "ANS:- firstly we will identify the data which is missing After that if missing data is categorical then we use mode to fill the missing data And if the data is of integer or float value then in that case we can use mean or median 2 fill the data."
   ]
  },
  {
   "cell_type": "code",
   "execution_count": null,
   "id": "c3ffac09-dcbf-4023-88dc-2149a7289c4b",
   "metadata": {},
   "outputs": [],
   "source": []
  },
  {
   "cell_type": "markdown",
   "id": "7b01c1b5-e601-442b-8899-9ba01fa48c3e",
   "metadata": {},
   "source": [
    "Q8: You are working with a large dataset and find that a small percentage of the data is missing. What are some strategies you can use to determine if the missing data is missing at random or if there is a pattern to the missing data?\n",
    "\n",
    "ANS:-\n",
    "in some cases if enlarged data set a small percentage of the data is missing then we can check the missing data after that there are some step we can take like first step is by filling the missing data by using me or medium or we can just ignore these data tuples."
   ]
  },
  {
   "cell_type": "code",
   "execution_count": null,
   "id": "36bc3e91-db45-49ef-8d00-12eb1179ed3d",
   "metadata": {},
   "outputs": [],
   "source": []
  },
  {
   "cell_type": "markdown",
   "id": "4d163438-d028-489c-b7b2-01387108d88d",
   "metadata": {},
   "source": [
    "Q9: Suppose you are working on a medical diagnosis project and find that the majority of patients in the dataset do not have the condition of interest, while a small percentage do. What are some strategies you can use to evaluate the performance of your machine learning model on this imbalanced dataset?\n",
    "\n",
    "ANS:- in that condition we can down sampling the majority data set and after doing this this we can train the model or or we can up sampling the minority data set."
   ]
  },
  {
   "cell_type": "code",
   "execution_count": null,
   "id": "8157b6ee-fe3e-48c1-884f-7f08a61303d0",
   "metadata": {},
   "outputs": [],
   "source": []
  },
  {
   "cell_type": "markdown",
   "id": "84d47a1b-8a9a-42f3-9937-956a72bbe215",
   "metadata": {},
   "source": [
    "Q10: When attempting to estimate customer satisfaction for a project, you discover that the dataset is unbalanced, with the bulk of customers reporting being satisfied. What methods can you employ to balance the dataset and down-sample the majority class?\n",
    "\n",
    "ANS:- we have two choices in that conditions First choices we can down is sampling the majority majority data set or we can up sampling the minority data set."
   ]
  },
  {
   "cell_type": "code",
   "execution_count": null,
   "id": "33bc3ce3-97ac-4ce5-a9ca-ef21614826f7",
   "metadata": {},
   "outputs": [],
   "source": []
  },
  {
   "cell_type": "markdown",
   "id": "7e7950ef-c243-4679-a86a-d2981ce018ec",
   "metadata": {},
   "source": [
    "Q11: You discover that the dataset is unbalanced with a low percentage of occurrences while working on a project that requires you to estimate the occurrence of a rare event. What methods can you employ to balance the dataset and up-sample the minority class?\n",
    "\n",
    "ANS:-we use up-sample the minority class."
   ]
  }
 ],
 "metadata": {
  "kernelspec": {
   "display_name": "Python 3 (ipykernel)",
   "language": "python",
   "name": "python3"
  },
  "language_info": {
   "codemirror_mode": {
    "name": "ipython",
    "version": 3
   },
   "file_extension": ".py",
   "mimetype": "text/x-python",
   "name": "python",
   "nbconvert_exporter": "python",
   "pygments_lexer": "ipython3",
   "version": "3.10.8"
  }
 },
 "nbformat": 4,
 "nbformat_minor": 5
}
