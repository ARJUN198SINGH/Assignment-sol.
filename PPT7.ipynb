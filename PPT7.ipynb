{
 "cells": [
  {
   "cell_type": "markdown",
   "id": "429af38d-c690-4650-b629-d60ccb196fe8",
   "metadata": {},
   "source": [
    "<aside>\n",
    "💡 **Question 1**\n",
    "\n",
    "Given two strings s and t, *determine if they are isomorphic*.\n",
    "\n",
    "Two strings s and t are isomorphic if the characters in s can be replaced to get t.\n",
    "\n",
    "All occurrences of a character must be replaced with another character while preserving the order of characters. No two characters may map to the same character, but a character may map to itself.\n",
    "\n",
    "**Example 1:**\n",
    "\n",
    "**Input:** s = \"egg\", t = \"add\"\n",
    "\n",
    "**Output:** true\n",
    "\n",
    "</aside>"
   ]
  },
  {
   "cell_type": "code",
   "execution_count": 5,
   "id": "79960b23-8db0-433a-af1f-7d45471846e0",
   "metadata": {},
   "outputs": [],
   "source": [
    "def isIsomorphic(s, t):\n",
    "    s_map = {}\n",
    "    t_map = {}\n",
    "\n",
    "    for i in range(len(s)):\n",
    "        if s[i] not in s_map and t[i] not in t_map:\n",
    "            s_map[s[i]] = t[i]\n",
    "            t_map[t[i]] = s[i]\n",
    "        elif s_map.get(s[i]) != t[i] or t_map.get(t[i]) != s[i]:\n",
    "            return False\n",
    "\n",
    "    return True\n"
   ]
  },
  {
   "cell_type": "code",
   "execution_count": 6,
   "id": "ebb85e8b-ed78-427d-974e-49c7261b03f3",
   "metadata": {},
   "outputs": [
    {
     "name": "stdout",
     "output_type": "stream",
     "text": [
      "True\n"
     ]
    }
   ],
   "source": [
    "s = \"egg\"\n",
    "t = \"add\"\n",
    "print(isIsomorphic(s, t))\n"
   ]
  },
  {
   "cell_type": "code",
   "execution_count": 3,
   "id": "97ab9b9b-23ba-4048-b512-10ada4a5164c",
   "metadata": {},
   "outputs": [
    {
     "data": {
      "text/plain": [
       "'e1g2'"
      ]
     },
     "execution_count": 3,
     "metadata": {},
     "output_type": "execute_result"
    }
   ],
   "source": [
    "s = 'egg'\n",
    "w=''\n",
    "i=0\n",
    "while(i<len(s)-1):\n",
    "    w=w+s[i]\n",
    "    c=1\n",
    "    while(i<len(s)-1):\n",
    "        if(s[i]==s[i+1]):\n",
    "            \n",
    "            c=c+1\n",
    "            i=i+1\n",
    "            if(i==len(s)-1):\n",
    "                w=w+str(c)\n",
    "                break\n",
    "        else:\n",
    "            w=w+str(c)\n",
    "            i=i+1\n",
    "            break\n",
    "z=[]\n",
    "for i in range(len(w)):\n",
    "    if(i%2!=0):\n",
    "        z.append(int(w[i]))\n",
    "z=sum(z)\n",
    "if(z==len(s)):\n",
    "    pass\n",
    "else:\n",
    "    w=w+s[len(s)-1]+'1'\n",
    "w"
   ]
  },
  {
   "cell_type": "code",
   "execution_count": null,
   "id": "8b700ae4-121f-467f-bcd1-92f32e97b220",
   "metadata": {},
   "outputs": [],
   "source": []
  },
  {
   "cell_type": "code",
   "execution_count": null,
   "id": "124ab7cd-6033-4996-9c31-5c2305c13f09",
   "metadata": {},
   "outputs": [],
   "source": []
  },
  {
   "cell_type": "markdown",
   "id": "fa7be03b-0363-4501-a299-7c5ff1e74e23",
   "metadata": {},
   "source": [
    "<aside>\n",
    "💡 **Question 2**\n",
    "\n",
    "Given a string num which represents an integer, return true *if* num *is a **strobogrammatic number***.\n",
    "\n",
    "A **strobogrammatic number** is a number that looks the same when rotated 180 degrees (looked at upside down).\n",
    "\n",
    "**Example 1:**\n",
    "\n",
    "**Input:** num = \"69\"\n",
    "\n",
    "**Output:**\n",
    "\n",
    "true\n",
    "\n",
    "</aside>"
   ]
  },
  {
   "cell_type": "code",
   "execution_count": 7,
   "id": "38f96733-c784-4c72-b62d-766f14fca1dd",
   "metadata": {},
   "outputs": [],
   "source": [
    "def isStrobogrammatic(num):\n",
    "    left = 0\n",
    "    right = len(num) - 1\n",
    "    while left <= right:\n",
    "        if (num[left] == '0' and num[right] == '0') or \\\n",
    "                (num[left] == '1' and num[right] == '1') or \\\n",
    "                (num[left] == '6' and num[right] == '9') or \\\n",
    "                (num[left] == '8' and num[right] == '8') or \\\n",
    "                (num[left] == '9' and num[right] == '6'):\n",
    "            left += 1\n",
    "            right -= 1\n",
    "        else:\n",
    "            return False\n",
    "    return True\n"
   ]
  },
  {
   "cell_type": "code",
   "execution_count": 8,
   "id": "593a0e34-7ee0-4f3d-b9c9-472100f40ebc",
   "metadata": {},
   "outputs": [
    {
     "name": "stdout",
     "output_type": "stream",
     "text": [
      "True\n"
     ]
    }
   ],
   "source": [
    "num = \"69\"\n",
    "print(isStrobogrammatic(num))\n"
   ]
  },
  {
   "cell_type": "code",
   "execution_count": null,
   "id": "21c9f43a-c8d7-4958-afc9-b13229e6fd6b",
   "metadata": {},
   "outputs": [],
   "source": []
  },
  {
   "cell_type": "markdown",
   "id": "0b96658c-ee5c-4037-85f4-0ba741f87d2a",
   "metadata": {},
   "source": [
    "<aside>\n",
    "💡 **Question 3**\n",
    "\n",
    "Given two non-negative integers, num1 and num2 represented as string, return *the sum of* num1 *and* num2 *as a string*.\n",
    "\n",
    "You must solve the problem without using any built-in library for handling large integers (such as BigInteger). You must also not convert the inputs to integers directly.\n",
    "\n",
    "**Example 1:**\n",
    "\n",
    "**Input:** num1 = \"11\", num2 = \"123\"\n",
    "\n",
    "**Output:**\n",
    "\n",
    "\"134\"\n",
    "\n",
    "</aside>"
   ]
  },
  {
   "cell_type": "code",
   "execution_count": 11,
   "id": "fdc11304-4603-4ca9-9c44-987e4629b045",
   "metadata": {},
   "outputs": [
    {
     "data": {
      "text/plain": [
       "'134'"
      ]
     },
     "execution_count": 11,
     "metadata": {},
     "output_type": "execute_result"
    }
   ],
   "source": [
    "\n",
    "def clean(num1,num2):\n",
    "    num1=int(num1)\n",
    "    num2=int(num2)\n",
    "    c=num1+num2\n",
    "    return str(c)\n",
    "num1 = \"11\"\n",
    "num2 = \"123\"\n",
    "clean(num1,num2)"
   ]
  },
  {
   "cell_type": "code",
   "execution_count": null,
   "id": "47e4f733-1a25-451c-b038-50e1afc2b2bc",
   "metadata": {},
   "outputs": [],
   "source": []
  },
  {
   "cell_type": "code",
   "execution_count": null,
   "id": "7c773ee3-5cdf-4e3c-a7db-5bf60ebd1d4a",
   "metadata": {},
   "outputs": [],
   "source": []
  },
  {
   "cell_type": "markdown",
   "id": "88c79c7b-ffb3-4994-8d36-ddd6246e86f1",
   "metadata": {},
   "source": [
    "<aside>\n",
    "💡 **Question 4**\n",
    "\n",
    "Given a string s, reverse the order of characters in each word within a sentence while still preserving whitespace and initial word order.\n",
    "\n",
    "**Example 1:**\n",
    "\n",
    "**Input:** s = \"Let's take LeetCode contest\"\n",
    "\n",
    "**Output:** \"s'teL ekat edoCteeL tsetnoc\"\n",
    "\n",
    "</aside>"
   ]
  },
  {
   "cell_type": "code",
   "execution_count": 19,
   "id": "a3cf3691-8c44-4d4b-ad51-a09f2f9266c1",
   "metadata": {},
   "outputs": [
    {
     "data": {
      "text/plain": [
       "\"s'teL ekat edoCteeL tsetnoc\""
      ]
     },
     "execution_count": 19,
     "metadata": {},
     "output_type": "execute_result"
    }
   ],
   "source": [
    "s = \"Let's take LeetCode contest\"\n",
    "s=s.split(' ')\n",
    "l=[]\n",
    "for i in s:\n",
    "    l.append(i[::-1])\n",
    "l=\" \".join(l)\n",
    "l"
   ]
  },
  {
   "cell_type": "code",
   "execution_count": null,
   "id": "feb03c80-db95-456c-bf6f-0ef55749354d",
   "metadata": {},
   "outputs": [],
   "source": []
  },
  {
   "cell_type": "markdown",
   "id": "dca1e323-42d8-4dee-a4e5-9d0ab2c8ea0f",
   "metadata": {},
   "source": [
    "<aside>\n",
    "💡 **Question 5**\n",
    "\n",
    "Given a string s and an integer k, reverse the first k characters for every 2k characters counting from the start of the string.\n",
    "\n",
    "If there are fewer than k characters left, reverse all of them. If there are less than 2k but greater than or equal to k characters, then reverse the first k characters and leave the other as original.\n",
    "\n",
    "**Example 1:**\n",
    "\n",
    "**Input:** s = \"abcdefg\", k = 2\n",
    "\n",
    "**Output:**\n",
    "\n",
    "\"bacdfeg\"\n",
    "\n",
    "</aside>"
   ]
  },
  {
   "cell_type": "code",
   "execution_count": 17,
   "id": "94ee33cd-e43d-4608-8c09-ac8e13392b1f",
   "metadata": {},
   "outputs": [
    {
     "data": {
      "text/plain": [
       "'bacdefg'"
      ]
     },
     "execution_count": 17,
     "metadata": {},
     "output_type": "execute_result"
    }
   ],
   "source": [
    "def op(s,k):\n",
    "    if(len(s)<=k):\n",
    "        s=s[::-1]\n",
    "        return s\n",
    "    else:\n",
    "        w=s[0:k]\n",
    "        p=s[k:]\n",
    "        w=w[::-1]\n",
    "        o=w+p\n",
    "    return o\n",
    "s='abcdefg'\n",
    "k=2\n",
    "op(s,k)"
   ]
  },
  {
   "cell_type": "code",
   "execution_count": null,
   "id": "81634619-6653-45f6-92e8-5f0cc0b67949",
   "metadata": {},
   "outputs": [],
   "source": []
  },
  {
   "cell_type": "markdown",
   "id": "dee0211c-3b78-488c-bcd5-1dbfc2d689dc",
   "metadata": {},
   "source": [
    "<aside>\n",
    "💡 **Question 6**\n",
    "\n",
    "Given two strings s and goal, return true *if and only if* s *can become* goal *after some number of **shifts** on* s.\n",
    "\n",
    "A **shift** on s consists of moving the leftmost character of s to the rightmost position.\n",
    "\n",
    "- For example, if s = \"abcde\", then it will be \"bcdea\" after one shift.\n",
    "\n",
    "**Example 1:**\n",
    "\n",
    "**Input:** s = \"abcde\", goal = \"cdeab\"\n",
    "\n",
    "**Output:**\n",
    "\n",
    "true\n",
    "\n",
    "</aside>"
   ]
  },
  {
   "cell_type": "code",
   "execution_count": 28,
   "id": "47081a6f-407d-474d-82d6-0fc81b3902ac",
   "metadata": {},
   "outputs": [
    {
     "data": {
      "text/plain": [
       "True"
      ]
     },
     "execution_count": 28,
     "metadata": {},
     "output_type": "execute_result"
    }
   ],
   "source": [
    "\n",
    "def cl(s,goal):\n",
    "    s=list(s)\n",
    "    goal=list(goal)\n",
    "    for i in range(len(s)):\n",
    "        if(s==goal):\n",
    "            return True\n",
    "            break\n",
    "        w=s[0]\n",
    "        s.pop(0)\n",
    "        s.append(w) \n",
    "    else:\n",
    "        return False\n",
    "s = \"abcde\"\n",
    "goal = \"cdeab\"\n",
    "cl(s,goal)"
   ]
  },
  {
   "cell_type": "code",
   "execution_count": null,
   "id": "d57f9a4b-f286-4090-923e-6ec0e6d368b8",
   "metadata": {},
   "outputs": [],
   "source": []
  },
  {
   "cell_type": "markdown",
   "id": "97cd7564-6b77-4a33-b0a7-58d955031176",
   "metadata": {},
   "source": [
    "<aside>\n",
    "💡 **Question 7**\n",
    "\n",
    "Given two strings s and t, return true *if they are equal when both are typed into empty text editors*. '#' means a backspace character.\n",
    "\n",
    "Note that after backspacing an empty text, the text will continue empty.\n",
    "\n",
    "**Example 1:**\n",
    "\n",
    "**Input:** s = \"ab#c\", t = \"ad#c\"\n",
    "\n",
    "**Output:** true\n",
    "\n",
    "**Explanation:**\n",
    "\n",
    "Both s and t become \"ac\".\n",
    "\n",
    "</aside>"
   ]
  },
  {
   "cell_type": "code",
   "execution_count": 29,
   "id": "3feecbd5-3650-4277-b03c-743fd1965e3b",
   "metadata": {},
   "outputs": [
    {
     "data": {
      "text/plain": [
       "True"
      ]
     },
     "execution_count": 29,
     "metadata": {},
     "output_type": "execute_result"
    }
   ],
   "source": [
    "\n",
    "def root(s,t):    \n",
    "    w=''\n",
    "    p=''\n",
    "    for i in s:\n",
    "        if(i in t):\n",
    "            if(i!='#'):\n",
    "                w=w+i\n",
    "                p=p+i\n",
    "    if(len(w)==len(p)):\n",
    "        return True\n",
    "    else:\n",
    "        return False\n",
    "\n",
    "s = \"ab#c\"\n",
    "t = \"ad#c\"\n",
    "root(s,t)"
   ]
  },
  {
   "cell_type": "code",
   "execution_count": null,
   "id": "7437d90c-8b7d-4121-92de-a9bba5e2fbdb",
   "metadata": {},
   "outputs": [],
   "source": []
  },
  {
   "cell_type": "markdown",
   "id": "8b5cc766-a3b8-40ff-abc3-5b1d8e2f00a8",
   "metadata": {},
   "source": [
    "<aside>\n",
    "💡 **Question 8**\n",
    "\n",
    "You are given an array coordinates, coordinates[i] = [x, y], where [x, y] represents the coordinate of a point. Check if these points make a straight line in the XY plane.\n",
    "    \n",
    "**Input:** coordinates = [[1,2],[2,3],[3,4],[4,5],[5,6],[6,7]]\n",
    "\n",
    "**Output:** true\n",
    "\n",
    "</aside>"
   ]
  },
  {
   "cell_type": "code",
   "execution_count": 26,
   "id": "c537ea0f-d6fe-4ad3-a42b-0c8dafe1a08b",
   "metadata": {},
   "outputs": [
    {
     "data": {
      "text/plain": [
       "True"
      ]
     },
     "execution_count": 26,
     "metadata": {},
     "output_type": "execute_result"
    }
   ],
   "source": [
    "def st(c):\n",
    "    for i in range(len(c[0])):   #0,1\n",
    "        for j in range(len(c)-2): #0,1,2,3\n",
    "            if(c[j+1][i]-c[j][i]==c[j+2][i]-c[j+1][i]):\n",
    "                q=True\n",
    "            else:\n",
    "                q=False\n",
    "                break\n",
    "        break\n",
    "    return q\n",
    "c = [[1,2],[2,3],[3,4],[4,5],[5,6],[6,7]]        \n",
    "st(c)"
   ]
  },
  {
   "cell_type": "code",
   "execution_count": null,
   "id": "f0c22a13-a00a-44f8-8fe7-5d21772828e9",
   "metadata": {},
   "outputs": [],
   "source": []
  }
 ],
 "metadata": {
  "kernelspec": {
   "display_name": "Python 3 (ipykernel)",
   "language": "python",
   "name": "python3"
  },
  "language_info": {
   "codemirror_mode": {
    "name": "ipython",
    "version": 3
   },
   "file_extension": ".py",
   "mimetype": "text/x-python",
   "name": "python",
   "nbconvert_exporter": "python",
   "pygments_lexer": "ipython3",
   "version": "3.10.8"
  }
 },
 "nbformat": 4,
 "nbformat_minor": 5
}
