{
 "cells": [
  {
   "cell_type": "markdown",
   "id": "8234c859-b1fe-409a-80a3-319954a13588",
   "metadata": {},
   "source": [
    "Q1. Create a class called \"Person\" with properties for \"name\", \"age\", and \"gender\". Create an object of this \n",
    "class and print out its properties."
   ]
  },
  {
   "cell_type": "code",
   "execution_count": 1,
   "id": "718f6880-5237-4386-b5be-947bdcff6fc6",
   "metadata": {},
   "outputs": [
    {
     "data": {
      "text/plain": [
       "'Arjun singh'"
      ]
     },
     "execution_count": 1,
     "metadata": {},
     "output_type": "execute_result"
    }
   ],
   "source": [
    "class Person:\n",
    "    def __init__(self,name, age, gender):\n",
    "        self.name=name\n",
    "        self.age=age\n",
    "        self.gender=gender\n",
    "    def hii(self):\n",
    "        return f'hii my name is {self.name} and my age is {self.age} and gender is {self.gender}'\n",
    "\n",
    "p=Person(\"Arjun singh\",24,\"male\")\n",
    "p.name"
   ]
  },
  {
   "cell_type": "code",
   "execution_count": 2,
   "id": "ba6f6258-d290-47ac-885e-17e315f9deec",
   "metadata": {},
   "outputs": [
    {
     "data": {
      "text/plain": [
       "24"
      ]
     },
     "execution_count": 2,
     "metadata": {},
     "output_type": "execute_result"
    }
   ],
   "source": [
    "p.age"
   ]
  },
  {
   "cell_type": "code",
   "execution_count": 3,
   "id": "2c56f37d-f6ab-4b0e-a009-5e8249eb20a1",
   "metadata": {},
   "outputs": [
    {
     "data": {
      "text/plain": [
       "'male'"
      ]
     },
     "execution_count": 3,
     "metadata": {},
     "output_type": "execute_result"
    }
   ],
   "source": [
    "p.gender"
   ]
  },
  {
   "cell_type": "code",
   "execution_count": 4,
   "id": "09c59d0c-a43f-443a-a319-9a9ea171a505",
   "metadata": {},
   "outputs": [
    {
     "data": {
      "text/plain": [
       "'hii my name is Arjun singh and my age is 24 and gender is male'"
      ]
     },
     "execution_count": 4,
     "metadata": {},
     "output_type": "execute_result"
    }
   ],
   "source": [
    "p.hii()"
   ]
  },
  {
   "cell_type": "code",
   "execution_count": null,
   "id": "0fda5ec1-f9bc-450f-aa33-1a06609b5fff",
   "metadata": {},
   "outputs": [],
   "source": []
  },
  {
   "cell_type": "markdown",
   "id": "ca101972-a5cd-4e38-82ca-8d8f14634b22",
   "metadata": {},
   "source": [
    "Q2. Write a Python class called \"Rectangle\" with attributes for \"width\" and \"height\". Implement methods \n",
    "to calculate the area and perimeter of the rectangle. Create an instance of this class and use it to print out \n",
    "the rectangle's area and perimeter."
   ]
  },
  {
   "cell_type": "code",
   "execution_count": 6,
   "id": "ee28c7c8-396a-49e2-9984-cc05db7cc41f",
   "metadata": {},
   "outputs": [],
   "source": [
    "class rectangle():\n",
    "    def __init__(self,width,height):\n",
    "        self.width=width\n",
    "        self.height=height\n",
    "    def area(self):\n",
    "        return self.width*self.height\n",
    "    def perimeter(self):\n",
    "        return 2*(self.width+self.height)\n",
    "    "
   ]
  },
  {
   "cell_type": "code",
   "execution_count": 8,
   "id": "0e7eadfc-dd35-4f4f-a9d6-da8f926b951f",
   "metadata": {},
   "outputs": [
    {
     "data": {
      "text/plain": [
       "8"
      ]
     },
     "execution_count": 8,
     "metadata": {},
     "output_type": "execute_result"
    }
   ],
   "source": [
    "dim=rectangle(2,4)\n",
    "dim.area()\n"
   ]
  },
  {
   "cell_type": "code",
   "execution_count": 9,
   "id": "a9e35a7c-0ac7-4f39-a583-56c5925d0f9d",
   "metadata": {},
   "outputs": [
    {
     "data": {
      "text/plain": [
       "12"
      ]
     },
     "execution_count": 9,
     "metadata": {},
     "output_type": "execute_result"
    }
   ],
   "source": [
    "dim.perimeter()"
   ]
  },
  {
   "cell_type": "code",
   "execution_count": null,
   "id": "34137570-8f9f-4588-a6c8-29abbe0a84f8",
   "metadata": {},
   "outputs": [],
   "source": []
  },
  {
   "cell_type": "markdown",
   "id": "13706242-7e34-4771-84d3-46667035a0de",
   "metadata": {},
   "source": [
    "Q3. Write a Python class called \"BankAccount\" with attributes for \"balance\" and \"interest_rate\". \n",
    "Implement methods to deposit and withdraw money from the account, as well as to calculate the interest \n",
    "earned on the balance based on the interest rate. Create an instance of this class and use it to test out the \n",
    "implemented methods for deposit, withdrawal, and interest calculation."
   ]
  },
  {
   "cell_type": "code",
   "execution_count": 65,
   "id": "da152ae3-f231-499d-a1e8-7a2ea93096f2",
   "metadata": {},
   "outputs": [],
   "source": [
    "\n",
    "class bankaccount():\n",
    "    def __init__(self,balance,interest_rate):\n",
    "        self.__balance=balance\n",
    "        self.__interest_rate=interest_rate\n",
    "    \n",
    "    def balance(self):\n",
    "        print('your interest is ',(self.__balance+self.__interest_rate)*0.05)\n",
    "        self.__balance=self.__balance+(self.__balance+self.__interest_rate)*0.05\n",
    "        print('your current balance is',self.__balance)\n",
    "       \n",
    "    \n",
    "    def deposit(self,deposit):\n",
    "        self.deposit=deposit\n",
    "        self.__balance=self.__balance+self.deposit\n",
    "        print('success')\n",
    "    def withdrow(self,withdrow):\n",
    "        self.withdrow=withdrow\n",
    "        if(self.withdrow<=self.__balance):\n",
    "            self.__balance=self.__balance-self.withdrow\n",
    "            print('successfully widthrow')\n",
    "q=bankaccount(0,0)"
   ]
  },
  {
   "cell_type": "code",
   "execution_count": 66,
   "id": "e6273845-b51d-4e63-87ae-a8cc26fa8007",
   "metadata": {},
   "outputs": [
    {
     "name": "stdout",
     "output_type": "stream",
     "text": [
      "your interest is  0.0\n",
      "your current balance is 0.0\n"
     ]
    }
   ],
   "source": [
    "q.balance()"
   ]
  },
  {
   "cell_type": "code",
   "execution_count": 67,
   "id": "57059d61-b38f-4efd-9693-77f5481d29c4",
   "metadata": {},
   "outputs": [
    {
     "name": "stdout",
     "output_type": "stream",
     "text": [
      "success\n"
     ]
    }
   ],
   "source": [
    "q.deposit(100)"
   ]
  },
  {
   "cell_type": "code",
   "execution_count": 68,
   "id": "26965227-fd49-445d-978f-766dd3d5e98c",
   "metadata": {},
   "outputs": [
    {
     "name": "stdout",
     "output_type": "stream",
     "text": [
      "your interest is  5.0\n",
      "your current balance is 105.0\n"
     ]
    }
   ],
   "source": [
    "q.balance()"
   ]
  },
  {
   "cell_type": "code",
   "execution_count": 69,
   "id": "e1385542-5ffd-477c-b313-ff38139e8a83",
   "metadata": {},
   "outputs": [
    {
     "name": "stdout",
     "output_type": "stream",
     "text": [
      "successfully widthrow\n"
     ]
    }
   ],
   "source": [
    "q.withdrow(70)"
   ]
  },
  {
   "cell_type": "code",
   "execution_count": 70,
   "id": "82ed2941-d3ae-41fc-91d1-6db12e2c296b",
   "metadata": {},
   "outputs": [
    {
     "name": "stdout",
     "output_type": "stream",
     "text": [
      "your interest is  1.75\n",
      "your current balance is 36.75\n"
     ]
    }
   ],
   "source": [
    "q.balance()"
   ]
  },
  {
   "cell_type": "code",
   "execution_count": null,
   "id": "7afcdff4-d487-4cfb-bcbe-1313d52d1ad3",
   "metadata": {},
   "outputs": [],
   "source": []
  },
  {
   "cell_type": "markdown",
   "id": "f65b1a51-ca23-4a2b-90a5-a1bb78192c9d",
   "metadata": {},
   "source": [
    "Q4. Write a Python class called \"Animal\" with attributes for \"name\" and \"species\". Create a subclass of \n",
    "\"Animal\" called \"Dog\" with additional attributes for \"breed\" and \"owner\". Implement both classes with \n",
    "appropriate methods and constructors to initialise their properties. Create instances of both classes and \n",
    "use them to print out the various properties of the animals and dogs, such as their names, species, \n",
    "breeds, and owners."
   ]
  },
  {
   "cell_type": "code",
   "execution_count": 49,
   "id": "bf45623e-d47f-4b7e-a739-fe4e61a2e6fc",
   "metadata": {},
   "outputs": [],
   "source": [
    "class animal():\n",
    "    def __init__(self,name,species):\n",
    "        self.name=name\n",
    "        self.species=species\n",
    "    def animals(self):\n",
    "        return self.name,self.species\n",
    "        \n",
    "class dog(animal):\n",
    "     def __init__(self,breed,owner):\n",
    "        self.breed=breed\n",
    "        self.owner=owner\n",
    "     def dogs(self):\n",
    "        return self.breed,self.owner\n",
    "        "
   ]
  },
  {
   "cell_type": "code",
   "execution_count": 50,
   "id": "1e63a6bb-7b50-44da-b316-5f6050d6affb",
   "metadata": {},
   "outputs": [
    {
     "data": {
      "text/plain": [
       "('German shepherd ', 'ARJUN ')"
      ]
     },
     "execution_count": 50,
     "metadata": {},
     "output_type": "execute_result"
    }
   ],
   "source": [
    "c=dog('German shepherd ','ARJUN ')\n",
    "c.dogs()\n"
   ]
  },
  {
   "cell_type": "code",
   "execution_count": 51,
   "id": "f9dd9fb9-d57a-44cc-a34f-bc1325620223",
   "metadata": {},
   "outputs": [
    {
     "data": {
      "text/plain": [
       "('GS', 'df')"
      ]
     },
     "execution_count": 51,
     "metadata": {},
     "output_type": "execute_result"
    }
   ],
   "source": [
    "c=animal('GS','df')\n",
    "c.animals()"
   ]
  },
  {
   "cell_type": "code",
   "execution_count": null,
   "id": "235f6e5b-2ac1-435b-9a5f-6886c0ff2b24",
   "metadata": {},
   "outputs": [],
   "source": []
  },
  {
   "cell_type": "code",
   "execution_count": null,
   "id": "7ec15759-9011-4bfa-969b-9961e902ef12",
   "metadata": {},
   "outputs": [],
   "source": []
  },
  {
   "cell_type": "markdown",
   "id": "e6b7ede5-f485-4fce-96c9-059b635bccc0",
   "metadata": {},
   "source": [
    "Q5. Create a class called \"Car\" with properties for \"make\", \"model\", and \"year\". Create a subclass of \"Car\" \n",
    "called \"ElectricCar\" with additional properties for \"battery_size\" and \"range\". Create objects of both \n",
    "classes and print out their properties."
   ]
  },
  {
   "cell_type": "code",
   "execution_count": 71,
   "id": "a30c095a-c16b-4149-b2f3-9d7413f6db36",
   "metadata": {},
   "outputs": [],
   "source": [
    "class car():\n",
    "    def __init__(self,make, model,year):\n",
    "        self.make=make\n",
    "        self.model=model\n",
    "        self.year=year\n",
    "    def cars(self):\n",
    "        return self.make,self.model,self.year\n",
    "        \n",
    "class ElectricCar(car):\n",
    "        def __init__(self,battery_size,ranges):\n",
    "            self.battery_size=battery_size\n",
    "            self.ranges=ranges\n",
    "        def ElectricCars(self):\n",
    "            return self.battery_size,self.ranges\n",
    "    \n",
    "car1=car(2,3,2020)\n",
    "car2=car(2,3,2020)\n",
    "c1=ElectricCar('20*20*20','20-60')\n",
    "c2=ElectricCar('20*660*700','20-80')"
   ]
  },
  {
   "cell_type": "code",
   "execution_count": 72,
   "id": "9c64ed70-8e9a-4ec5-a6d4-473d679fea7b",
   "metadata": {},
   "outputs": [
    {
     "name": "stdout",
     "output_type": "stream",
     "text": [
      "(2, 3, 2020) ('20*20*20', '20-60')\n"
     ]
    }
   ],
   "source": [
    "print(car1.cars(),c1.ElectricCars())"
   ]
  },
  {
   "cell_type": "code",
   "execution_count": 73,
   "id": "e4ce5087-ed87-4113-a914-a9bfda001602",
   "metadata": {},
   "outputs": [
    {
     "name": "stdout",
     "output_type": "stream",
     "text": [
      "(2, 3, 2020) ('20*660*700', '20-80')\n"
     ]
    }
   ],
   "source": [
    "print(car2.cars(),c2.ElectricCars())"
   ]
  },
  {
   "cell_type": "code",
   "execution_count": null,
   "id": "b1ab7b2e-e1a0-4d71-b97e-47b009b92ad7",
   "metadata": {},
   "outputs": [],
   "source": []
  },
  {
   "cell_type": "markdown",
   "id": "c1b908d6-5c4a-4102-892a-10859cd324f3",
   "metadata": {},
   "source": [
    "Q6. Create a class called \"Student\" with properties for \"name\" and \"id\". Create a subclass of \"Student\" \n",
    "called \"GraduateStudent\" with additional properties for \"advisor\" and \"research_area\". Create objects of \n",
    "both classes and print out their properties."
   ]
  },
  {
   "cell_type": "code",
   "execution_count": 1,
   "id": "5f54777a-44d6-4315-8db4-3f0391e44157",
   "metadata": {},
   "outputs": [
    {
     "name": "stdout",
     "output_type": "stream",
     "text": [
      "arjun 12\n"
     ]
    }
   ],
   "source": [
    "class student:\n",
    "    def __init__(self,name,ids):\n",
    "        self.name=name\n",
    "        self.ids=ids\n",
    "class graduatestudent(student):\n",
    "    def __init__(self,advisor,research_area):\n",
    "        self.advisor=advisor\n",
    "        self.research_area=research_area\n",
    "d=student('arjun',12)\n",
    "print(d.name,d.ids)"
   ]
  },
  {
   "cell_type": "code",
   "execution_count": 2,
   "id": "8538850e-d518-420f-8cd4-47ef5a91714c",
   "metadata": {},
   "outputs": [
    {
     "name": "stdout",
     "output_type": "stream",
     "text": [
      "yes Data Science\n"
     ]
    }
   ],
   "source": [
    "d=graduatestudent('yes','Data Science')\n",
    "print(d.advisor,d.research_area)"
   ]
  },
  {
   "cell_type": "code",
   "execution_count": null,
   "id": "ea312f66-ffa7-4719-abeb-3223efd08c3f",
   "metadata": {},
   "outputs": [],
   "source": []
  },
  {
   "cell_type": "markdown",
   "id": "6da36c28-1737-47ec-bab3-36f219f15af2",
   "metadata": {},
   "source": [
    "Q7. Create a class called \"Shape\" with methods to calculate the area and perimeter of the shape. Create \n",
    "subclasses of \"Shape\" for \"Rectangle\", \"Circle\", and \"Triangle\" with their own methods for calculating area \n",
    "and perimeter. Create objects of each class and print out their area and perimeter."
   ]
  },
  {
   "cell_type": "code",
   "execution_count": 2,
   "id": "9eaa29ba-aac8-47c2-b1eb-21d03f537c13",
   "metadata": {},
   "outputs": [
    {
     "name": "stdout",
     "output_type": "stream",
     "text": [
      "area\n"
     ]
    }
   ],
   "source": [
    "class shape:\n",
    "    def area(self):\n",
    "        return 'area'\n",
    "    def perimeter(self):\n",
    "        return 'perimeter'\n",
    "class rectangular(shape):\n",
    "    pass\n",
    "class circle(shape):\n",
    "    pass\n",
    "class triangle(shape):\n",
    "    pass\n",
    "d=triangle()\n",
    "print(d.area())"
   ]
  },
  {
   "cell_type": "code",
   "execution_count": null,
   "id": "2ab36475-f7c9-400b-b2ef-62d6221f26f3",
   "metadata": {},
   "outputs": [],
   "source": []
  },
  {
   "cell_type": "markdown",
   "id": "02b07c66-8015-4249-b91c-0f8b5a7d45fb",
   "metadata": {},
   "source": [
    "Q8. Create a class called \"Employee\" with properties for \"name\", \"id\", and \"salary\". Add methods to give \n",
    "the employee a raise and to calculate their annual salary. Create objects of this class and test out the \n",
    "methods."
   ]
  },
  {
   "cell_type": "code",
   "execution_count": 2,
   "id": "2f5fdd3b-dc8c-460c-8601-60f6fc69baed",
   "metadata": {},
   "outputs": [
    {
     "data": {
      "text/plain": [
       "'my name is arjun,my salary 20000 and id is 12'"
      ]
     },
     "execution_count": 2,
     "metadata": {},
     "output_type": "execute_result"
    }
   ],
   "source": [
    "class Employee:\n",
    "    def __init__(self,name,ids,salary):\n",
    "        self.name=name\n",
    "        self.salary=salary\n",
    "        self.ids=ids\n",
    "    def info(self):\n",
    "        return f'my name is {self.name},my salary {self.salary} and id is {self.ids}'\n",
    "emp=Employee('arjun',12,20000)\n",
    "emp.info()"
   ]
  },
  {
   "cell_type": "code",
   "execution_count": null,
   "id": "48a4c82d-b5c9-4d5f-bb35-41b34a3336ae",
   "metadata": {},
   "outputs": [],
   "source": []
  },
  {
   "cell_type": "markdown",
   "id": "e4c20003-d992-4b84-8867-d0a5051e33a3",
   "metadata": {},
   "source": [
    "Q9. Create a class called \"Book\" with properties for \"title\", \"author\", and \"publisher\". Create a subclass of \n",
    "\"Book\" called \"Ebook\" with additional properties for \"file_format\" and \"file_size\". Create objects of both \n",
    "classes and print out their properties."
   ]
  },
  {
   "cell_type": "code",
   "execution_count": 23,
   "id": "fdac196b-d382-4f2d-bd63-16f0ee1f1c68",
   "metadata": {},
   "outputs": [],
   "source": [
    "class book:\n",
    "    def __init__(self,title,author,publisher):\n",
    "        self.title=title\n",
    "        self.author=author\n",
    "        self.publisher=publisher\n",
    "    def infos(self):\n",
    "        return self.title,self.author,self.publisher\n",
    "\n",
    "class ebook(book):\n",
    "    def __init__(self,title,author,publisher,file_format,file_size):\n",
    "        self.title=title\n",
    "        self.author=author\n",
    "        self.publisher=publisher\n",
    "        self.file_format=file_format\n",
    "        self.file_size=file_size\n",
    "    def info(self):\n",
    "        return  {self.title},{self.author},{self.publisher},{self.file_format},{self.file_size}\n",
    "\n",
    "\n"
   ]
  },
  {
   "cell_type": "code",
   "execution_count": 24,
   "id": "5e48813c-59f7-4f80-8249-6b9670b7dec4",
   "metadata": {},
   "outputs": [
    {
     "data": {
      "text/plain": [
       "('The Great Gatsby', 'F. Scott Fitzgerald', \"Charles Scribner's Sons\")"
      ]
     },
     "execution_count": 24,
     "metadata": {},
     "output_type": "execute_result"
    }
   ],
   "source": [
    "b=book(\"The Great Gatsby\", \"F. Scott Fitzgerald\", \"Charles Scribner's Sons\")\n",
    "b.infos()"
   ]
  },
  {
   "cell_type": "code",
   "execution_count": 25,
   "id": "2f7a467b-beb2-4932-8124-c1b34fbe0f56",
   "metadata": {},
   "outputs": [
    {
     "data": {
      "text/plain": [
       "({'The Great Gatsby'},\n",
       " {'F. Scott Fitzgerald'},\n",
       " {\"Charles Scribner's Sons\"},\n",
       " {'PDF'},\n",
       " {'2.6 MB'})"
      ]
     },
     "execution_count": 25,
     "metadata": {},
     "output_type": "execute_result"
    }
   ],
   "source": [
    "q=ebook(\"The Great Gatsby\", \"F. Scott Fitzgerald\", \"Charles Scribner's Sons\",\"PDF\", \"2.6 MB\")\n",
    "q.info()"
   ]
  },
  {
   "cell_type": "code",
   "execution_count": null,
   "id": "44f48bb6-2987-40e3-bd54-4a2f63b65393",
   "metadata": {},
   "outputs": [],
   "source": []
  },
  {
   "cell_type": "markdown",
   "id": "ef3c4821-f4b3-43e7-8365-83d5656df443",
   "metadata": {},
   "source": [
    "Q10. Create a class called \"Bank\" with properties for \"name\" and \"accounts\". Add methods to create new \n",
    "accounts, deposit and withdraw money from accounts, and to calculate the total balance of all accounts. \n",
    "Create an object of this class and test out the methods."
   ]
  },
  {
   "cell_type": "code",
   "execution_count": 26,
   "id": "95cc555f-e5d9-40d4-a3fd-5ee74a5f2fac",
   "metadata": {},
   "outputs": [],
   "source": [
    "class bank:\n",
    "    def __init__(self,name,account):\n",
    "        self.name=name\n",
    "        self.account=account\n",
    "    def accounts(self):\n",
    "        pass\n",
    "    def deposit(self):\n",
    "        pass\n",
    "    def withdrow(self):\n",
    "        pass\n",
    "        "
   ]
  },
  {
   "cell_type": "code",
   "execution_count": null,
   "id": "9b4c9d49-4f95-4986-9470-434bea714a21",
   "metadata": {},
   "outputs": [],
   "source": []
  }
 ],
 "metadata": {
  "kernelspec": {
   "display_name": "Python 3 (ipykernel)",
   "language": "python",
   "name": "python3"
  },
  "language_info": {
   "codemirror_mode": {
    "name": "ipython",
    "version": 3
   },
   "file_extension": ".py",
   "mimetype": "text/x-python",
   "name": "python",
   "nbconvert_exporter": "python",
   "pygments_lexer": "ipython3",
   "version": "3.10.8"
  }
 },
 "nbformat": 4,
 "nbformat_minor": 5
}
