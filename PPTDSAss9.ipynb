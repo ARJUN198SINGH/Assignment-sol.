{
 "cells": [
  {
   "cell_type": "markdown",
   "id": "df417d56-e759-44bd-8864-21b7c4b9fbe7",
   "metadata": {},
   "source": [
    "Q1:-\n",
    "Given a 1-indexed array of integers numbers that are already sorted in non-decreasing order, find two numbers such that they add up to a specific target number. Let these two numbers be numbers[index1] and numbers[index2] where 1 <= index1 < index2 < numbers.length.\n",
    "\n",
    "Return the indices of the two numbers, index1, and index2, added by one as an integer array [index1, index2] of length 2.\n",
    "\n",
    "The tests are generated such that there is exactly one solution. You may not use the same element twice.\n",
    "\n",
    "Your solution must use only constant extra space.\n",
    "\n",
    "Input: numbers = [2,7,11,15], target = 9\n",
    "\n",
    "Output: [1,2]\n",
    "\n",
    "Explanation: The sum of 2 and 7 is 9. Therefore, index1 = 1, index2 = 2. We \n",
    "return [1, 2]."
   ]
  },
  {
   "cell_type": "code",
   "execution_count": 1,
   "id": "8b91b2dd-4003-4083-b56b-b9eee9cbfcc3",
   "metadata": {},
   "outputs": [
    {
     "name": "stdout",
     "output_type": "stream",
     "text": [
      "[1, 2]\n"
     ]
    }
   ],
   "source": [
    "numbers = [2,7,11,15]\n",
    "target = 9\n",
    "for i in range(0,4):\n",
    "    for j in range(i+1,4):\n",
    "        if(sum([numbers[i],numbers[j]])==target):\n",
    "            print([numbers.index(numbers[i])+1,numbers.index(numbers[j])+1])\n",
    "                \n",
    "        "
   ]
  },
  {
   "cell_type": "code",
   "execution_count": null,
   "id": "76e4868d-daab-4907-b362-8c6eeaf25028",
   "metadata": {},
   "outputs": [],
   "source": []
  },
  {
   "cell_type": "markdown",
   "id": "f121fa70-ac30-4559-a184-cd18f6534c5a",
   "metadata": {},
   "source": [
    "Q2:-\n",
    "Given an array of integer nums sorted in non-decreasing order, find the starting and ending position of a given target value.\n",
    "If the target is not found in the array, return [-1, -1].\n",
    "\n",
    "You must write an algorithm with O(log n) runtime complexity\n",
    "\n",
    "Input: nums = [5,7,7,8,8,10], target = 8\n",
    "\n",
    "Output: [3,4]"
   ]
  },
  {
   "cell_type": "code",
   "execution_count": 2,
   "id": "67afb574-f3ae-43b7-bdf9-c229cd1c2c89",
   "metadata": {},
   "outputs": [],
   "source": [
    "nums = [5,7,7,8,8,10]\n",
    "target = 8\n",
    "l=[]\n",
    "for i in range(len(nums)):\n",
    "    if(target==nums[i]):\n",
    "        l.append(i)\n",
    "        "
   ]
  },
  {
   "cell_type": "code",
   "execution_count": 3,
   "id": "6e35d869-b1c6-41bb-8dc2-36e6fa924b50",
   "metadata": {},
   "outputs": [
    {
     "data": {
      "text/plain": [
       "[3, 4]"
      ]
     },
     "execution_count": 3,
     "metadata": {},
     "output_type": "execute_result"
    }
   ],
   "source": [
    "l"
   ]
  },
  {
   "cell_type": "code",
   "execution_count": null,
   "id": "e74eb5b8-fff1-491f-a0df-5e7fd99835fc",
   "metadata": {},
   "outputs": [],
   "source": []
  },
  {
   "cell_type": "markdown",
   "id": "d02bff87-7316-4f91-81e3-5b5f46ea8e5c",
   "metadata": {},
   "source": [
    "A peak element is an element that is strictly greater than its neighbors.\n",
    "Given a 0-indexed integer array nums, find a peak element, and return its index. If the array contains multiple peaks, return the index to any of the peaks.\n",
    "\n",
    "You may imagine that nums[-1] = nums[n] = -∞. In other words, an element is always considered to be strictly greater than a neighbor that is outside the array.\n",
    "\n",
    "You must write an algorithm that runs in O(log n) time.\n",
    "\n",
    "Input: nums = [1,2,3,1]\n",
    "\n",
    "Output: 2\n",
    "\n",
    "Explanation: 3 is a peak element and your function should return the index number 2."
   ]
  },
  {
   "cell_type": "code",
   "execution_count": 13,
   "id": "2d11d7ac-d743-4be7-8dd8-ccf3efaaad40",
   "metadata": {},
   "outputs": [
    {
     "data": {
      "text/plain": [
       "2"
      ]
     },
     "execution_count": 13,
     "metadata": {},
     "output_type": "execute_result"
    }
   ],
   "source": [
    "def maxi(nums):    \n",
    "    l=nums.copy()\n",
    "    for i in range(len(l)):\n",
    "        for j in range(i+1,len(l)):\n",
    "            if(l[i]<l[j]):\n",
    "                l[i],l[j]=l[j],l[i]\n",
    "    return nums.index(l[0])\n",
    "\n",
    "nums = [1,2,3,1]\n",
    "maxi(nums)"
   ]
  },
  {
   "cell_type": "code",
   "execution_count": null,
   "id": "4bc1d359-ed3f-48d9-9f0f-02b6e3e675df",
   "metadata": {},
   "outputs": [],
   "source": []
  },
  {
   "cell_type": "markdown",
   "id": "ef9c22f6-6ba4-441b-b7c0-39a4e9ccf826",
   "metadata": {},
   "source": [
    "Q4:-\n",
    "\n",
    "Given a sorted array of distinct integers and a target value, return the index if the target is found. If not, return the index where it would be if it were inserted in order.\n",
    "You must write an algorithm with O(log n) runtime complexity.\n",
    "\n",
    "Input: nums = [1,3,5,6], target = 5\n",
    "\n",
    "Output: 2\n",
    "\n",
    "Input: nums = [1,3,5,6], target = 7\n",
    "\n",
    "Output: 4\n"
   ]
  },
  {
   "cell_type": "code",
   "execution_count": 20,
   "id": "d436423a-5023-470c-b54f-2fe700483681",
   "metadata": {},
   "outputs": [
    {
     "name": "stdout",
     "output_type": "stream",
     "text": [
      "4\n"
     ]
    }
   ],
   "source": [
    "nums = [1,3,5,6]\n",
    "target = 8\n",
    "for i in range(len(nums)):\n",
    "    if(nums[i]==target):\n",
    "        print(i)\n",
    "        break\n",
    "else:\n",
    "    print(len(nums))\n",
    "        "
   ]
  },
  {
   "cell_type": "code",
   "execution_count": null,
   "id": "9b2d13e9-ef9b-4ed7-8e86-ef9c9a26d5ec",
   "metadata": {},
   "outputs": [],
   "source": []
  },
  {
   "cell_type": "markdown",
   "id": "a197eebd-6aef-47b6-8625-6c90d8a9f30a",
   "metadata": {},
   "source": [
    "Find the majority element in the array. A majority element in an array A[] of size n is an element that appears more than n/2 times (and hence there is at most one such element). \n",
    "\n",
    "Input: A[]={3, 3, 4, 2, 4, 4, 2, 4, 4}\n",
    "\n",
    "Output: 4\n",
    "\n",
    "Explanation: The frequency of 4 is 5 which is greater than half of the size of the array size. "
   ]
  },
  {
   "cell_type": "code",
   "execution_count": 15,
   "id": "22a3cb74-8389-4e5f-8575-129a4bb9e0da",
   "metadata": {},
   "outputs": [
    {
     "data": {
      "text/plain": [
       "[4]"
      ]
     },
     "execution_count": 15,
     "metadata": {},
     "output_type": "execute_result"
    }
   ],
   "source": [
    "import pandas as pd\n",
    "A=[3, 3, 4, 2, 4, 4, 2, 4, 4]\n",
    "b=list(pd.DataFrame(data=A).mode()[0])\n",
    "b"
   ]
  },
  {
   "cell_type": "code",
   "execution_count": null,
   "id": "e018cc8e-c428-4de5-9710-a53971c811b1",
   "metadata": {},
   "outputs": [],
   "source": []
  },
  {
   "cell_type": "markdown",
   "id": "b750cd5d-59dc-4578-8549-ddb86ec2cac6",
   "metadata": {},
   "source": [
    "Given an array of integers, find the inversion of an array. Formally, two elements a[i] and a[j] form an inversion if a[i] > a[j] and i < j.\n",
    "\n",
    "N=5, arr[] = {2, 4, 1, 3, 5}\n",
    "\n",
    "Output: 3\n",
    "\n",
    "Explanation: (2,1) (4,1) and (4,3) forms an inversion in an array\n",
    "\n"
   ]
  },
  {
   "cell_type": "code",
   "execution_count": null,
   "id": "b7025ce3-b451-405b-84f4-396ab2578557",
   "metadata": {},
   "outputs": [],
   "source": []
  },
  {
   "cell_type": "markdown",
   "id": "b172a186-189e-4fd8-98ea-d8aea02948a4",
   "metadata": {},
   "source": [
    "Given three arrays sorted in non-decreasing order, print all common elements in these arrays.\n",
    "\n",
    "ar1[] = {1, 5, 10, 20, 40, 80} \n",
    "\n",
    "ar2[] = {6, 7, 20, 80, 100} \n",
    "\n",
    "ar3[] = {3, 4, 15, 20, 30, 70, 80, 120} \n",
    "\n",
    "Output: 20, 80"
   ]
  },
  {
   "cell_type": "code",
   "execution_count": 3,
   "id": "6092de0f-e55b-4335-a04e-c2cfdb249b38",
   "metadata": {},
   "outputs": [],
   "source": [
    "ar1 = [1, 5, 10, 20, 40, 80]\n",
    "\n",
    "ar2= [6, 7, 20, 80, 100]\n",
    "\n",
    "ar3 = [3, 4, 15, 20, 30, 70, 80, 120]\n",
    "l=[]\n",
    "for i in ar1:\n",
    "    if(i in ar2 and i in ar3):\n",
    "        l.append(i)"
   ]
  },
  {
   "cell_type": "code",
   "execution_count": 4,
   "id": "64e6e2a6-f8c2-4367-afd8-0f86252c1d2b",
   "metadata": {},
   "outputs": [
    {
     "data": {
      "text/plain": [
       "[20, 80]"
      ]
     },
     "execution_count": 4,
     "metadata": {},
     "output_type": "execute_result"
    }
   ],
   "source": [
    "l"
   ]
  },
  {
   "cell_type": "code",
   "execution_count": null,
   "id": "ccc4e06b-b77f-4f89-bd1b-780d77146c90",
   "metadata": {},
   "outputs": [],
   "source": []
  }
 ],
 "metadata": {
  "kernelspec": {
   "display_name": "Python 3 (ipykernel)",
   "language": "python",
   "name": "python3"
  },
  "language_info": {
   "codemirror_mode": {
    "name": "ipython",
    "version": 3
   },
   "file_extension": ".py",
   "mimetype": "text/x-python",
   "name": "python",
   "nbconvert_exporter": "python",
   "pygments_lexer": "ipython3",
   "version": "3.10.8"
  }
 },
 "nbformat": 4,
 "nbformat_minor": 5
}
