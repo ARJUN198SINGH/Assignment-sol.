{
 "cells": [
  {
   "cell_type": "markdown",
   "id": "06eccc3a-1ec6-4665-8aff-86b4e1b21955",
   "metadata": {},
   "source": [
    "SOL(1):-API is a way which is used to connect to server when these two servers used different language for their execution.\n",
    "It is used to fetch or provide data between the two servers,API is used in different fields like in e-commerce websites banking apps and many more.\n",
    "\n",
    "SOL(1):-\n",
    "SOL(1):-\n",
    "SOL(1):-\n",
    "SOL(1):-"
   ]
  }
 ],
 "metadata": {
  "kernelspec": {
   "display_name": "Python 3 (ipykernel)",
   "language": "python",
   "name": "python3"
  },
  "language_info": {
   "codemirror_mode": {
    "name": "ipython",
    "version": 3
   },
   "file_extension": ".py",
   "mimetype": "text/x-python",
   "name": "python",
   "nbconvert_exporter": "python",
   "pygments_lexer": "ipython3",
   "version": "3.10.8"
  }
 },
 "nbformat": 4,
 "nbformat_minor": 5
}
