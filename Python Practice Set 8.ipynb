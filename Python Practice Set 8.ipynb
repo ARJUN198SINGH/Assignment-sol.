{
 "cells": [
  {
   "cell_type": "markdown",
   "id": "f5c21f1f-cfe5-4456-8e37-49503c396996",
   "metadata": {},
   "source": [
    "Q1. Write a Python program to create two processes that print out the numbers from 1 to 10 \n",
    "simultaneously."
   ]
  },
  {
   "cell_type": "code",
   "execution_count": 1,
   "id": "41f30434-cb01-433c-9cc5-612a2373e42c",
   "metadata": {},
   "outputs": [
    {
     "name": "stdout",
     "output_type": "stream",
     "text": [
      "1\n",
      "21\n",
      "3\n",
      "\n",
      "24\n",
      "53\n",
      "\n",
      "\n",
      "46\n",
      "\n",
      "75\n",
      "\n",
      "68\n",
      "\n",
      "79\n",
      "\n",
      "108\n",
      "\n",
      "9\n",
      "10\n"
     ]
    }
   ],
   "source": [
    "import multiprocessing\n",
    "\n",
    "def print_numbers(start, end):\n",
    "    for i in range(start, end+1):\n",
    "        print(i)\n",
    "\n",
    "\n",
    "p1 = multiprocessing.Process(target=print_numbers, args=(1, 10))\n",
    "p2 = multiprocessing.Process(target=print_numbers, args=(1, 10))\n",
    "\n",
    "    # Start the processes\n",
    "p1.start()\n",
    "p2.start()\n",
    "\n",
    "    # Wait for the processes to complete\n",
    "    \n"
   ]
  },
  {
   "cell_type": "code",
   "execution_count": 2,
   "id": "7b3558e7-feb1-4e5c-b4da-48d228dbc9e6",
   "metadata": {},
   "outputs": [],
   "source": [
    "p1.join()\n",
    "p2.join()\n"
   ]
  },
  {
   "cell_type": "markdown",
   "id": "0e3d2672-970c-4dbc-9117-114937b34d06",
   "metadata": {},
   "source": [
    "Q2. Write a Python program that creates four processes and computes the sum of the first 1000 integers \n",
    "using multiprocessing."
   ]
  },
  {
   "cell_type": "code",
   "execution_count": 3,
   "id": "62be939e-9b78-4d37-869f-c729392f5a9c",
   "metadata": {},
   "outputs": [
    {
     "name": "stdout",
     "output_type": "stream",
     "text": [
      "499500\n",
      "499500\n",
      "499500\n",
      "499500\n"
     ]
    }
   ],
   "source": [
    "import multiprocessing\n",
    "def print_numbers():\n",
    "    s=0\n",
    "    for i in range(1000):\n",
    "        s=s+i\n",
    "    print(s)\n",
    "p1 = multiprocessing.Process(target=print_numbers)\n",
    "p2 = multiprocessing.Process(target=print_numbers)\n",
    "p3 = multiprocessing.Process(target=print_numbers)\n",
    "p4 = multiprocessing.Process(target=print_numbers)\n",
    "p1.start()\n",
    "p2.start()\n",
    "p3.start()\n",
    "p4.start()\n",
    "\n",
    "p1.join()\n",
    "p2.join()\n",
    "p3.join()\n",
    "p4.join()"
   ]
  },
  {
   "cell_type": "code",
   "execution_count": null,
   "id": "e7456d50-0ead-4661-bb07-b820c350ee5c",
   "metadata": {},
   "outputs": [],
   "source": []
  },
  {
   "cell_type": "markdown",
   "id": "47ed317f-f9f8-4a01-8235-f10e4aa7b68c",
   "metadata": {},
   "source": [
    "Q3. Write a Python program that creates two processes and communicates between them using a Queue. \n",
    "The first process should send a list of numbers to the second process, which should calculate the sum of \n",
    "the numbers and send it back to the first process."
   ]
  },
  {
   "cell_type": "code",
   "execution_count": null,
   "id": "804b3ed3-4107-4822-b44c-e0292dd6692e",
   "metadata": {},
   "outputs": [],
   "source": []
  },
  {
   "cell_type": "markdown",
   "id": "0aa88130-933a-4aa9-a5fb-5431c9fb642f",
   "metadata": {},
   "source": [
    "Q4. Write a program to find the maximum number in a list of lists using multiprocessing."
   ]
  },
  {
   "cell_type": "code",
   "execution_count": 29,
   "id": "c76e83f6-7328-43cd-8713-d50b95403482",
   "metadata": {},
   "outputs": [
    {
     "name": "stdout",
     "output_type": "stream",
     "text": [
      "5554\n"
     ]
    }
   ],
   "source": [
    "import multiprocessing\n",
    "def maxim(a):\n",
    "    for i in range(len(a)):\n",
    "        for j in range(len(a)):\n",
    "            if(a[i]>a[j]):\n",
    "                a[j],a[i]=a[i],a[j]\n",
    "    print(a[0])\n",
    "t=maxim([1,6,34,354,5554,44,4])\n",
    "p1=multiprocessing.Process(target=t)\n",
    "p1.start()"
   ]
  },
  {
   "cell_type": "code",
   "execution_count": null,
   "id": "7d92ed7f-7b47-4acb-a64d-dcb05a08750f",
   "metadata": {},
   "outputs": [],
   "source": []
  },
  {
   "cell_type": "markdown",
   "id": "67f36fbf-397f-42ad-8d65-13d07c050f1e",
   "metadata": {},
   "source": [
    "Q5. Write a Python program that uses the Pool class from the multiprocessing module to calculate the \n",
    "squares of a list of integers."
   ]
  },
  {
   "cell_type": "code",
   "execution_count": 33,
   "id": "fdf68732-1520-440c-a9d9-b241de6231c0",
   "metadata": {},
   "outputs": [
    {
     "name": "stdout",
     "output_type": "stream",
     "text": [
      "[1, 4, 9, 16, 64]\n"
     ]
    }
   ],
   "source": [
    "import multiprocessing\n",
    "def sq(a):\n",
    "    b=[]\n",
    "    for i in range(len(a)):\n",
    "        b.append(a[i]**2)\n",
    "    print(b)\n",
    "p=sq([1,2,3,4,8])\n",
    "p1=multiprocessing.Process(target=p)\n",
    "p1.start()"
   ]
  },
  {
   "cell_type": "code",
   "execution_count": null,
   "id": "ae1a45ee-662f-46ce-8683-1f2acb0a91c5",
   "metadata": {},
   "outputs": [],
   "source": []
  },
  {
   "cell_type": "markdown",
   "id": "fbbd8ff2-af20-4c45-a2c9-177ae00603a6",
   "metadata": {},
   "source": [
    "Q6. How do you create a new process using the multiprocessing module in Python?"
   ]
  },
  {
   "cell_type": "code",
   "execution_count": null,
   "id": "73df59f6-e6eb-4972-b5c5-bfa5341e4a8f",
   "metadata": {},
   "outputs": [],
   "source": []
  },
  {
   "cell_type": "markdown",
   "id": "0a0e8554-b68d-4536-abf3-b7db955a6eec",
   "metadata": {},
   "source": [
    "Q7. How do you use a Pool to execute a function with multiple arguments in parallel?"
   ]
  },
  {
   "cell_type": "code",
   "execution_count": null,
   "id": "86417eaa-8668-43ff-aeed-cdfb9e67da3d",
   "metadata": {},
   "outputs": [],
   "source": []
  },
  {
   "cell_type": "markdown",
   "id": "15d493b5-49c1-4e1e-8619-45628cf0e469",
   "metadata": {},
   "source": [
    "Q8. Write a Python program to calculate the sum of squares of numbers in a list using multiprocessing"
   ]
  },
  {
   "cell_type": "code",
   "execution_count": 42,
   "id": "ee652618-3a7c-4e86-9635-1adc5efbcf46",
   "metadata": {},
   "outputs": [
    {
     "name": "stdout",
     "output_type": "stream",
     "text": [
      "30\n"
     ]
    }
   ],
   "source": [
    "import multiprocessing\n",
    "def sq(a):\n",
    "    s=[]\n",
    "    for i in range(len(a)):\n",
    "        s.append(a[i]**2)\n",
    "    print(sum(s))\n",
    "a=[1,2,5]\n",
    "t=sq(a)\n",
    "p1=multiprocessing.Process(target=t)\n",
    "p1.start()"
   ]
  },
  {
   "cell_type": "code",
   "execution_count": null,
   "id": "0d260fc0-9aac-4991-9b57-d0b2cba44030",
   "metadata": {},
   "outputs": [],
   "source": []
  },
  {
   "cell_type": "markdown",
   "id": "d3e5cc6f-ed91-42d2-97ab-da55d4ccdfd7",
   "metadata": {},
   "source": [
    "Q9. Write a Python program that uses the multiprocessing module to calculate the sum of a large list of \n",
    "integers."
   ]
  },
  {
   "cell_type": "code",
   "execution_count": 2,
   "id": "b3b920ee-7d73-4959-9667-00c8d1981bab",
   "metadata": {},
   "outputs": [
    {
     "name": "stdout",
     "output_type": "stream",
     "text": [
      "10\n"
     ]
    }
   ],
   "source": [
    "import multiprocessing\n",
    "def sq(a):\n",
    "    s=0\n",
    "    for i in a:\n",
    "        s=s+i\n",
    "    print(s)\n",
    "a=[1,2,5,2]\n",
    "t=sq(a)\n",
    "p1=multiprocessing.Process(target=t)\n",
    "p1.start()"
   ]
  },
  {
   "cell_type": "markdown",
   "id": "564cdc57-832f-441e-bd94-6a3acff16183",
   "metadata": {},
   "source": [
    "Q10. Write a Python program that uses the multiprocessing module to parallelize the computation of the \n",
    "factorial of a number."
   ]
  },
  {
   "cell_type": "code",
   "execution_count": 3,
   "id": "469a62ff-ff10-43ba-8d60-74302c03c125",
   "metadata": {},
   "outputs": [
    {
     "name": "stdout",
     "output_type": "stream",
     "text": [
      "120\n"
     ]
    }
   ],
   "source": [
    "import multiprocessing\n",
    "def sq(a):\n",
    "    s=1\n",
    "    for i in range(1,a+1):\n",
    "        s=s*i\n",
    "    print(s)\n",
    "a=5\n",
    "t=sq(a)\n",
    "p1=multiprocessing.Process(target=t)\n",
    "p1.start()"
   ]
  },
  {
   "cell_type": "code",
   "execution_count": null,
   "id": "291a74bd-585b-4d8d-a885-5e0876f0e232",
   "metadata": {},
   "outputs": [],
   "source": []
  },
  {
   "cell_type": "code",
   "execution_count": 33,
   "id": "f92fcc68-ecb0-4f54-af23-36e7efe6c7d6",
   "metadata": {},
   "outputs": [],
   "source": [
    "a=10\n",
    "w=a+1\n",
    "q=[]\n",
    "while(w>1):\n",
    "    w=w-1\n",
    "    b=w\n",
    "    s=1\n",
    "    while(b>0):\n",
    "        s=s*b\n",
    "        b=b-1\n",
    "    q.append(s)\n",
    "q=q[::-1]"
   ]
  },
  {
   "cell_type": "code",
   "execution_count": 34,
   "id": "1acc018e-0315-4fc4-997e-58d8f6af741e",
   "metadata": {},
   "outputs": [
    {
     "data": {
      "text/plain": [
       "[1, 2, 6, 24, 120, 720, 5040, 40320, 362880, 3628800]"
      ]
     },
     "execution_count": 34,
     "metadata": {},
     "output_type": "execute_result"
    }
   ],
   "source": [
    "q"
   ]
  },
  {
   "cell_type": "code",
   "execution_count": 35,
   "id": "69cc773a-87ea-40cb-8ae6-22617a8d2291",
   "metadata": {},
   "outputs": [
    {
     "data": {
      "text/plain": [
       "[1, 2, 6, 24, 120, 720, 5040, 40320, 362880, 3628800]"
      ]
     },
     "execution_count": 35,
     "metadata": {},
     "output_type": "execute_result"
    }
   ],
   "source": [
    "q"
   ]
  },
  {
   "cell_type": "code",
   "execution_count": null,
   "id": "a9b8bdb6-4726-42ca-9740-90f6ada2bc4a",
   "metadata": {},
   "outputs": [],
   "source": []
  }
 ],
 "metadata": {
  "kernelspec": {
   "display_name": "Python 3 (ipykernel)",
   "language": "python",
   "name": "python3"
  },
  "language_info": {
   "codemirror_mode": {
    "name": "ipython",
    "version": 3
   },
   "file_extension": ".py",
   "mimetype": "text/x-python",
   "name": "python",
   "nbconvert_exporter": "python",
   "pygments_lexer": "ipython3",
   "version": "3.10.8"
  }
 },
 "nbformat": 4,
 "nbformat_minor": 5
}
