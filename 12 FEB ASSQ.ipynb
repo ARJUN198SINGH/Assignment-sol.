{
 "cells": [
  {
   "cell_type": "markdown",
   "id": "5fd5a2d1-56a1-4c30-a278-61cb54d239a0",
   "metadata": {},
   "source": [
    "#sol(1):-\n",
    "Exception in Python is the process where there is any error in the code then the exception will raise that error.\n",
    "Syntex error is the error which we get when we do any error in the program and exception is the handling of that error."
   ]
  },
  {
   "cell_type": "markdown",
   "id": "34287534-a2b0-40b4-b08f-559f3d0b4dd0",
   "metadata": {},
   "source": [
    "#sol(2):-\n",
    "When an exception is not handle then the program if the program has an error then will during the time of execution it will throw and error but when we do exception then the program will return the valid error when it is executed"
   ]
  },
  {
   "cell_type": "markdown",
   "id": "09c3e508-e1d0-4e27-b020-3c16b624fde1",
   "metadata": {
    "tags": []
   },
   "source": [
    "#sol(3):-\n",
    "Try accept else and finally statement is used to catch and handle exception in the python."
   ]
  },
  {
   "cell_type": "code",
   "execution_count": 2,
   "id": "16289e32-9ada-4002-8fb2-464b9e1e0734",
   "metadata": {},
   "outputs": [
    {
     "name": "stdin",
     "output_type": "stream",
     "text": [
      "enter 45\n"
     ]
    },
    {
     "name": "stdout",
     "output_type": "stream",
     "text": [
      "try bolck executed 45\n",
      "else executed\n",
      "always executed\n"
     ]
    }
   ],
   "source": [
    "try:\n",
    "    a=int(input('enter'))\n",
    "    print('try bolck executed',a)\n",
    "\n",
    "except:\n",
    "    print('excetion executed')\n",
    "\n",
    "else:\n",
    "    print('else executed')\n",
    "finally:\n",
    "    print('finally always executed')"
   ]
  },
  {
   "cell_type": "code",
   "execution_count": null,
   "id": "d3d22824-5a33-4508-ba3c-abf92d457fe3",
   "metadata": {},
   "outputs": [],
   "source": []
  },
  {
   "cell_type": "code",
   "execution_count": null,
   "id": "9ff094f5-e34d-4cd9-858e-5564e837c51f",
   "metadata": {},
   "outputs": [],
   "source": []
  },
  {
   "cell_type": "markdown",
   "id": "258d13a6-ab88-4731-9064-d37fc7b0783a",
   "metadata": {},
   "source": [
    "#sol(3):-\n",
    "a.try and except"
   ]
  },
  {
   "cell_type": "code",
   "execution_count": 6,
   "id": "b2c0d454-afef-4e4f-b085-e7a66cfe589b",
   "metadata": {},
   "outputs": [
    {
     "name": "stdin",
     "output_type": "stream",
     "text": [
      "enter cv\n"
     ]
    },
    {
     "name": "stdout",
     "output_type": "stream",
     "text": [
      "excetion executed\n"
     ]
    }
   ],
   "source": [
    "try:\n",
    "    a=int(input('enter'))\n",
    "    print('try bolck executed',a)\n",
    "\n",
    "except:\n",
    "    print('excetion executed')\n",
    "\n",
    "else:\n",
    "    print('else executed')\n"
   ]
  },
  {
   "cell_type": "markdown",
   "id": "e30c0541-7588-4542-9bc3-379e04546e76",
   "metadata": {},
   "source": [
    "b.finally"
   ]
  },
  {
   "cell_type": "code",
   "execution_count": 8,
   "id": "83c7f1e8-7bd5-4803-b700-201511bcb87b",
   "metadata": {},
   "outputs": [
    {
     "name": "stdin",
     "output_type": "stream",
     "text": [
      "enter g\n"
     ]
    },
    {
     "name": "stdout",
     "output_type": "stream",
     "text": [
      "excetion executed\n",
      "always executed\n"
     ]
    }
   ],
   "source": [
    "try:\n",
    "    a=int(input('enter'))\n",
    "    print('try bolck executed',a)\n",
    "\n",
    "except:\n",
    "    print('excetion executed')\n",
    "\n",
    "else:\n",
    "    print('else executed')\n",
    "finally:\n",
    "    print('always executed')"
   ]
  },
  {
   "cell_type": "code",
   "execution_count": 13,
   "id": "58fcdf54-1629-4f32-99d0-14fe673844fb",
   "metadata": {},
   "outputs": [
    {
     "name": "stdin",
     "output_type": "stream",
     "text": [
      "enter xd\n"
     ]
    },
    {
     "name": "stdout",
     "output_type": "stream",
     "text": [
      "dfd\n"
     ]
    }
   ],
   "source": [
    "try:\n",
    "    a=int(input('enter'))\n",
    "    print('try bolck executed',a)\n",
    "\n",
    "except :\n",
    "    print('dfd')\n"
   ]
  },
  {
   "cell_type": "code",
   "execution_count": null,
   "id": "95a185d2-bfe3-4557-842c-7cf6791341bf",
   "metadata": {},
   "outputs": [],
   "source": []
  }
 ],
 "metadata": {
  "kernelspec": {
   "display_name": "Python 3 (ipykernel)",
   "language": "python",
   "name": "python3"
  },
  "language_info": {
   "codemirror_mode": {
    "name": "ipython",
    "version": 3
   },
   "file_extension": ".py",
   "mimetype": "text/x-python",
   "name": "python",
   "nbconvert_exporter": "python",
   "pygments_lexer": "ipython3",
   "version": "3.10.8"
  }
 },
 "nbformat": 4,
 "nbformat_minor": 5
}
