{
 "cells": [
  {
   "cell_type": "markdown",
   "id": "e5fa7b81-f1c8-495d-8246-b3ed9fcd5869",
   "metadata": {},
   "source": [
    "Q1: Define overfitting and underfitting in machine learning. What are the consequences of each, and how \n",
    "can they be mitigated?\n",
    "\n",
    "ANS:-In machine learning the over fitting is the process when we train the model more accurately and during test we get poor result of accuracy than the train then this process is called over fitting and in over fitting there is low bias and high variance.\n",
    "\n",
    "In under fitting we train the model not too well and during test we get well accuracy.In underfitting there is high bias and high variance."
   ]
  },
  {
   "cell_type": "code",
   "execution_count": null,
   "id": "082c1035-76c6-4a89-b4cc-850677f47487",
   "metadata": {},
   "outputs": [],
   "source": []
  },
  {
   "cell_type": "markdown",
   "id": "f56d267d-3997-4483-98b3-f8083f4954de",
   "metadata": {},
   "source": [
    "Q2: How can we reduce overfitting? Explain in brief.\n",
    "\n",
    "ANS:-\n",
    "1 By providing the correct data to the model\n",
    "2 By providing the large data to the model for training the model."
   ]
  },
  {
   "cell_type": "code",
   "execution_count": null,
   "id": "500bd1dd-a42b-4856-8b32-302a964c8d0e",
   "metadata": {},
   "outputs": [],
   "source": []
  },
  {
   "cell_type": "markdown",
   "id": "ebad3eac-c4e1-4ffd-a678-07527212399d",
   "metadata": {},
   "source": [
    "Q3: Explain underfitting. List scenarios where underfitting can occur in ML.\n",
    "\n",
    "ANS:-In machine learning the over fitting is the process when we train the model not too well and during test we get poor result of accuracy than the train then this process is called underfitting.\n",
    "\n",
    "In under fitting we train the model not too well and during test we get well accuracy.In underfitting there is high bias and high variance."
   ]
  },
  {
   "cell_type": "code",
   "execution_count": null,
   "id": "17ef140d-b85f-4a26-9f6b-2fbfb6991b7c",
   "metadata": {},
   "outputs": [],
   "source": []
  },
  {
   "cell_type": "markdown",
   "id": "e9b5068b-ab20-45be-b6f5-d7a40c70ea84",
   "metadata": {},
   "source": [
    "Q4: Explain the bias-variance tradeoff in machine learning. What is the relationship between bias and \n",
    "variance, and how do they affect model performance?\n",
    "\n",
    "ANS:- bias variance shows the relation between the train and test of the model where bias shows the accuracy of the train of the model and if the bias is low then we can say that the accuracy of the model to train is very high and if we get low accuracy during the test of the model in this condition the variance is high."
   ]
  },
  {
   "cell_type": "code",
   "execution_count": null,
   "id": "b71413b9-7574-4db1-9f8d-b129792e3dc3",
   "metadata": {},
   "outputs": [],
   "source": []
  },
  {
   "cell_type": "markdown",
   "id": "ae229633-13a3-41a7-a817-e2157d526676",
   "metadata": {},
   "source": [
    "Q5: Discuss some common methods for detecting overfitting and underfitting in machine learning models. \n",
    "How can you determine whether your model is overfitting or underfitting?\n",
    "\n",
    "ANS:-by the use of regularization of the model.\n",
    "Regularization refers to techniques that are used to calibrate machine learning models in order to minimize the adjusted loss function and prevent overfitting or underfitting.\n",
    "during the test of the model we can find out the whether the model is over fitting or under fitting ."
   ]
  },
  {
   "cell_type": "code",
   "execution_count": null,
   "id": "805be94e-8c06-4965-ba57-cca008d521ea",
   "metadata": {},
   "outputs": [],
   "source": []
  },
  {
   "cell_type": "markdown",
   "id": "a9cb2a47-897b-4eaa-99ff-64c167636613",
   "metadata": {},
   "source": [
    "Q6: Compare and contrast bias and variance in machine learning. What are some examples of high bias \n",
    "and high variance models, and how do they differ in terms of their performance?\n",
    "\n",
    "ANS:-bias variance shows the relation between the train and test of the model where bias shows the accuracy of the train of the model and if the bias is low then we can say that the accuracy of the model to train is very high and if we get low accuracy during the test of the model in this condition the variance is high."
   ]
  },
  {
   "cell_type": "code",
   "execution_count": null,
   "id": "bd4ab79b-5286-4450-9edf-0a295dd994f7",
   "metadata": {},
   "outputs": [],
   "source": []
  },
  {
   "cell_type": "markdown",
   "id": "ef39e159-e159-4eb4-8140-15627222a962",
   "metadata": {},
   "source": [
    "Q7: What is regularization in machine learning, and how can it be used to prevent overfitting? Describe \n",
    "some common regularization techniques and how they work.\n",
    "\n",
    "ANS:-Regularization refers to techniques that are used to calibrate machine learning models in order to minimize the adjusted loss function and prevent overfitting or underfitting."
   ]
  },
  {
   "cell_type": "code",
   "execution_count": null,
   "id": "544a37de-2577-4d6e-b239-230d2370b136",
   "metadata": {},
   "outputs": [],
   "source": []
  },
  {
   "cell_type": "code",
   "execution_count": null,
   "id": "7e1fb275-af1a-4e25-9ef6-e762ab5fc350",
   "metadata": {},
   "outputs": [],
   "source": []
  }
 ],
 "metadata": {
  "kernelspec": {
   "display_name": "Python 3 (ipykernel)",
   "language": "python",
   "name": "python3"
  },
  "language_info": {
   "codemirror_mode": {
    "name": "ipython",
    "version": 3
   },
   "file_extension": ".py",
   "mimetype": "text/x-python",
   "name": "python",
   "nbconvert_exporter": "python",
   "pygments_lexer": "ipython3",
   "version": "3.10.8"
  }
 },
 "nbformat": 4,
 "nbformat_minor": 5
}
