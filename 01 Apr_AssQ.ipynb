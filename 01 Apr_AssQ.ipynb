{
 "cells": [
  {
   "cell_type": "markdown",
   "id": "4bec3601-df5a-43f2-bffd-43766ae17b07",
   "metadata": {},
   "source": [
    "Q1. Explain the difference between linear regression and logistic regression models. Provide an example of \n",
    "a scenario where logistic regression would be more appropriate.\n",
    "\n",
    "ANS:-\n",
    "Linear regression is the regression by which we can train the modern and get the output as light when it varies with the data. logistic regulation in the regression by which we train the model and get the output as binary number and by using these binary number we can predict our output.\n",
    "for example when we have diabetic data then we can predict by using binary numbers and can determine a person is diabetic or non diabetic and the example for linear regression is like the amount of chemical which we have to use in the field for agriculture when we have different different features in the data set."
   ]
  },
  {
   "cell_type": "code",
   "execution_count": null,
   "id": "6176caac-28ac-4bc8-8093-b6282446fb34",
   "metadata": {},
   "outputs": [],
   "source": []
  },
  {
   "cell_type": "markdown",
   "id": "482f43d5-d923-4d98-bdee-7b4d7e3983ae",
   "metadata": {},
   "source": [
    "Q2. What is the cost function used in logistic regression, and how is it optimized?\n",
    "\n",
    "ANS:- Cost function is used in logistic reaction by which it is a bell curve which provides the nimal Global Value and we can train the model which has high accuracy and prediction. by using cost function we can increase or decrease the slope of the logistic regression line."
   ]
  },
  {
   "cell_type": "code",
   "execution_count": null,
   "id": "844a6841-f16a-4114-b93b-9aec82ea1727",
   "metadata": {},
   "outputs": [],
   "source": []
  },
  {
   "cell_type": "markdown",
   "id": "8e6d81a7-2edc-4778-b873-46a2ac132025",
   "metadata": {},
   "source": [
    "Q3. Explain the concept of regularization in logistic regression and how it helps prevent overfitting?\n",
    "\n",
    "ANS:-Regularization is used to reduce the complexity of the prediction function by imposing a penalty. In the case of the linear relationship, regularization adds the following term to the cost fuction: where D is the dimension of features."
   ]
  },
  {
   "cell_type": "code",
   "execution_count": null,
   "id": "5b7f813a-608f-4f23-ad7c-b108df38de5f",
   "metadata": {},
   "outputs": [],
   "source": []
  },
  {
   "cell_type": "markdown",
   "id": "ba32294b-5105-4a95-9dea-ed0e14451f67",
   "metadata": {},
   "source": [
    "Q4. What is the ROC curve, and how is it used to evaluate the performance of the logistic regression \n",
    "model?\n",
    "\n",
    "ANS:-An ROC curve (receiver operating characteristic curve) is a graph showing the performance of a classification model at all classification thresholds. This curve plots two parameters: True Positive Rate. False Positive Rate."
   ]
  },
  {
   "cell_type": "code",
   "execution_count": null,
   "id": "51142f2c-2b86-4a42-96b9-aacf866fb472",
   "metadata": {},
   "outputs": [],
   "source": []
  },
  {
   "cell_type": "markdown",
   "id": "39a504b1-f45b-45bf-9572-7971787ddeac",
   "metadata": {},
   "source": [
    "Q5. What are some common techniques for feature selection in logistic regression? How do these \n",
    "techniques help improve the model's performance?\n",
    "\n",
    "ANS:- some common technique for feature selection in logistic regression are:-\n",
    "\n",
    "(1)firstly we will escalate the train and test data set After that we train the model by using logistic regression function.\n",
    "\n",
    "(2)we use logistic regression function from SK learn library by using model selection.\n",
    "\n",
    "(3)after that we scaled the x_train Dataset and XTest Dataset\n",
    "\n",
    "(4)after training the model we predict the value by using x_test_scaled dataset\n"
   ]
  },
  {
   "cell_type": "code",
   "execution_count": null,
   "id": "3d6eece3-5552-49f2-8ed5-174d3c9ada16",
   "metadata": {},
   "outputs": [],
   "source": []
  },
  {
   "cell_type": "markdown",
   "id": "770e0dec-41f0-41e0-b25e-2c46aab4d384",
   "metadata": {},
   "source": [
    "Q6. How can you handle imbalanced datasets in logistic regression? What are some strategies for dealing \n",
    "with class imbalance?\n",
    "\n",
    "ANS:- we can handle imbalanced datasets in logistic regression by using gridsearch cv.it provides estimate value of cv and other factors which help to provide high accuracy and good prediction."
   ]
  },
  {
   "cell_type": "code",
   "execution_count": null,
   "id": "2572a696-2875-46ce-9b87-07d71351107a",
   "metadata": {},
   "outputs": [],
   "source": []
  },
  {
   "cell_type": "markdown",
   "id": "8f87dd94-2ce8-4928-a25f-722ff0293c65",
   "metadata": {},
   "source": [
    "Q7. Can you discuss some common issues and challenges that may arise when implementing logistic \n",
    "regression, and how they can be addressed? For example, what can be done if there is multicollinearity \n",
    "among the independent variables?\n",
    "\n",
    "ANS:-Cost Savings On Transportation:-\n",
    "\n",
    "This is the industry's one of the greatest difficulties, as transportation accounts for a sizable portion of total logistics expenses. A key source of concern for logistics businesses worldwide is the rise in fuel prices, as they account for most of the increase in transportation costs.\n",
    "\n",
    "Multicollinearity can cause unstable estimates and inac- curate variances which affects confidence intervals and hypothesis tests. The existence of collinearity inflates the variances of the parameter estimates, and consequently incorrect inferences about relationships between explanatory and response variables."
   ]
  },
  {
   "cell_type": "code",
   "execution_count": null,
   "id": "0326301c-17eb-4f93-95b2-1b1edd948c9e",
   "metadata": {},
   "outputs": [],
   "source": []
  },
  {
   "cell_type": "markdown",
   "id": "642caff9-d1c3-485e-b339-bcd880f6a5a1",
   "metadata": {},
   "source": []
  },
  {
   "cell_type": "code",
   "execution_count": null,
   "id": "95cf402f-081d-448a-ac48-fa2cd2c4ab4a",
   "metadata": {},
   "outputs": [],
   "source": []
  }
 ],
 "metadata": {
  "kernelspec": {
   "display_name": "Python 3 (ipykernel)",
   "language": "python",
   "name": "python3"
  },
  "language_info": {
   "codemirror_mode": {
    "name": "ipython",
    "version": 3
   },
   "file_extension": ".py",
   "mimetype": "text/x-python",
   "name": "python",
   "nbconvert_exporter": "python",
   "pygments_lexer": "ipython3",
   "version": "3.10.8"
  }
 },
 "nbformat": 4,
 "nbformat_minor": 5
}
