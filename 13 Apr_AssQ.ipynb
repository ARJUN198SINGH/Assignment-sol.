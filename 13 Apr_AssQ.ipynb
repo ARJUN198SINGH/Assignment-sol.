{
 "cells": [
  {
   "cell_type": "markdown",
   "id": "d64e0bd6-e38d-4325-9e24-52f0fafe6035",
   "metadata": {},
   "source": [
    "Q1. What is Random Forest Regressor?\n",
    "\n",
    "ANS:-Random Forest Regression is a supervised learning algorithm that uses ensemble learning method for regression. Ensemble learning method is a technique that combines predictions from multiple machine learning algorithms to make a more accurate prediction than a single model."
   ]
  },
  {
   "cell_type": "code",
   "execution_count": null,
   "id": "c55298ea-85ef-4232-9e78-dfe84c3d7e3f",
   "metadata": {},
   "outputs": [],
   "source": []
  },
  {
   "cell_type": "markdown",
   "id": "4119e290-cc24-455b-8787-c86b3e69b616",
   "metadata": {},
   "source": [
    "Q2. How does Random Forest Regressor reduce the risk of overfitting?\n",
    "\n",
    "ANS:-Random forests deals with the problem of overfitting by creating multiple trees, with each tree trained slightly differently so it overfits differently."
   ]
  },
  {
   "cell_type": "code",
   "execution_count": null,
   "id": "28cf0d5d-e5be-4f12-acd4-737d4ab72179",
   "metadata": {},
   "outputs": [],
   "source": []
  },
  {
   "cell_type": "markdown",
   "id": "564dd595-ff5d-498b-bea2-ad0ff641521f",
   "metadata": {},
   "source": [
    "Q3. How does Random Forest Regressor aggregate the predictions of multiple decision trees?\n",
    "\n",
    "ANS:-The Random Forest Algorithm combines the output of multiple (randomly created) Decision Trees to generate the final output. This process of combining the output of multiple individual models (also known as weak learners) is called Ensemble Learning"
   ]
  },
  {
   "cell_type": "code",
   "execution_count": null,
   "id": "7345d7f6-cef0-41a6-acf5-cdedc5d424da",
   "metadata": {},
   "outputs": [],
   "source": []
  },
  {
   "cell_type": "markdown",
   "id": "03cd673c-6467-4259-89f8-7ffaeb7f82f0",
   "metadata": {},
   "source": [
    "Q4. What are the hyperparameters of Random Forest Regressor?\n",
    "\n",
    "ANS:-In random forest, the hyperparameters are the number of trees, number of features and the type of trees (such as GBM or M5). The number of features is important and should be tuned. In this case, random forest is useful because it automatically tunes the number of features."
   ]
  },
  {
   "cell_type": "code",
   "execution_count": null,
   "id": "8b44887a-144f-485c-9d04-a45c8e5e43a0",
   "metadata": {},
   "outputs": [],
   "source": []
  },
  {
   "cell_type": "markdown",
   "id": "51370892-3320-44c3-a58b-229f35eadf7e",
   "metadata": {},
   "source": [
    "Q5. What is the difference between Random Forest Regressor and Decision Tree Regressor?\n",
    "\n",
    "ANS:-A decision tree combines some decisions, whereas a random forest combines several decision trees. Thus, it is a long process, yet slow. Whereas, a decision tree is fast and operates easily on large data sets, especially the linear one. The random forest model needs rigorous training."
   ]
  },
  {
   "cell_type": "code",
   "execution_count": null,
   "id": "d1ae75cf-b70f-4540-8faf-72718d4a5e79",
   "metadata": {},
   "outputs": [],
   "source": []
  },
  {
   "cell_type": "markdown",
   "id": "2a0a8570-e23e-4c75-b791-4234bfd5a2fa",
   "metadata": {},
   "source": [
    "Q6. What are the advantages and disadvantages of Random Forest Regressor?\n",
    "\n",
    "ANS:-The random forest has complex visualization and accurate predictions, but the decision tree has simple visualization and less accurate predictions. The advantages of Random Forest are that it prevents overfitting and is more accurate in predictions."
   ]
  },
  {
   "cell_type": "code",
   "execution_count": null,
   "id": "01076d24-9a2b-40b1-a904-36e5fcef554b",
   "metadata": {},
   "outputs": [],
   "source": []
  },
  {
   "cell_type": "markdown",
   "id": "c391c5e0-e967-40ec-aa74-9f6b7d11895d",
   "metadata": {},
   "source": [
    "Q7. What is the output of Random Forest Regressor?\n",
    "\n",
    "ANS:-For classification tasks, the output of the random forest is the class selected by most trees. For regression tasks, the mean or average prediction of the individual trees is returned. Random decision forests correct for decision trees' habit of overfitting to their training set."
   ]
  },
  {
   "cell_type": "code",
   "execution_count": null,
   "id": "36390e63-ef1c-485c-b944-b95c374bfc25",
   "metadata": {},
   "outputs": [],
   "source": []
  },
  {
   "cell_type": "markdown",
   "id": "05c6d15f-f826-44fb-937a-46b8fad6ad45",
   "metadata": {},
   "source": [
    "Q8. Can Random Forest Regressor be used for classification tasks?\n",
    "\n",
    "ANS:-YES,Random Forest is a popular machine learning algorithm used for classification and regression tasks due to its high accuracy, robustness, feature importance, versatility, and scalability."
   ]
  },
  {
   "cell_type": "code",
   "execution_count": null,
   "id": "9630f9f4-098e-42b2-9291-47685d8a89f8",
   "metadata": {},
   "outputs": [],
   "source": []
  }
 ],
 "metadata": {
  "kernelspec": {
   "display_name": "Python 3 (ipykernel)",
   "language": "python",
   "name": "python3"
  },
  "language_info": {
   "codemirror_mode": {
    "name": "ipython",
    "version": 3
   },
   "file_extension": ".py",
   "mimetype": "text/x-python",
   "name": "python",
   "nbconvert_exporter": "python",
   "pygments_lexer": "ipython3",
   "version": "3.10.8"
  }
 },
 "nbformat": 4,
 "nbformat_minor": 5
}
