{
 "cells": [
  {
   "cell_type": "markdown",
   "id": "a740f3b3-8ab6-4130-97f4-fa8c7649abc5",
   "metadata": {},
   "source": [
    "#SOL(1):-\n",
    "Open function is used to open a file.\n",
    "There are different modes of opening a file like 'w' for write operation \n",
    "and 'r' for read operation and 'a' for append operation."
   ]
  },
  {
   "cell_type": "code",
   "execution_count": 14,
   "id": "7619a813-9f8d-42e4-a87f-05a2747311c4",
   "metadata": {},
   "outputs": [],
   "source": [
    "f=open('sol.txt','w')\n",
    "f.write('data science')\n",
    "f.close()"
   ]
  },
  {
   "cell_type": "code",
   "execution_count": 15,
   "id": "0353e972-f7ba-422e-84b8-951c44c74648",
   "metadata": {},
   "outputs": [],
   "source": [
    "f=open('sol.txt','r')\n"
   ]
  },
  {
   "cell_type": "code",
   "execution_count": 16,
   "id": "06e82483-4613-4e3e-95b5-f6327d278f32",
   "metadata": {},
   "outputs": [
    {
     "data": {
      "text/plain": [
       "'data science'"
      ]
     },
     "execution_count": 16,
     "metadata": {},
     "output_type": "execute_result"
    }
   ],
   "source": [
    "f.read()"
   ]
  },
  {
   "cell_type": "code",
   "execution_count": 17,
   "id": "3f56e8d9-542d-48e2-8c06-4f965436fdd0",
   "metadata": {},
   "outputs": [],
   "source": [
    "f.close()"
   ]
  },
  {
   "cell_type": "code",
   "execution_count": 18,
   "id": "792dc83a-09e8-4c61-b76d-2814d234f198",
   "metadata": {},
   "outputs": [],
   "source": [
    "f=open('sol.txt','a')\n",
    "f.write('yes its is data science')\n",
    "f.close()"
   ]
  },
  {
   "cell_type": "code",
   "execution_count": 19,
   "id": "f8049ddb-3898-4c0f-ab2f-6cec134ae606",
   "metadata": {},
   "outputs": [
    {
     "data": {
      "text/plain": [
       "'data scienceyes its is data science'"
      ]
     },
     "execution_count": 19,
     "metadata": {},
     "output_type": "execute_result"
    }
   ],
   "source": [
    "f=open('sol.txt','r')\n",
    "f.read()"
   ]
  },
  {
   "cell_type": "code",
   "execution_count": 20,
   "id": "7bc003cc-9710-42ab-8cc8-2a035dc260cd",
   "metadata": {},
   "outputs": [],
   "source": [
    "f.close()"
   ]
  },
  {
   "cell_type": "code",
   "execution_count": null,
   "id": "8438f5fc-32df-4eff-bcff-1948f74292cd",
   "metadata": {},
   "outputs": [],
   "source": []
  },
  {
   "cell_type": "markdown",
   "id": "a0ce66ea-2982-4d2f-a99c-b4f885313d04",
   "metadata": {},
   "source": [
    "#SOL(2):-Close function is used to close the file in file handling.\n",
    "files are limited resources managed by the operating system."
   ]
  },
  {
   "cell_type": "code",
   "execution_count": 25,
   "id": "ebcecbeb-5771-4e98-a0e5-64e9ffe412f4",
   "metadata": {},
   "outputs": [],
   "source": [
    "#SOL(3):-\n",
    "q3=open('Q3.txt','w')\n",
    "q3.write('I want to become a Data Scientist')\n",
    "q3.close()"
   ]
  },
  {
   "cell_type": "code",
   "execution_count": 27,
   "id": "b3ea8d30-fd25-4788-8a4b-f6359c45595a",
   "metadata": {},
   "outputs": [
    {
     "data": {
      "text/plain": [
       "'I want to become a Data Scientist'"
      ]
     },
     "execution_count": 27,
     "metadata": {},
     "output_type": "execute_result"
    }
   ],
   "source": [
    "q3=open('Q3.txt','r')\n",
    "q3.read()\n"
   ]
  },
  {
   "cell_type": "code",
   "execution_count": 28,
   "id": "7d01cb84-1007-4b4c-8f6a-4d60b70b82fb",
   "metadata": {},
   "outputs": [],
   "source": [
    "q3.close()"
   ]
  },
  {
   "cell_type": "code",
   "execution_count": 33,
   "id": "cc3f8891-4b16-4014-99b8-085515c09e1a",
   "metadata": {},
   "outputs": [],
   "source": [
    "#SOL(4):-\n",
    "q4=open('Q4.txt','w')\n",
    "q4.write('The title above a story in a newspaper, magazine ornewsletter is called a headline, or \"hed\" (\"head\") in print journalism, or a \"heading\" in online pages. It has the same function in mass media writing as a lead, to call attention to the story, to snare people in.')\n",
    "q4.close()"
   ]
  },
  {
   "cell_type": "code",
   "execution_count": 34,
   "id": "56167d97-a4ed-4934-914c-c0c55ea94e09",
   "metadata": {},
   "outputs": [
    {
     "data": {
      "text/plain": [
       "'The title above a story in a newspaper, magazine ornewsletter is called a headline, or \"hed\" (\"head\") in print journalism, or a \"heading\" in online pages. It has the same function in mass media writing as a lead, to call attention to the story, to snare people in.'"
      ]
     },
     "execution_count": 34,
     "metadata": {},
     "output_type": "execute_result"
    }
   ],
   "source": [
    "\n",
    "q4=open('Q4.txt','r')\n",
    "q4.read()\n"
   ]
  },
  {
   "cell_type": "markdown",
   "id": "fec4db65-0ce8-4838-a24c-64ff51f68b06",
   "metadata": {},
   "source": [
    "Read function just read all the lines which is present in the file"
   ]
  },
  {
   "cell_type": "code",
   "execution_count": 35,
   "id": "c03dc25b-8233-4650-9a3b-a72c95a0109a",
   "metadata": {},
   "outputs": [
    {
     "data": {
      "text/plain": [
       "'The title above a story in a newspaper, magazine ornewsletter is called a headline, or \"hed\" (\"head\") in print journalism, or a \"heading\" in online pages. It has the same function in mass media writing as a lead, to call attention to the story, to snare people in.'"
      ]
     },
     "execution_count": 35,
     "metadata": {},
     "output_type": "execute_result"
    }
   ],
   "source": [
    "q4=open('Q4.txt','r')\n",
    "q4.readline()\n"
   ]
  },
  {
   "cell_type": "markdown",
   "id": "86b77753-0ac6-4991-b773-692cb761a076",
   "metadata": {},
   "source": [
    "Read line function is also read all the lines which is present in the file from starting to the end"
   ]
  },
  {
   "cell_type": "code",
   "execution_count": 36,
   "id": "25d83c05-7ee8-41e6-9e14-0e146f349de3",
   "metadata": {},
   "outputs": [
    {
     "data": {
      "text/plain": [
       "['The title above a story in a newspaper, magazine ornewsletter is called a headline, or \"hed\" (\"head\") in print journalism, or a \"heading\" in online pages. It has the same function in mass media writing as a lead, to call attention to the story, to snare people in.']"
      ]
     },
     "execution_count": 36,
     "metadata": {},
     "output_type": "execute_result"
    }
   ],
   "source": [
    "q4=open('Q4.txt','r')\n",
    "q4.readlines()\n"
   ]
  },
  {
   "cell_type": "markdown",
   "id": "2e5e02b0-0a6b-4beb-b2da-0cd893ee4658",
   "metadata": {},
   "source": [
    "Readlines function is also read all the lines which is present in the \n",
    "file from starting to the end and put it in the list"
   ]
  },
  {
   "cell_type": "markdown",
   "id": "460efbfa-4782-4049-b04d-8affc3f5125a",
   "metadata": {},
   "source": [
    "#SOL(5):-\n",
    "With open statement is the statement which is used to create and performing operation on the file and the advantages of using with open statement that we don't need to close that file because it will automatically close that file and we don't need to close that file manually."
   ]
  },
  {
   "cell_type": "code",
   "execution_count": null,
   "id": "0c4dc72a-a541-40eb-90bc-4ef80d65548c",
   "metadata": {},
   "outputs": [],
   "source": []
  },
  {
   "cell_type": "code",
   "execution_count": 39,
   "id": "3401351d-f260-4dca-8e8c-f8b912c2fb4c",
   "metadata": {},
   "outputs": [],
   "source": [
    "#SOL(6):-\n",
    "q5=open('Q5.txt','w')\n",
    "q5.write('Yoga is a group of physical, mental, and spiritual practices or disciplines which originated in ancient India and aim to control (yoke) and still the mind, recognizing a detached witness-consciousness untouched by the mind (Chitta) and mundane suffering (Duḥkha). There is a wide variety of schools of yoga, practices, and goals[2] in Hinduism, Buddhism, and Jainism,[3][4][5] and traditional and modern yoga is practiced worldwide.[')\n",
    "q5.close()"
   ]
  },
  {
   "cell_type": "code",
   "execution_count": 40,
   "id": "fff2f1b9-f0dc-4e04-b4ce-6daaee297aaf",
   "metadata": {},
   "outputs": [],
   "source": [
    "q5=open('Q5.txt','w')\n",
    "q5.writelines('Yoga is a group of physical, mental, and spiritual practices or disciplines which originated in ancient India and aim to control (yoke) and still the mind, recognizing a detached witness-consciousness untouched by the mind (Chitta) and mundane suffering (Duḥkha). There is a wide variety of schools of yoga, practices, and goals[2] in Hinduism, Buddhism, and Jainism,[3][4][5] and traditional and modern yoga is practiced worldwide.[')\n",
    "q5.close()"
   ]
  },
  {
   "cell_type": "markdown",
   "id": "21c1a0c5-3e48-411d-8bee-434cea4ec855",
   "metadata": {},
   "source": [
    "The only difference between the write() and writelines() is that write() is used to write a string to an already opened file while writelines() method is used to write a list of strings in an opened file."
   ]
  },
  {
   "cell_type": "code",
   "execution_count": null,
   "id": "0abb8284-6d8c-41ca-ae21-42db653c9e29",
   "metadata": {},
   "outputs": [],
   "source": []
  }
 ],
 "metadata": {
  "kernelspec": {
   "display_name": "Python 3 (ipykernel)",
   "language": "python",
   "name": "python3"
  },
  "language_info": {
   "codemirror_mode": {
    "name": "ipython",
    "version": 3
   },
   "file_extension": ".py",
   "mimetype": "text/x-python",
   "name": "python",
   "nbconvert_exporter": "python",
   "pygments_lexer": "ipython3",
   "version": "3.10.8"
  }
 },
 "nbformat": 4,
 "nbformat_minor": 5
}
