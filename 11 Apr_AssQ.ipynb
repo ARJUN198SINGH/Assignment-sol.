{
 "cells": [
  {
   "cell_type": "markdown",
   "id": "457573f8-43ab-4b8b-b5f1-dce1193dbd65",
   "metadata": {},
   "source": [
    "Q1. What is an ensemble technique in machine learning?\n",
    "\n",
    "ANS:-Ensemble methods are techniques that create multiple models and then combine them to produce improved results. Ensemble methods usually produces more accurate solutions than a single model would. "
   ]
  },
  {
   "cell_type": "code",
   "execution_count": null,
   "id": "59b32af3-cc5b-4630-9404-9beba762a22a",
   "metadata": {},
   "outputs": [],
   "source": []
  },
  {
   "cell_type": "markdown",
   "id": "833e37f0-40be-4918-8c67-460959fa0325",
   "metadata": {},
   "source": [
    "Q2. Why are ensemble techniques used in machine learning?\n",
    "\n",
    "ANS:-Ensemble methods are techniques that create multiple models and then combine them to produce improved results. Ensemble methods usually produces more accurate solutions than a single model would. This has been the case in a number of machine learning competitions, where the winning solutions used ensemble methods."
   ]
  },
  {
   "cell_type": "code",
   "execution_count": null,
   "id": "89cd7726-0aa3-455b-9178-1177c6bf9a8a",
   "metadata": {},
   "outputs": [],
   "source": []
  },
  {
   "cell_type": "markdown",
   "id": "298fb196-4af4-45f8-ade1-d12193d0d880",
   "metadata": {},
   "source": [
    "Q3. What is bagging?\n",
    "\n",
    "ANS:-Bagging, also known as bootstrap aggregation, is the ensemble learning method that is commonly used to reduce variance within a noisy dataset. In bagging, a random sample of data in a training set is selected with replacement—meaning that the individual data points can be chosen more than once."
   ]
  },
  {
   "cell_type": "code",
   "execution_count": null,
   "id": "178c7882-ece9-42a4-9e6a-c699de2eae40",
   "metadata": {},
   "outputs": [],
   "source": []
  },
  {
   "cell_type": "markdown",
   "id": "12e49bce-4d64-43e6-8ce3-c4d8fa00a54c",
   "metadata": {},
   "source": [
    "Q4. What is boosting?\n",
    "\n",
    "ANS:-Boosting is a method used in machine learning to reduce errors in predictive data analysis. Data scientists train machine learning software, called machine learning models, on labeled data to make guesses about unlabeled data."
   ]
  },
  {
   "cell_type": "code",
   "execution_count": null,
   "id": "4804234d-1baf-40f3-962e-844a6c37e83f",
   "metadata": {},
   "outputs": [],
   "source": []
  },
  {
   "cell_type": "markdown",
   "id": "c654e644-3984-4cec-93da-c1b1f0d403c1",
   "metadata": {},
   "source": [
    "Q5. What are the benefits of using ensemble techniques?\n",
    "\n",
    "ANS:-Advantages/Benefits of ensemble methods:-\n",
    "\n",
    "Ensemble methods have higher predictive accuracy, compared to the individual models.\n",
    "\n",
    "Ensemble methods are very useful when there is both linear and non-linear type of data in the dataset; different models can be combined to handle this type of data."
   ]
  },
  {
   "cell_type": "code",
   "execution_count": null,
   "id": "56334780-179a-41b0-a852-24d91b089f4d",
   "metadata": {},
   "outputs": [],
   "source": []
  },
  {
   "cell_type": "markdown",
   "id": "b558bfb3-4498-43e2-976d-6b8a8156f165",
   "metadata": {},
   "source": [
    "Q6. Are ensemble techniques always better than individual models?\n",
    "\n",
    "ANS:- An ensemble can make better predictions and achieve better performance than any single contributing model. "
   ]
  },
  {
   "cell_type": "code",
   "execution_count": null,
   "id": "da9a7c24-5e4e-43a4-a293-1546892bbf79",
   "metadata": {},
   "outputs": [],
   "source": []
  },
  {
   "cell_type": "markdown",
   "id": "2e209415-968a-4887-81f6-940a8521298d",
   "metadata": {},
   "source": [
    "Q7. How is the confidence interval calculated using bootstrap?\n",
    "\n",
    "ANS:-Once the standard error is calculated, the confidence interval is determined by multiplying the standard error by a constant that reflects the level of significance desired, based on the normal distribution."
   ]
  },
  {
   "cell_type": "code",
   "execution_count": null,
   "id": "286887cd-8cc4-428d-8596-774ff21721e2",
   "metadata": {},
   "outputs": [],
   "source": []
  },
  {
   "cell_type": "markdown",
   "id": "05a801ce-70d7-4c32-a6cd-c01e6eab9523",
   "metadata": {},
   "source": [
    "Q8. How does bootstrap work and What are the steps involved in bootstrap?\n",
    "\n",
    "ANS:-Bootstrap Method\n",
    "\n",
    "Choose a number of bootstrap samples to perform.\n",
    "\n",
    "Choose a sample size.\n",
    "\n",
    "For each bootstrap sample. Draw a sample with replacement with the chosen size. Calculate the statistic on the sample.\n",
    "\n",
    "Calculate the mean of the calculated sample statistics."
   ]
  },
  {
   "cell_type": "code",
   "execution_count": null,
   "id": "9b9dd407-9f23-45b6-a0a8-939d3e0dad3e",
   "metadata": {},
   "outputs": [],
   "source": []
  },
  {
   "cell_type": "markdown",
   "id": "c6bf3093-d522-45af-853b-908c0c75543e",
   "metadata": {},
   "source": [
    "Q9. A researcher wants to estimate the mean height of a population of trees. They measure the height of a \n",
    "sample of 50 trees and obtain a mean height of 15 meters and a standard deviation of 2 meters. Use \n",
    "bootstrap to estimate the 95% confidence interval for the population mean height.\n",
    "\n",
    "ANS:-   ???"
   ]
  },
  {
   "cell_type": "code",
   "execution_count": null,
   "id": "ce8aff3e-2c7b-4678-a32d-5b05ef739ee2",
   "metadata": {},
   "outputs": [],
   "source": []
  }
 ],
 "metadata": {
  "kernelspec": {
   "display_name": "Python 3 (ipykernel)",
   "language": "python",
   "name": "python3"
  },
  "language_info": {
   "codemirror_mode": {
    "name": "ipython",
    "version": 3
   },
   "file_extension": ".py",
   "mimetype": "text/x-python",
   "name": "python",
   "nbconvert_exporter": "python",
   "pygments_lexer": "ipython3",
   "version": "3.10.8"
  }
 },
 "nbformat": 4,
 "nbformat_minor": 5
}
