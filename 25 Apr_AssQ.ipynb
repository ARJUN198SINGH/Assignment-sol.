{
 "cells": [
  {
   "cell_type": "markdown",
   "id": "a8bba2ef-ddbb-4160-87c6-194286045b57",
   "metadata": {},
   "source": [
    "Q1. What are Eigenvalues and Eigenvectors? How are they related to the Eigen-Decomposition approach? \n",
    "Explain with an example.\n",
    "\n",
    "ANS:-Eigenvalues are the special set of scalar values that is associated with the set of linear equations most probably in the matrix equations. \n",
    "\n",
    "The eigenvectors are also termed as characteristic roots. It is a non-zero vector that can be changed at most by its scalar factor after the application of linear transformations."
   ]
  },
  {
   "cell_type": "code",
   "execution_count": null,
   "id": "4dd6147e-3931-40eb-98d9-eeca1bf1e363",
   "metadata": {},
   "outputs": [],
   "source": []
  },
  {
   "cell_type": "markdown",
   "id": "ff712b46-db50-46f3-8046-c2b0ef55e08d",
   "metadata": {},
   "source": [
    "Q2. What is eigen decomposition and what is its significance in linear algebra?\n",
    "\n",
    "ANS:-Eigendecomposition provides us with a tool to decompose a matrix by discovering the eigenvalues and the eigenvectors. This operation can prove useful since it allows certain matrix operations to be easier to perform and it also tells us important facts about the matrix itself.\n",
    "\n",
    "Eigendecomposition provides us with a tool to decompose a matrix by discovering the eigenvalues and the eigenvectors. This operation can prove useful since it allows certain matrix operations to be easier to perform and it also tells us important facts about the matrix itself."
   ]
  },
  {
   "cell_type": "code",
   "execution_count": null,
   "id": "9aa6b97d-bd96-49dc-bce9-9826eaf0d740",
   "metadata": {},
   "outputs": [],
   "source": []
  },
  {
   "cell_type": "markdown",
   "id": "a29a3104-7716-45e6-93d8-ff658d070abf",
   "metadata": {},
   "source": [
    "Q3. What are the conditions that must be satisfied for a square matrix to be diagonalizable using the \n",
    "Eigen-Decomposition approach? Provide a brief proof to support your answer.\n",
    "\n",
    "ANS:-Diagonalizable matrices are similar if and only if they have the same characteristic polynomial, or equivalently, the same eigenvalues with the same algebraic multiplicities.\n",
    "\n",
    "Hence, a matrix is diagonalizable if and only if its nilpotent part is zero. Put in another way, a matrix is diagonalizable if each block in its Jordan form has no nilpotent part; i.e., one-by-one matrix."
   ]
  },
  {
   "cell_type": "code",
   "execution_count": null,
   "id": "be3811b5-ed00-48a0-968f-68f862e14d2d",
   "metadata": {},
   "outputs": [],
   "source": []
  },
  {
   "cell_type": "markdown",
   "id": "857e3889-7d49-430e-8667-bb34cba0958b",
   "metadata": {},
   "source": [
    "Q4. What is the significance of the spectral theorem in the context of the Eigen-Decomposition approach? \n",
    "How is it related to the diagonalizability of a matrix? Explain with an example.\n",
    "\n",
    "ANS:-The spectral theorem provides a sufficient criterion for the existence of a particular canonical form. Specifically, the spectral theorem states that if M equals the transpose of M, then M is diagonalizable: there exists an invertible matrix C such that C − 1 M C C^{-1} MC C−1MC is a diagonal matrix.\n",
    "\n",
    "Hence, a matrix is diagonalizable if and only if its nilpotent part is zero. Put in another way, a matrix is diagonalizable if each block in its Jordan form has no nilpotent part; i.e., each \"block\" is a one-by-one matrix."
   ]
  },
  {
   "cell_type": "code",
   "execution_count": null,
   "id": "05d77b89-e495-4cac-ac77-6c0f92f89635",
   "metadata": {},
   "outputs": [],
   "source": []
  },
  {
   "cell_type": "markdown",
   "id": "7c027e24-51ea-4840-a497-855a147ebee3",
   "metadata": {},
   "source": [
    "Q5. How do you find the eigenvalues of a matrix and what do they represent?\n",
    "\n",
    "ANS:-To find the eigenvalues of a square matrix A: Find its characteristic equation using |A - λI| = 0, where I is the identity matrix of same order A. Solve it for λ and the solutions would give the eigenvalues."
   ]
  },
  {
   "cell_type": "code",
   "execution_count": null,
   "id": "1e910bb1-f26c-494e-a711-02926f514479",
   "metadata": {},
   "outputs": [],
   "source": []
  },
  {
   "cell_type": "markdown",
   "id": "def7f454-8a04-4b96-8838-0347ee345da1",
   "metadata": {},
   "source": [
    "Q6. What are eigenvectors and how are they related to eigenvalues?\n",
    "\n",
    "ANS:-In Mathematics, an eigenvector corresponds to the real non zero eigenvalues which point in the direction stretched by the transformation whereas eigenvalue is considered as a factor by which it is stretched. In case, if the eigenvalue is negative, the direction of the transformation is negative."
   ]
  },
  {
   "cell_type": "code",
   "execution_count": null,
   "id": "f2afd51f-8302-4240-b5f3-930997c499c4",
   "metadata": {},
   "outputs": [],
   "source": []
  },
  {
   "cell_type": "markdown",
   "id": "7d22fa21-bba6-4cbc-a8d9-a40e4e6ec934",
   "metadata": {},
   "source": [
    "Q7. Can you explain the geometric interpretation of eigenvectors and eigenvalues?\n",
    "\n",
    "ANS:-Geometrically, an eigenvector, corresponding to a real nonzero eigenvalue, points in a direction in which it is stretched by the transformation and the eigenvalue is the factor by which it is stretched. If the eigenvalue is negative, the direction is reversed."
   ]
  },
  {
   "cell_type": "code",
   "execution_count": null,
   "id": "ebd8ff93-013c-4d65-a815-39ce3ed0e060",
   "metadata": {},
   "outputs": [],
   "source": []
  },
  {
   "cell_type": "markdown",
   "id": "70746524-1d03-42a4-8514-184a68974b48",
   "metadata": {},
   "source": [
    "Q8. What are some real-world applications of eigen decomposition?\n",
    "\n",
    "ANS:-It is used in car design especially car stereo system and also in decoupling three phase system. Eigendecomposition is particularly useful for analysing the structure of the data matrix in terms of the eigenvalues and eigenvectors."
   ]
  },
  {
   "cell_type": "code",
   "execution_count": null,
   "id": "5c35d98e-774c-4b04-9181-754f82370510",
   "metadata": {},
   "outputs": [],
   "source": []
  },
  {
   "cell_type": "markdown",
   "id": "96e42056-a732-4409-8ee8-d48012f97275",
   "metadata": {},
   "source": [
    "Q9. Can a matrix have more than one set of eigenvectors and eigenvalues?\n",
    "\n",
    "ANS:-Since a nonzero subspace is infinite, every eigenvalue has infinitely many eigenvectors. (For example, multiplying an eigenvector by a nonzero scalar gives another eigenvector.) On the other hand, there can be at most n linearly independent eigenvectors of an n × n matrix, since R n has dimension n ."
   ]
  },
  {
   "cell_type": "code",
   "execution_count": null,
   "id": "7c7d0cd4-07f7-45d3-91eb-0c557f271b94",
   "metadata": {},
   "outputs": [],
   "source": []
  },
  {
   "cell_type": "markdown",
   "id": "75968bd9-4732-41f7-9fb0-66d279196f99",
   "metadata": {},
   "source": [
    "Q10. In what ways is the Eigen-Decomposition approach useful in data analysis and machine learning? \n",
    "Discuss at least three specific applications or techniques that rely on Eigen-Decomposition.\n",
    "\n",
    "ANS:-The PCA technique uses eigen decomposition to find the eigen values and eigen vectors from the dataset and then transforms the data and results in a principle components which help in reducing the dimensionality of the data"
   ]
  },
  {
   "cell_type": "code",
   "execution_count": null,
   "id": "bd29a405-e157-4e4e-8c1d-81cc85a5f225",
   "metadata": {},
   "outputs": [],
   "source": []
  }
 ],
 "metadata": {
  "kernelspec": {
   "display_name": "Python 3 (ipykernel)",
   "language": "python",
   "name": "python3"
  },
  "language_info": {
   "codemirror_mode": {
    "name": "ipython",
    "version": 3
   },
   "file_extension": ".py",
   "mimetype": "text/x-python",
   "name": "python",
   "nbconvert_exporter": "python",
   "pygments_lexer": "ipython3",
   "version": "3.10.8"
  }
 },
 "nbformat": 4,
 "nbformat_minor": 5
}
