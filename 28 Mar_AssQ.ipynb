{
 "cells": [
  {
   "cell_type": "markdown",
   "id": "06c311e0-fb93-429f-96f9-b82583864303",
   "metadata": {},
   "source": [
    "Q1. What is Ridge Regression, and how does it differ from ordinary least squares regression?\n",
    "\n",
    "ANS:-regular regression is the process by which we can reduce in the overfitting\n",
    ". over fitting is the process where we increase the accuracy by the train data set And we get less accuracy in or during the test data set in the model."
   ]
  },
  {
   "cell_type": "code",
   "execution_count": null,
   "id": "1432960a-f42e-41ef-bd74-6378f9d87f00",
   "metadata": {},
   "outputs": [],
   "source": []
  },
  {
   "cell_type": "markdown",
   "id": "2226daba-5de7-452a-90e8-7eac813b33dc",
   "metadata": {},
   "source": [
    "Q2. What are the assumptions of Ridge Regression?\n",
    "\n",
    "ANS:-\n",
    "The assumptions of ridge regression are the same as that of linear regression: linearity, constant variance, and independence. However, as ridge regression does not provide confidence limits, the distribution of errors to be normal need not be assumed."
   ]
  },
  {
   "cell_type": "code",
   "execution_count": null,
   "id": "f0567f36-06cf-4d94-832b-edfa12a7a0f9",
   "metadata": {},
   "outputs": [],
   "source": []
  },
  {
   "cell_type": "markdown",
   "id": "6e4c130a-4b06-4b59-af27-67107a5b611c",
   "metadata": {},
   "source": [
    "Q3. How do you select the value of the tuning parameter (lambda) in Ridge Regression?\n",
    "\n",
    "ANS:-In Ridge regression draw the line regression by considering the outliers of USBS basis we can predict the values."
   ]
  },
  {
   "cell_type": "code",
   "execution_count": null,
   "id": "f29cc33d-e162-48d4-93a9-2f471b55f9c2",
   "metadata": {},
   "outputs": [],
   "source": []
  },
  {
   "cell_type": "markdown",
   "id": "fca40a0f-a87c-4772-83d6-7a9c301ed456",
   "metadata": {},
   "source": [
    "Q4. Can Ridge Regression be used for feature selection? If yes, how?\n",
    "\n",
    "ANS:- yes you can use the ridge regression ford feature selection.Then we have group or clusters of data then we draw the regression line by considering the outliers as well."
   ]
  },
  {
   "cell_type": "code",
   "execution_count": null,
   "id": "0977a009-2ffd-4f9c-b05e-6fb2852726fb",
   "metadata": {},
   "outputs": [],
   "source": []
  },
  {
   "cell_type": "markdown",
   "id": "4239516f-10f1-4245-8a1d-ff4112b70f90",
   "metadata": {},
   "source": [
    "Q5. How does the Ridge Regression model perform in the presence of multicollinearity?\n",
    "\n",
    "ANS:-Ridge Regression is a technique for analyzing multiple regression data that suffer from multicollinearity. When multicollinearity occurs, least squares estimates are unbiased, but their variances are large so they may be far from the true value."
   ]
  },
  {
   "cell_type": "code",
   "execution_count": null,
   "id": "3be3c7ee-d990-4a30-8108-6582007fedea",
   "metadata": {},
   "outputs": [],
   "source": []
  },
  {
   "cell_type": "markdown",
   "id": "6c109565-c9cd-4e6b-bf42-d4ce13c0a6c0",
   "metadata": {},
   "source": [
    "Q6. Can Ridge Regression handle both categorical and continuous independent variables?\n",
    "\n",
    "ANS:- By ridge regression we can handle only continuous independent variable."
   ]
  },
  {
   "cell_type": "code",
   "execution_count": null,
   "id": "a12de788-79db-43c2-a5a7-ee996d23d356",
   "metadata": {},
   "outputs": [],
   "source": []
  },
  {
   "cell_type": "markdown",
   "id": "f1d8c5c5-6e82-4a5c-a498-9634bbb94a28",
   "metadata": {},
   "source": [
    "Q7. How do you interpret the coefficients of Ridge Regression?\n",
    "\n",
    "ANS:-A positive coefficient indicates that as the value of the independent variable increases, the mean of the dependent variable also tends to increase. A negative coefficient suggests that as the independent variable increases, the dependent variable tends to decrease."
   ]
  },
  {
   "cell_type": "code",
   "execution_count": null,
   "id": "7c0451e6-4065-4912-8e3e-e3958068e988",
   "metadata": {},
   "outputs": [],
   "source": []
  },
  {
   "cell_type": "markdown",
   "id": "eac92a72-b3a5-4954-9af8-d40a626ae5f5",
   "metadata": {},
   "source": [
    "Q8. Can Ridge Regression be used for time-series data analysis? If yes, how?\n",
    "\n",
    "ANS:-The ridge regression technique can be used to predict time-series. Ridge regression (RR) can also solve the multicollinearity problem that exists in linear regression."
   ]
  }
 ],
 "metadata": {
  "kernelspec": {
   "display_name": "Python 3 (ipykernel)",
   "language": "python",
   "name": "python3"
  },
  "language_info": {
   "codemirror_mode": {
    "name": "ipython",
    "version": 3
   },
   "file_extension": ".py",
   "mimetype": "text/x-python",
   "name": "python",
   "nbconvert_exporter": "python",
   "pygments_lexer": "ipython3",
   "version": "3.10.8"
  }
 },
 "nbformat": 4,
 "nbformat_minor": 5
}
