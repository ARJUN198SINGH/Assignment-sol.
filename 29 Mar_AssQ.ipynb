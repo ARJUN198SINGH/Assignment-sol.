{
 "cells": [
  {
   "cell_type": "markdown",
   "id": "64cc985f-7ddb-48a0-83a7-f54b4fd2b4b4",
   "metadata": {},
   "source": [
    "Q1. What is Lasso Regression, and how does it differ from other regression techniques?\n",
    "\n",
    "ANS:- lasso regression is the regression by which we can remove the duplicate or the data which have same slope by so by doing this we can just reduce the data set from the data and this will not only improve the accuracy but also increase the prediction rate Fullest of end by this we can easily or efficiently train the model and can get best result."
   ]
  },
  {
   "cell_type": "code",
   "execution_count": null,
   "id": "a662a5ac-3f39-4a84-a504-d09dad47b0b2",
   "metadata": {},
   "outputs": [],
   "source": []
  },
  {
   "cell_type": "markdown",
   "id": "2580a06a-b37e-4cfd-867c-46c653ee149f",
   "metadata": {},
   "source": [
    "Q2. What is the main advantage of using Lasso Regression in feature selection?\n",
    "\n",
    "ANS:-the main advantage of using lasso regression in feature selection is to remove the data which have approximately same slope."
   ]
  },
  {
   "cell_type": "code",
   "execution_count": null,
   "id": "dda77169-1f26-4589-ab05-3db7fb220f77",
   "metadata": {},
   "outputs": [],
   "source": []
  },
  {
   "cell_type": "markdown",
   "id": "1e9fd87b-ba8a-40ab-85ae-6b86adb28b66",
   "metadata": {},
   "source": [
    "Q3. How do you interpret the coefficients of a Lasso Regression model?\n",
    "\n",
    "AMS:- firstly we will do regression on the training data set After that we will just use the function of coefficient That is\n",
    "regresser.coeff_ So after that we can get the intercept the coefficient of a lasso regression model."
   ]
  },
  {
   "cell_type": "code",
   "execution_count": null,
   "id": "7ee91700-e62c-4022-9fa6-75942f0dca69",
   "metadata": {},
   "outputs": [],
   "source": []
  },
  {
   "cell_type": "markdown",
   "id": "5ce7d5b9-4f60-4770-8f25-d98d02ee22fb",
   "metadata": {},
   "source": [
    "Q4. What are the tuning parameters that can be adjusted in Lasso Regression, and how do they affect the model's performance?\n",
    "\n",
    "ANS:-A tuning parameter (λ), sometimes called a penalty parameter, controls the strength of the penalty term in ridge regression and lasso regression. It is basically the amount of shrinkage, where data values are shrunk towards a central point, like the mean."
   ]
  },
  {
   "cell_type": "code",
   "execution_count": null,
   "id": "d2e9a72b-dd0d-4b37-ad15-aca4d435d5ad",
   "metadata": {},
   "outputs": [],
   "source": []
  },
  {
   "cell_type": "markdown",
   "id": "5c829773-e7a1-4673-894e-e9667a0bb1cb",
   "metadata": {},
   "source": [
    "Q5. Can Lasso Regression be used for non-linear regression problems? If yes, how?\n",
    "\n",
    "ANS:-NO"
   ]
  },
  {
   "cell_type": "code",
   "execution_count": null,
   "id": "e9c849ba-1efd-4964-bb52-ddcc09c570c4",
   "metadata": {},
   "outputs": [],
   "source": []
  },
  {
   "cell_type": "markdown",
   "id": "2132fcd5-b809-4d15-b47b-318863531107",
   "metadata": {},
   "source": [
    "Q6. What is the difference between Ridge Regression and Lasso Regression?\n",
    "\n",
    "ANS:-ridge regression is used when we have to reduce the overfitting . over fitting is the process where we train the model with high accuracy and during the test we get low accuracy.\n",
    "lasso regression is the regression where remove the approximate same slope data from the data set and get the high accuracy prediction rate by the model."
   ]
  },
  {
   "cell_type": "code",
   "execution_count": null,
   "id": "9216d858-db64-4f72-8461-fba2ed3d5ec8",
   "metadata": {},
   "outputs": [],
   "source": []
  },
  {
   "cell_type": "markdown",
   "id": "023fb742-ebfb-4927-be88-96524ea01011",
   "metadata": {},
   "source": [
    "Q7. Can Lasso Regression handle multicollinearity in the input features? If yes, how?\n",
    "\n",
    "ANS:-LASSO and Ridge regression are advanced forms of regression analysis that can handle multicollinearity.it solves the same constrained optimization problem as ridge regression, but uses the L1 norm rather than the L2 norm as a measure of complexity."
   ]
  },
  {
   "cell_type": "code",
   "execution_count": null,
   "id": "8d0ba8c9-5c12-47fd-a303-cbe99df8153f",
   "metadata": {},
   "outputs": [],
   "source": []
  },
  {
   "cell_type": "markdown",
   "id": "9d7003f9-4f6f-49a7-b583-6c403f5ec88e",
   "metadata": {},
   "source": [
    "Q8. How do you choose the optimal value of the regularization parameter (lambda) in Lasso Regression?\n",
    "\n",
    "ANS:-\n",
    "When choosing a lambda value, the goal is to strike the right balance between simplicity and training-data fit: If your lambda value is too high, your model will be simple, but you run the risk of underfitting your data. Your model won't learn enough about the training data to make useful predictions."
   ]
  }
 ],
 "metadata": {
  "kernelspec": {
   "display_name": "Python 3 (ipykernel)",
   "language": "python",
   "name": "python3"
  },
  "language_info": {
   "codemirror_mode": {
    "name": "ipython",
    "version": 3
   },
   "file_extension": ".py",
   "mimetype": "text/x-python",
   "name": "python",
   "nbconvert_exporter": "python",
   "pygments_lexer": "ipython3",
   "version": "3.10.8"
  }
 },
 "nbformat": 4,
 "nbformat_minor": 5
}
