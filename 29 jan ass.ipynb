{
 "cells": [
  {
   "cell_type": "markdown",
   "id": "b7476083-766b-4109-8cf2-0351515d5dcf",
   "metadata": {},
   "source": [
    "#Sol(1):- GUIDO VAN ROSSUM developed the python programming."
   ]
  },
  {
   "cell_type": "markdown",
   "id": "6dd4143b-c5cd-4268-9eb2-ceeae2b1d610",
   "metadata": {},
   "source": [
    "#Sol(2):- Python Programming is a dynamically typed programming language."
   ]
  },
  {
   "cell_type": "markdown",
   "id": "57efff93-99ef-4610-a978-b03396a3f939",
   "metadata": {},
   "source": [
    "#Sol(3):-yes,python programming is a case sensitive when dealing with the identifiers."
   ]
  },
  {
   "cell_type": "markdown",
   "id": "342e7e8c-1115-464d-9d22-5d636037ae7a",
   "metadata": {},
   "source": [
    "#Sol(4):- the correct extension is (.py). "
   ]
  },
  {
   "cell_type": "markdown",
   "id": "4fd5a8cf-5f4f-473f-a364-ca24fd14217b",
   "metadata": {},
   "source": [
    "#Sol(5):-python programming is a interprited language."
   ]
  },
  {
   "cell_type": "code",
   "execution_count": 10,
   "id": "05224159-62b3-486f-b861-4f2464d7a7b9",
   "metadata": {},
   "outputs": [
    {
     "name": "stdout",
     "output_type": "stream",
     "text": [
      "hello\n"
     ]
    }
   ],
   "source": [
    "#Sol(6):-\n",
    "a='hello'\n",
    "print(a)"
   ]
  },
  {
   "cell_type": "markdown",
   "id": "f1561031-3531-4fef-bd1e-90f23f9f9429",
   "metadata": {},
   "source": [
    "#Sol(7):- # is the symbol."
   ]
  },
  {
   "cell_type": "code",
   "execution_count": 18,
   "id": "d37e994e-9249-4fd3-8379-969d29f235db",
   "metadata": {},
   "outputs": [
    {
     "data": {
      "text/plain": [
       "'3.10.8 | packaged by conda-forge | (main, Nov 22 2022, 08:26:04) [GCC 10.4.0]'"
      ]
     },
     "execution_count": 18,
     "metadata": {},
     "output_type": "execute_result"
    }
   ],
   "source": [
    "#Sol(8):-\n",
    "import sys\n",
    "sys.version"
   ]
  },
  {
   "cell_type": "markdown",
   "id": "3fa2cd5a-74dd-4f54-98f7-98162ead35eb",
   "metadata": {},
   "source": [
    "#Sol(9):-Lambda function."
   ]
  },
  {
   "cell_type": "markdown",
   "id": "e2481476-1725-4559-bb09-fe5d9429fa94",
   "metadata": {},
   "source": [
    "#Sol(10):-“Preferred Installer Program”"
   ]
  },
  {
   "cell_type": "markdown",
   "id": "3ac233a1-e1b2-473a-ab86-de703759482e",
   "metadata": {},
   "source": [
    "#Sol(11):-Print(), int(), float(), str(), upper(), lower(), title(), sort()"
   ]
  },
  {
   "cell_type": "markdown",
   "id": "28da48ec-1f1f-4e59-845f-44406df16e3a",
   "metadata": {},
   "source": [
    "#Sol(12):- 79 characters"
   ]
  },
  {
   "cell_type": "markdown",
   "id": "6bcba3ce-cd97-4c59-9792-7b9e3730602f",
   "metadata": {},
   "source": [
    "#Sol(13):-Rich libraries, easy to use, easy to understand,portable."
   ]
  },
  {
   "cell_type": "markdown",
   "id": "e5a0d14b-94c4-4095-a8ae-523e554bf662",
   "metadata": {},
   "source": [
    "#Sol(14):-Memory management consist of private hip and this private hip consists of all the data structures and Python objects and this private hip is managed by the Python internally by the Python Memory"
   ]
  },
  {
   "cell_type": "markdown",
   "id": "5e4eac85-e331-4ede-a871-befd313417f3",
   "metadata": {},
   "source": [
    "#Sol(15):-Firstly we will download Python and after that we will download the software like vs code and after that we just said the path in our free memory hard disc"
   ]
  },
  {
   "cell_type": "markdown",
   "id": "bb795322-e95e-4fa2-8d4f-381b1db040fa",
   "metadata": {},
   "source": [
    "#Sol(16):-yes"
   ]
  },
  {
   "cell_type": "code",
   "execution_count": null,
   "id": "230a6725-1af1-45f7-a955-2dc2dab3cce4",
   "metadata": {},
   "outputs": [],
   "source": []
  }
 ],
 "metadata": {
  "kernelspec": {
   "display_name": "Python 3 (ipykernel)",
   "language": "python",
   "name": "python3"
  },
  "language_info": {
   "codemirror_mode": {
    "name": "ipython",
    "version": 3
   },
   "file_extension": ".py",
   "mimetype": "text/x-python",
   "name": "python",
   "nbconvert_exporter": "python",
   "pygments_lexer": "ipython3",
   "version": "3.10.8"
  }
 },
 "nbformat": 4,
 "nbformat_minor": 5
}
