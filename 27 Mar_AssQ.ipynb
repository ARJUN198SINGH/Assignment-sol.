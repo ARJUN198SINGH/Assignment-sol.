{
 "cells": [
  {
   "cell_type": "markdown",
   "id": "ddab05ae-0b6a-4e2f-a201-3e5a9b091543",
   "metadata": {},
   "source": [
    "Q1. Explain the concept of R-squared in linear regression models. How is it calculated, and what does it \n",
    "represent?\n",
    "\n",
    "ANS:- R-squared value is the value used in linear or multilinear or polynomial regression model. It is the value which shows the some of all point and the prediction value error. it gives the idea that our line is perfect or not.\n",
    "\n",
    "from sklearn.metrics import r2_score\n",
    "score=r2_score(y_test,y_pred_test)"
   ]
  },
  {
   "cell_type": "code",
   "execution_count": null,
   "id": "b73b67e8-7190-4abe-9eae-f40e5da2e065",
   "metadata": {},
   "outputs": [],
   "source": []
  },
  {
   "cell_type": "markdown",
   "id": "16c1456b-318b-46d4-b8e4-eb2edd0721cc",
   "metadata": {},
   "source": [
    "Q2. Define adjusted R-squared and explain how it differs from the regular R-squared. \n",
    "\n",
    "ANS:- adjusted r-squared value always lesser then r-squared value.Adjusted R2 is a corrected goodness-of-fit (model accuracy) measure for linear models. and it can calculate by\n",
    "1 - (1 - R2) * ((n - 1)/(n-p-1))"
   ]
  },
  {
   "cell_type": "code",
   "execution_count": null,
   "id": "a62ae7dc-72c8-4114-ab69-2c5fd18e99d9",
   "metadata": {},
   "outputs": [],
   "source": []
  },
  {
   "cell_type": "markdown",
   "id": "a9b25ae4-2e9d-45d7-85fa-270063958714",
   "metadata": {},
   "source": [
    "Q3. When is it more appropriate to use adjusted R-squared?\n",
    "\n",
    "ANS:-when there are multiple variables in the regression model.\n",
    "Adjusted R2 is a corrected goodness-of-fit (model accuracy) measure for linear models."
   ]
  },
  {
   "cell_type": "code",
   "execution_count": null,
   "id": "e8d18d64-7591-4c2a-8324-d069be98a163",
   "metadata": {},
   "outputs": [],
   "source": []
  },
  {
   "cell_type": "markdown",
   "id": "ef9cfc5c-5ca5-4949-9a9a-548776d369f7",
   "metadata": {},
   "source": [
    "Q4. What are RMSE, MSE, and MAE in the context of regression analysis? How are these metrics \n",
    "calculated, and what do they represent?\n",
    "\n",
    "ANS:-MSE stand for mean square error and it is calcullated by \n",
    "from sklearn.metrics import mean_squared_error\n",
    "\n",
    "MAE stand for mean absolute error and it is calcullated by\n",
    "from sklearn.metrics import mean_absolute_error\n",
    "\n",
    "RMSE stand for root mean square error and it is calcullated by\n",
    "RMSE=np.sqrt(MSE)"
   ]
  },
  {
   "cell_type": "code",
   "execution_count": null,
   "id": "da4d9ab6-9ee9-43ff-bc42-420dfa34a638",
   "metadata": {},
   "outputs": [],
   "source": []
  },
  {
   "cell_type": "markdown",
   "id": "7fc0662e-1163-4b64-aa7b-1c879eeb747b",
   "metadata": {},
   "source": [
    "Q5. Discuss the advantages and disadvantages of using RMSE, MSE, and MAE as evaluation metrics in \n",
    "regression analysis.\n",
    "\n",
    "ANS:-\n",
    "Like MSE, RMSE is dependent on the scale of the data. It increases in magnitude if the scale of the error increases. One major drawback of RMSE is its sensitivity to outliers and the outliers have to be removed for it to function properly. RMSE increases with an increase in the size of the test sample.\n",
    "\n",
    "Advantage: The MSE is great for ensuring that our trained model has no outlier predictions with huge errors, since the MSE puts larger weight on theses errors due to the squaring part of the function. Disadvantage: If our model makes a single very bad prediction, the squaring part of the function magnifies the error."
   ]
  },
  {
   "cell_type": "code",
   "execution_count": null,
   "id": "c7c741f6-d373-498a-824c-0aedb7733d6c",
   "metadata": {},
   "outputs": [],
   "source": []
  },
  {
   "cell_type": "markdown",
   "id": "029d7ac4-2a0f-4588-9ec8-4cb2366a2f38",
   "metadata": {},
   "source": [
    "Q6. Explain the concept of Lasso regularization. How does it differ from Ridge regularization, and when is \n",
    "it more appropriate to use?\n",
    "\n",
    "ANS:-Lasso regularization is the process where we remove the duplicate regression line  or when we have we have less correlation with the feature."
   ]
  },
  {
   "cell_type": "code",
   "execution_count": null,
   "id": "dc0009dc-b550-461a-80c6-73d4af94114b",
   "metadata": {},
   "outputs": [],
   "source": []
  },
  {
   "cell_type": "markdown",
   "id": "01ea9e05-86f7-462b-bda8-c71a4ca978a4",
   "metadata": {},
   "source": [
    "Q7. How do regularized linear models help to prevent overfitting in machine learning? Provide an \n",
    "example to illustrate.\n",
    "\n",
    "ANS:-Regularization in machine learning is the process of regularizing the parameters that constrain, regularizes, or shrinks the coefficient estimates towards zero. "
   ]
  },
  {
   "cell_type": "code",
   "execution_count": null,
   "id": "7baf94e6-5da9-488c-b75e-357f69b949cc",
   "metadata": {},
   "outputs": [],
   "source": []
  },
  {
   "cell_type": "markdown",
   "id": "19e3a696-f7ac-43bb-97c1-3d6ff55dd268",
   "metadata": {},
   "source": [
    "Q8. Discuss the limitations of regularized linear models and explain why they may not always be the best \n",
    "choice for regression analysis.\n",
    "\n",
    "ANS:-limitations of regularized linear models are:-\n",
    "\n",
    "They include all the predictors in the final model.\n",
    "\n",
    "They are unable to perform feature selection.\n",
    "\n",
    "They shrink the coefficients towards zero.\n",
    "\n",
    "They trade the variance for bias.\n"
   ]
  },
  {
   "cell_type": "code",
   "execution_count": null,
   "id": "6c0410c8-c7cc-4f76-8d88-252edbb3487f",
   "metadata": {},
   "outputs": [],
   "source": []
  },
  {
   "cell_type": "markdown",
   "id": "bef46583-0e07-4e88-a272-f7b3237af48c",
   "metadata": {},
   "source": [
    "Q9. You are comparing the performance of two regression models using different evaluation metrics. Model A has an RMSE of 10, while Model B has an MAE of 8. Which model would you choose as the better performer, and why? Are there any limitations to your choice of metric?\n",
    "\n",
    "ANS:- RMSE puts a higher weight on larger errors, which means that it is more sensitive to outliers. On the other hand, MAE treats all errors equally and is less sensitive to outliers.\n",
    "\n",
    "So, if the problem at hand requires minimizing large errors, then we should choose Model A as the better performer. If the problem requires minimizing all errors equally, then we should choose Model B as the better performer."
   ]
  },
  {
   "cell_type": "code",
   "execution_count": null,
   "id": "95aef4bd-6550-4824-a74d-b610e23dc2f6",
   "metadata": {},
   "outputs": [],
   "source": []
  },
  {
   "cell_type": "markdown",
   "id": "a3a4a394-f3b2-4cdc-a8be-9ba399117c9c",
   "metadata": {},
   "source": [
    "Q10. You are comparing the performance of two regularized linear models using different types of \n",
    "regularization. Model A uses Ridge regularization with a regularization parameter of 0.1, while Model B \n",
    "uses Lasso regularization with a regularization parameter of 0.5. Which model would you choose as the \n",
    "better performer, and why? Are there any trade-offs or limitations to your choice of regularization \n",
    "method?\n",
    "\n",
    "ANS;- in this case we will choose model B because it uses lasso regularization and Lasso Regularization provides high accuracy and high prediction.. Lasso regularization is not only remove the duplicate or same we can say that approximate same slope line regression so it is more useful."
   ]
  },
  {
   "cell_type": "code",
   "execution_count": null,
   "id": "a005e0b0-f9f9-43ac-a189-445c81d4b79f",
   "metadata": {},
   "outputs": [],
   "source": []
  }
 ],
 "metadata": {
  "kernelspec": {
   "display_name": "Python 3 (ipykernel)",
   "language": "python",
   "name": "python3"
  },
  "language_info": {
   "codemirror_mode": {
    "name": "ipython",
    "version": 3
   },
   "file_extension": ".py",
   "mimetype": "text/x-python",
   "name": "python",
   "nbconvert_exporter": "python",
   "pygments_lexer": "ipython3",
   "version": "3.10.8"
  }
 },
 "nbformat": 4,
 "nbformat_minor": 5
}
