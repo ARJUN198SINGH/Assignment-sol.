{
 "cells": [
  {
   "cell_type": "markdown",
   "id": "a0658089-dec5-4f68-a110-54ab75e82521",
   "metadata": {},
   "source": [
    "Q1.  Explain with an example each when to use a for loop and a while loop\n",
    "\n",
    "solution:- while loop can do infinite iteration but for loop can't."
   ]
  },
  {
   "cell_type": "code",
   "execution_count": 7,
   "id": "4de74436-3cb1-4d81-9f68-e0a3a1ea2955",
   "metadata": {},
   "outputs": [
    {
     "name": "stdout",
     "output_type": "stream",
     "text": [
      "10\n"
     ]
    }
   ],
   "source": [
    "a=10 \n",
    "while(True):\n",
    "    print(a)\n",
    "    break"
   ]
  },
  {
   "cell_type": "code",
   "execution_count": 8,
   "id": "c3c17f6e-7840-4a89-b330-e5923ec5f87f",
   "metadata": {},
   "outputs": [
    {
     "name": "stdout",
     "output_type": "stream",
     "text": [
      "0\n"
     ]
    }
   ],
   "source": [
    "a=10\n",
    "for i in range(True):\n",
    "    print(i)\n",
    "    "
   ]
  },
  {
   "cell_type": "markdown",
   "id": "be5c7acb-b5a7-4738-8cb5-c8e1b3f11869",
   "metadata": {},
   "source": [
    "Q2.  Write a python program to print the sum and product of the first 10 natural numbers using for and while loop."
   ]
  },
  {
   "cell_type": "markdown",
   "id": "0dc7d4c4-9230-4799-9b9b-3b1f52b30f12",
   "metadata": {},
   "source": [
    "sol:-using while loop"
   ]
  },
  {
   "cell_type": "code",
   "execution_count": 9,
   "id": "b6145b7f-6294-4b7e-a02b-224d84418de6",
   "metadata": {},
   "outputs": [],
   "source": [
    "sum_natural=0\n",
    "product=1\n",
    "a=1\n",
    "while(a<=10):\n",
    "    sum_natural=sum_natural+a\n",
    "    product=product*a\n",
    "    a=a+1"
   ]
  },
  {
   "cell_type": "code",
   "execution_count": 13,
   "id": "54989e44-4aaf-497f-bcd8-8312fa23024c",
   "metadata": {},
   "outputs": [
    {
     "name": "stdout",
     "output_type": "stream",
     "text": [
      "sum_natural is 55 and product is 3628800\n"
     ]
    }
   ],
   "source": [
    "print(\"sum_natural is\",sum_natural,\"and product is\", product)"
   ]
  },
  {
   "cell_type": "markdown",
   "id": "7099408f-9797-4253-b8cd-025210f4ce7a",
   "metadata": {},
   "source": [
    "using for loop"
   ]
  },
  {
   "cell_type": "code",
   "execution_count": 3,
   "id": "da189b0b-fb8f-4f89-aab1-2bb23d7c8b60",
   "metadata": {},
   "outputs": [],
   "source": [
    "sum_natural=0\n",
    "product=1\n",
    "for i in range(1,11):\n",
    "    sum_natural=sum_natural+i\n",
    "    product=product*i"
   ]
  },
  {
   "cell_type": "code",
   "execution_count": 4,
   "id": "6bac6bdb-3359-425a-bebe-a98dcff709c4",
   "metadata": {},
   "outputs": [
    {
     "name": "stdout",
     "output_type": "stream",
     "text": [
      "sum_natural is 55 and product is 3628800\n"
     ]
    }
   ],
   "source": [
    "print(\"sum_natural is\",sum_natural,\"and product is\", product)"
   ]
  },
  {
   "cell_type": "code",
   "execution_count": null,
   "id": "2c78f88a-d6ba-46c1-9f71-dac0dda201d9",
   "metadata": {},
   "outputs": [],
   "source": []
  },
  {
   "cell_type": "markdown",
   "id": "ff005d85-3f9c-45aa-b9e5-bab0068b24ce",
   "metadata": {},
   "source": [
    "Q3. Create a python program to compute the electricity bill for a household.\n",
    "The per-unit charges in rupees are as follows: For the first 100 units, the user will be charged Rs. 4.5 per \n",
    "unit, for the next 100 units, the user will be charged Rs. 6 per unit, and for the next 100 units, the user will \n",
    "be charged Rs. 10 per unit, After 300 units and above the user will be charged Rs. 20 per unit.\n",
    "\n",
    "\n",
    "You are required to take the units of electricity consumed in a month from the user as input.\n",
    "\n",
    "\n",
    "Your program must pass this test case: when the unit of electricity consumed by the user in a month is \n",
    "310, the total electricity bill should be 2250"
   ]
  },
  {
   "cell_type": "code",
   "execution_count": 14,
   "id": "c87404e0-5606-4219-bf7c-29d2518aa8ce",
   "metadata": {},
   "outputs": [
    {
     "name": "stdin",
     "output_type": "stream",
     "text": [
      "enter the units :  310\n"
     ]
    },
    {
     "name": "stdout",
     "output_type": "stream",
     "text": [
      "2250.0\n"
     ]
    }
   ],
   "source": [
    "#solution:-\n",
    "units=int(input('enter the units : '))\n",
    "bills=0\n",
    "if(units<=100):\n",
    "    bills=units*4.5\n",
    "elif(units<200):\n",
    "    bills=100*4.5+(units-100)*6\n",
    "elif(units<300):\n",
    "    bills=100*4.5+100*6+(units-200)*10\n",
    "else:\n",
    "    bills=100*4.5+100*6+100*10+(units-300)*20\n",
    "print(bills)\n",
    "\n"
   ]
  },
  {
   "cell_type": "code",
   "execution_count": null,
   "id": "e96ac791-defa-4705-b806-58ffb5756274",
   "metadata": {},
   "outputs": [],
   "source": []
  },
  {
   "cell_type": "markdown",
   "id": "a9c45f71-91b1-4905-a1d7-acd2ccb2e4b9",
   "metadata": {},
   "source": [
    "Q4. Create a list of numbers from 1 to 100. Use for loop and while loop to calculate the cube of each \n",
    "number and if the cube of that number is divisible by 4 or 5 then append that number in a list and print \n",
    "that list."
   ]
  },
  {
   "cell_type": "code",
   "execution_count": 15,
   "id": "30137596-e157-4782-8fcd-c5f8669d75ff",
   "metadata": {},
   "outputs": [],
   "source": [
    "#solution:-"
   ]
  },
  {
   "cell_type": "code",
   "execution_count": 20,
   "id": "87caa19e-2d72-4579-b074-795a4feb8df4",
   "metadata": {},
   "outputs": [
    {
     "data": {
      "text/plain": [
       "[10, 20, 30, 40, 50, 60, 70, 80, 90, 100]"
      ]
     },
     "execution_count": 20,
     "metadata": {},
     "output_type": "execute_result"
    }
   ],
   "source": [
    "list1=[]\n",
    "for i in range(1,101):\n",
    "    a=i**3\n",
    "    if(a%4==0 and a%5==0):\n",
    "        list1.append(i)\n",
    "list1"
   ]
  },
  {
   "cell_type": "code",
   "execution_count": null,
   "id": "88f0f59e-84f2-498c-bbb1-7da1bff97844",
   "metadata": {},
   "outputs": [],
   "source": []
  },
  {
   "cell_type": "markdown",
   "id": "2d8dd16d-1541-40af-af6c-dd8a8ed6e512",
   "metadata": {},
   "source": [
    "Q5.  Write a program to filter count vowels in the below-given string.\n",
    "\n",
    "string = \"I want to become a data scientist\""
   ]
  },
  {
   "cell_type": "code",
   "execution_count": 22,
   "id": "7162599e-c4e9-4ace-8347-617716839a51",
   "metadata": {},
   "outputs": [
    {
     "name": "stdout",
     "output_type": "stream",
     "text": [
      "12\n"
     ]
    }
   ],
   "source": [
    "string = \"I want to become a data scientist\"\n",
    "vowels='AEIOUaeiou'\n",
    "count=0\n",
    "for i in string:\n",
    "    if(i in vowels):\n",
    "        count+=1\n",
    "print(count)"
   ]
  },
  {
   "cell_type": "code",
   "execution_count": null,
   "id": "0dc3b105-95fa-485a-9a8d-2a0fc70a392f",
   "metadata": {},
   "outputs": [],
   "source": []
  }
 ],
 "metadata": {
  "kernelspec": {
   "display_name": "Python 3 (ipykernel)",
   "language": "python",
   "name": "python3"
  },
  "language_info": {
   "codemirror_mode": {
    "name": "ipython",
    "version": 3
   },
   "file_extension": ".py",
   "mimetype": "text/x-python",
   "name": "python",
   "nbconvert_exporter": "python",
   "pygments_lexer": "ipython3",
   "version": "3.10.8"
  }
 },
 "nbformat": 4,
 "nbformat_minor": 5
}
