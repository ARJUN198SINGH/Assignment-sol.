{
 "cells": [
  {
   "cell_type": "markdown",
   "id": "df9f2e71-010a-4bac-934e-692e3006142d",
   "metadata": {},
   "source": [
    "SOL(1):-\n",
    "Web scrapping is the method by which we can take out the data from the website and we can perform operations on the data like visualisation analysis by using different Python libraries there are two types of data in first method where the client give us the data and in second method where we take out the data from the server or database so wave scraping is used to fetch the data from the database or web pages."
   ]
  },
  {
   "cell_type": "markdown",
   "id": "2ee81bc1-364f-4dcb-bec7-7a529c2c33eb",
   "metadata": {},
   "source": [
    "SOL(2):- \n",
    "Import request and from BS4 import beautiful soap as bs and from urllib. request import urlopen as urReq are the methods used in web scraping."
   ]
  },
  {
   "cell_type": "markdown",
   "id": "48a19423-24e7-40d2-9443-f24c8e9dd58b",
   "metadata": {},
   "source": [
    "SOL(3):-\n",
    "Beautiful soap is nothing but the way to represent orbitfy the code in a structured manner and it is used to make the code more readable.\n",
    "It is used to beautify the code."
   ]
  },
  {
   "cell_type": "markdown",
   "id": "523781cc-1725-4b55-bcae-264cd3adce8c",
   "metadata": {},
   "source": [
    "SOL(4):-\n",
    "Flask is used in webscrapping project because the flask is the method for library which connect the server and the data base by which the user can face the data from anywhere in the world at any time."
   ]
  },
  {
   "cell_type": "markdown",
   "id": "ffc624a2-a020-427e-8c14-243347cfa393",
   "metadata": {},
   "source": [
    "SOL(5):-\n"
   ]
  }
 ],
 "metadata": {
  "kernelspec": {
   "display_name": "Python 3 (ipykernel)",
   "language": "python",
   "name": "python3"
  },
  "language_info": {
   "codemirror_mode": {
    "name": "ipython",
    "version": 3
   },
   "file_extension": ".py",
   "mimetype": "text/x-python",
   "name": "python",
   "nbconvert_exporter": "python",
   "pygments_lexer": "ipython3",
   "version": "3.10.8"
  }
 },
 "nbformat": 4,
 "nbformat_minor": 5
}
