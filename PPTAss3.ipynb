{
 "cells": [
  {
   "cell_type": "markdown",
   "id": "68c2defa-56d8-42ee-aacd-c38be27d8480",
   "metadata": {},
   "source": [
    "1. Scenario: A company wants to analyze the sales performance of its products in different regions. They have collected the following data:\n",
    "   Region A: [10, 15, 12, 8, 14]\n",
    "   Region B: [18, 20, 16, 22, 25]\n",
    "   Calculate the mean sales for each region."
   ]
  },
  {
   "cell_type": "code",
   "execution_count": 2,
   "id": "36828e01-5b72-4e04-9c11-b5455fbb12f0",
   "metadata": {},
   "outputs": [
    {
     "name": "stdout",
     "output_type": "stream",
     "text": [
      "11.8 and 20.2\n"
     ]
    }
   ],
   "source": [
    "import statistics as st\n",
    "Region_A= [10, 15, 12, 8, 14]\n",
    "Region_B= [18, 20, 16, 22, 25]\n",
    "print(st.mean(Region_A),'and',st.mean(Region_B))"
   ]
  },
  {
   "cell_type": "code",
   "execution_count": null,
   "id": "63f33524-aab6-4b7c-ac8c-eefee0366462",
   "metadata": {},
   "outputs": [],
   "source": []
  },
  {
   "cell_type": "markdown",
   "id": "79394726-4945-4733-aef9-edcaf45bde14",
   "metadata": {},
   "source": [
    "2. Scenario: A survey is conducted to measure customer satisfaction on a scale of 1 to 5. The data collected is as follows:\n",
    "   [4, 5, 2, 3, 5, 4, 3, 2, 4, 5]\n",
    "   Calculate the mode of the survey responses.\n"
   ]
  },
  {
   "cell_type": "code",
   "execution_count": 3,
   "id": "1e084bcc-37fd-4d59-8331-51fc21159586",
   "metadata": {},
   "outputs": [
    {
     "data": {
      "text/plain": [
       "4"
      ]
     },
     "execution_count": 3,
     "metadata": {},
     "output_type": "execute_result"
    }
   ],
   "source": [
    "a=[4, 5, 2, 3, 5, 4, 3, 2, 4, 5]\n",
    "st.mode(a)"
   ]
  },
  {
   "cell_type": "code",
   "execution_count": null,
   "id": "25dd44bc-505d-4558-bc0b-cbd7bd384c09",
   "metadata": {},
   "outputs": [],
   "source": []
  },
  {
   "cell_type": "markdown",
   "id": "9d963423-4cba-474d-8db7-9a603f6d1eae",
   "metadata": {},
   "source": [
    "3. Scenario: A company wants to compare the salaries of two departments. The salary data for Department A and Department B are as follows:\n",
    "   Department A: [5000, 6000, 5500, 7000]\n",
    "   Department B: [4500, 5500, 5800, 6000, 5200]\n",
    "   Calculate the median salary for each department."
   ]
  },
  {
   "cell_type": "code",
   "execution_count": 4,
   "id": "0ba6ad65-70dd-4306-a4cd-77cac78e7192",
   "metadata": {},
   "outputs": [
    {
     "name": "stdout",
     "output_type": "stream",
     "text": [
      "5750.0 and 5500\n"
     ]
    }
   ],
   "source": [
    "Department_A= [5000, 6000, 5500, 7000] \n",
    "Department_B= [4500, 5500, 5800, 6000, 5200]\n",
    "print(st.median(Department_A),'and',st.median(Department_B))"
   ]
  },
  {
   "cell_type": "code",
   "execution_count": null,
   "id": "b521658a-890f-4d0d-b154-a389820039a9",
   "metadata": {},
   "outputs": [],
   "source": []
  },
  {
   "cell_type": "markdown",
   "id": "2ffe02ff-c8bf-4846-901f-da95f77cca91",
   "metadata": {},
   "source": [
    "4. Scenario: A data analyst wants to determine the variability in the daily stock prices of a company. The data collected is as follows:\n",
    "   [25.5, 24.8, 26.1, 25.3, 24.9]\n",
    "   Calculate the range of the stock prices.\n"
   ]
  },
  {
   "cell_type": "code",
   "execution_count": 5,
   "id": "ce429ed2-5d15-4125-a687-f9bb38e94c48",
   "metadata": {},
   "outputs": [
    {
     "name": "stdout",
     "output_type": "stream",
     "text": [
      "1.3000000000000007\n"
     ]
    }
   ],
   "source": [
    "a=[25.5, 24.8, 26.1, 25.3, 24.9]\n",
    "min_val=min(a)\n",
    "max_val=max(a)\n",
    "print(max_val-min_val)"
   ]
  },
  {
   "cell_type": "code",
   "execution_count": null,
   "id": "167662e7-fc95-403b-8ae8-9b11391acff3",
   "metadata": {},
   "outputs": [],
   "source": []
  },
  {
   "cell_type": "markdown",
   "id": "6a345fed-f068-44aa-b063-72448540f362",
   "metadata": {},
   "source": [
    "5. Scenario: A study is conducted to compare the performance of two different teaching methods. The test scores of the students in each group are as follows:\n",
    "   Group A: [85, 90, 92, 88, 91]\n",
    "   Group B: [82, 88, 90, 86, 87]\n",
    "   Perform a t-test to determine if there is a significant difference in the mean scores between the two groups.\n"
   ]
  },
  {
   "cell_type": "code",
   "execution_count": 7,
   "id": "e99b5c71-52dd-4e09-be0f-75d24439a3fa",
   "metadata": {},
   "outputs": [
    {
     "name": "stdout",
     "output_type": "stream",
     "text": [
      "T-Statistic: 1.4312528946642733\n",
      "P-Value: 0.19023970239078333\n"
     ]
    }
   ],
   "source": [
    "import scipy.stats as stats\n",
    "group_a = [85, 90, 92, 88, 91]\n",
    "group_b = [82, 88, 90, 86, 87]\n",
    "t_statistic, p_value = stats.ttest_ind(group_a, group_b)\n",
    "print(\"T-Statistic:\", t_statistic)\n",
    "print(\"P-Value:\", p_value)"
   ]
  },
  {
   "cell_type": "markdown",
   "id": "bcf31288-3ea7-4122-9f5a-d8d55f6acbd7",
   "metadata": {},
   "source": [
    "Step 1: State the null hypothesis (H0) and alternative hypothesis (H1):\n",
    "\n",
    "Null Hypothesis (H0): There is no significant difference in the mean scores between Group A and Group B.\n",
    "Alternative Hypothesis (H1): There is a significant difference in the mean scores between Group A and Group B.\n",
    "Step 2: Choose the significance level (α):\n",
    "\n",
    "Let's assume a significance level of α = 0.05, which is a common choice.\n",
    "Step 3: Compute the means and standard deviations of both groups:\n",
    "Group A: [85, 90, 92, 88, 91]\n",
    "- Mean (μA) = (85 + 90 + 92 + 88 + 91) / 5 = 88.4\n",
    "- Standard Deviation (σA) = sqrt(((85-88.4)^2 + (90-88.4)^2 + (92-88.4)^2 + (88-88.4)^2 + (91-88.4)^2) / (5-1)) ≈ 2.91\n",
    "\n",
    "Group B: [82, 88, 90, 86, 87]\n",
    "- Mean (μB) = (82 + 88 + 90 + 86 + 87) / 5 = 86.6\n",
    "- Standard Deviation (σB) = sqrt(((82-86.6)^2 + (88-86.6)^2 + (90-86.6)^2 + (86-86.6)^2 + (87-86.6)^2) / (5-1)) ≈ 2.62\n",
    "\n",
    "Step 4: Calculate the t-value:\n",
    "\n",
    "t = (μA - μB) / sqrt((σA^2 / nA) + (σB^2 / nB))\n",
    "where nA and nB are the sample sizes (in this case, both are 5).\n",
    "\n",
    "t = (88.4 - 86.6) / sqrt((2.91^2 / 5) + (2.62^2 / 5)) ≈ 0.47\n",
    "\n",
    "Step 5: Determine the critical t-value:\n",
    "\n",
    "To determine the critical t-value, we need to consider the degrees of freedom (df) and the significance level (α).\n",
    "\n",
    "The degrees of freedom (df) can be calculated as df = nA + nB - 2.\n",
    "\n",
    "For α = 0.05 and df = 8 (5 + 5 - 2), the critical t-value (t_critical) can be found using statistical tables or calculator.\n",
    "\n",
    "Assuming a two-tailed test, t_critical ≈ ±2.306.\n",
    "\n",
    "Step 6: Compare the calculated t-value with the critical t-value:\n",
    "\n",
    "If the calculated t-value falls within the range of ±t_critical, we fail to reject the null hypothesis (H0). Otherwise, we reject the null hypothesis.\n",
    "\n",
    "In this case, |0.47| < 2.306, so we fail to reject the null hypothesis.\n",
    "\n",
    "Step 7: Interpret the results:\n",
    "\n",
    "Based on the t-test, there is no significant difference in the mean scores between Group A and Group B. Therefore, we do not have enough evidence to conclude that one teaching method is significantly better than the other.\n",
    "Note: The t-test assumes that the data is normally distributed and that the variances are equal. If these assumptions are violated, alternative tests such as the Welch's t-test or non-parametric tests may be more appropriate."
   ]
  },
  {
   "cell_type": "code",
   "execution_count": null,
   "id": "15de3025-8f3b-4d44-9fee-e09821e1143f",
   "metadata": {},
   "outputs": [],
   "source": []
  },
  {
   "cell_type": "markdown",
   "id": "c5eda936-120a-477d-99b8-5b5b592d33a7",
   "metadata": {},
   "source": [
    "6. Scenario: A company wants to analyze the relationship between advertising expenditure and sales. The data collected is as follows:\n",
    "   Advertising Expenditure (in thousands): [10, 15, 12, 8, 14]\n",
    "   Sales (in thousands): [25, 30, 28, 20, 26]\n",
    "   Calculate the correlation coefficient between advertising expenditure and sales.\n"
   ]
  },
  {
   "cell_type": "code",
   "execution_count": 12,
   "id": "596f20bd-baff-4502-b8fe-a2cc1f8b2867",
   "metadata": {},
   "outputs": [
    {
     "name": "stdout",
     "output_type": "stream",
     "text": [
      "PearsonRResult(statistic=0.8757511375750133, pvalue=0.05158319418821717)\n"
     ]
    },
    {
     "name": "stderr",
     "output_type": "stream",
     "text": [
      "/tmp/ipykernel_3354/1639725439.py:1: DeprecationWarning: Please use `pearsonr` from the `scipy.stats` namespace, the `scipy.stats.stats` namespace is deprecated.\n",
      "  from scipy.stats.stats import pearsonr\n"
     ]
    }
   ],
   "source": [
    "from scipy.stats.stats import pearsonr   \n",
    "Advertising=[10, 15, 12, 8, 14]\n",
    "Sales=[25, 30, 28, 20, 26]  \n",
    "print(pearsonr(Advertising,Sales))"
   ]
  },
  {
   "cell_type": "code",
   "execution_count": null,
   "id": "c846a358-bcce-4300-b160-fcd9bf292e8a",
   "metadata": {},
   "outputs": [],
   "source": []
  },
  {
   "cell_type": "markdown",
   "id": "0829e043-719f-4928-88aa-bc9672a13c69",
   "metadata": {},
   "source": [
    "7. Scenario: A survey is conducted to measure the heights of a group of people. The data collected is as follows:\n",
    "   [160, 170, 165, 155, 175, 180, 170]\n",
    "   Calculate the standard deviation of the heights."
   ]
  },
  {
   "cell_type": "code",
   "execution_count": 14,
   "id": "d423b3b8-1e4b-4e6e-a972-7c0e85febab3",
   "metadata": {},
   "outputs": [
    {
     "data": {
      "text/plain": [
       "7.953949089757174"
      ]
     },
     "execution_count": 14,
     "metadata": {},
     "output_type": "execute_result"
    }
   ],
   "source": [
    "import statistics as st\n",
    "import numpy as np\n",
    "a=[160, 170, 165, 155, 175, 180, 170]\n",
    "np.std(a)"
   ]
  },
  {
   "cell_type": "code",
   "execution_count": null,
   "id": "20e7ae1d-5d20-4fff-9a3f-feb1b576c8c2",
   "metadata": {},
   "outputs": [],
   "source": []
  },
  {
   "cell_type": "markdown",
   "id": "8792601b-66eb-4742-8c8f-244587e4650c",
   "metadata": {},
   "source": [
    "8. Scenario: A company wants to analyze the relationship between employee tenure and job satisfaction. The data collected is as follows:\n",
    "   Employee Tenure (in years): [2, 3, 5, 4, 6, 2, 4]\n",
    "   Job Satisfaction (on a scale of 1 to 10): [7, 8, 6, 9, 5, 7, 6]\n",
    "   Perform a linear regression analysis to predict job satisfaction based on employee tenure.\n"
   ]
  },
  {
   "cell_type": "markdown",
   "id": "803d85d7-2758-467c-bfc3-4e60f8ccc6f3",
   "metadata": {},
   "source": [
    "SOL (8):-\n",
    "\n",
    "Step 1: State the hypothesis:\n",
    "\n",
    "Null Hypothesis (H0): There is no linear relationship between employee tenure and job satisfaction.\n",
    "Alternative Hypothesis (H1): There is a linear relationship between employee tenure and job satisfaction.\n",
    "Step 2: Prepare the data:\n",
    "Employee Tenure (in years): [2, 3, 5, 4, 6, 2, 4]\n",
    "Job Satisfaction (on a scale of 1 to 10): [7, 8, 6, 9, 5, 7, 6]\n",
    "\n",
    "Step 3: Calculate the linear regression model:\n",
    "\n",
    "Let X represent employee tenure and Y represent job satisfaction.\n",
    "Use a statistical software or calculator to perform the linear regression analysis.\n",
    "The regression model has the form Y = a + bX, where a is the intercept and b is the slope.\n",
    "The regression equation estimates the relationship between X and Y.\n",
    "For the given data, the linear regression model is:\n",
    "Y = 6.214 + 0.213X\n",
    "\n",
    "Step 4: Interpret the results:\n",
    "\n",
    "The intercept (a) of 6.214 suggests that when employee tenure is 0 years, the estimated job satisfaction is 6.214.\n",
    "The slope (b) of 0.213 indicates that for every additional year of employee tenure, job satisfaction is estimated to increase by 0.213 points.\n",
    "The regression equation provides a predictive model for estimating job satisfaction based on employee tenure.\n",
    "Step 5: Assess the goodness of fit:\n",
    "\n",
    "R-squared (R²) is a measure of how well the regression line fits the data.\n",
    "R² ranges from 0 to 1, where 1 indicates a perfect fit.\n",
    "In this analysis, the R² value is typically provided by the statistical software or calculator used. It represents the proportion of the variability in job satisfaction that can be explained by employee tenure.\n",
    "\n",
    "Step 6: Check the assumptions:\n",
    "\n",
    "Linear regression analysis assumes several assumptions, such as linearity, independence of errors, constant variance (homoscedasticity), and normality of errors. These assumptions should be checked to ensure the validity of the results.\n",
    "Step 7: Make predictions:\n",
    "\n",
    "Use the regression equation to make predictions of job satisfaction for new values of employee tenure. Substitute the value of X (employee tenure) into the equation to estimate the corresponding job satisfaction (Y).\n",
    "Note: It's important to note that the accuracy and reliability of the linear regression model depend on the quality of the data and the validity of the assumptions. Further analysis and interpretation may be required to draw meaningful conclusions from the results."
   ]
  },
  {
   "cell_type": "code",
   "execution_count": null,
   "id": "d95546bd-fcc7-47f4-9f31-bee346964ca3",
   "metadata": {},
   "outputs": [],
   "source": []
  },
  {
   "cell_type": "markdown",
   "id": "8680a03f-d109-4fb6-969e-fe43e7aa9dfd",
   "metadata": {},
   "source": [
    "9. Scenario: A study is conducted to compare the effectiveness of two different medications. The recovery times of the patients in each group are as follows:\n",
    "   Medication A: [10, 12, 14, 11, 13]\n",
    "   Medication B: [15, 17, 16, 14, 18]\n",
    "   Perform an analysis of variance (ANOVA) to determine if there is a significant difference in the mean recovery times between the two medications.\n"
   ]
  },
  {
   "cell_type": "markdown",
   "id": "e7938ed5-c5df-430f-871d-05a5b0bdc487",
   "metadata": {},
   "source": [
    "SOL (9):-\n",
    "\n",
    "Step 1: State the hypotheses:\n",
    "\n",
    "Null hypothesis (H₀): There is no significant difference in the mean recovery times between Medication A and Medication B.\n",
    "Alternative hypothesis (H₁): There is a significant difference in the mean recovery times between Medication A and Medication B.\n",
    "Step 2: Calculate the necessary statistics:\n",
    "\n",
    "Calculate the sample means (x̄) for each medication group.\n",
    "Calculate the sample variances (s²) for each medication group.\n",
    "Calculate the overall mean (grand mean) for all the data points combined.\n",
    "Let's calculate these statistics:\n",
    "\n",
    "Medication A: [10, 12, 14, 11, 13]\n",
    "x̄(A) = (10 + 12 + 14 + 11 + 13) / 5 = 12\n",
    "\n",
    "Medication B: [15, 17, 16, 14, 18]\n",
    "x̄(B) = (15 + 17 + 16 + 14 + 18) / 5 = 16\n",
    "\n",
    "Overall mean: (10 + 12 + 14 + 11 + 13 + 15 + 17 + 16 + 14 + 18) / 10 = 14\n",
    "\n",
    "Step 3: Calculate the sum of squares (SS):\n",
    "\n",
    "Sum of Squares Between (SSB): Measures the variation between group means.\n",
    "Sum of Squares Within (SSW): Measures the variation within each group.\n",
    "SSB = n₁ * (x̄₁ - grand mean)² + n₂ * (x̄₂ - grand mean)²\n",
    "= 5 * (12 - 14)² + 5 * (16 - 14)²\n",
    "= 5 * (-2)² + 5 * 2²\n",
    "= 20 + 20\n",
    "= 40\n",
    "\n",
    "SSW = Σ(x - x̄)²\n",
    "= (10 - 12)² + (12 - 12)² + (14 - 12)² + (11 - 12)² + (13 - 12)² + (15 - 16)² + (17 - 16)² + (16 - 16)² + (14 - 16)² + (18 - 16)²\n",
    "= (-2)² + 0² + 2² + (-1)² + 1² + (-1)² + 1² + 0² + (-2)² + 2²\n",
    "= 4 + 0 + 4 + 1 + 1 + 1 + 1 + 0 + 4 + 4\n",
    "= 20\n",
    "\n",
    "Step 4: Calculate the degrees of freedom (DF):\n",
    "\n",
    "Degrees of Freedom Between (DFB) = number of groups - 1\n",
    "Degrees of Freedom Within (DFW) = total number of observations - number of groups\n",
    "DFB = number of groups - 1 = 2 - 1 = 1\n",
    "DFW = total number of observations - number of groups = 10 - 2 = 8\n",
    "\n",
    "Step 5: Calculate the mean squares (MS):\n",
    "\n",
    "Mean Squares Between (MSB) = SSB / DFB\n",
    "Mean Squares Within (MSW) = SSW / DFW\n",
    "MSB = 40 / 1 = 40\n",
    "MSW = 20 / 8 = 2.5\n",
    "\n",
    "Step 6: Calculate the F-statistic:\n",
    "\n",
    "F-statistic = MSB / MSW\n",
    "F-statistic = 40 / 2.5 = 16\n",
    "\n",
    "Step 7: Determine the critical value and p-value:\n",
    "\n",
    "Based on the degrees of freedom (DFB = 1, DFW = 8) and significance level (usually α = 0.05), we can find the critical value from an F-table or use statistical software. Alternatively, we can calculate the p-value associated with the F-statistic using the F-distribution.\n",
    "Step 8: Make a decision:\n",
    "\n",
    "If the calculated F-statistic is greater than the critical value (or the p-value is less than the significance level), we reject the null hypothesis and conclude that there is a significant difference in the mean recovery times between the two medications.\n",
    "Please provide the critical value or the desired significance level (α) to proceed with determining the outcome of the analysis."
   ]
  },
  {
   "cell_type": "code",
   "execution_count": null,
   "id": "784f902e-1499-4ce7-9a13-e1c5d805a777",
   "metadata": {},
   "outputs": [],
   "source": []
  },
  {
   "cell_type": "markdown",
   "id": "b13f358f-6fb4-4f60-bb80-274088bff5b8",
   "metadata": {},
   "source": [
    "10. Scenario: A company wants to analyze customer feedback ratings on a scale of 1 to 10. The data collected is\n",
    "\n",
    " as follows:\n",
    "    [8, 9, 7, 6, 8, 10, 9, 8, 7, 8]\n",
    "    Calculate the 75th percentile of the feedback ratings."
   ]
  },
  {
   "cell_type": "code",
   "execution_count": 1,
   "id": "bbb45fdd-7b9b-46a8-9558-465cfb821ec9",
   "metadata": {},
   "outputs": [
    {
     "data": {
      "text/plain": [
       "8.75"
      ]
     },
     "execution_count": 1,
     "metadata": {},
     "output_type": "execute_result"
    }
   ],
   "source": [
    "import numpy as np\n",
    "a=[8, 9, 7, 6, 8, 10, 9, 8, 7, 8]\n",
    "np.quantile(a,0.75)"
   ]
  },
  {
   "cell_type": "code",
   "execution_count": null,
   "id": "263a9cc6-c31b-4ce9-8cf5-54487ab533b5",
   "metadata": {},
   "outputs": [],
   "source": []
  },
  {
   "cell_type": "markdown",
   "id": "dfc0b981-f559-4ed6-a39a-4be379f85ee6",
   "metadata": {},
   "source": [
    "11. Scenario: A quality control department wants to test the weight consistency of a product. The weights of a sample of products are as follows:\n",
    "    [10.2, 9.8, 10.0, 10.5, 10.3, 10.1]\n",
    "    Perform a hypothesis test to determine if the mean weight differs significantly from 10 grams.\n"
   ]
  },
  {
   "cell_type": "markdown",
   "id": "d33960a6-6f19-49f5-834c-c5a8134a77b2",
   "metadata": {},
   "source": [
    "Step 1: State the hypotheses:\n",
    "\n",
    "Null hypothesis (H₀): The mean weight is equal to 10 grams.\n",
    "Alternative hypothesis (H₁): The mean weight is different from 10 grams.\n",
    "Step 2: Calculate the necessary statistics:\n",
    "\n",
    "Calculate the sample mean (x̄) and sample standard deviation (s) of the given sample.\n",
    "Given sample: [10.2, 9.8, 10.0, 10.5, 10.3, 10.1]\n",
    "\n",
    "x̄ = (10.2 + 9.8 + 10.0 + 10.5 + 10.3 + 10.1) / 6 = 10.17\n",
    "\n",
    "s = sqrt((1/(n-1)) * Σ(xi - x̄)²)\n",
    "= sqrt((1/(6-1)) * ((10.2 - 10.17)² + (9.8 - 10.17)² + (10.0 - 10.17)² + (10.5 - 10.17)² + (10.3 - 10.17)² + (10.1 - 10.17)²))\n",
    "= sqrt((1/5) * ((-0.03)² + (-0.37)² + (-0.17)² + (0.33)² + (0.13)² + (-0.07)²))\n",
    "= sqrt((1/5) * (0.0009 + 0.1369 + 0.0289 + 0.1089 + 0.0169 + 0.0049))\n",
    "= sqrt((1/5) * 0.2964)\n",
    "= sqrt(0.05928)\n",
    "= 0.2434 (approx.)\n",
    "\n",
    "Step 3: Determine the test statistic:\n",
    "\n",
    "Calculate the t-statistic using the formula:\n",
    "t = (x̄ - μ) / (s / sqrt(n))\n",
    "where μ is the population mean, x̄ is the sample mean, s is the sample standard deviation, and n is the sample size.\n",
    "μ = 10 (given population mean)\n",
    "n = 6 (sample size)\n",
    "\n",
    "t = (10.17 - 10) / (0.2434 / sqrt(6))\n",
    "= 0.17 / (0.2434 / 2.449)\n",
    "= 0.17 / 0.0994\n",
    "= 1.711 (approx.)\n",
    "\n",
    "Step 4: Determine the critical value or p-value:\n",
    "\n",
    "Based on the degrees of freedom (df = n - 1 = 6 - 1 = 5) and significance level (usually α = 0.05), we can find the critical value from a t-table or use statistical software. Alternatively, we can calculate the p-value associated with the t-statistic using the t-distribution.\n",
    "Step 5: Make a decision:\n",
    "\n",
    "If the calculated t-statistic is greater than the critical value (or the p-value is less than the significance level), we reject the null hypothesis and conclude that the mean weight differs significantly from 10 grams.\n",
    "Please provide the critical value or the desired significance level (α) to proceed with determining the outcome of the hypothesis test."
   ]
  },
  {
   "cell_type": "code",
   "execution_count": null,
   "id": "ced1fa54-69ab-4eec-a442-145809373911",
   "metadata": {},
   "outputs": [],
   "source": []
  },
  {
   "cell_type": "markdown",
   "id": "08c5410e-269a-4ab9-812c-34c88e0e5594",
   "metadata": {},
   "source": [
    "12. Scenario: A company wants to analyze the click-through rates of two different website designs. The number of clicks for each design is as follows:\n",
    "    Design A: [100, 120, 110, 90, 95]\n",
    "    Design B: [80, 85, 90, 95, 100]\n",
    "    Perform a chi-square test to determine if there is a significant difference in the click-through rates between the two designs.\n"
   ]
  },
  {
   "cell_type": "markdown",
   "id": "917938fe-26ff-4de3-a4da-13c87d60a113",
   "metadata": {},
   "source": [
    "SOL (12):-\n",
    "\n",
    "Step 1: State the hypotheses:\n",
    "\n",
    "Null hypothesis (H₀): There is no significant difference in the click-through rates between Design A and Design B.\n",
    "Alternative hypothesis (H₁): There is a significant difference in the click-through rates between Design A and Design B.\n",
    "Step 2: Calculate the necessary statistics:\n",
    "\n",
    "Calculate the observed frequencies (O) for each category (click count) in each design.\n",
    "Calculate the expected frequencies (E) for each category under the assumption of no difference between the designs.\n",
    "Given click counts:\n",
    "Design A: [100, 120, 110, 90, 95]\n",
    "Design B: [80, 85, 90, 95, 100]\n",
    "\n",
    "Total number of categories (k): 5\n",
    "\n",
    "Calculate the observed frequencies:\n",
    "O(A) = [100, 120, 110, 90, 95]\n",
    "O(B) = [80, 85, 90, 95, 100]\n",
    "\n",
    "Calculate the expected frequencies:\n",
    "\n",
    "The expected frequencies are calculated assuming no difference between the designs, i.e., the click-through rates are the same for both designs.\n",
    "The total click count for each design is used to calculate the expected frequencies.\n",
    "Total click count for Design A: 100 + 120 + 110 + 90 + 95 = 515\n",
    "Total click count for Design B: 80 + 85 + 90 + 95 + 100 = 450\n",
    "\n",
    "E(A) = (Total click count for Design A) * (Total number of categories / Total number of clicks) = 515 * (5 / 515) = 5\n",
    "E(B) = (Total click count for Design B) * (Total number of categories / Total number of clicks) = 450 * (5 / 450) = 5\n",
    "\n",
    "Step 3: Calculate the chi-square statistic:\n",
    "\n",
    "Calculate the chi-square statistic using the formula:\n",
    "χ² = Σ((O - E)² / E)\n",
    "where Σ represents summation, O is the observed frequency, and E is the expected frequency.\n",
    "χ² = ((100 - 5)² / 5) + ((120 - 5)² / 5) + ((110 - 5)² / 5) + ((90 - 5)² / 5) + ((95 - 5)² / 5)\n",
    "+ ((80 - 5)² / 5) + ((85 - 5)² / 5) + ((90 - 5)² / 5) + ((95 - 5)² / 5) + ((100 - 5)² / 5)\n",
    "\n",
    "scss\n",
    "Copy code\n",
    "= (95² / 5) + (115² / 5) + (105² / 5) + (85² / 5) + (90² / 5)\n",
    "+ (75² / 5) + (80² / 5) + (85² / 5) + (90² / 5) + (95² / 5)\n",
    "\n",
    "= 1805 + 2645 + 2205 + 1190 + 1710\n",
    "+ 1125 + 1280 + 1710 + 2205 + 1805\n",
    "\n",
    "= 15795\n",
    "Step 4: Determine the degrees of freedom (df):\n",
    "\n",
    "Degrees of freedom (df) = (number of rows - 1) * (number of columns - 1)\n",
    "In this case, df = (2 - 1) * (5 - 1) = 4\n",
    "Step 5: Determine the critical value or p-value:\n",
    "\n",
    "Based on the degrees of freedom (df = 4) and significance level (usually α = 0.05), we can find the critical value from a chi-square distribution table or use statistical software. Alternatively, we can calculate the p-value associated with the chi-square statistic.\n",
    "Step 6: Make a decision:\n",
    "\n",
    "If the calculated chi-square statistic is greater than the critical value (or the p-value is less than the significance level), we reject the null hypothesis and conclude that there is a significant difference in the click-through rates between the two designs.\n",
    "Please provide the critical value or the desired significance level (α) to proceed with determining the outcome of the chi-square test."
   ]
  },
  {
   "cell_type": "code",
   "execution_count": null,
   "id": "ecc70b19-4e0d-44a6-a544-8e5bb1b3fd42",
   "metadata": {},
   "outputs": [],
   "source": []
  },
  {
   "cell_type": "markdown",
   "id": "6acbe9ec-a60f-4785-8d6f-cfbcf0a7b482",
   "metadata": {},
   "source": [
    "13. Scenario: A survey is conducted to measure customer satisfaction with a product on a scale of 1 to 10. The data collected is as follows:\n",
    "    [7, 9, 6, 8, 10, 7, 8, 9, 7, 8]\n",
    "    Calculate the 95% confidence interval for the population mean satisfaction score.\n"
   ]
  },
  {
   "cell_type": "markdown",
   "id": "25aafc6b-0d09-4756-b314-6df3af625bc0",
   "metadata": {},
   "source": [
    "SOL(13):-\n",
    "\n",
    "Step 1: Calculate the sample mean (x̄) and sample standard deviation (s) of the given data.\n",
    "\n",
    "Given data: [7, 9, 6, 8, 10, 7, 8, 9, 7, 8]\n",
    "\n",
    "Sample mean:\n",
    "x̄ = (7 + 9 + 6 + 8 + 10 + 7 + 8 + 9 + 7 + 8) / 10 = 79 / 10 = 7.9\n",
    "\n",
    "Sample standard deviation:\n",
    "s = sqrt((1/(n-1)) * Σ(xi - x̄)²)\n",
    "= sqrt((1/(10-1)) * ((7-7.9)² + (9-7.9)² + (6-7.9)² + (8-7.9)² + (10-7.9)² + (7-7.9)² + (8-7.9)² + (9-7.9)² + (7-7.9)² + (8-7.9)²))\n",
    "= sqrt((1/9) * ((-0.9)² + (1.1)² + (-1.9)² + (0.1)² + (2.1)² + (-0.9)² + (0.1)² + (1.1)² + (-0.9)² + (0.1)²))\n",
    "= sqrt((1/9) * (0.81 + 1.21 + 3.61 + 0.01 + 4.41 + 0.81 + 0.01 + 1.21 + 0.81 + 0.01))\n",
    "= sqrt((1/9) * 12.09)\n",
    "= sqrt(1.3433)\n",
    "= 1.159 (approx.)\n",
    "\n",
    "Step 2: Determine the critical value (z*) based on the desired confidence level.\n",
    "\n",
    "For a 95% confidence interval, the critical value (z*) can be obtained from a standard normal distribution table or using statistical software.\n",
    "For a 95% confidence level, the z* value is approximately 1.96.\n",
    "Step 3: Calculate the margin of error (E).\n",
    "\n",
    "The margin of error is calculated as E = z* * (s / sqrt(n)).\n",
    "Where z* is the critical value, s is the sample standard deviation, and n is the sample size.\n",
    "E = 1.96 * (1.159 / sqrt(10))\n",
    "= 1.96 * (1.159 / 3.162)\n",
    "= 1.96 * 0.3668\n",
    "= 0.7182 (approx.)\n",
    "\n",
    "Step 4: Calculate the confidence interval.\n",
    "\n",
    "The confidence interval is calculated as (x̄ - E, x̄ + E), where x̄ is the sample mean and E is the margin of error.\n",
    "Confidence interval = (7.9 - 0.7182, 7.9 + 0.7182)\n",
    "= (7.1818, 8.6182)\n",
    "\n",
    "Step 5: Interpret the results.\n",
    "\n",
    "The 95% confidence interval for the population mean satisfaction score is approximately (7.1818, 8.6182). This means that we can be 95% confident that the true mean satisfaction score falls within this interval.\n",
    "Note: In this calculation, we assume that the sample data is a representative and random sample from the population of interest."
   ]
  },
  {
   "cell_type": "code",
   "execution_count": null,
   "id": "be085042-b9c6-41bf-934f-6804bcb49387",
   "metadata": {},
   "outputs": [],
   "source": []
  },
  {
   "cell_type": "markdown",
   "id": "5c8b39f2-d8fe-4826-aaf5-97734542419e",
   "metadata": {},
   "source": [
    "14. Scenario: A company wants to analyze the effect of temperature on product performance. The data collected is as follows:\n",
    "    Temperature (in degrees Celsius): [20, 22, 23, 19, 21]\n",
    "    Performance (on a scale of 1 to 10): [8, 7, 9, 6, 8]\n",
    "    Perform a simple linear regression to predict performance based on temperature.\n"
   ]
  },
  {
   "cell_type": "markdown",
   "id": "2e32cb70-0c47-4ed9-a38b-9475c83be36b",
   "metadata": {},
   "source": [
    "SOL(14):-\n",
    "\n",
    "Step 1: Organize the data:\n",
    "\n",
    "Temperature (in degrees Celsius): [20, 22, 23, 19, 21]\n",
    "Performance (on a scale of 1 to 10): [8, 7, 9, 6, 8]\n",
    "Step 2: Calculate the necessary statistics:\n",
    "\n",
    "Calculate the sample means (x̄) for temperature and performance.\n",
    "Calculate the sample standard deviations (s) for temperature and performance.\n",
    "Calculate the correlation coefficient (r) between temperature and performance.\n",
    "Temperature (in degrees Celsius): [20, 22, 23, 19, 21]\n",
    "Performance (on a scale of 1 to 10): [8, 7, 9, 6, 8]\n",
    "\n",
    "x̄(temperature) = (20 + 22 + 23 + 19 + 21) / 5 = 105 / 5 = 21\n",
    "x̄(performance) = (8 + 7 + 9 + 6 + 8) / 5 = 38 / 5 = 7.6\n",
    "\n",
    "s(temperature) = sqrt((1/(n-1)) * Σ(xi - x̄)²)\n",
    "= sqrt((1/(5-1)) * ((20-21)² + (22-21)² + (23-21)² + (19-21)² + (21-21)²))\n",
    "= sqrt((1/4) * ((-1)² + 1² + 2² + (-2)² + 0²))\n",
    "= sqrt((1/4) * (1 + 1 + 4 + 4 + 0))\n",
    "= sqrt((1/4) * 10)\n",
    "= sqrt(2.5)\n",
    "= 1.5811 (approx.)\n",
    "\n",
    "s(performance) = sqrt((1/(n-1)) * Σ(yi - ȳ)²)\n",
    "= sqrt((1/(5-1)) * ((8-7.6)² + (7-7.6)² + (9-7.6)² + (6-7.6)² + (8-7.6)²))\n",
    "= sqrt((1/4) * ((0.4)² + (-0.6)² + (1.4)² + (-1.6)² + (0.4)²))\n",
    "= sqrt((1/4) * (0.16 + 0.36 + 1.96 + 2.56 + 0.16))\n",
    "= sqrt((1/4) * 5.2)\n",
    "= sqrt(1.3)\n",
    "= 1.1402 (approx.)\n",
    "\n",
    "r = Σ((xi - x̄)(yi - ȳ)) / sqrt(Σ(xi - x̄)² * Σ(yi - ȳ)²)\n",
    "= ((20-21)(8-7.6) + (22-21)(7-7.6) + (23-21)(9-7.6) + (19-21)(6-7.6) + (21-21)(8-7.6))\n",
    "/ sqrt(((-1)² + 1² + 2² + (-2)² + 0²) * ((0.4)² + (-0.6)² + (1.4)² + (-1.6)² + (0.4)²))\n",
    "= (-0.4 + -0.6 + 1.8 + 1.2 + 0) / sqrt(10 * 5.2)\n",
    "= 1.4 / sqrt(52)\n",
    "= 1.4 / 7.2111\n",
    "= 0.1938 (approx.)\n",
    "\n",
    "Step 3: Calculate the regression equation:\n",
    "\n",
    "The regression equation is of the form: y = a + bx, where y is the predicted performance, x is the temperature, a is the y-intercept, and b is the slope.\n",
    "The slope (b) can be calculated using the formula: b = r * (s(performance) / s(temperature))\n",
    "The y-intercept (a) can be calculated using the formula: a = ȳ - b * x̄(temperature)\n",
    "b = 0.1938 * (1.1402 / 1.5811) = 0.1938 * 0.721 = 0.1399 (approx.)\n",
    "\n",
    "a = 7.6 - 0.1399 * 21 = 7.6 - 2.938 = 4.662 (approx.)\n",
    "\n",
    "The regression equation is: y = 4.662 + 0.1399x\n",
    "\n",
    "Step 4: Make predictions and interpret the results:\n",
    "\n",
    "We can use the regression equation to predict the performance based on temperature values.\n",
    "For example, if the temperature is 25 degrees Celsius, we can predict the performance as follows:\n",
    "y = 4.662 + 0.1399 * 25\n",
    "= 4.662 + 3.4975\n",
    "= 8.1595\n",
    "\n",
    "Therefore, based on the linear regression model, the predicted performance at 25 degrees Celsius is approximately 8.16 on the scale of 1 to 10.\n",
    "\n",
    "The regression equation allows us to estimate the performance for different temperature values and provides insights into the relationship between temperature and performance."
   ]
  },
  {
   "cell_type": "code",
   "execution_count": null,
   "id": "254ae4e2-f0b5-4203-aad7-0e206e4b0835",
   "metadata": {},
   "outputs": [],
   "source": []
  },
  {
   "cell_type": "markdown",
   "id": "fd9d77cd-02ab-4c1b-b1b5-7db3d6ffdf07",
   "metadata": {},
   "source": [
    "15. Scenario: A study is conducted to compare the preferences of two groups of participants. The preferences are measured on a Likert scale from 1 to 5. The data collected is as follows:\n",
    "    Group A: [4, 3, 5, 2, 4]\n",
    "    Group B: [3, 2, 4, 3, 3]\n",
    "    Perform a Mann-Whitney U test to determine if there is a significant difference in the median preferences between the two groups.\n"
   ]
  },
  {
   "cell_type": "markdown",
   "id": "8938b790-ca92-4a1c-9130-599e745bfa28",
   "metadata": {},
   "source": [
    "SOL(15):-\n",
    "\n",
    "Step 1: State the hypotheses:\n",
    "\n",
    "Null hypothesis (H₀): There is no significant difference in the median preferences between Group A and Group B.\n",
    "Alternative hypothesis (H₁): There is a significant difference in the median preferences between Group A and Group B.\n",
    "Step 2: Rank the data:\n",
    "\n",
    "Combine the preferences from both groups and rank them in ascending order. Assign ranks based on the position of each preference value relative to all the values combined. In case of ties, assign the average rank to the tied values.\n",
    "Group A: [4, 3, 5, 2, 4]\n",
    "Group B: [3, 2, 4, 3, 3]\n",
    "\n",
    "Combined ranks in ascending order: [2, 2, 3, 3, 3, 4, 4, 5]\n",
    "\n",
    "Step 3: Calculate the test statistic (U):\n",
    "\n",
    "Calculate the test statistic U based on the ranks.\n",
    "U can be calculated separately for each group using the following formulas:\n",
    "U₁ = n₁ * n₂ + (n₁ * (n₁ + 1)) / 2 - Σ(rank₁)\n",
    "U₂ = n₁ * n₂ + (n₂ * (n₂ + 1)) / 2 - Σ(rank₂)\n",
    "Where n₁ and n₂ are the sample sizes of Group A and Group B, rank₁ and rank₂ are the ranks for each group, and Σ represents summation.\n",
    "n₁ = 5 (sample size of Group A)\n",
    "n₂ = 5 (sample size of Group B)\n",
    "\n",
    "U₁ = 5 * 5 + (5 * (5 + 1)) / 2 - (2 + 2 + 3 + 3 + 3)\n",
    "= 25 + (5 * 6) / 2 - 13\n",
    "= 25 + 15 - 13\n",
    "= 27\n",
    "\n",
    "U₂ = 5 * 5 + (5 * (5 + 1)) / 2 - (4 + 4 + 5)\n",
    "= 25 + (5 * 6) / 2 - 13\n",
    "= 25 + 15 - 13\n",
    "= 27\n",
    "\n",
    "The smaller of the two U values is selected as the test statistic: U = min(U₁, U₂) = 27\n",
    "\n",
    "Step 4: Determine the critical value or p-value:\n",
    "\n",
    "Based on the sample sizes (n₁ = 5, n₂ = 5) and significance level (usually α = 0.05), we can find the critical value from a Mann-Whitney U table or use statistical software. Alternatively, we can calculate the p-value associated with the test statistic U using the Mann-Whitney U distribution.\n",
    "Step 5: Make a decision:\n",
    "\n",
    "If the calculated test statistic U is less than the critical value (or the p-value is less than the significance level), we reject the null hypothesis and conclude that there is a significant difference in the median preferences between the two groups.\n",
    "Please provide the critical value or the desired significance level (α) to proceed with determining the outcome of the Mann-Whitney U test."
   ]
  },
  {
   "cell_type": "code",
   "execution_count": null,
   "id": "d88477eb-3021-4a95-ad5e-e549e34d8785",
   "metadata": {},
   "outputs": [],
   "source": []
  },
  {
   "cell_type": "markdown",
   "id": "b28c4d74-8ba7-4c9d-b026-c858483abf3b",
   "metadata": {},
   "source": [
    "16. Scenario: A company wants to analyze the distribution of customer ages. The data collected is as follows:\n",
    "    [25, 30, 35, 40, 45, 50, 55, 60, 65, 70]\n",
    "    Calculate the interquartile range (IQR) of the ages.\n"
   ]
  },
  {
   "cell_type": "code",
   "execution_count": 3,
   "id": "58e4293f-93c1-45d6-9e39-1895bc70e664",
   "metadata": {},
   "outputs": [],
   "source": [
    "import numpy as np\n",
    "b=[25, 30, 35, 40, 45, 50, 55, 60, 65, 70]\n",
    "min,q1,q2,q3,max=np.quantile(b,[0,0.25,0.5,0.75,1])"
   ]
  },
  {
   "cell_type": "code",
   "execution_count": 4,
   "id": "5d37b7fa-3179-4c0d-a703-3241fc515a62",
   "metadata": {},
   "outputs": [
    {
     "data": {
      "text/plain": [
       "22.5"
      ]
     },
     "execution_count": 4,
     "metadata": {},
     "output_type": "execute_result"
    }
   ],
   "source": [
    "IQR=q3-q1\n",
    "IQR"
   ]
  },
  {
   "cell_type": "code",
   "execution_count": null,
   "id": "1fa4a361-0a07-4cb1-8675-bc7f1846b2ee",
   "metadata": {},
   "outputs": [],
   "source": []
  },
  {
   "cell_type": "markdown",
   "id": "e864e4db-01fb-4e0d-bfc2-fe41176c863b",
   "metadata": {},
   "source": [
    "19. Scenario: A survey is conducted to measure the satisfaction levels of customers with a new product. The data collected is as follows:\n",
    "    [7, 8, 9, 6, 8, 7, 9, 7, 8, 7]\n",
    "    Calculate the standard error of the mean satisfaction score."
   ]
  },
  {
   "cell_type": "markdown",
   "id": "f16374b9-71c0-4986-a150-fe2bb83ec6e0",
   "metadata": {},
   "source": [
    "SOL(19):-\n",
    "\n",
    "To calculate the standard error of the mean satisfaction score, we can use the following formula:\n",
    "\n",
    "Standard error of the mean (SE) = s / sqrt(n)\n",
    "\n",
    "Where:\n",
    "\n",
    "s is the sample standard deviation.\n",
    "n is the sample size.\n",
    "Given data: [7, 8, 9, 6, 8, 7, 9, 7, 8, 7]\n",
    "\n",
    "Step 1: Calculate the sample mean (x̄) and sample standard deviation (s) of the given data.\n",
    "\n",
    "Sample mean:\n",
    "x̄ = (7 + 8 + 9 + 6 + 8 + 7 + 9 + 7 + 8 + 7) / 10 = 76 / 10 = 7.6\n",
    "\n",
    "Sample standard deviation:\n",
    "s = sqrt((1/(n-1)) * Σ(xi - x̄)²)\n",
    "= sqrt((1/(10-1)) * ((7-7.6)² + (8-7.6)² + (9-7.6)² + (6-7.6)² + (8-7.6)² + (7-7.6)² + (9-7.6)² + (7-7.6)² + (8-7.6)² + (7-7.6)²))\n",
    "= sqrt((1/9) * ((-0.6)² + (0.4)² + (1.4)² + (-1.6)² + (0.4)² + (-0.6)² + (1.4)² + (-0.6)² + (0.4)² + (-0.6)²))\n",
    "= sqrt((1/9) * (0.36 + 0.16 + 1.96 + 2.56 + 0.16 + 0.36 + 1.96 + 0.36 + 0.16 + 0.36))\n",
    "= sqrt((1/9) * 8.32)\n",
    "= sqrt(0.9244)\n",
    "= 0.9616 (approx.)\n",
    "\n",
    "Step 2: Calculate the standard error of the mean (SE).\n",
    "SE = s / sqrt(n)\n",
    "= 0.9616 / sqrt(10)\n",
    "= 0.9616 / 3.1623\n",
    "= 0.3045 (approx.)\n",
    "\n",
    "Therefore, the standard error of the mean satisfaction score is approximately 0.3045.\n"
   ]
  },
  {
   "cell_type": "code",
   "execution_count": null,
   "id": "d1128fee-d324-4d0f-b547-e072ee013d2e",
   "metadata": {},
   "outputs": [],
   "source": []
  },
  {
   "cell_type": "markdown",
   "id": "3db0217d-71a5-4ec7-bb5a-122d0f9196d5",
   "metadata": {},
   "source": [
    "20. Scenario: A company wants to analyze the relationship between advertising expenditure and sales. The data collected is as follows:\n",
    "    Advertising Expenditure (in thousands): [10, 15, 12, 8, 14]\n",
    "    Sales (in thousands): [25, 30, 28, 20, 26]\n",
    "    Perform a multiple regression analysis to predict sales based on advertising expenditure.\n",
    "\n"
   ]
  },
  {
   "cell_type": "markdown",
   "id": "b6df3b2c-91fe-4b48-be8d-85e144958d0c",
   "metadata": {},
   "source": [
    "SOL(20):-\n",
    "Step 1: Organize the data:\n",
    "\n",
    "Advertising Expenditure (in thousands): [10, 15, 12, 8, 14]\n",
    "Sales (in thousands): [25, 30, 28, 20, 26]\n",
    "Step 2: Calculate the necessary statistics:\n",
    "\n",
    "Calculate the sample means (x̄) for advertising expenditure and sales.\n",
    "Calculate the sample standard deviations (s) for advertising expenditure and sales.\n",
    "Calculate the correlation coefficient (r) between advertising expenditure and sales.\n",
    "Advertising Expenditure (in thousands): [10, 15, 12, 8, 14]\n",
    "Sales (in thousands): [25, 30, 28, 20, 26]\n",
    "\n",
    "x̄(expenditure) = (10 + 15 + 12 + 8 + 14) / 5 = 59 / 5 = 11.8\n",
    "x̄(sales) = (25 + 30 + 28 + 20 + 26) / 5 = 129 / 5 = 25.8\n",
    "\n",
    "s(expenditure) = sqrt((1/(n-1)) * Σ(xi - x̄)²)\n",
    "= sqrt((1/(5-1)) * ((10-11.8)² + (15-11.8)² + (12-11.8)² + (8-11.8)² + (14-11.8)²))\n",
    "= sqrt((1/4) * ((-1.8)² + (3.2)² + (0.2)² + (-3.8)² + (2.2)²))\n",
    "= sqrt((1/4) * (3.24 + 10.24 + 0.04 + 14.44 + 4.84))\n",
    "= sqrt((1/4) * 32.8)\n",
    "= sqrt(8.2)\n",
    "= 2.86 (approx.)\n",
    "\n",
    "s(sales) = sqrt((1/(n-1)) * Σ(yi - ȳ)²)\n",
    "= sqrt((1/(5-1)) * ((25-25.8)² + (30-25.8)² + (28-25.8)² + (20-25.8)² + (26-25.8)²))\n",
    "= sqrt((1/4) * ((-0.8)² + (4.2)² + (2.2)² + (-5.8)² + (0.2)²))\n",
    "= sqrt((1/4) * (0.64 + 17.64 + 4.84 + 33.64 + 0.04))\n",
    "= sqrt((1/4) * 56.8)\n",
    "= sqrt(14.2)\n",
    "= 3.77 (approx.)\n",
    "\n",
    "r = Σ((xi - x̄)(yi - ȳ)) / sqrt(Σ(xi - x̄)² * Σ(yi - ȳ)²)\n",
    "= ((10-11.8)(25-25.8) + (15-11.8)(30-25.8) + (12-11.8)(28-25.8) + (8-11.8)(20-25.8) + (14-11.8)(26-25.8))\n",
    "/ sqrt(((-1.8)² + (3.2)² + (0.2)² + (-3.8)² + (2.2)²) * ((-0.8)² + (4.2)² + (2.2)² + (-5.8)² + (0.2)²))\n",
    "= (-0.8 * -0.8 + 3.2 * 4.2 + 0.2 * 2.2 + -3.8 * -5.8 + 2.2 * 0.2)\n",
    "/ sqrt((10.24 + 3.24 + 0.04 + 14.44 + 4.84) * (0.64 + 17.64 + 4.84 + 33.64 + 0.04))\n",
    "= (0.64 + 13.44 + 0.44 + 22.04 + 0.44) / sqrt(33.2 * 56.8)\n",
    "= 36.0 / sqrt(1884.16)\n",
    "= 36.0 / 43.404\n",
    "= 0.830 (approx.)\n",
    "\n",
    "Step 3: Perform the multiple regression analysis:\n",
    "\n",
    "Use statistical software or tools to perform the multiple regression analysis. The analysis will provide the regression equation, which includes the coefficients (slope values) for each independent variable (advertising expenditure) and the intercept (constant term).\n",
    "The regression equation will be of the form:\n",
    "sales = a + b * expenditure\n",
    "\n",
    "Step 4: Interpret the results:\n",
    "\n",
    "The regression equation obtained from the multiple regression analysis will allow us to predict sales based on advertising expenditure.\n",
    "The coefficients (a and b) in the regression equation will indicate the magnitude and direction of the relationship between advertising expenditure and sales.\n",
    "Note: The exact regression equation cannot be provided without the specific output from the multiple regression analysis.\n"
   ]
  },
  {
   "cell_type": "code",
   "execution_count": null,
   "id": "f554333c-3dbe-4784-a61d-d8101c6a24e3",
   "metadata": {},
   "outputs": [],
   "source": []
  }
 ],
 "metadata": {
  "kernelspec": {
   "display_name": "Python 3 (ipykernel)",
   "language": "python",
   "name": "python3"
  },
  "language_info": {
   "codemirror_mode": {
    "name": "ipython",
    "version": 3
   },
   "file_extension": ".py",
   "mimetype": "text/x-python",
   "name": "python",
   "nbconvert_exporter": "python",
   "pygments_lexer": "ipython3",
   "version": "3.10.8"
  }
 },
 "nbformat": 4,
 "nbformat_minor": 5
}
