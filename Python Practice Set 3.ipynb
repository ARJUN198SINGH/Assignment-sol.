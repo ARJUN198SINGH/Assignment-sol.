{
 "cells": [
  {
   "cell_type": "markdown",
   "id": "a6d06d4a-f620-4861-9c32-6c93a002260d",
   "metadata": {},
   "source": [
    "Q1. Create a dictionary called fruits with the following key-value pairs:\n",
    "\n",
    "\"apple\": 0.75\n",
    "\n",
    "\"banana\": 1.25\n",
    "\n",
    "\"orange\": 0.90\n",
    "\n",
    "Then, print out the price of a banana.\n",
    "\n",
    "\n"
   ]
  },
  {
   "cell_type": "code",
   "execution_count": 1,
   "id": "9f220a98-9371-4d3e-b2ba-cd05728b7526",
   "metadata": {},
   "outputs": [],
   "source": [
    "d={\"apple\": 0.75,\n",
    "\n",
    "\"banana\": 1.25,\n",
    "\n",
    "\"orange\": 0.90}"
   ]
  },
  {
   "cell_type": "code",
   "execution_count": 3,
   "id": "b0d47182-9f06-4f1e-a8c0-5cf6d17a374d",
   "metadata": {},
   "outputs": [
    {
     "data": {
      "text/plain": [
       "1.25"
      ]
     },
     "execution_count": 3,
     "metadata": {},
     "output_type": "execute_result"
    }
   ],
   "source": [
    "d['banana']"
   ]
  },
  {
   "cell_type": "code",
   "execution_count": null,
   "id": "8a94ee75-3dbf-4efb-a03b-61e6d6a984ae",
   "metadata": {},
   "outputs": [],
   "source": []
  },
  {
   "cell_type": "markdown",
   "id": "986f8fda-de64-4f27-8ab9-2b592e594fdb",
   "metadata": {},
   "source": [
    "Q2. Create an empty dictionary called ages. Add the following key-value pairs to the dictionary:\n",
    "\n",
    "\"Alice\": 30\n",
    "\n",
    "\"Bob\": 25\n",
    "\n",
    "\"Charlie\": 35\n",
    "\n",
    "Then, print out the age of Charlie."
   ]
  },
  {
   "cell_type": "code",
   "execution_count": 5,
   "id": "5e5d3bff-1ad7-4189-80de-aa053808fbbc",
   "metadata": {},
   "outputs": [],
   "source": [
    "ages={}"
   ]
  },
  {
   "cell_type": "code",
   "execution_count": 7,
   "id": "761bfe18-19ab-422e-ae86-cbdbfb16d3c6",
   "metadata": {},
   "outputs": [],
   "source": [
    "ages[\"Alice\"]=30\n",
    "ages[\"Bob\"]=25\n",
    "ages[\"Charlie\"]=35"
   ]
  },
  {
   "cell_type": "code",
   "execution_count": 8,
   "id": "fc0c8724-e654-488d-93f4-9e906b084347",
   "metadata": {},
   "outputs": [
    {
     "data": {
      "text/plain": [
       "{'Alice': 30, 'Bob': 25, 'Charlie': 35}"
      ]
     },
     "execution_count": 8,
     "metadata": {},
     "output_type": "execute_result"
    }
   ],
   "source": [
    "ages"
   ]
  },
  {
   "cell_type": "code",
   "execution_count": 9,
   "id": "81d58b7a-aabc-4ebc-b3cd-c66b6a08d664",
   "metadata": {},
   "outputs": [
    {
     "data": {
      "text/plain": [
       "35"
      ]
     },
     "execution_count": 9,
     "metadata": {},
     "output_type": "execute_result"
    }
   ],
   "source": [
    "ages[\"Charlie\"]"
   ]
  },
  {
   "cell_type": "code",
   "execution_count": null,
   "id": "9035368a-adf8-4506-995c-626fb05ff1df",
   "metadata": {},
   "outputs": [],
   "source": []
  },
  {
   "cell_type": "markdown",
   "id": "68cb30c7-d0c5-42a2-b4d4-a9214e61d276",
   "metadata": {},
   "source": [
    "Q3. Write a function called word_count(text) that takes a string as input and returns a dictionary where \n",
    "each key is a word in the text and its value is the number of times that word appears in the text. For \n",
    "example, word_count(\"hello world hello\") should return {\"hello\": 2, \"world\": 1}."
   ]
  },
  {
   "cell_type": "code",
   "execution_count": 24,
   "id": "fc90cc88-ce26-4445-8745-dc1f97453afa",
   "metadata": {},
   "outputs": [],
   "source": [
    "def word_count(text):\n",
    "    b=text.split()\n",
    "    d={}\n",
    "    for i in b:\n",
    "        q=b.count(i)\n",
    "        d[i]=q\n",
    "    return d"
   ]
  },
  {
   "cell_type": "code",
   "execution_count": 25,
   "id": "96f5de15-0be8-4ce2-8ce6-879031b9b219",
   "metadata": {},
   "outputs": [
    {
     "data": {
      "text/plain": [
       "{'hello': 2, 'world': 1}"
      ]
     },
     "execution_count": 25,
     "metadata": {},
     "output_type": "execute_result"
    }
   ],
   "source": [
    "word_count(\"hello world hello\")"
   ]
  },
  {
   "cell_type": "code",
   "execution_count": null,
   "id": "b95e87c8-7421-41a7-9ecd-1d84283d094b",
   "metadata": {},
   "outputs": [],
   "source": []
  },
  {
   "cell_type": "markdown",
   "id": "830cc537-9773-435f-a592-fd434e7a802f",
   "metadata": {},
   "source": [
    "Q4. Create a dictionary called phone_book with the following key-value pairs:\n",
    "\n",
    "\"Alice\": \"555-1234\"\n",
    "\n",
    "\"Bob\": \"555-5678\"\n",
    "\n",
    "\"Charlie\": \"555-9012\"\n",
    "\n",
    "Then, prompt the user to enter a name and print out the corresponding phone number. If the name is not \n",
    "in the phone book, print out a message saying that the name was not found."
   ]
  },
  {
   "cell_type": "code",
   "execution_count": 3,
   "id": "dd029c5d-e807-44c1-839c-04617d1a0e6b",
   "metadata": {},
   "outputs": [],
   "source": [
    "phone_book={\"Alice\": \"555-1234\",\n",
    "\n",
    "\"Bob\": \"555-5678\",\n",
    "\n",
    "\"Charlie\": \"555-9012\"}"
   ]
  },
  {
   "cell_type": "code",
   "execution_count": 4,
   "id": "6655dd61-4d4a-491b-998d-acf79324836a",
   "metadata": {},
   "outputs": [
    {
     "data": {
      "text/plain": [
       "{'Alice': '555-1234', 'Bob': '555-5678', 'Charlie': '555-9012'}"
      ]
     },
     "execution_count": 4,
     "metadata": {},
     "output_type": "execute_result"
    }
   ],
   "source": [
    "phone_book"
   ]
  },
  {
   "cell_type": "code",
   "execution_count": 21,
   "id": "6c0425dc-4309-4a73-8982-0b35cb3c1ed4",
   "metadata": {},
   "outputs": [
    {
     "name": "stdin",
     "output_type": "stream",
     "text": [
      "Enter the name Bob\n"
     ]
    },
    {
     "name": "stdout",
     "output_type": "stream",
     "text": [
      "555-5678\n"
     ]
    }
   ],
   "source": [
    "a=input('Enter the name')\n",
    "if(a in phone_book.keys()):\n",
    "    print(phone_book[a])\n",
    "else:\n",
    "    print('name was not found')\n",
    "    "
   ]
  },
  {
   "cell_type": "code",
   "execution_count": null,
   "id": "9395986b-480d-4f21-a17c-4679f90831a4",
   "metadata": {},
   "outputs": [],
   "source": []
  },
  {
   "cell_type": "markdown",
   "id": "1fb14006-e83e-41fc-a5fb-9b07fd8134b7",
   "metadata": {},
   "source": [
    "Q5. Write a program that prompts the user to enter a number between 1 and 10. If the number is less than \n",
    "5, print out \"Too low!\", otherwise print out \"Too high!\"."
   ]
  },
  {
   "cell_type": "code",
   "execution_count": 30,
   "id": "7d05fe8d-4e35-4992-8c34-de14cd816712",
   "metadata": {},
   "outputs": [
    {
     "name": "stdin",
     "output_type": "stream",
     "text": [
      "enter the no. 7\n"
     ]
    },
    {
     "name": "stdout",
     "output_type": "stream",
     "text": [
      "Too high\n"
     ]
    },
    {
     "name": "stdin",
     "output_type": "stream",
     "text": [
      "enter the no. 4\n"
     ]
    },
    {
     "name": "stdout",
     "output_type": "stream",
     "text": [
      "Too loW\n"
     ]
    },
    {
     "name": "stdin",
     "output_type": "stream",
     "text": [
      "enter the no. 5\n"
     ]
    },
    {
     "name": "stdout",
     "output_type": "stream",
     "text": [
      "PERFECT\n",
      "GAME OVER\n"
     ]
    }
   ],
   "source": [
    "try:\n",
    "    while(True):\n",
    "        a=int(input('enter the no.'))\n",
    "        if(a>=6):\n",
    "            print('Too high')\n",
    "        elif(a<=4):\n",
    "            print('Too loW')\n",
    "        else:\n",
    "            print('PERFECT')\n",
    "            break\n",
    "    print('GAME OVER')\n",
    "except:\n",
    "    print('wrong input')\n",
    "\n",
    "\n",
    "        "
   ]
  },
  {
   "cell_type": "code",
   "execution_count": null,
   "id": "67cf42fe-f758-428e-85fb-78f035a97a6e",
   "metadata": {},
   "outputs": [],
   "source": []
  },
  {
   "cell_type": "markdown",
   "id": "f641dbb1-9239-452f-b33d-eba95203cc7e",
   "metadata": {},
   "source": [
    "Q6. Write a program that prompts the user to enter a password. If the password is \"password123\", print \n",
    "out \"Access granted\", otherwise print out \"Access denied\"."
   ]
  },
  {
   "cell_type": "code",
   "execution_count": 34,
   "id": "b34c5bfb-70ea-46b0-b4a4-4acc8e1fe596",
   "metadata": {},
   "outputs": [
    {
     "name": "stdin",
     "output_type": "stream",
     "text": [
      "enter the PASS qwe\n"
     ]
    },
    {
     "name": "stdout",
     "output_type": "stream",
     "text": [
      "Access denied\n"
     ]
    },
    {
     "name": "stdin",
     "output_type": "stream",
     "text": [
      "enter the PASS password123\n"
     ]
    },
    {
     "name": "stdout",
     "output_type": "stream",
     "text": [
      "Access granted\n"
     ]
    }
   ],
   "source": [
    "try:\n",
    "    while(True):\n",
    "        a=input('enter the PASS')\n",
    "        if(a==\"password123\"):\n",
    "            print(\"Access granted\")\n",
    "            break\n",
    "        \n",
    "        else:\n",
    "            print('Access denied')\n",
    "            \n",
    "except:\n",
    "    print('wrong input')\n",
    "\n",
    "\n",
    "        "
   ]
  },
  {
   "cell_type": "code",
   "execution_count": null,
   "id": "85be9093-914f-4aac-872e-fa04f44243a7",
   "metadata": {},
   "outputs": [],
   "source": []
  },
  {
   "cell_type": "markdown",
   "id": "83608c88-885e-4d9d-bf46-12384f48f781",
   "metadata": {},
   "source": [
    "Q7. Write a program that prompts the user to enter a positive integer. Then, use a loop to print out all the \n",
    "odd numbers from 1 to that integer."
   ]
  },
  {
   "cell_type": "code",
   "execution_count": 38,
   "id": "4a03bf8c-1a2b-4706-93b0-c357c422985e",
   "metadata": {},
   "outputs": [
    {
     "name": "stdin",
     "output_type": "stream",
     "text": [
      "plz enter the positive number -7\n",
      "plz enter the positive number 7\n"
     ]
    },
    {
     "name": "stdout",
     "output_type": "stream",
     "text": [
      "1\n",
      "3\n",
      "5\n"
     ]
    }
   ],
   "source": [
    "while(True):\n",
    "    a=int(input('plz enter the positive number'))\n",
    "    if(a>0):\n",
    "        i=1\n",
    "        while(a>i):\n",
    "            if(i%2==0):\n",
    "                pass\n",
    "            else:\n",
    "                print(i)\n",
    "            i=i+1\n",
    "        break\n",
    "    else:\n",
    "        continue        \n",
    "            "
   ]
  },
  {
   "cell_type": "code",
   "execution_count": null,
   "id": "6aafd6f2-8d4f-49c3-9449-6977783f5de8",
   "metadata": {},
   "outputs": [],
   "source": []
  },
  {
   "cell_type": "markdown",
   "id": "225e20e8-335b-4c61-bdb5-559b3f1d5f62",
   "metadata": {},
   "source": [
    "Q8. Write a program that generates a random number between 1 and 100 and then prompts the user to \n",
    "guess the number. If the user's guess is too low, print out \"Too low!\", if the guess is too high, print out \"Too \n",
    "high!\", and if the guess is correct, print out \"You win!\"."
   ]
  },
  {
   "cell_type": "code",
   "execution_count": 41,
   "id": "d940dd70-6e14-4ed5-a83e-b81c5aebfde4",
   "metadata": {},
   "outputs": [
    {
     "name": "stdin",
     "output_type": "stream",
     "text": [
      "enter the no. 50\n"
     ]
    },
    {
     "name": "stdout",
     "output_type": "stream",
     "text": [
      "Too high\n"
     ]
    },
    {
     "name": "stdin",
     "output_type": "stream",
     "text": [
      "enter the no. 40\n"
     ]
    },
    {
     "name": "stdout",
     "output_type": "stream",
     "text": [
      "Too high\n"
     ]
    },
    {
     "name": "stdin",
     "output_type": "stream",
     "text": [
      "enter the no. 30\n"
     ]
    },
    {
     "name": "stdout",
     "output_type": "stream",
     "text": [
      "Too loW\n"
     ]
    },
    {
     "name": "stdin",
     "output_type": "stream",
     "text": [
      "enter the no. 33\n"
     ]
    },
    {
     "name": "stdout",
     "output_type": "stream",
     "text": [
      "Too loW\n"
     ]
    },
    {
     "name": "stdin",
     "output_type": "stream",
     "text": [
      "enter the no. 35\n"
     ]
    },
    {
     "name": "stdout",
     "output_type": "stream",
     "text": [
      "Too loW\n"
     ]
    },
    {
     "name": "stdin",
     "output_type": "stream",
     "text": [
      "enter the no. 38\n"
     ]
    },
    {
     "name": "stdout",
     "output_type": "stream",
     "text": [
      "You win!\n",
      "GAME OVER\n"
     ]
    }
   ],
   "source": [
    "import random\n",
    "p=random.randint(1,100)\n",
    "try:\n",
    "    while(True):\n",
    "        a=int(input('enter the no.'))\n",
    "        if(a>p):\n",
    "            print('Too high')\n",
    "        elif(a<p):\n",
    "            print('Too loW')\n",
    "        else:\n",
    "            print(\"You win!\")\n",
    "            break\n",
    "    print('GAME OVER')\n",
    "except:\n",
    "    print('wrong input')\n",
    "\n",
    "\n",
    "        "
   ]
  },
  {
   "cell_type": "code",
   "execution_count": null,
   "id": "f0b09c25-0717-464f-919e-af4fd4a96eda",
   "metadata": {},
   "outputs": [],
   "source": []
  },
  {
   "cell_type": "markdown",
   "id": "cca2f01f-cc76-41ab-8ba2-68317fed4e74",
   "metadata": {},
   "source": [
    "Q9. Write a program that generates a random number between 1 and 10 and then prompts the user to \n",
    "guess the number. The user has three attempts to guess the number. If the user guesses correctly within \n",
    "three attempts, print out \"You win!\", otherwise print out \"You lose!\"."
   ]
  },
  {
   "cell_type": "code",
   "execution_count": 51,
   "id": "d8efa028-403f-447d-98d4-5b2c70806a12",
   "metadata": {},
   "outputs": [
    {
     "name": "stdout",
     "output_type": "stream",
     "text": [
      "python random no. 5\n",
      "You have only 3 attempts\n"
     ]
    },
    {
     "name": "stdin",
     "output_type": "stream",
     "text": [
      "enter the no. 4\n"
     ]
    },
    {
     "name": "stdout",
     "output_type": "stream",
     "text": [
      "you have only 2 guess left\n"
     ]
    },
    {
     "name": "stdin",
     "output_type": "stream",
     "text": [
      "enter the no. 3\n"
     ]
    },
    {
     "name": "stdout",
     "output_type": "stream",
     "text": [
      "you have only 1 guess left\n"
     ]
    },
    {
     "name": "stdin",
     "output_type": "stream",
     "text": [
      "enter the no. 5\n"
     ]
    },
    {
     "name": "stdout",
     "output_type": "stream",
     "text": [
      "You win!\n"
     ]
    }
   ],
   "source": [
    "import random\n",
    "p=random.randint(1,10)\n",
    "print('python random no.',p)\n",
    "q=3\n",
    "try:\n",
    "    print('You have only 3 attempts')\n",
    "    while(q>0):\n",
    "        a=int(input('enter the no.'))\n",
    "        if(a==p):\n",
    "            print(\"You win!\")\n",
    "            break\n",
    "            \n",
    "        q=q-1\n",
    "        if(q>0):\n",
    "            print('you have only',q,'guess left')\n",
    "        else:\n",
    "            print('You loose')\n",
    "except:\n",
    "    print('wrong input')\n",
    "\n",
    "\n",
    "        "
   ]
  },
  {
   "cell_type": "code",
   "execution_count": null,
   "id": "698d448d-d264-4455-959e-0d927791de61",
   "metadata": {},
   "outputs": [],
   "source": []
  },
  {
   "cell_type": "markdown",
   "id": "db0bf6ac-9673-4f08-bfee-8bde061e87c9",
   "metadata": {},
   "source": [
    "Q10. Write a program that prompts the user to enter their age and then prints out whether they are a child \n",
    "(age 0-12), a teenager (age 13-19), an adult (age 20-59), or a senior (age 60+)"
   ]
  },
  {
   "cell_type": "code",
   "execution_count": 55,
   "id": "98eb1727-5edc-4c86-967b-c5d4eeb272cd",
   "metadata": {},
   "outputs": [
    {
     "name": "stdin",
     "output_type": "stream",
     "text": [
      "enter your age 15\n"
     ]
    },
    {
     "name": "stdout",
     "output_type": "stream",
     "text": [
      " a teenager\n"
     ]
    }
   ],
   "source": [
    "a=int(input('enter your age'))\n",
    "if(a>0 and a<12):\n",
    "    print('a child')\n",
    "elif(a>12 and a<19):\n",
    "    print(' a teenager')\n",
    "else:\n",
    "    print(' an adult')"
   ]
  },
  {
   "cell_type": "code",
   "execution_count": null,
   "id": "22ced78c-84fe-4280-9b3a-e28fc63d1d98",
   "metadata": {},
   "outputs": [],
   "source": []
  },
  {
   "cell_type": "code",
   "execution_count": null,
   "id": "df00d35c-4c1c-4456-b11c-b665016048da",
   "metadata": {},
   "outputs": [],
   "source": []
  }
 ],
 "metadata": {
  "kernelspec": {
   "display_name": "Python 3 (ipykernel)",
   "language": "python",
   "name": "python3"
  },
  "language_info": {
   "codemirror_mode": {
    "name": "ipython",
    "version": 3
   },
   "file_extension": ".py",
   "mimetype": "text/x-python",
   "name": "python",
   "nbconvert_exporter": "python",
   "pygments_lexer": "ipython3",
   "version": "3.10.8"
  }
 },
 "nbformat": 4,
 "nbformat_minor": 5
}
