{
 "cells": [
  {
   "cell_type": "markdown",
   "id": "0c825726-855e-4a54-8023-6260d75ae590",
   "metadata": {},
   "source": [
    "Q1. What is the role of feature selection in anomaly detection?\n",
    "\n",
    "ANS:-Feature selection plays an important role when it comes to improve outlier detection in terms of identifying noisy data that contain irrelevant or redundant features. State-of-the-art work either focuses on unsupervised feature selection for data streams or (offline) outlier detection."
   ]
  },
  {
   "cell_type": "code",
   "execution_count": null,
   "id": "18cd8d88-ee5e-4d2f-b431-08df45243885",
   "metadata": {},
   "outputs": [],
   "source": []
  },
  {
   "cell_type": "markdown",
   "id": "e89bbe9a-14cb-44a6-aaa5-8bdd70ff7da5",
   "metadata": {},
   "source": [
    "Q2. What are some common evaluation metrics for anomaly detection algorithms and how are they \n",
    "computed?\n",
    "\n",
    "ANS:-The most common metrics for anomaly detection are the classical precision and recall, computed by comparing the predicted and the ground truth outputs for each sample."
   ]
  },
  {
   "cell_type": "code",
   "execution_count": null,
   "id": "91a8beab-4747-4f96-b432-d5c7a0c030ed",
   "metadata": {},
   "outputs": [],
   "source": []
  },
  {
   "cell_type": "markdown",
   "id": "35b8c379-4485-4927-b37c-4f146284338a",
   "metadata": {},
   "source": [
    "Q3. What is DBSCAN and how does it work for clustering?\n",
    "\n",
    "ANS:-DBSCAN - Density-Based Spatial Clustering of Applications with Noise. Finds core samples of high density and expands clusters from them. Good for data which contains clusters of similar density."
   ]
  },
  {
   "cell_type": "code",
   "execution_count": null,
   "id": "bc7674bb-f359-443d-862f-52546b9c1804",
   "metadata": {},
   "outputs": [],
   "source": []
  },
  {
   "cell_type": "markdown",
   "id": "4563e5dc-a3d2-4597-885d-57649687652b",
   "metadata": {},
   "source": [
    "Q4. How does the epsilon parameter affect the performance of DBSCAN in detecting anomalies?\n",
    "\n",
    "ANS:- It is the distance that DBSCAN uses to determine if two points are similar and belong together. A larger epsilon will produce broader clusters (encompassing more data points) and a smaller epsilon will build smaller clusters."
   ]
  },
  {
   "cell_type": "code",
   "execution_count": null,
   "id": "f0bce8c6-3b47-47cb-8fae-2a4ea2dd6135",
   "metadata": {},
   "outputs": [],
   "source": []
  },
  {
   "cell_type": "markdown",
   "id": "41cee0b5-37fc-42a0-961c-a3f04d11eae8",
   "metadata": {},
   "source": [
    "Q5. What are the differences between the core, border, and noise points in DBSCAN, and how do they relate \n",
    "to anomaly detection?\n",
    "\n",
    "ANS:-The Core Points, as the name suggests, lie usually within the interior of a cluster. A Border Point has fewer than MinPts within its ϵ-neighborhood (N), but it lies in the neighborhood of another core point. Noise is any data point that is neither core nor border point."
   ]
  },
  {
   "cell_type": "code",
   "execution_count": null,
   "id": "63b32a5e-8f61-4567-8e82-d100f0311fc4",
   "metadata": {},
   "outputs": [],
   "source": []
  },
  {
   "cell_type": "markdown",
   "id": "6b9e5b53-128d-4ec4-9dea-ff55b75527e4",
   "metadata": {},
   "source": [
    "Q6. How does DBSCAN detect anomalies and what are the key parameters involved in the process?\n",
    "\n",
    "ANS:-DBSCAN does not require to define by a number of clusters and is able to detect anomalies where data spread is arbitrarily distributed and linearly not separable. It has its own limitations while working with varying density data spread. In our case, it been detected 16 datapoints as potential outliers."
   ]
  },
  {
   "cell_type": "code",
   "execution_count": null,
   "id": "a05e82ab-450e-44c3-bd66-aea88c25d14e",
   "metadata": {},
   "outputs": [],
   "source": []
  },
  {
   "cell_type": "markdown",
   "id": "bae475b9-6982-4a10-9ef3-23bd69cfd8bd",
   "metadata": {},
   "source": [
    "Q7. What is the make_circles package in scikit-learn used for?\n",
    "\n",
    "ANS:-Make a large circle containing a smaller circle in 2d. A simple toy dataset to visualize clustering and classification algorithms."
   ]
  },
  {
   "cell_type": "code",
   "execution_count": null,
   "id": "329c13f7-51f7-483d-9fb9-d00c68636e39",
   "metadata": {},
   "outputs": [],
   "source": []
  },
  {
   "cell_type": "markdown",
   "id": "acba5c25-68a9-4c1d-9d2b-fecae8b412e7",
   "metadata": {},
   "source": [
    "Q8. What are local outliers and global outliers, and how do they differ from each other?\n",
    "\n",
    "ANS:-There are two general types of outlier detection: global and local. Global outliers fall outside the normal range for an entire dataset, whereas local outliers may fall within the normal range for the entire dataset, but outside the normal range for the surrounding data points."
   ]
  },
  {
   "cell_type": "code",
   "execution_count": null,
   "id": "447a68e4-7584-4621-95e6-d77339316fe3",
   "metadata": {},
   "outputs": [],
   "source": []
  },
  {
   "cell_type": "markdown",
   "id": "157ed0e6-71a5-4909-9d89-bc0e848e03e6",
   "metadata": {},
   "source": [
    "Q9. How can local outliers be detected using the Local Outlier Factor (LOF) algorithm?\n",
    "\n",
    "ANS:-The Local Outlier Factor (LOF) algorithm is an unsupervised anomaly detection method which computes the local density deviation of a given data point with respect to its neighbors. It considers as outliers the samples that have a substantially lower density than their neighbors."
   ]
  },
  {
   "cell_type": "code",
   "execution_count": null,
   "id": "8e7d9770-d03b-422d-8982-a156aa8e6f94",
   "metadata": {},
   "outputs": [],
   "source": []
  },
  {
   "cell_type": "markdown",
   "id": "5d40da56-1352-4995-958b-a51820cc6c3d",
   "metadata": {},
   "source": [
    "Q10. How can global outliers be detected using the Isolation Forest algorithm?\n",
    "\n",
    "ANS:-Isolation Forest is based on the Decision Tree algorithm. It isolates the outliers by randomly selecting a feature from the given set of features and then randomly selecting a split value between the max and min values of that feature."
   ]
  },
  {
   "cell_type": "code",
   "execution_count": null,
   "id": "946d4561-56c8-45e2-992b-acf5598816ed",
   "metadata": {},
   "outputs": [],
   "source": []
  },
  {
   "cell_type": "markdown",
   "id": "230ea25e-d5dc-46d8-966b-fc7d7027b2ef",
   "metadata": {},
   "source": [
    "Q11. What are some real-world applications where local outlier detection is more appropriate than global \n",
    "outlier detection, and vice versa?\n",
    "\n",
    "ANS:-Catching and identifying anomalies is what we call anomaly or outlier detection. For example, if large sums of money are spent one after another within one day and it is not your typical behavior, a bank can block your card. They will see an unusual pattern in your daily transactions."
   ]
  },
  {
   "cell_type": "code",
   "execution_count": null,
   "id": "fa590313-3720-472e-988c-de694acf9388",
   "metadata": {},
   "outputs": [],
   "source": []
  }
 ],
 "metadata": {
  "kernelspec": {
   "display_name": "Python 3 (ipykernel)",
   "language": "python",
   "name": "python3"
  },
  "language_info": {
   "codemirror_mode": {
    "name": "ipython",
    "version": 3
   },
   "file_extension": ".py",
   "mimetype": "text/x-python",
   "name": "python",
   "nbconvert_exporter": "python",
   "pygments_lexer": "ipython3",
   "version": "3.10.8"
  }
 },
 "nbformat": 4,
 "nbformat_minor": 5
}
