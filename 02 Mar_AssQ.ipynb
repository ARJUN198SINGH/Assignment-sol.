{
 "cells": [
  {
   "cell_type": "markdown",
   "id": "7a6fa37a-aec9-4199-b916-47524452f4ac",
   "metadata": {},
   "source": [
    "Q1: What is Matplotlib? Why is it used? Name five plots that can be plotted using the Pyplot module of \n",
    "Matplotlib.\n",
    "\n",
    "ANS:-matplotlib is a library in Python which is used to visualize the data present in the dataset.\n",
    "line plot,\n",
    "bar plot,\n",
    "pie plot,\n",
    "histogram,\n",
    "scatter plot."
   ]
  },
  {
   "cell_type": "code",
   "execution_count": null,
   "id": "e528d9c0-96ad-4e3f-87fd-635c3ebf095c",
   "metadata": {},
   "outputs": [],
   "source": []
  },
  {
   "cell_type": "markdown",
   "id": "bf3293c0-5f6c-4247-baa0-1bbe2f849784",
   "metadata": {},
   "source": [
    "2: What is a scatter plot? Use the following code to generate data for x and y. Using this generated data \n",
    "plot a scatter plot.\n",
    "\n",
    "import numpy as np\n",
    "\n",
    "np.random.seed(3)\n",
    "\n",
    "x = 3 + np.random.normal(0, 2, 50)\n",
    "\n",
    "y = 3 + np.random.normal(0, 2, len(x))\n",
    "\n",
    "Note: Also add title, xlabel, and ylabel to the plot.\\\n",
    "\n",
    "\n",
    "ANS:-scatter plot is the function of matplotlib library and it is used to visualise the data."
   ]
  },
  {
   "cell_type": "code",
   "execution_count": null,
   "id": "7b72bc6d-53a9-47bd-ad1c-33bc0cf2069f",
   "metadata": {},
   "outputs": [],
   "source": []
  },
  {
   "cell_type": "code",
   "execution_count": 3,
   "id": "dd3fae2f-b970-4bd8-8a9d-255847127a38",
   "metadata": {},
   "outputs": [],
   "source": [
    "import numpy as np\n",
    "\n",
    "np.random.seed(3)\n",
    "\n",
    "x = 3 + np.random.normal(0, 2, 50)\n",
    "\n",
    "y = 3 + np.random.normal(0, 2, len(x))\n",
    "\n"
   ]
  },
  {
   "cell_type": "code",
   "execution_count": 6,
   "id": "3a8c9b0a-3c3b-4ffd-ad26-023b46a3e515",
   "metadata": {},
   "outputs": [
    {
     "data": {
      "image/png": "[encoded data removed]",
      "text/plain": [
       "<Figure size 640x480 with 1 Axes>"
      ]
     },
     "metadata": {},
     "output_type": "display_data"
    }
   ],
   "source": [
    "from matplotlib import pyplot as plt\n",
    "colors=np.random.rand(50)\n",
    "plt.scatter(x,y,c=colors)\n",
    "plt.xlabel('x axis')\n",
    "plt.ylabel('y axis')\n",
    "plt.show()"
   ]
  },
  {
   "cell_type": "code",
   "execution_count": null,
   "id": "ef489342-46ec-4783-b9e2-1c906732efc5",
   "metadata": {},
   "outputs": [],
   "source": []
  },
  {
   "cell_type": "code",
   "execution_count": null,
   "id": "bdc6c2ce-2217-41ee-8ecd-5ce6807626b1",
   "metadata": {},
   "outputs": [],
   "source": []
  },
  {
   "cell_type": "code",
   "execution_count": null,
   "id": "60b5c1de-7a39-4268-b810-f94cc5135021",
   "metadata": {},
   "outputs": [],
   "source": []
  },
  {
   "cell_type": "code",
   "execution_count": null,
   "id": "a0768445-bd6f-47e0-bfb2-6e6e2fba5115",
   "metadata": {},
   "outputs": [],
   "source": []
  },
  {
   "cell_type": "code",
   "execution_count": null,
   "id": "fa5b2fc4-bdeb-4feb-a02c-f28e4f0389b1",
   "metadata": {},
   "outputs": [],
   "source": []
  },
  {
   "cell_type": "code",
   "execution_count": null,
   "id": "6f698d2b-198c-4b84-bfac-b76d69b584ef",
   "metadata": {},
   "outputs": [],
   "source": []
  },
  {
   "cell_type": "code",
   "execution_count": null,
   "id": "85ec49aa-258d-49d5-9274-3d93ff45e13e",
   "metadata": {},
   "outputs": [],
   "source": []
  },
  {
   "cell_type": "code",
   "execution_count": null,
   "id": "20810c81-08e9-4060-b809-b2cefa663480",
   "metadata": {},
   "outputs": [],
   "source": []
  },
  {
   "cell_type": "code",
   "execution_count": null,
   "id": "d494ded7-5205-4782-9ef7-cf12c14920ab",
   "metadata": {},
   "outputs": [],
   "source": []
  },
  {
   "cell_type": "code",
   "execution_count": null,
   "id": "db76aa43-53af-4f23-bf95-afb4e6794306",
   "metadata": {},
   "outputs": [],
   "source": []
  },
  {
   "cell_type": "code",
   "execution_count": null,
   "id": "634cd611-74be-4c57-92c3-c5ac831b0c2c",
   "metadata": {},
   "outputs": [],
   "source": []
  },
  {
   "cell_type": "code",
   "execution_count": null,
   "id": "c912bf09-e4e4-4900-aeff-14d7fed94b7e",
   "metadata": {},
   "outputs": [],
   "source": []
  },
  {
   "cell_type": "code",
   "execution_count": null,
   "id": "691aa877-5c88-4443-919f-816246cf469b",
   "metadata": {},
   "outputs": [],
   "source": []
  },
  {
   "cell_type": "code",
   "execution_count": null,
   "id": "f65ba2d9-49b4-4cc8-a5c6-2c7b849e4b14",
   "metadata": {},
   "outputs": [],
   "source": []
  },
  {
   "cell_type": "code",
   "execution_count": null,
   "id": "5baa7738-5bc3-41f9-ab0f-e448951d7594",
   "metadata": {},
   "outputs": [],
   "source": []
  },
  {
   "cell_type": "code",
   "execution_count": null,
   "id": "4e814280-71cf-4485-bb87-eba04a6fc060",
   "metadata": {},
   "outputs": [],
   "source": []
  },
  {
   "cell_type": "code",
   "execution_count": null,
   "id": "eaa23a2c-ce7a-40d3-92c4-920efb7b2de0",
   "metadata": {},
   "outputs": [],
   "source": []
  },
  {
   "cell_type": "code",
   "execution_count": null,
   "id": "b63c2ae7-80f5-43d4-abb2-82c413850e74",
   "metadata": {},
   "outputs": [],
   "source": []
  },
  {
   "cell_type": "code",
   "execution_count": null,
   "id": "1b4db279-19b3-4fe5-87e5-c3fe570b884e",
   "metadata": {},
   "outputs": [],
   "source": []
  },
  {
   "cell_type": "code",
   "execution_count": null,
   "id": "dc3cc225-e91f-4767-b3aa-1412f64deeb3",
   "metadata": {},
   "outputs": [],
   "source": []
  },
  {
   "cell_type": "code",
   "execution_count": null,
   "id": "202b5386-7e12-491a-bfa2-72169f80ab93",
   "metadata": {},
   "outputs": [],
   "source": []
  }
 ],
 "metadata": {
  "kernelspec": {
   "display_name": "Python 3 (ipykernel)",
   "language": "python",
   "name": "python3"
  },
  "language_info": {
   "codemirror_mode": {
    "name": "ipython",
    "version": 3
   },
   "file_extension": ".py",
   "mimetype": "text/x-python",
   "name": "python",
   "nbconvert_exporter": "python",
   "pygments_lexer": "ipython3",
   "version": "3.10.8"
  }
 },
 "nbformat": 4,
 "nbformat_minor": 5
}
