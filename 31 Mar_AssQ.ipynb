{
 "cells": [
  {
   "cell_type": "markdown",
   "id": "ec6eeb21-fbe6-4283-9f0f-23cd9218fefc",
   "metadata": {},
   "source": [
    "Q1. What are the key steps involved in building an end-to-end web application, from development to deployment on the cloud?\n",
    "\n",
    "ANS:-(1) DATA MINING TO GET DATASET\n",
    "\n",
    "(2) APPLY EDA\n",
    "\n",
    "(3) FEATURE ENGINEERING\n",
    "\n",
    "(4) TRAIN AND TEST MODEL\n",
    "\n",
    "(5) DEPLOYING TO AWS"
   ]
  },
  {
   "cell_type": "code",
   "execution_count": null,
   "id": "c11c834c-4c88-4425-ac50-c1b74c96018b",
   "metadata": {},
   "outputs": [],
   "source": []
  },
  {
   "cell_type": "markdown",
   "id": "162f50c6-a15b-4e3b-a2ff-4180fbd4c21e",
   "metadata": {},
   "source": [
    "Q2. Explain the difference between traditional web hosting and cloud hosting.\n",
    "\n",
    "ANS:- Cloud hosting is more quickly scalable than traditional hosting. If an application or website receives more or less traffic, the cloud servers scale up and down automatically. With cloud hosting, there's no need to manually add or remove server space as there is in shared hosting.\n",
    "\n",
    "With traditional web hosting, your website is hosted on a single server in a single datacenter. Depending on the size of your website, the volume of traffic you receive, and your level of technical expertise, you can choose from several types of traditional hosting."
   ]
  },
  {
   "cell_type": "code",
   "execution_count": null,
   "id": "d2ca9bbc-08cc-4317-bb56-3264c5712c13",
   "metadata": {},
   "outputs": [],
   "source": []
  },
  {
   "cell_type": "markdown",
   "id": "71ad13e0-7ede-4438-994d-2a466736895c",
   "metadata": {},
   "source": [
    "Q3. How do you choose the right cloud provider for your application deployment, and what factors \n",
    "should you consider?\n",
    "\n",
    "ANS:-factors should you consider are:-\n",
    "\n",
    "(1) Certifications & Standards.\n",
    "\n",
    "(2) Technologies & Service Roadmap.\n",
    "\n",
    "(3) Data Security, Data Governance and Business policies.\n",
    "\n",
    "(4)Service Dependencies & Partnerships.\n",
    "\n",
    "(5)Contracts, Commercials & SLAs.\n",
    "\n",
    "(6)Reliability & Performance."
   ]
  },
  {
   "cell_type": "code",
   "execution_count": null,
   "id": "74e70898-6dac-41ab-a240-b155225de141",
   "metadata": {},
   "outputs": [],
   "source": []
  },
  {
   "cell_type": "markdown",
   "id": "b0b710e6-447a-493b-bbef-a64e63490bc6",
   "metadata": {},
   "source": [
    "Q4. How do you design and build a responsive user interface for your web application, and what are \n",
    "some best practices to follow?\n",
    "\n",
    "ANS:-\n",
    "\n",
    "\n",
    "(1)Set Appropriate Responsive Breakpoints. \n",
    "\n",
    "(2)Start with a Fluid Grid. \n",
    "\n",
    "(3)Take touchscreens into consideration. \n",
    "\n",
    "(4)Define Typography. \n",
    "\n",
    "(5)Use a pre-designed theme or layout to save time. \n",
    "\n",
    "(6)Test Responsiveness on Real Devices."
   ]
  },
  {
   "cell_type": "code",
   "execution_count": null,
   "id": "5b895817-fab9-415a-a860-fadb6db1e089",
   "metadata": {},
   "outputs": [],
   "source": []
  },
  {
   "cell_type": "markdown",
   "id": "2368f9a1-e52a-4f63-b5f9-ba38516f79be",
   "metadata": {},
   "source": [
    "Q5. How do you integrate the machine learning model with the user interface for the Algerian Forest Fires \n",
    "project(which we discussed in class), and what APIs or libraries can you use for this purpose?\n",
    "\n",
    "ANS:- we will use the library like:\n",
    "\n",
    "import pickle\n",
    "\n",
    "from sklearn.modelselection import StandardSelection\n",
    "\n",
    "import flask\n",
    "\n",
    "import numpy as np\n",
    "\n",
    "import pandas as pd"
   ]
  },
  {
   "cell_type": "code",
   "execution_count": null,
   "id": "f7cfc536-906e-4be8-9e3e-6442823fb874",
   "metadata": {},
   "outputs": [],
   "source": []
  }
 ],
 "metadata": {
  "kernelspec": {
   "display_name": "Python 3 (ipykernel)",
   "language": "python",
   "name": "python3"
  },
  "language_info": {
   "codemirror_mode": {
    "name": "ipython",
    "version": 3
   },
   "file_extension": ".py",
   "mimetype": "text/x-python",
   "name": "python",
   "nbconvert_exporter": "python",
   "pygments_lexer": "ipython3",
   "version": "3.10.8"
  }
 },
 "nbformat": 4,
 "nbformat_minor": 5
}
