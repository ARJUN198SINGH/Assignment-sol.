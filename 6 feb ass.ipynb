{
 "cells": [
  {
   "cell_type": "markdown",
   "id": "941a40eb-93d5-4c8a-8ac4-24517c2d00b0",
   "metadata": {},
   "source": [
    "Q1. Create a function which will take a list as an argument and return the product of all the numbers \n",
    "after creating a flat list.\n",
    "Use the below-given list as an argument for your function.\n",
    "list1 = [1,2,3,4, [44,55,66, True], False, (34,56,78,89,34), {1,2,3,3,2,1}, {1:34, \"key2\": [55, 67, 78, 89], 4: (45, \n",
    "22, 61, 34)}, [56, 'data science'], 'Machine Learning']\n",
    "\n",
    "Note: you must extract numeric keys and values of the dictionary also"
   ]
  },
  {
   "cell_type": "code",
   "execution_count": 31,
   "id": "b91d1ffe-da32-4cb9-bcb2-c9d3fd626501",
   "metadata": {},
   "outputs": [
    {
     "data": {
      "text/plain": [
       "4134711838987085478833841242112000"
      ]
     },
     "execution_count": 31,
     "metadata": {},
     "output_type": "execute_result"
    }
   ],
   "source": [
    "list1 = [1,2,3,4, [44,55,66, True], False, (34,56,78,89,34), \n",
    "         {1,2,3,3,2,1}, {1:34, \"key2\": [55, 67, 78, 89], 4: (45, \n",
    "22, 61, 34)}, [56, 'data science'], 'Machine Learning']\n",
    "from functools import reduce\n",
    "def numer(a):    \n",
    "    k=[]\n",
    "    for i in a:\n",
    "        if(type(i)==int):\n",
    "            k.append(i)\n",
    "        elif(type(i)==list):\n",
    "            for j in i:\n",
    "                if(type(j)==int):\n",
    "                    k.append(j)\n",
    "        elif(type(i)==tuple):\n",
    "            for j in i:\n",
    "                if(type(j)==int):\n",
    "                    k.append(j)\n",
    "        elif(type(i)==set):\n",
    "            for j in i:\n",
    "                if(type(j)==int):\n",
    "                    k.append(j)\n",
    "        elif(type(i)==dict):\n",
    "            c=list(i.keys())+list(i.values())\n",
    "            for j in c:\n",
    "                if(type(j)==int):\n",
    "                    k.append(j)\n",
    "                elif(type(j)==list or type(j)==tuple):\n",
    "                    for p in j:\n",
    "                        if(type(p)==int):\n",
    "                            k.append(p)\n",
    "    return reduce(lambda x,y:x*y,k)\n",
    "    \n",
    "numer(list1)        \n",
    "        \n",
    "        \n",
    "        \n",
    "        \n",
    "    \n",
    "            \n",
    "\n"
   ]
  },
  {
   "cell_type": "markdown",
   "id": "c5116e86-d49e-439a-b557-e7953163d013",
   "metadata": {},
   "source": [
    "OR"
   ]
  },
  {
   "cell_type": "code",
   "execution_count": 30,
   "id": "27a26056-030c-4f6c-860a-59a6af31b170",
   "metadata": {},
   "outputs": [
    {
     "data": {
      "text/plain": [
       "4134711838987085478833841242112000"
      ]
     },
     "execution_count": 30,
     "metadata": {},
     "output_type": "execute_result"
    }
   ],
   "source": [
    "list1 = [1,2,3,4, [44,55,66, True], False, (34,56,78,89,34), \n",
    "         {1,2,3,3,2,1}, {1:34, \"key2\": [55, 67, 78, 89], 4: (45, \n",
    "22, 61, 34)}, [56, 'data science'], 'Machine Learning']\n",
    "def pro(a):  \n",
    "    k=[]\n",
    "    for i in a:\n",
    "        if(type(i)==int):\n",
    "            k.append(i)\n",
    "        elif(type(i)==list or type(i)==tuple or type(i)==set):\n",
    "            for j in i:\n",
    "                if(type(j)==int):\n",
    "                    k.append(j)\n",
    "        elif(type(i)==dict):\n",
    "            c=list(i.keys())+list(i.values())\n",
    "            for j in c:\n",
    "                if(type(j)==int):\n",
    "                    k.append(j)\n",
    "                elif(type(j)==list or type(j)==tuple):\n",
    "                    for p in j:\n",
    "                        if(type(p)==int):\n",
    "                            k.append(p)\n",
    "    return reduce(lambda x,y:x*y,k)\n",
    "    \n",
    "    \n",
    "pro(list1)\n",
    "\n"
   ]
  },
  {
   "cell_type": "code",
   "execution_count": null,
   "id": "dc1d9bbc-f5e9-4a32-aada-ff5fc1443e73",
   "metadata": {},
   "outputs": [],
   "source": []
  },
  {
   "cell_type": "markdown",
   "id": "e5a566c6-f601-48c9-8c6f-7c3881d95d10",
   "metadata": {},
   "source": [
    "Q2. Write a python program for encrypting a message sent to you by your friend. The logic of encryption \n",
    "should be such that, for a the output should be z. For b, the output should be y. For c, the output should \n",
    "be x respectively. Also, the whitespace should be replaced with a dollar sign. Keep the punctuation \n",
    "marks unchanged.\n",
    "\n",
    "Input Sentence: I want to become a Data Scientist.\n",
    "\n",
    "Encrypt the above input sentence using the program you just created.\n",
    "\n",
    "Note: Convert the given input sentence into lowercase before encrypting. The final output should be \n",
    "lowercase."
   ]
  },
  {
   "cell_type": "code",
   "execution_count": 40,
   "id": "b56afd78-1bfd-4480-9c4e-90ad3aa20520",
   "metadata": {},
   "outputs": [
    {
     "data": {
      "text/plain": [
       "'i wznt to yexome z dztz sxientist.'"
      ]
     },
     "execution_count": 40,
     "metadata": {},
     "output_type": "execute_result"
    }
   ],
   "source": [
    "string='I want to become a Data Scientist.'\n",
    "string=string.lower()\n",
    "new=''\n",
    "for i in string:\n",
    "    if(i=='a'):\n",
    "        new=new+'z'\n",
    "    elif(i=='b'):\n",
    "        new=new+'y'\n",
    "    elif(i=='c'):\n",
    "        new=new+'x'\n",
    "    else:\n",
    "        new=new+i\n",
    "new\n",
    "    "
   ]
  },
  {
   "cell_type": "code",
   "execution_count": null,
   "id": "ea90ea80-e44b-43a9-830b-55c626b63216",
   "metadata": {},
   "outputs": [],
   "source": []
  },
  {
   "cell_type": "code",
   "execution_count": null,
   "id": "1087afc2-d32d-4286-8838-6f0d01cbfa74",
   "metadata": {},
   "outputs": [],
   "source": []
  }
 ],
 "metadata": {
  "kernelspec": {
   "display_name": "Python 3 (ipykernel)",
   "language": "python",
   "name": "python3"
  },
  "language_info": {
   "codemirror_mode": {
    "name": "ipython",
    "version": 3
   },
   "file_extension": ".py",
   "mimetype": "text/x-python",
   "name": "python",
   "nbconvert_exporter": "python",
   "pygments_lexer": "ipython3",
   "version": "3.10.8"
  }
 },
 "nbformat": 4,
 "nbformat_minor": 5
}
