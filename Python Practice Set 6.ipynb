{
 "cells": [
  {
   "cell_type": "markdown",
   "id": "92c343db-37e7-4c4d-a4a3-98979173822a",
   "metadata": {},
   "source": [
    "Q1. Write a program that prints the first 10 even numbers using a for loop."
   ]
  },
  {
   "cell_type": "code",
   "execution_count": 1,
   "id": "2b76fd0e-6624-4193-b222-60d589c959ff",
   "metadata": {},
   "outputs": [
    {
     "name": "stdout",
     "output_type": "stream",
     "text": [
      "0\n",
      "2\n",
      "4\n",
      "6\n",
      "8\n",
      "10\n",
      "12\n",
      "14\n",
      "16\n",
      "18\n",
      "20\n"
     ]
    }
   ],
   "source": [
    "for i in range(0,21,2):\n",
    "    print(i)"
   ]
  },
  {
   "cell_type": "code",
   "execution_count": null,
   "id": "f5e85820-6890-4fbb-bd4d-3dbe1552276e",
   "metadata": {},
   "outputs": [],
   "source": []
  },
  {
   "cell_type": "markdown",
   "id": "c1c22431-353d-45eb-ba96-8771dcc3faa4",
   "metadata": {},
   "source": [
    "Q2. Write a program that takes a list of strings and prints out each string in reverse order using a for loop."
   ]
  },
  {
   "cell_type": "code",
   "execution_count": 6,
   "id": "e9eb1e0c-6822-461e-b840-e93de2a02191",
   "metadata": {},
   "outputs": [
    {
     "name": "stdout",
     "output_type": "stream",
     "text": [
      "sllikswp\n",
      "ecneicsatad\n",
      "hgnisnujra\n"
     ]
    }
   ],
   "source": [
    "a=['pwskills','datascience','arjunsingh']\n",
    "for i in a:\n",
    "    i=i[::-1]\n",
    "    print(i)"
   ]
  },
  {
   "cell_type": "code",
   "execution_count": null,
   "id": "879154a7-88da-4f88-8e1b-c1d4348ec8bb",
   "metadata": {},
   "outputs": [],
   "source": []
  },
  {
   "cell_type": "markdown",
   "id": "eab61de9-2490-48c8-adaa-896e6d2c8a7a",
   "metadata": {},
   "source": [
    "Q3. Write a program that prints the multiplication table of a given number using a for loop."
   ]
  },
  {
   "cell_type": "code",
   "execution_count": 8,
   "id": "dbfc8a32-e763-4233-9a1a-ac6d70858f91",
   "metadata": {},
   "outputs": [
    {
     "name": "stdin",
     "output_type": "stream",
     "text": [
      "enter the no. 8\n"
     ]
    },
    {
     "name": "stdout",
     "output_type": "stream",
     "text": [
      "8 * 1 = 8\n",
      "8 * 2 = 16\n",
      "8 * 3 = 24\n",
      "8 * 4 = 32\n",
      "8 * 5 = 40\n",
      "8 * 6 = 48\n",
      "8 * 7 = 56\n",
      "8 * 8 = 64\n",
      "8 * 9 = 72\n",
      "8 * 10 = 80\n"
     ]
    }
   ],
   "source": [
    "a=int(input('enter the no.'))\n",
    "for i in range(1,11):\n",
    "    print(a,'*',i,'=',a*i)"
   ]
  },
  {
   "cell_type": "code",
   "execution_count": null,
   "id": "e55894fb-3e48-47fe-b17e-66a4e50c91cb",
   "metadata": {},
   "outputs": [],
   "source": []
  },
  {
   "cell_type": "markdown",
   "id": "eb8b4fb0-22f3-44af-8df8-e1139335a932",
   "metadata": {},
   "source": [
    "Q4. Write a program that takes a list of integers as input and returns the sum of all the numbers in the list \n",
    "using a for loop."
   ]
  },
  {
   "cell_type": "code",
   "execution_count": 20,
   "id": "47276d3c-7632-4853-9f2b-5f8bd738fd7b",
   "metadata": {},
   "outputs": [
    {
     "name": "stdin",
     "output_type": "stream",
     "text": [
      " 1 2 3 4 5\n"
     ]
    }
   ],
   "source": [
    "a=[i for i in input().split(' ')]"
   ]
  },
  {
   "cell_type": "code",
   "execution_count": 21,
   "id": "271afc93-bd18-4191-9c35-b404cc8bfba6",
   "metadata": {},
   "outputs": [
    {
     "data": {
      "text/plain": [
       "15"
      ]
     },
     "execution_count": 21,
     "metadata": {},
     "output_type": "execute_result"
    }
   ],
   "source": [
    "s=0\n",
    "for i in a:\n",
    "    s=s+int(i)\n",
    "s"
   ]
  },
  {
   "cell_type": "code",
   "execution_count": null,
   "id": "b028891c-b72a-4fac-aff6-efb2f62771c0",
   "metadata": {},
   "outputs": [],
   "source": []
  },
  {
   "cell_type": "markdown",
   "id": "c7243709-7372-4a36-a097-dbc96f2d23d3",
   "metadata": {},
   "source": [
    "Q5. Write a program that prompts the user for a positive integer and then prints out all the prime \n",
    "numbers up to that number using a for loop."
   ]
  },
  {
   "cell_type": "code",
   "execution_count": 27,
   "id": "4a384a9b-4d28-4bf1-9d0b-cf5a9a37b86c",
   "metadata": {},
   "outputs": [
    {
     "name": "stdin",
     "output_type": "stream",
     "text": [
      "enter the no. 13\n"
     ]
    },
    {
     "name": "stdout",
     "output_type": "stream",
     "text": [
      "2\n",
      "3\n",
      "5\n",
      "7\n",
      "11\n",
      "13\n"
     ]
    }
   ],
   "source": [
    "a=int(input('enter the no.'))\n",
    "if(a<=2):\n",
    "    print('plz enter +ve value')\n",
    "else:\n",
    "    for i in range(2,a+1):\n",
    "        for j in range(2,(i//2)+1):\n",
    "            if(i%j==0):\n",
    "                break\n",
    "        else:\n",
    "            print(i)\n",
    "            "
   ]
  },
  {
   "cell_type": "code",
   "execution_count": null,
   "id": "4d149c38-2e94-4084-90fc-d7373b18c7ba",
   "metadata": {},
   "outputs": [],
   "source": []
  },
  {
   "cell_type": "markdown",
   "id": "a6c9758f-7228-44b7-a8c5-4a07bdaeaeca",
   "metadata": {},
   "source": [
    "Q6. Write a program that prompts the user to enter a password until the correct password is entered \n",
    "using a while loop."
   ]
  },
  {
   "cell_type": "code",
   "execution_count": 1,
   "id": "aa2a9c4d-347b-4ba5-a76c-787fcab2ecb0",
   "metadata": {},
   "outputs": [
    {
     "name": "stdin",
     "output_type": "stream",
     "text": [
      "enter the pass 66\n"
     ]
    },
    {
     "name": "stdout",
     "output_type": "stream",
     "text": [
      "wrong password\n"
     ]
    },
    {
     "name": "stdin",
     "output_type": "stream",
     "text": [
      "enter the pass hrk\n"
     ]
    },
    {
     "name": "stdout",
     "output_type": "stream",
     "text": [
      "wrong password\n"
     ]
    },
    {
     "name": "stdin",
     "output_type": "stream",
     "text": [
      "enter the pass hello\n"
     ]
    },
    {
     "name": "stdout",
     "output_type": "stream",
     "text": [
      "unlocked\n"
     ]
    }
   ],
   "source": [
    "while(True):\n",
    "    try:\n",
    "        a=input('enter the pass')\n",
    "        if(a=='hello'):\n",
    "            print('unlocked')\n",
    "            break\n",
    "        else:\n",
    "            print('wrong password')\n",
    "    except:\n",
    "        print('plz enter string value')"
   ]
  },
  {
   "cell_type": "code",
   "execution_count": null,
   "id": "02c45a78-0c19-472b-a62b-58b4a183aa8e",
   "metadata": {},
   "outputs": [],
   "source": []
  },
  {
   "cell_type": "markdown",
   "id": "aa67c5b1-9274-4c1e-91ac-4cbeace7699e",
   "metadata": {},
   "source": [
    "Q7. Write a program that takes a list of strings and prints out each string in reverse order using a while \n",
    "loop."
   ]
  },
  {
   "cell_type": "code",
   "execution_count": 2,
   "id": "c5b48523-87d4-48dc-a7cb-bbbafcfc15da",
   "metadata": {},
   "outputs": [
    {
     "name": "stdin",
     "output_type": "stream",
     "text": [
      " arjun singh\n"
     ]
    },
    {
     "name": "stdout",
     "output_type": "stream",
     "text": [
      "nujra\n",
      "hgnis\n"
     ]
    }
   ],
   "source": [
    "a=[x for x in input('').split(' ')]\n",
    "b=0\n",
    "c=len(a)\n",
    "while(c>0):\n",
    "    p=a[b]\n",
    "    print(p[::-1])\n",
    "    c=c-1\n",
    "    b=b+1"
   ]
  },
  {
   "cell_type": "code",
   "execution_count": null,
   "id": "530ebb18-5873-46bb-a47c-b92016783d19",
   "metadata": {},
   "outputs": [],
   "source": []
  },
  {
   "cell_type": "markdown",
   "id": "bd23d631-01a2-44e6-967f-2ae84e35faed",
   "metadata": {},
   "source": [
    "Q8. Write a program that prompts the user to enter a positive integer and then prints out all the Fibonacci \n",
    "numbers up to that number using a while loop."
   ]
  },
  {
   "cell_type": "code",
   "execution_count": 3,
   "id": "d437fccb-d6fa-4679-a72b-c5db2bec7bf1",
   "metadata": {},
   "outputs": [
    {
     "name": "stdin",
     "output_type": "stream",
     "text": [
      "enter the number 10\n"
     ]
    },
    {
     "name": "stdout",
     "output_type": "stream",
     "text": [
      "0\n",
      "1\n",
      "1\n",
      "2\n",
      "3\n",
      "5\n",
      "8\n",
      "13\n",
      "21\n",
      "34\n"
     ]
    }
   ],
   "source": [
    "q=int(input('enter the number'))\n",
    "a,b=0,1\n",
    "while(q>0):\n",
    "    print(a)\n",
    "    w=a+b\n",
    "    a=b\n",
    "    b=w\n",
    "    q=q-1"
   ]
  },
  {
   "cell_type": "code",
   "execution_count": null,
   "id": "486c61a8-e531-46e0-a11c-f902b9729fea",
   "metadata": {},
   "outputs": [],
   "source": []
  },
  {
   "cell_type": "markdown",
   "id": "41f48ebc-f4e1-4645-b215-1a96e21b15aa",
   "metadata": {},
   "source": [
    "Q9. Write a program that takes a list of integers as input and returns the product of all the numbers in the \n",
    "list using a while loop."
   ]
  },
  {
   "cell_type": "code",
   "execution_count": 6,
   "id": "fea428cd-ec8d-443e-a598-b3bdc0eaf8c8",
   "metadata": {},
   "outputs": [
    {
     "name": "stdin",
     "output_type": "stream",
     "text": [
      " 5 6 2\n"
     ]
    },
    {
     "name": "stdout",
     "output_type": "stream",
     "text": [
      "60\n"
     ]
    }
   ],
   "source": [
    "a=[x for x in input('').split(' ')]\n",
    "b=len(a)\n",
    "c,s=0,1\n",
    "while(b>c):\n",
    "    s=int(a[c])*s\n",
    "    c=c+1\n",
    "print(s)"
   ]
  },
  {
   "cell_type": "code",
   "execution_count": null,
   "id": "728f3d76-33b8-4d56-b5b8-5595614b68d9",
   "metadata": {},
   "outputs": [],
   "source": []
  },
  {
   "cell_type": "markdown",
   "id": "065044c8-91b4-495c-af53-529859fd33f2",
   "metadata": {},
   "source": [
    "Q10. Write a program that prompts the user to enter a positive integer and then prints out the factorial of \n",
    "that number using a while loop."
   ]
  },
  {
   "cell_type": "code",
   "execution_count": 9,
   "id": "1386d763-9f90-40f6-b937-d45ef703d3be",
   "metadata": {},
   "outputs": [
    {
     "name": "stdin",
     "output_type": "stream",
     "text": [
      "enter the number 5\n"
     ]
    },
    {
     "name": "stdout",
     "output_type": "stream",
     "text": [
      "120\n"
     ]
    }
   ],
   "source": [
    "a=int(input('enter the number'))\n",
    "s=1\n",
    "while(a>0):\n",
    "    s=s*a\n",
    "    a=a-1\n",
    "print(s)"
   ]
  },
  {
   "cell_type": "code",
   "execution_count": null,
   "id": "bae0e769-7bb4-4215-940f-f817c3a82252",
   "metadata": {},
   "outputs": [],
   "source": []
  }
 ],
 "metadata": {
  "kernelspec": {
   "display_name": "Python 3 (ipykernel)",
   "language": "python",
   "name": "python3"
  },
  "language_info": {
   "codemirror_mode": {
    "name": "ipython",
    "version": 3
   },
   "file_extension": ".py",
   "mimetype": "text/x-python",
   "name": "python",
   "nbconvert_exporter": "python",
   "pygments_lexer": "ipython3",
   "version": "3.10.8"
  }
 },
 "nbformat": 4,
 "nbformat_minor": 5
}
