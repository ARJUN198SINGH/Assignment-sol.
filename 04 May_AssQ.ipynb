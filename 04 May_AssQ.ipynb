{
 "cells": [
  {
   "cell_type": "markdown",
   "id": "062c4c7f-71e6-4941-8a2b-b9c73691032f",
   "metadata": {},
   "source": [
    "Q1. What is a time series, and what are some common applications of time series analysis?\n",
    "\n",
    "ANS:-Time series analysis is a specific way of analyzing a sequence of data points collected over an interval of time. In time series analysis, analysts record data points at consistent intervals over a set period of time rather than just recording the data points intermittently or randomly."
   ]
  },
  {
   "cell_type": "code",
   "execution_count": null,
   "id": "ec3f0510-4c02-4914-8123-bd1f6296d2bd",
   "metadata": {},
   "outputs": [],
   "source": []
  },
  {
   "cell_type": "markdown",
   "id": "c1ace4da-dd16-42e0-b26d-6a869c5ca979",
   "metadata": {},
   "source": [
    "Q2. What are some common time series patterns, and how can they be identified and interpreted?\n",
    "\n",
    "ANS:-There are three types of time series patterns: \n",
    "1.trend, \n",
    "2.seasonal, and \n",
    "3.cyclic."
   ]
  },
  {
   "cell_type": "code",
   "execution_count": null,
   "id": "1302cdc1-56df-4cfa-b2d3-a9a2ba90ab33",
   "metadata": {},
   "outputs": [],
   "source": []
  },
  {
   "cell_type": "markdown",
   "id": "9b4355be-7ad8-4443-89ab-1d0e9c061c33",
   "metadata": {},
   "source": [
    "Q3. How can time series data be preprocessed before applying analysis techniques?\n",
    "ANS:-\n",
    "Fourier Transform can help remove the noise by converting the time series data into the frequency domain, and from there, we can filter out the noisy frequencies. Then, we can apply the inverse Fourier transform to obtain the filtered time series."
   ]
  },
  {
   "cell_type": "code",
   "execution_count": null,
   "id": "be031490-55c5-467f-909a-2f88be2f434d",
   "metadata": {},
   "outputs": [],
   "source": []
  },
  {
   "cell_type": "markdown",
   "id": "f093c89e-57bf-4cfc-ac92-0ad2c7389bd5",
   "metadata": {},
   "source": [
    "Q4. How can time series forecasting be used in business decision-making, and what are some common \n",
    "challenges and limitations?\n",
    "\n",
    "ANS:-Time series analysis is recording data at regular intervals. The analysis helps in forecasting future values based on past trends, which often leads to an informed decision, crucial for business."
   ]
  },
  {
   "cell_type": "code",
   "execution_count": null,
   "id": "de626ad3-5881-42a3-b1f2-53ba91b08f04",
   "metadata": {},
   "outputs": [],
   "source": []
  },
  {
   "cell_type": "markdown",
   "id": "fa45a179-051e-404e-931e-87bbc52bcb2b",
   "metadata": {},
   "source": [
    "Q5. What is ARIMA modelling, and how can it be used to forecast time series data?\n",
    "\n",
    "ANS:-ARIMA models use differencing to convert a non-stationary time series into a stationary one, and then predict future values from historical data. These models use “auto” correlations and moving averages over residual errors in the data to forecast future"
   ]
  },
  {
   "cell_type": "code",
   "execution_count": null,
   "id": "cad6370f-ce5e-461b-a920-0fe1ac5430ba",
   "metadata": {},
   "outputs": [],
   "source": []
  },
  {
   "cell_type": "markdown",
   "id": "8de9a898-8350-4ad0-af12-8458fdf75ac8",
   "metadata": {},
   "source": [
    "Q6. How do Autocorrelation Function (ACF) and Partial Autocorrelation Function (PACF) plots help in \n",
    "identifying the order of ARIMA models?\n",
    "\n",
    "ANS:-The autocorrelation function (ACF) defines how data points in a time series are related, on average, to the preceding data points (Box, Jenkins, & Reinsel, 1994). In other words, it measures the self-similarity of the signal over different delay times.\n",
    "\n",
    "In time series analysis, the partial autocorrelation function (PACF) gives the partial correlation of a stationary time series with its own lagged values, regressed the values of the time series at all shorter lags. It contrasts with the autocorrelation function, which does not control for other lags."
   ]
  },
  {
   "cell_type": "code",
   "execution_count": null,
   "id": "6a151fe4-7e48-4e25-9e9f-4cd93738613d",
   "metadata": {},
   "outputs": [],
   "source": []
  },
  {
   "cell_type": "markdown",
   "id": "3771db71-bc44-4702-8338-0ff2e3ba94bf",
   "metadata": {},
   "source": [
    "Q7. What are the assumptions of ARIMA models, and how can they be tested for in practice?\n",
    "\n",
    "ANS:-The autoregressive-moving average (ARMA) class of models relies on the assumption that the underlying process is weakly stationary, which restricts the mean and variance to be constant and requires the autocovariances to depend only on the time lag."
   ]
  },
  {
   "cell_type": "code",
   "execution_count": null,
   "id": "037ebcb9-3137-4217-a1dd-7ac339fc98a8",
   "metadata": {},
   "outputs": [],
   "source": []
  },
  {
   "cell_type": "markdown",
   "id": "0ca825c2-58cf-424d-81cd-dd242a7c48ff",
   "metadata": {},
   "source": [
    "Q8. Suppose you have monthly sales data for a retail store for the past three years. Which type of time \n",
    "series model would you recommend for forecasting future sales, and why?\n",
    "\n",
    "ANS:-One of the simplest time series models for forecasting is the Autoregressive Integrated Moving Average (ARIMA) model. ARIMA models are useful when there is evidence of autocorrelation, i.e., when the values of the sales time series are dependent on their own past values. ARIMA models are also capable of modeling trends, seasonality, and other patterns."
   ]
  },
  {
   "cell_type": "code",
   "execution_count": null,
   "id": "fd830d6f-d6e2-43ec-9df0-c21c961687e2",
   "metadata": {},
   "outputs": [],
   "source": []
  },
  {
   "cell_type": "markdown",
   "id": "e402b9fb-959d-45a9-b86d-ce5be6a0db51",
   "metadata": {},
   "source": [
    "Q9. What are some of the limitations of time series analysis? Provide an example of a scenario where the \n",
    "limitations of time series analysis may be particularly relevant.\n",
    "\n",
    "ANS:-it can suffer from generalization from a single study where more data points and models were warranted. Human error could misidentify the correct data model, which can have a snowballing effect on the output. It could also be difficult to obtain the appropriate data points."
   ]
  },
  {
   "cell_type": "code",
   "execution_count": null,
   "id": "ecdbd53b-4f23-483d-bd15-a5fb5b4c5a85",
   "metadata": {},
   "outputs": [],
   "source": []
  },
  {
   "cell_type": "markdown",
   "id": "0a848bc9-8c58-4704-809b-8bec7c0650e0",
   "metadata": {},
   "source": [
    "Q10. Explain the difference between a stationary and non-stationary time series. How does the stationarity \n",
    "of a time series affect the choice of forecasting model?\n",
    "\n",
    "ANS:-When a time series is stationary, it means that certain attributes of the data do not change over time. However, some time series are non-stationary, whereby values and associations between and among variables do vary with time. In finance, many processes are non-stationary, and so must be handled appropriate."
   ]
  },
  {
   "cell_type": "code",
   "execution_count": null,
   "id": "e0092494-1216-420d-a325-0f04d40f1599",
   "metadata": {},
   "outputs": [],
   "source": []
  }
 ],
 "metadata": {
  "kernelspec": {
   "display_name": "Python 3 (ipykernel)",
   "language": "python",
   "name": "python3"
  },
  "language_info": {
   "codemirror_mode": {
    "name": "ipython",
    "version": 3
   },
   "file_extension": ".py",
   "mimetype": "text/x-python",
   "name": "python",
   "nbconvert_exporter": "python",
   "pygments_lexer": "ipython3",
   "version": "3.10.8"
  }
 },
 "nbformat": 4,
 "nbformat_minor": 5
}
