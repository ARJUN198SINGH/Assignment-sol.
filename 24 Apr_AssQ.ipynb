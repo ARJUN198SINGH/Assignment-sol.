{
 "cells": [
  {
   "cell_type": "markdown",
   "id": "a6c00c4d-4bcc-4d2d-bf52-26fa231a986e",
   "metadata": {},
   "source": [
    "Q1. What is a projection and how is it used in PCA?\n",
    "\n",
    "ANS:-This paper introduces a Projected Principal Component Analysis (Projected-PCA), which employees principal component analysis to the projected (smoothed) data matrix onto a given linear space spanned by covariates. When it applies to high-dimensional factor analysis, the projection removes noise components."
   ]
  },
  {
   "cell_type": "code",
   "execution_count": null,
   "id": "3e248520-99a5-4d70-b216-8d05cc91f06f",
   "metadata": {},
   "outputs": [],
   "source": []
  },
  {
   "cell_type": "markdown",
   "id": "9cb6b61c-1055-4bf3-bd3f-1ac8aef57955",
   "metadata": {},
   "source": [
    "Q2. How does the optimization problem in PCA work, and what is it trying to achieve?\n",
    "\n",
    "ANS:-PCA can be used to reduce the dimensionality of the data by creating a set of derived variables that are linear combinations of the original variables. The values of the derived variables are given in the columns of the scores matrix Z."
   ]
  },
  {
   "cell_type": "code",
   "execution_count": null,
   "id": "a30edbd1-6fbd-4307-9a1a-1b40a9a9b319",
   "metadata": {},
   "outputs": [],
   "source": []
  },
  {
   "cell_type": "markdown",
   "id": "184217ab-7730-4ba3-85c4-40de2655b696",
   "metadata": {},
   "source": [
    "Q3. What is the relationship between covariance matrices and PCA?\n",
    "\n",
    "ANS:-\n",
    "PCA is simply described as “diagonalizing the covariance matrix”. What does diagonalizing a matrix mean in this context? It simply means that we need to find a non-trivial linear combination of our original variables such that the covariance matrix is diagonal."
   ]
  },
  {
   "cell_type": "code",
   "execution_count": null,
   "id": "99eb7869-8ce6-4018-8409-3924f131952a",
   "metadata": {},
   "outputs": [],
   "source": []
  },
  {
   "cell_type": "markdown",
   "id": "d3ed4a8f-4caf-419a-99b2-a12400c3236d",
   "metadata": {},
   "source": [
    "Q4. How does the choice of number of principal components impact the performance of PCA?\n",
    "\n",
    "ANS:-The common way of selecting the Principal Components to be used is to set a threshold of explained variance, such as 80%, and then select the number of components that generate a cumulative sum of explained variance as close as possible of that threshold."
   ]
  },
  {
   "cell_type": "code",
   "execution_count": null,
   "id": "6439600f-b4b0-46e6-be0c-6e3cad956c9a",
   "metadata": {},
   "outputs": [],
   "source": []
  },
  {
   "cell_type": "markdown",
   "id": "dd2b61e9-afb3-4e7e-81b4-a99041e468bc",
   "metadata": {},
   "source": [
    "Q5. How can PCA be used in feature selection, and what are the benefits of using it for this purpose?\n",
    "\n",
    "ANS:-The PCA is to reduce the dimension and retain the most variation simultaneously. She works well only if the variation is of interest. She doesn't guarantee that she won't hurt or break down the linear or other kind of relationship in the dataset. So, use PCA only if the variation is of interest."
   ]
  },
  {
   "cell_type": "code",
   "execution_count": null,
   "id": "4441804f-ccac-47a9-92e9-a334242a8873",
   "metadata": {},
   "outputs": [],
   "source": []
  },
  {
   "cell_type": "markdown",
   "id": "caeb7ef2-2ec1-451e-84cf-03256850c043",
   "metadata": {},
   "source": [
    "Q6. What are some common applications of PCA in data science and machine learning?\n",
    "\n",
    "ANS:-Applications of PCA in Machine Learning:-\n",
    "\n",
    "PCA is used to visualize multidimensional data.\n",
    "\n",
    "It is used to reduce the number of dimensions in healthcare data.\n",
    "\n",
    "PCA can help resize an image.\n",
    "\n",
    "It can be used in finance to analyze stock data and forecast returns.\n",
    "\n",
    "PCA helps to find patterns in the high-dimensional datasets."
   ]
  },
  {
   "cell_type": "code",
   "execution_count": null,
   "id": "eaf2eb99-5172-4591-9005-e82a1e024f36",
   "metadata": {},
   "outputs": [],
   "source": []
  },
  {
   "cell_type": "markdown",
   "id": "aa123192-2d19-4bfb-8b3b-ee63a011ed88",
   "metadata": {},
   "source": [
    "Q7.What is the relationship between spread and variance in PCA?\n",
    "\n",
    "ANS:-The variance explained can be understood as the ratio of the vertical spread of the regression line (i.e., from the lowest point on the line to the highest point on the line) to the vertical spread of the data (i.e., from the lowest data point to the highest data point)."
   ]
  },
  {
   "cell_type": "code",
   "execution_count": null,
   "id": "06c34c47-6f2a-4e85-89d6-e417022fb45a",
   "metadata": {},
   "outputs": [],
   "source": []
  },
  {
   "cell_type": "markdown",
   "id": "a08805f4-764b-489f-99fb-22e4774c863a",
   "metadata": {},
   "source": [
    "Q8. How does PCA use the spread and variance of the data to identify principal components?\n",
    "\n",
    "ANS:-PCA works by finding the directions of maximum variance in the data set and projecting the data onto these directions. The principal components are ordered by the amount of variance they explain and are used for feature selection, data compression, clustering, and classification."
   ]
  },
  {
   "cell_type": "code",
   "execution_count": null,
   "id": "54c868e0-ee66-4f8c-8f1b-c07f306944d3",
   "metadata": {},
   "outputs": [],
   "source": []
  },
  {
   "cell_type": "markdown",
   "id": "feeed7a7-65df-4604-9a28-3a2880fe5690",
   "metadata": {},
   "source": [
    "Q9. How does PCA handle data with high variance in some dimensions but low variance in others?\n",
    "\n",
    "ANS:-PCA generally tries to find the lower-dimensional surface to project the high-dimensional data. PCA works by considering the variance of each attribute because the high attribute shows the good split between the classes, and hence it reduces the dimensionality."
   ]
  },
  {
   "cell_type": "code",
   "execution_count": null,
   "id": "c2dcf5e2-c2b9-4019-b9ed-e4c3d34ddf6c",
   "metadata": {},
   "outputs": [],
   "source": []
  }
 ],
 "metadata": {
  "kernelspec": {
   "display_name": "Python 3 (ipykernel)",
   "language": "python",
   "name": "python3"
  },
  "language_info": {
   "codemirror_mode": {
    "name": "ipython",
    "version": 3
   },
   "file_extension": ".py",
   "mimetype": "text/x-python",
   "name": "python",
   "nbconvert_exporter": "python",
   "pygments_lexer": "ipython3",
   "version": "3.10.8"
  }
 },
 "nbformat": 4,
 "nbformat_minor": 5
}
