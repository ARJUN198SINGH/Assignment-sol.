{
 "cells": [
  {
   "cell_type": "code",
   "execution_count": 3,
   "id": "135abd85-7a1a-4c2a-a458-75d3dabc8fe1",
   "metadata": {},
   "outputs": [
    {
     "name": "stdin",
     "output_type": "stream",
     "text": [
      "enter your marks 91\n"
     ]
    },
    {
     "name": "stdout",
     "output_type": "stream",
     "text": [
      "A\n"
     ]
    }
   ],
   "source": [
    "#SOLUTION 1:-\n",
    "a=int(input('enter your marks'))\n",
    "if(a>90):\n",
    "    print('A')\n",
    "elif(a>80 and a<=90):\n",
    "    print('B')\n",
    "elif(a>60 and a<=80):\n",
    "    print('C')\n",
    "else:\n",
    "    print('D')"
   ]
  },
  {
   "cell_type": "code",
   "execution_count": 9,
   "id": "17acb5ac-a54f-416e-9331-3b50c7aee408",
   "metadata": {},
   "outputs": [
    {
     "name": "stdin",
     "output_type": "stream",
     "text": [
      "enter the cost 56987\n"
     ]
    },
    {
     "name": "stdout",
     "output_type": "stream",
     "text": [
      "62685.7\n"
     ]
    }
   ],
   "source": [
    "#SOLUTION 2:-\n",
    "a=int(input('enter the cost'))\n",
    "if(a>100000):\n",
    "    tax=a+(15*a/100)\n",
    "    print(tax)\n",
    "elif(a>50000 and a<=100000):\n",
    "    tax=a+(10*a/100)\n",
    "    print(tax)\n",
    "else:\n",
    "    tax=a+(5*a/100)\n",
    "    print(tax)"
   ]
  },
  {
   "cell_type": "code",
   "execution_count": 11,
   "id": "7dc4a725-5921-4222-9778-03c8d087c497",
   "metadata": {},
   "outputs": [
    {
     "name": "stdout",
     "output_type": "stream",
     "text": [
      "enter one city:- DELHI,AGRA,JAIPUR\n"
     ]
    },
    {
     "name": "stdin",
     "output_type": "stream",
     "text": [
      " Delhi\n"
     ]
    },
    {
     "name": "stdout",
     "output_type": "stream",
     "text": [
      "Red Fort\n"
     ]
    }
   ],
   "source": [
    "#SOLUTION 3:-\n",
    "print('enter one city:- DELHI,AGRA,JAIPUR')\n",
    "a=input('')\n",
    "if(a=='Agra'):\n",
    "    print('Tajmahal')\n",
    "elif(a=='Delhi'):\n",
    "    print('Red Fort')\n",
    "elif(a=='Jaipur'):\n",
    "    print('Jal Mahal')"
   ]
  },
  {
   "cell_type": "code",
   "execution_count": 5,
   "id": "d7e1697f-662b-4744-8daa-95aa2a69dcc5",
   "metadata": {},
   "outputs": [
    {
     "name": "stdin",
     "output_type": "stream",
     "text": [
      "enter the number 45\n"
     ]
    },
    {
     "name": "stdout",
     "output_type": "stream",
     "text": [
      "2\n"
     ]
    }
   ],
   "source": [
    "#SOLUTION 4:-\n",
    "a=int(input('enter the number'))\n",
    "c=0\n",
    "while(a>=10):\n",
    "    if(a%3==0):\n",
    "        c=c+1\n",
    "        a=a//3\n",
    "print(c)\n",
    "        "
   ]
  },
  {
   "cell_type": "code",
   "execution_count": 4,
   "id": "bbade94f-19af-4285-97ed-4ffa7cbd06ac",
   "metadata": {},
   "outputs": [
    {
     "name": "stdout",
     "output_type": "stream",
     "text": [
      "7\n"
     ]
    }
   ],
   "source": [
    "#SOLUTION 5:-\n",
    "'''we use while loop in case we need to make the \n",
    "infinite loop '''\n",
    "while(True):\n",
    "    print(1)"
   ]
  },
  {
   "cell_type": "code",
   "execution_count": 7,
   "id": "fb75efe8-7919-4018-aa81-e2682fe0e1bd",
   "metadata": {},
   "outputs": [
    {
     "name": "stdout",
     "output_type": "stream",
     "text": [
      "*****\n",
      "****\n",
      "***\n",
      "**\n",
      "*\n"
     ]
    }
   ],
   "source": [
    "#SOLUTION 6:-\n",
    "a=5\n",
    "while(a>0):\n",
    "    b=a\n",
    "    while(b>0):\n",
    "        print('*',end='')\n",
    "    \n",
    "        b=b-1\n",
    "    a=a-1\n",
    "    print()"
   ]
  },
  {
   "cell_type": "code",
   "execution_count": 3,
   "id": "10fed234-d5fa-4370-bec6-fd38c7878130",
   "metadata": {},
   "outputs": [
    {
     "name": "stdout",
     "output_type": "stream",
     "text": [
      "**\n",
      "*\n",
      "*\n",
      "*\n",
      "*\n"
     ]
    }
   ],
   "source": [
    "a=5\n",
    "b=1\n",
    "while(a>0):\n",
    "    b=b+1\n",
    "    while(b>0):\n",
    "        print('*',end='')\n",
    "        b=b-1\n",
    "    print()\n",
    "    a=a-1"
   ]
  },
  {
   "cell_type": "code",
   "execution_count": null,
   "id": "7c814201-d314-4679-988e-c254f7e8eebd",
   "metadata": {},
   "outputs": [],
   "source": []
  },
  {
   "cell_type": "code",
   "execution_count": 10,
   "id": "a6aa9cea-bd54-44aa-8418-12ce73e63d5b",
   "metadata": {},
   "outputs": [
    {
     "name": "stdout",
     "output_type": "stream",
     "text": [
      "55555\n",
      "4444\n",
      "333\n",
      "22\n",
      "1\n"
     ]
    }
   ],
   "source": [
    "#SOLUTION 6:-\n",
    "a=5\n",
    "p=1\n",
    "while(a>0):\n",
    "    b=a\n",
    "    while(b>0):\n",
    "        print(a,end='')\n",
    "        p+=1\n",
    "        b=b-1\n",
    "    a=a-1\n",
    "    print()"
   ]
  },
  {
   "cell_type": "code",
   "execution_count": null,
   "id": "846070cf-fb3b-4088-9e7f-6590458359a3",
   "metadata": {},
   "outputs": [],
   "source": []
  },
  {
   "cell_type": "code",
   "execution_count": null,
   "id": "838d9fc2-fbdc-40b8-ac55-e63896459120",
   "metadata": {},
   "outputs": [],
   "source": []
  },
  {
   "cell_type": "code",
   "execution_count": 11,
   "id": "f6d3aab9-a29f-402a-9302-b876df46685c",
   "metadata": {},
   "outputs": [
    {
     "name": "stdout",
     "output_type": "stream",
     "text": [
      "10\n",
      "9\n",
      "8\n",
      "7\n",
      "6\n",
      "5\n",
      "4\n",
      "3\n",
      "2\n",
      "1\n"
     ]
    }
   ],
   "source": [
    "#SOLUTION 7,8:-\n",
    "a=10\n",
    "while(a>0):\n",
    "    print(a)\n",
    "    a=a-1"
   ]
  },
  {
   "cell_type": "code",
   "execution_count": null,
   "id": "bb93b660-79a0-4f44-8cc2-076ebfaa3c6d",
   "metadata": {},
   "outputs": [],
   "source": []
  }
 ],
 "metadata": {
  "kernelspec": {
   "display_name": "Python 3 (ipykernel)",
   "language": "python",
   "name": "python3"
  },
  "language_info": {
   "codemirror_mode": {
    "name": "ipython",
    "version": 3
   },
   "file_extension": ".py",
   "mimetype": "text/x-python",
   "name": "python",
   "nbconvert_exporter": "python",
   "pygments_lexer": "ipython3",
   "version": "3.10.8"
  }
 },
 "nbformat": 4,
 "nbformat_minor": 5
}
