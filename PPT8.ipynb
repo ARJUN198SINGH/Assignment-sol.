{
 "cells": [
  {
   "cell_type": "markdown",
   "id": "18384001-f501-46fe-99ef-e32e3057f88a",
   "metadata": {},
   "source": [
    "<aside>\n",
    "💡 **Question 1**\n",
    "\n",
    "Given two strings s1 and s2, return *the lowest **ASCII** sum of deleted characters to make two strings equal*.\n",
    "\n",
    "**Example 1:**\n",
    "\n",
    "**Input:** s1 = \"sea\", s2 = \"eat\"\n",
    "\n",
    "**Output:** 231\n",
    "\n",
    "**Explanation:** Deleting \"s\" from \"sea\" adds the ASCII value of \"s\" (115) to the sum.\n",
    "\n",
    "Deleting \"t\" from \"eat\" adds 116 to the sum.\n",
    "\n",
    "At the end, both strings are equal, and 115 + 116 = 231 is the minimum sum possible to achieve this.\n",
    "\n",
    "</aside>"
   ]
  },
  {
   "cell_type": "code",
   "execution_count": 10,
   "id": "46128129-68c7-41fe-bd49-1cc71380140d",
   "metadata": {},
   "outputs": [
    {
     "data": {
      "text/plain": [
       "231"
      ]
     },
     "execution_count": 10,
     "metadata": {},
     "output_type": "execute_result"
    }
   ],
   "source": [
    "def stringg(s1,s2):\n",
    "    s=set()\n",
    "    for i in s1:\n",
    "        if(i not in s2):\n",
    "            s.add(i)\n",
    "    for i in s2:\n",
    "        if(i not in s1):\n",
    "            s.add(i)\n",
    "    t=0\n",
    "    for i in s:\n",
    "        t=t+ord(i)\n",
    "    return t\n",
    "s1 = \"sea\"\n",
    "s2 = \"eat\"\n",
    "stringg(s1,s2)"
   ]
  },
  {
   "cell_type": "code",
   "execution_count": null,
   "id": "d86874f9-0f23-4852-8dfb-eace101b371a",
   "metadata": {},
   "outputs": [],
   "source": []
  },
  {
   "cell_type": "markdown",
   "id": "cb6e0e68-1c0e-458b-a15d-fbf66a107131",
   "metadata": {},
   "source": [
    "<aside>\n",
    "💡 **Question 2**\n",
    "\n",
    "Given a string s containing only three types of characters: '(', ')' and '*', return true *if* s *is **valid***.\n",
    "\n",
    "The following rules define a **valid** string:\n",
    "\n",
    "- Any left parenthesis '(' must have a corresponding right parenthesis ')'.\n",
    "- Any right parenthesis ')' must have a corresponding left parenthesis '('.\n",
    "- Left parenthesis '(' must go before the corresponding right parenthesis ')'.\n",
    "- '*' could be treated as a single right parenthesis ')' or a single left parenthesis '(' or an empty string \"\".\n",
    "\n",
    "**Example 1:**\n",
    "\n",
    "**Input:** s = \"()\"\n",
    "\n",
    "**Output:**\n",
    "\n",
    "true\n",
    "\n",
    "</aside>"
   ]
  },
  {
   "cell_type": "code",
   "execution_count": 31,
   "id": "380b0962-0250-4c51-854f-f355cf35d9ef",
   "metadata": {},
   "outputs": [
    {
     "data": {
      "text/plain": [
       "True"
      ]
     },
     "execution_count": 31,
     "metadata": {},
     "output_type": "execute_result"
    }
   ],
   "source": [
    "def strin(s):\n",
    "    c=0\n",
    "    p=0\n",
    "    for i in s:\n",
    "        if(i=='('):\n",
    "            c=c+1\n",
    "        else:\n",
    "            p=p+1\n",
    "    if(c==p):\n",
    "        return True\n",
    "    else:\n",
    "        return False\n",
    "s='()'\n",
    "strin(s)"
   ]
  },
  {
   "cell_type": "code",
   "execution_count": null,
   "id": "2fdeabed-7971-4790-96ed-5eb2fca6e46c",
   "metadata": {},
   "outputs": [],
   "source": []
  },
  {
   "cell_type": "markdown",
   "id": "12b7c16d-021d-462a-b333-4b253e87c1aa",
   "metadata": {},
   "source": [
    "<aside>\n",
    "💡 **Question 3**\n",
    "\n",
    "Given two strings word1 and word2, return *the minimum number of **steps** required to make* word1 *and* word2 *the same*.\n",
    "\n",
    "In one **step**, you can delete exactly one character in either string.\n",
    "\n",
    "**Example 1:**\n",
    "\n",
    "**Input:** word1 = \"sea\", word2 = \"eat\"\n",
    "\n",
    "**Output:** 2\n",
    "\n",
    "**Explanation:** You need one step to make \"sea\" to \"ea\" and another step to make \"eat\" to \"ea\".\n",
    "\n",
    "</aside>"
   ]
  },
  {
   "cell_type": "code",
   "execution_count": 7,
   "id": "3822ab0a-e1af-499d-9917-31e19f2a7633",
   "metadata": {},
   "outputs": [],
   "source": [
    "def minDistance(word1, word2):\n",
    "    m, n = len(word1), len(word2)\n",
    "    dp = [[0] * (n+1) for _ in range(m+1)]\n",
    "\n",
    "    for i in range(m+1):\n",
    "        dp[i][0] = i\n",
    "\n",
    "    for j in range(n+1):\n",
    "        dp[0][j] = j\n",
    "\n",
    "    for i in range(1, m+1):\n",
    "        for j in range(1, n+1):\n",
    "            if word1[i-1] == word2[j-1]:\n",
    "                dp[i][j] = dp[i-1][j-1]\n",
    "            else:\n",
    "                dp[i][j] = 1 + min(dp[i-1][j], dp[i][j-1])\n",
    "\n",
    "    return dp[m][n]\n"
   ]
  },
  {
   "cell_type": "code",
   "execution_count": 8,
   "id": "b57be937-d03f-4777-90ed-b3d3b491e94a",
   "metadata": {},
   "outputs": [
    {
     "name": "stdout",
     "output_type": "stream",
     "text": [
      "2\n"
     ]
    }
   ],
   "source": [
    "word1 = \"sea\"\n",
    "word2 = \"eat\"\n",
    "min_steps = minDistance(word1, word2)\n",
    "print(min_steps)  \n"
   ]
  },
  {
   "cell_type": "code",
   "execution_count": null,
   "id": "94509767-4a23-413e-93c1-04d4cbe6f8a8",
   "metadata": {},
   "outputs": [],
   "source": []
  },
  {
   "cell_type": "markdown",
   "id": "310008ef-93de-4407-b72d-00ad8ba916c6",
   "metadata": {},
   "source": [
    "Question 4\n",
    "\n",
    "You need to construct a binary tree from a string consisting of parenthesis and integers.\n",
    "\n",
    "The whole input represents a binary tree. It contains an integer followed by zero, one or two pairs of parenthesis. The integer represents the root's value and a pair of parenthesis contains a child binary tree with the same structure.\n",
    "You always start to construct the **left** child node of the parent first if it exists.\n",
    "\n",
    "**Input:** s = \"4(2(3)(1))(6(5))\"\n",
    "\n",
    "**Output:** [4,2,6,3,1,5]"
   ]
  },
  {
   "cell_type": "code",
   "execution_count": 9,
   "id": "13a1dbbd-0454-43e6-a614-13cc03d7930a",
   "metadata": {},
   "outputs": [
    {
     "ename": "NameError",
     "evalue": "name 'root' is not defined",
     "output_type": "error",
     "traceback": [
      "\u001b[0;31m---------------------------------------------------------------------------\u001b[0m",
      "\u001b[0;31mNameError\u001b[0m                                 Traceback (most recent call last)",
      "Cell \u001b[0;32mIn[9], line 12\u001b[0m\n\u001b[1;32m      8\u001b[0m     result \u001b[38;5;241m+\u001b[39m\u001b[38;5;241m=\u001b[39m inorder_traversal(root\u001b[38;5;241m.\u001b[39mright)\n\u001b[1;32m     10\u001b[0m     \u001b[38;5;28;01mreturn\u001b[39;00m result\n\u001b[0;32m---> 12\u001b[0m inorder \u001b[38;5;241m=\u001b[39m inorder_traversal(\u001b[43mroot\u001b[49m)\n\u001b[1;32m     13\u001b[0m \u001b[38;5;28mprint\u001b[39m(inorder)  \u001b[38;5;66;03m# Output: [4, 2, 6, 3, 1, 5]\u001b[39;00m\n",
      "\u001b[0;31mNameError\u001b[0m: name 'root' is not defined"
     ]
    }
   ],
   "source": [
    "def inorder_traversal(root):\n",
    "    if root is None:\n",
    "        return []\n",
    "\n",
    "    result = []\n",
    "    result += inorder_traversal(root.left)\n",
    "    result.append(root.val)\n",
    "    result += inorder_traversal(root.right)\n",
    "\n",
    "    return result\n",
    "\n",
    "inorder = inorder_traversal(root)\n",
    "print(inorder)\n"
   ]
  },
  {
   "cell_type": "code",
   "execution_count": null,
   "id": "ab69fa3b-4808-4f08-b44f-869e9fec0e1c",
   "metadata": {},
   "outputs": [],
   "source": []
  },
  {
   "cell_type": "code",
   "execution_count": null,
   "id": "15a35665-e1e1-4f88-8fe3-20938fae4f60",
   "metadata": {},
   "outputs": [],
   "source": []
  },
  {
   "cell_type": "markdown",
   "id": "5dfaed8b-4601-4357-9649-81766a88d51b",
   "metadata": {},
   "source": [
    "<aside>\n",
    "💡 **Question 5**\n",
    "\n",
    "Given an array of characters chars, compress it using the following algorithm:\n",
    "\n",
    "Begin with an empty string s. For each group of **consecutive repeating characters** in chars:\n",
    "\n",
    "- If the group's length is 1, append the character to s.\n",
    "- Otherwise, append the character followed by the group's length.\n",
    "\n",
    "The compressed string s **should not be returned separately**, but instead, be stored **in the input character array chars**. Note that group lengths that are 10 or longer will be split into multiple characters in chars.\n",
    "\n",
    "After you are done **modifying the input array,** return *the new length of the array*.\n",
    "\n",
    "You must write an algorithm that uses only constant extra space.\n",
    "\n",
    "**Example 1:**\n",
    "\n",
    "**Input:** chars = [\"a\",\"a\",\"b\",\"b\",\"c\",\"c\",\"c\"]\n",
    "\n",
    "**Output:** Return 6, and the first 6 characters of the input array should be: [\"a\",\"2\",\"b\",\"2\",\"c\",\"3\"]\n",
    "\n",
    "**Explanation:**\n",
    "\n",
    "The groups are \"aa\", \"bb\", and \"ccc\". This compresses to \"a2b2c3\".\n",
    "\n",
    "</aside>"
   ]
  },
  {
   "cell_type": "code",
   "execution_count": 10,
   "id": "d5b5a359-0c13-4ede-90ba-4a52202b1a85",
   "metadata": {},
   "outputs": [],
   "source": [
    "def compress(chars):\n",
    "    write = 0\n",
    "    read = 0\n",
    "    count = 1\n",
    "\n",
    "    while read < len(chars):\n",
    "        if read + 1 == len(chars) or chars[read] != chars[read + 1]:\n",
    "            chars[write] = chars[read]\n",
    "            write += 1\n",
    "\n",
    "            if count > 1:\n",
    "                count_str = str(count)\n",
    "                for digit in count_str:\n",
    "                    chars[write] = digit\n",
    "                    write += 1\n",
    "\n",
    "            count = 1\n",
    "        else:\n",
    "            count += 1\n",
    "\n",
    "        read += 1\n",
    "\n",
    "    return write\n"
   ]
  },
  {
   "cell_type": "code",
   "execution_count": 12,
   "id": "17d41131-4279-46cf-9fe1-cccfc5a18d89",
   "metadata": {},
   "outputs": [
    {
     "name": "stdout",
     "output_type": "stream",
     "text": [
      "['a', '2', 'b', '2', 'c', '3']\n"
     ]
    }
   ],
   "source": [
    "chars = [\"a\", \"a\", \"b\", \"b\", \"c\", \"c\", \"c\"]\n",
    "new_length = compress(chars)\n",
    "compressed_chars = chars[:new_length]\n",
    "print(compressed_chars)  \n"
   ]
  },
  {
   "cell_type": "code",
   "execution_count": null,
   "id": "a654ecec-2bae-4143-8f73-1ecee0bcf1d0",
   "metadata": {},
   "outputs": [],
   "source": []
  },
  {
   "cell_type": "markdown",
   "id": "e848b70f-bb63-4a24-ae3b-f116f5792846",
   "metadata": {},
   "source": [
    "<aside>\n",
    "💡 **Question 6**\n",
    "\n",
    "Given two strings s and p, return *an array of all the start indices of* p*'s anagrams in* s. You may return the answer in **any order**.\n",
    "\n",
    "An **Anagram** is a word or phrase formed by rearranging the letters of a different word or phrase, typically using all the original letters exactly once.\n",
    "\n",
    "**Example 1:**\n",
    "\n",
    "**Input:** s = \"cbaebabacd\", p = \"abc\"\n",
    "\n",
    "**Output:** [0,6]\n",
    "\n",
    "**Explanation:**\n",
    "\n",
    "The substring with start index = 0 is \"cba\", which is an anagram of \"abc\".\n",
    "\n",
    "The substring with start index = 6 is \"bac\", which is an anagram of \"abc\".\n",
    "\n",
    "</aside>"
   ]
  },
  {
   "cell_type": "code",
   "execution_count": 1,
   "id": "f6e3099c-d360-46ae-8319-ab452726239c",
   "metadata": {},
   "outputs": [],
   "source": [
    "from collections import Counter\n",
    "\n",
    "def findAnagrams(s, p):\n",
    "    counter_p = Counter(p)\n",
    "    counter_s = Counter()\n",
    "    match_count = 0\n",
    "    result = []\n",
    "\n",
    "    for char in s[:len(p)]:\n",
    "        counter_s[char] += 1\n",
    "        if counter_s[char] == counter_p[char]:\n",
    "            match_count += 1\n",
    "\n",
    "    left = 0\n",
    "    right = len(p)\n",
    "\n",
    "    while right < len(s):\n",
    "        if match_count == len(counter_p):\n",
    "            result.append(left)\n",
    "\n",
    "        counter_s[s[left]] -= 1\n",
    "        if counter_s[s[left]] < counter_p[s[left]]:\n",
    "            match_count -= 1\n",
    "\n",
    "        left += 1\n",
    "        right += 1\n",
    "\n",
    "        counter_s[s[right]] += 1\n",
    "        if counter_s[s[right]] == counter_p[s[right]]:\n",
    "            match_count += 1\n",
    "\n",
    "    if match_count == len(counter_p):\n",
    "        result.append(left)\n",
    "\n",
    "    return result\n"
   ]
  },
  {
   "cell_type": "code",
   "execution_count": 2,
   "id": "49a145f6-eac0-4613-865b-9ac1b740c38c",
   "metadata": {},
   "outputs": [
    {
     "ename": "IndexError",
     "evalue": "string index out of range",
     "output_type": "error",
     "traceback": [
      "\u001b[0;31m---------------------------------------------------------------------------\u001b[0m",
      "\u001b[0;31mIndexError\u001b[0m                                Traceback (most recent call last)",
      "Cell \u001b[0;32mIn[2], line 3\u001b[0m\n\u001b[1;32m      1\u001b[0m s \u001b[38;5;241m=\u001b[39m \u001b[38;5;124m\"\u001b[39m\u001b[38;5;124mcbaebabacd\u001b[39m\u001b[38;5;124m\"\u001b[39m\n\u001b[1;32m      2\u001b[0m p \u001b[38;5;241m=\u001b[39m \u001b[38;5;124m\"\u001b[39m\u001b[38;5;124mabc\u001b[39m\u001b[38;5;124m\"\u001b[39m\n\u001b[0;32m----> 3\u001b[0m indices \u001b[38;5;241m=\u001b[39m \u001b[43mfindAnagrams\u001b[49m\u001b[43m(\u001b[49m\u001b[43ms\u001b[49m\u001b[43m,\u001b[49m\u001b[43m \u001b[49m\u001b[43mp\u001b[49m\u001b[43m)\u001b[49m\n\u001b[1;32m      4\u001b[0m \u001b[38;5;28mprint\u001b[39m(indices)  \u001b[38;5;66;03m# Output: [0, 6]\u001b[39;00m\n",
      "Cell \u001b[0;32mIn[1], line 28\u001b[0m, in \u001b[0;36mfindAnagrams\u001b[0;34m(s, p)\u001b[0m\n\u001b[1;32m     25\u001b[0m left \u001b[38;5;241m+\u001b[39m\u001b[38;5;241m=\u001b[39m \u001b[38;5;241m1\u001b[39m\n\u001b[1;32m     26\u001b[0m right \u001b[38;5;241m+\u001b[39m\u001b[38;5;241m=\u001b[39m \u001b[38;5;241m1\u001b[39m\n\u001b[0;32m---> 28\u001b[0m counter_s[\u001b[43ms\u001b[49m\u001b[43m[\u001b[49m\u001b[43mright\u001b[49m\u001b[43m]\u001b[49m] \u001b[38;5;241m+\u001b[39m\u001b[38;5;241m=\u001b[39m \u001b[38;5;241m1\u001b[39m\n\u001b[1;32m     29\u001b[0m \u001b[38;5;28;01mif\u001b[39;00m counter_s[s[right]] \u001b[38;5;241m==\u001b[39m counter_p[s[right]]:\n\u001b[1;32m     30\u001b[0m     match_count \u001b[38;5;241m+\u001b[39m\u001b[38;5;241m=\u001b[39m \u001b[38;5;241m1\u001b[39m\n",
      "\u001b[0;31mIndexError\u001b[0m: string index out of range"
     ]
    }
   ],
   "source": [
    "s = \"cbaebabacd\"\n",
    "p = \"abc\"\n",
    "indices = findAnagrams(s, p)\n",
    "print(indices)  # Output: [0, 6]\n"
   ]
  },
  {
   "cell_type": "code",
   "execution_count": null,
   "id": "8b8d2513-4036-454f-a137-852a8f0a5809",
   "metadata": {},
   "outputs": [],
   "source": []
  },
  {
   "cell_type": "markdown",
   "id": "e6c59610-6483-4f3b-82b5-9b8245a9930c",
   "metadata": {},
   "source": [
    "<aside>\n",
    "💡 **Question 7**\n",
    "\n",
    "Given an encoded string, return its decoded string.\n",
    "\n",
    "The encoding rule is: k[encoded_string], where the encoded_string inside the square brackets is being repeated exactly k times. Note that k is guaranteed to be a positive integer.\n",
    "\n",
    "You may assume that the input string is always valid; there are no extra white spaces, square brackets are well-formed, etc. Furthermore, you may assume that the original data does not contain any digits and that digits are only for those repeat numbers, k. For example, there will not be input like 3a or 2[4].\n",
    "\n",
    "The test cases are generated so that the length of the output will never exceed 105.\n",
    "\n",
    "**Example 1:**\n",
    "\n",
    "**Input:** s = \"3[a]2[bc]\"\n",
    "\n",
    "**Output:** \"aaabcbc\"\n",
    "\n",
    "</aside>"
   ]
  },
  {
   "cell_type": "code",
   "execution_count": 3,
   "id": "01a96918-6491-4c85-af00-c07699249953",
   "metadata": {},
   "outputs": [],
   "source": [
    "def decodeString(s):\n",
    "    stack = []\n",
    "\n",
    "    for char in s:\n",
    "        if char.isdigit():\n",
    "            num = 0\n",
    "            while char.isdigit():\n",
    "                num = num * 10 + int(char)\n",
    "                char = s.pop(0)\n",
    "            stack.append(num)\n",
    "        elif char == '[':\n",
    "            stack.append(char)\n",
    "        elif char == ']':\n",
    "            decoded_str = ''\n",
    "            while stack[-1] != '[':\n",
    "                decoded_str = stack.pop() + decoded_str\n",
    "            stack.pop()  # Pop the opening bracket\n",
    "\n",
    "            count = stack.pop()\n",
    "            decoded_str *= count\n",
    "            stack.append(decoded_str)\n",
    "        else:\n",
    "            stack.append(char)\n",
    "\n",
    "    decoded_str = ''\n",
    "    while stack:\n",
    "        decoded_str = stack.pop() + decoded_str\n",
    "\n",
    "    return decoded_str[::-1]\n"
   ]
  },
  {
   "cell_type": "code",
   "execution_count": 4,
   "id": "cfce4e7d-4e9a-41d9-af98-a64cdf4bb3a0",
   "metadata": {},
   "outputs": [
    {
     "ename": "AttributeError",
     "evalue": "'str' object has no attribute 'pop'",
     "output_type": "error",
     "traceback": [
      "\u001b[0;31m---------------------------------------------------------------------------\u001b[0m",
      "\u001b[0;31mAttributeError\u001b[0m                            Traceback (most recent call last)",
      "Cell \u001b[0;32mIn[4], line 2\u001b[0m\n\u001b[1;32m      1\u001b[0m s \u001b[38;5;241m=\u001b[39m \u001b[38;5;124m\"\u001b[39m\u001b[38;5;124m3[a]2[bc]\u001b[39m\u001b[38;5;124m\"\u001b[39m\n\u001b[0;32m----> 2\u001b[0m decoded_str \u001b[38;5;241m=\u001b[39m \u001b[43mdecodeString\u001b[49m\u001b[43m(\u001b[49m\u001b[43ms\u001b[49m\u001b[43m)\u001b[49m\n\u001b[1;32m      3\u001b[0m \u001b[38;5;28mprint\u001b[39m(decoded_str)  \u001b[38;5;66;03m# Output: \"aaabcbc\"\u001b[39;00m\n",
      "Cell \u001b[0;32mIn[3], line 9\u001b[0m, in \u001b[0;36mdecodeString\u001b[0;34m(s)\u001b[0m\n\u001b[1;32m      7\u001b[0m     \u001b[38;5;28;01mwhile\u001b[39;00m char\u001b[38;5;241m.\u001b[39misdigit():\n\u001b[1;32m      8\u001b[0m         num \u001b[38;5;241m=\u001b[39m num \u001b[38;5;241m*\u001b[39m \u001b[38;5;241m10\u001b[39m \u001b[38;5;241m+\u001b[39m \u001b[38;5;28mint\u001b[39m(char)\n\u001b[0;32m----> 9\u001b[0m         char \u001b[38;5;241m=\u001b[39m \u001b[43ms\u001b[49m\u001b[38;5;241;43m.\u001b[39;49m\u001b[43mpop\u001b[49m(\u001b[38;5;241m0\u001b[39m)\n\u001b[1;32m     10\u001b[0m     stack\u001b[38;5;241m.\u001b[39mappend(num)\n\u001b[1;32m     11\u001b[0m \u001b[38;5;28;01melif\u001b[39;00m char \u001b[38;5;241m==\u001b[39m \u001b[38;5;124m'\u001b[39m\u001b[38;5;124m[\u001b[39m\u001b[38;5;124m'\u001b[39m:\n",
      "\u001b[0;31mAttributeError\u001b[0m: 'str' object has no attribute 'pop'"
     ]
    }
   ],
   "source": [
    "s = \"3[a]2[bc]\"\n",
    "decoded_str = decodeString(s)\n",
    "print(decoded_str)  # Output: \"aaabcbc\"\n"
   ]
  },
  {
   "cell_type": "code",
   "execution_count": null,
   "id": "32be4a2e-c718-45b1-aa71-ba9bffb63c7b",
   "metadata": {},
   "outputs": [],
   "source": []
  },
  {
   "cell_type": "markdown",
   "id": "95764392-a221-4b77-9af1-1feeff770cca",
   "metadata": {},
   "source": [
    "<aside>\n",
    "💡 **Question 8**\n",
    "\n",
    "Given two strings s and goal, return true *if you can swap two letters in* s *so the result is equal to* goal*, otherwise, return* false*.*\n",
    "\n",
    "Swapping letters is defined as taking two indices i and j (0-indexed) such that i != j and swapping the characters at s[i] and s[j].\n",
    "\n",
    "- For example, swapping at indices 0 and 2 in \"abcd\" results in \"cbad\".\n",
    "\n",
    "**Example 1:**\n",
    "\n",
    "**Input:** s = \"ab\", goal = \"ba\"\n",
    "\n",
    "**Output:** true\n",
    "\n",
    "**Explanation:** You can swap s[0] = 'a' and s[1] = 'b' to get \"ba\", which is equal to goal.\n",
    "\n",
    "</aside>"
   ]
  },
  {
   "cell_type": "code",
   "execution_count": 5,
   "id": "d39dc10d-e102-4b51-8a6b-89a377cd9065",
   "metadata": {},
   "outputs": [],
   "source": [
    "def buddyStrings(s, goal):\n",
    "    if len(s) != len(goal):\n",
    "        return False\n",
    "\n",
    "    mismatch = []\n",
    "    indices = []\n",
    "\n",
    "    for i in range(len(s)):\n",
    "        if s[i] != goal[i]:\n",
    "            mismatch.append((s[i], goal[i]))\n",
    "            indices.append(i)\n",
    "\n",
    "    if len(mismatch) != 2:\n",
    "        return False\n",
    "\n",
    "    return mismatch[0][0] == mismatch[1][1] and mismatch[0][1] == mismatch[1][0]\n"
   ]
  },
  {
   "cell_type": "code",
   "execution_count": 6,
   "id": "a7cc46f4-3e70-41b2-9d31-4dade86c7abf",
   "metadata": {},
   "outputs": [
    {
     "name": "stdout",
     "output_type": "stream",
     "text": [
      "True\n"
     ]
    }
   ],
   "source": [
    "s = \"ab\"\n",
    "goal = \"ba\"\n",
    "can_swap = buddyStrings(s, goal)\n",
    "print(can_swap)  # Output: True\n"
   ]
  },
  {
   "cell_type": "code",
   "execution_count": null,
   "id": "812e9c95-600f-4f67-90a1-ff3f9a90954a",
   "metadata": {},
   "outputs": [],
   "source": [
    " "
   ]
  }
 ],
 "metadata": {
  "kernelspec": {
   "display_name": "Python 3 (ipykernel)",
   "language": "python",
   "name": "python3"
  },
  "language_info": {
   "codemirror_mode": {
    "name": "ipython",
    "version": 3
   },
   "file_extension": ".py",
   "mimetype": "text/x-python",
   "name": "python",
   "nbconvert_exporter": "python",
   "pygments_lexer": "ipython3",
   "version": "3.10.8"
  }
 },
 "nbformat": 4,
 "nbformat_minor": 5
}
