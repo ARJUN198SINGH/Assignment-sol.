{
 "cells": [
  {
   "cell_type": "markdown",
   "id": "78f9527d-3233-4d14-b92f-6630a8c07191",
   "metadata": {},
   "source": [
    "Q1. What is anomaly detection and what is its purpose?\n",
    "\n",
    "ANS:-Anomaly detection is examining specific data points and detecting rare occurrences that seem suspicious because they're different from the established pattern of behaviors. Anomaly detection isn't new, but as data increases manual tracking is impractical."
   ]
  },
  {
   "cell_type": "code",
   "execution_count": null,
   "id": "8bfbea65-edbd-4212-9ab3-4cde4a743d68",
   "metadata": {},
   "outputs": [],
   "source": []
  },
  {
   "cell_type": "markdown",
   "id": "00e3853b-b687-4a59-9b5b-7d833aa3020e",
   "metadata": {},
   "source": [
    "Q2. What are the key challenges in anomaly detection?\n",
    "\n",
    "ANS:-key challenges in anomaly detection are:-\n",
    "\n",
    "1.Null data or incomplete datasets.\n",
    "2.Inconsistent data formats.\n",
    "3.Duplicate data.\n",
    "4.Different scales of measurement.\n",
    "5.Human error."
   ]
  },
  {
   "cell_type": "code",
   "execution_count": null,
   "id": "683a2690-d48f-447c-b991-713acb763b50",
   "metadata": {},
   "outputs": [],
   "source": []
  },
  {
   "cell_type": "markdown",
   "id": "29746407-650d-4bd1-9baa-41a47e5502e8",
   "metadata": {},
   "source": [
    "Q4. What are the main categories of anomaly detection algorithms?Q3. How does unsupervised anomaly detection differ from supervised anomaly detection?\n",
    "\n",
    "ANS:-The main difference between supervised and unsupervised learning: Labeled data. The main distinction between the two approaches is the use of labeled datasets. To put it simply, supervised learning uses labeled input and output data, while an unsupervised learning algorithm does not."
   ]
  },
  {
   "cell_type": "code",
   "execution_count": null,
   "id": "efbcdd57-d10f-4169-b34c-a8d9f67f015c",
   "metadata": {},
   "outputs": [],
   "source": []
  },
  {
   "cell_type": "markdown",
   "id": "7c1b16ef-b1d4-4cdf-819e-afad7661aab6",
   "metadata": {},
   "source": [
    "Q4. What are the main categories of anomaly detection algorithms?\n",
    "\n",
    "ANS:-There are three main classes of anomaly detection techniques: unsupervised, semi-supervised, and supervised."
   ]
  },
  {
   "cell_type": "code",
   "execution_count": null,
   "id": "48b42df6-93cf-4966-a019-42c66d4c953f",
   "metadata": {},
   "outputs": [],
   "source": []
  },
  {
   "cell_type": "markdown",
   "id": "74bf235e-0f33-4796-bf5e-0cd2865b3623",
   "metadata": {},
   "source": [
    "Q5. What are the main assumptions made by distance-based anomaly detection methods?\n",
    "\n",
    "ANS:-Distance-based outlier detection method consults the neighbourhood of an object, which is defined by a given radius. An object is then considered an outlier if its neighborhood does not have enough other points. A distance the threshold that can be defined as a reasonable neighbourhood of the object."
   ]
  },
  {
   "cell_type": "code",
   "execution_count": null,
   "id": "ca6aadfc-1ce7-4304-99b5-95eabc58d1e5",
   "metadata": {},
   "outputs": [],
   "source": []
  },
  {
   "cell_type": "markdown",
   "id": "f6ad217f-11a1-4b47-aaa1-29caa7a3b6fa",
   "metadata": {},
   "source": [
    "Q6. How does the LOF algorithm compute anomaly scores?\n",
    "\n",
    "ANS:-The LOF of a point p is the sum of the LRD of all the points in the set kNearestSet(p) * the sum of the reachDistance of all the points of the same set, to the point p , all divided by the number of items in the set, kNearestSetCount(p) , squared."
   ]
  },
  {
   "cell_type": "code",
   "execution_count": null,
   "id": "05c2ad47-fd71-462a-ab33-8391954a3751",
   "metadata": {},
   "outputs": [],
   "source": []
  },
  {
   "cell_type": "markdown",
   "id": "3e201cdc-0119-4811-b109-2b840a4572e8",
   "metadata": {},
   "source": [
    "Q7. What are the key parameters of the Isolation Forest algorithm?\n",
    "\n",
    "ANS:-The idea behind Isolation Forest is that, on average, outliers will be closer to the root node (i.e. at a lower depth) than normal instances. As often in machine learning, the key is iteration."
   ]
  },
  {
   "cell_type": "code",
   "execution_count": null,
   "id": "bf0b06fa-625d-4293-a734-b3c4a2579cda",
   "metadata": {},
   "outputs": [],
   "source": []
  },
  {
   "cell_type": "markdown",
   "id": "dffc21b9-2b8f-4837-9613-1eee5892855d",
   "metadata": {},
   "source": [
    "Q8. If a data point has only 2 neighbours of the same class within a radius of 0.5, what is its anomaly score \n",
    "using KNN with K=10?\n",
    "\n",
    "ANS:-\n",
    "anomaly score = 2/10 = 0.2"
   ]
  },
  {
   "cell_type": "code",
   "execution_count": null,
   "id": "8e47e614-cbed-4e78-accc-1b1e12c14ad1",
   "metadata": {},
   "outputs": [],
   "source": []
  },
  {
   "cell_type": "markdown",
   "id": "f8f601f3-5938-459f-9c2d-23e4472e03e0",
   "metadata": {},
   "source": [
    "Q9. Using the Isolation Forest algorithm with 100 trees and a dataset of 3000 data points, what is the \n",
    "anomaly score for a data point that has an average path length of 5.0 compared to the average path \n",
    "length of the trees?\n",
    "\n",
    "ANS:-"
   ]
  }
 ],
 "metadata": {
  "kernelspec": {
   "display_name": "Python 3 (ipykernel)",
   "language": "python",
   "name": "python3"
  },
  "language_info": {
   "codemirror_mode": {
    "name": "ipython",
    "version": 3
   },
   "file_extension": ".py",
   "mimetype": "text/x-python",
   "name": "python",
   "nbconvert_exporter": "python",
   "pygments_lexer": "ipython3",
   "version": "3.10.8"
  }
 },
 "nbformat": 4,
 "nbformat_minor": 5
}
