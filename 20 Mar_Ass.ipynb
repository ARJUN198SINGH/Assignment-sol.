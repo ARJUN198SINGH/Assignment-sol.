{
 "cells": [
  {
   "cell_type": "markdown",
   "id": "767546e9-39a1-4f51-8fb2-b8e0f1aa4946",
   "metadata": {},
   "source": [
    "Q(1):- what is data encoding and how is and how is it useful in data science?\n",
    "\n",
    "ANS:- data encoding is the process by which we convert categorical data into numerical data. We do this because then the categorical data is important for the high accuracy and high prediction."
   ]
  },
  {
   "cell_type": "code",
   "execution_count": null,
   "id": "c08a763e-6158-4408-ae0b-d80b88a303e0",
   "metadata": {},
   "outputs": [],
   "source": []
  },
  {
   "cell_type": "markdown",
   "id": "ac4b04a5-f1d3-4dc2-a21d-f20d86d8b030",
   "metadata": {},
   "source": [
    "Q(2):-What is nominal encoding and provide an example of how you would use it in a real world scenario?\n",
    "\n",
    "ANS:-\n",
    "When we have a feature where variables are just names and there is no order or rank to this variable's feature. For example: City of person lives in, Gender of person, Marital Status, etc… In the above example, We do not have any order or rank, or sequence."
   ]
  },
  {
   "cell_type": "code",
   "execution_count": null,
   "id": "fa9c0df9-6467-4268-a89a-31ac30319f7e",
   "metadata": {},
   "outputs": [],
   "source": []
  },
  {
   "cell_type": "markdown",
   "id": "84d0d5b4-5edd-4255-91d1-935b8eeb8673",
   "metadata": {},
   "source": [
    "Q(3):-In what situations in nominal encoding preferred over one hot encoding and provide a practical example.\n",
    "\n",
    "ANS:-When we have two or three categorical data in one category column Then we can use this method."
   ]
  },
  {
   "cell_type": "code",
   "execution_count": 19,
   "id": "fa513cdb-8cd8-47e0-87bc-ea4d43c1c53d",
   "metadata": {},
   "outputs": [],
   "source": [
    "import numpy as np\n",
    "import pandas as pd\n",
    "a=pd.DataFrame(['male','female','female','female','male'],columns=['gender'])"
   ]
  },
  {
   "cell_type": "code",
   "execution_count": 20,
   "id": "7210bcce-f998-4e8e-b257-e966d8adccfa",
   "metadata": {},
   "outputs": [
    {
     "data": {
      "text/html": [
       "<div>\n",
       "<style scoped>\n",
       "    .dataframe tbody tr th:only-of-type {\n",
       "        vertical-align: middle;\n",
       "    }\n",
       "\n",
       "    .dataframe tbody tr th {\n",
       "        vertical-align: top;\n",
       "    }\n",
       "\n",
       "    .dataframe thead th {\n",
       "        text-align: right;\n",
       "    }\n",
       "</style>\n",
       "<table border=\"1\" class=\"dataframe\">\n",
       "  <thead>\n",
       "    <tr style=\"text-align: right;\">\n",
       "      <th></th>\n",
       "      <th>gender</th>\n",
       "    </tr>\n",
       "  </thead>\n",
       "  <tbody>\n",
       "    <tr>\n",
       "      <th>0</th>\n",
       "      <td>male</td>\n",
       "    </tr>\n",
       "    <tr>\n",
       "      <th>1</th>\n",
       "      <td>female</td>\n",
       "    </tr>\n",
       "    <tr>\n",
       "      <th>2</th>\n",
       "      <td>female</td>\n",
       "    </tr>\n",
       "    <tr>\n",
       "      <th>3</th>\n",
       "      <td>female</td>\n",
       "    </tr>\n",
       "    <tr>\n",
       "      <th>4</th>\n",
       "      <td>male</td>\n",
       "    </tr>\n",
       "  </tbody>\n",
       "</table>\n",
       "</div>"
      ],
      "text/plain": [
       "   gender\n",
       "0    male\n",
       "1  female\n",
       "2  female\n",
       "3  female\n",
       "4    male"
      ]
     },
     "execution_count": 20,
     "metadata": {},
     "output_type": "execute_result"
    }
   ],
   "source": [
    "a"
   ]
  },
  {
   "cell_type": "code",
   "execution_count": 21,
   "id": "636de87e-c0f7-45bb-9c77-bc9f6764c7ac",
   "metadata": {},
   "outputs": [],
   "source": [
    "from sklearn.preprocessing import OneHotEncoder\n"
   ]
  },
  {
   "cell_type": "code",
   "execution_count": 22,
   "id": "348ba546-b93c-4d0a-86d2-92efb3b02c76",
   "metadata": {},
   "outputs": [],
   "source": [
    "f=OneHotEncoder()"
   ]
  },
  {
   "cell_type": "code",
   "execution_count": 23,
   "id": "02da24a2-9083-4b14-803e-4dbfbdf725bc",
   "metadata": {},
   "outputs": [],
   "source": [
    "b=f.fit_transform(a)"
   ]
  },
  {
   "cell_type": "code",
   "execution_count": 24,
   "id": "9522db33-57eb-4cfb-8ecc-2860cc438142",
   "metadata": {},
   "outputs": [
    {
     "data": {
      "text/plain": [
       "array([[0., 1.],\n",
       "       [1., 0.],\n",
       "       [1., 0.],\n",
       "       [1., 0.],\n",
       "       [0., 1.]])"
      ]
     },
     "execution_count": 24,
     "metadata": {},
     "output_type": "execute_result"
    }
   ],
   "source": [
    "q=b.toarray()\n",
    "q"
   ]
  },
  {
   "cell_type": "code",
   "execution_count": 27,
   "id": "42377ae1-dfe4-43e5-892d-f757c400ec19",
   "metadata": {},
   "outputs": [
    {
     "data": {
      "text/html": [
       "<div>\n",
       "<style scoped>\n",
       "    .dataframe tbody tr th:only-of-type {\n",
       "        vertical-align: middle;\n",
       "    }\n",
       "\n",
       "    .dataframe tbody tr th {\n",
       "        vertical-align: top;\n",
       "    }\n",
       "\n",
       "    .dataframe thead th {\n",
       "        text-align: right;\n",
       "    }\n",
       "</style>\n",
       "<table border=\"1\" class=\"dataframe\">\n",
       "  <thead>\n",
       "    <tr style=\"text-align: right;\">\n",
       "      <th></th>\n",
       "      <th>female</th>\n",
       "      <th>male</th>\n",
       "    </tr>\n",
       "  </thead>\n",
       "  <tbody>\n",
       "    <tr>\n",
       "      <th>0</th>\n",
       "      <td>0.0</td>\n",
       "      <td>1.0</td>\n",
       "    </tr>\n",
       "    <tr>\n",
       "      <th>1</th>\n",
       "      <td>1.0</td>\n",
       "      <td>0.0</td>\n",
       "    </tr>\n",
       "    <tr>\n",
       "      <th>2</th>\n",
       "      <td>1.0</td>\n",
       "      <td>0.0</td>\n",
       "    </tr>\n",
       "    <tr>\n",
       "      <th>3</th>\n",
       "      <td>1.0</td>\n",
       "      <td>0.0</td>\n",
       "    </tr>\n",
       "    <tr>\n",
       "      <th>4</th>\n",
       "      <td>0.0</td>\n",
       "      <td>1.0</td>\n",
       "    </tr>\n",
       "  </tbody>\n",
       "</table>\n",
       "</div>"
      ],
      "text/plain": [
       "   female  male\n",
       "0     0.0   1.0\n",
       "1     1.0   0.0\n",
       "2     1.0   0.0\n",
       "3     1.0   0.0\n",
       "4     0.0   1.0"
      ]
     },
     "execution_count": 27,
     "metadata": {},
     "output_type": "execute_result"
    }
   ],
   "source": [
    "e=pd.DataFrame(q,columns=['female','male'])\n",
    "e"
   ]
  },
  {
   "cell_type": "code",
   "execution_count": 34,
   "id": "830b3cf7-624b-4ee7-993a-2b6695facdfe",
   "metadata": {},
   "outputs": [
    {
     "data": {
      "text/html": [
       "<div>\n",
       "<style scoped>\n",
       "    .dataframe tbody tr th:only-of-type {\n",
       "        vertical-align: middle;\n",
       "    }\n",
       "\n",
       "    .dataframe tbody tr th {\n",
       "        vertical-align: top;\n",
       "    }\n",
       "\n",
       "    .dataframe thead th {\n",
       "        text-align: right;\n",
       "    }\n",
       "</style>\n",
       "<table border=\"1\" class=\"dataframe\">\n",
       "  <thead>\n",
       "    <tr style=\"text-align: right;\">\n",
       "      <th></th>\n",
       "      <th>gender</th>\n",
       "      <th>female</th>\n",
       "      <th>male</th>\n",
       "    </tr>\n",
       "  </thead>\n",
       "  <tbody>\n",
       "    <tr>\n",
       "      <th>0</th>\n",
       "      <td>male</td>\n",
       "      <td>0.0</td>\n",
       "      <td>1.0</td>\n",
       "    </tr>\n",
       "    <tr>\n",
       "      <th>1</th>\n",
       "      <td>female</td>\n",
       "      <td>1.0</td>\n",
       "      <td>0.0</td>\n",
       "    </tr>\n",
       "    <tr>\n",
       "      <th>2</th>\n",
       "      <td>female</td>\n",
       "      <td>1.0</td>\n",
       "      <td>0.0</td>\n",
       "    </tr>\n",
       "    <tr>\n",
       "      <th>3</th>\n",
       "      <td>female</td>\n",
       "      <td>1.0</td>\n",
       "      <td>0.0</td>\n",
       "    </tr>\n",
       "    <tr>\n",
       "      <th>4</th>\n",
       "      <td>male</td>\n",
       "      <td>0.0</td>\n",
       "      <td>1.0</td>\n",
       "    </tr>\n",
       "  </tbody>\n",
       "</table>\n",
       "</div>"
      ],
      "text/plain": [
       "   gender  female  male\n",
       "0    male     0.0   1.0\n",
       "1  female     1.0   0.0\n",
       "2  female     1.0   0.0\n",
       "3  female     1.0   0.0\n",
       "4    male     0.0   1.0"
      ]
     },
     "execution_count": 34,
     "metadata": {},
     "output_type": "execute_result"
    }
   ],
   "source": [
    "pd.concat([a,e],axis=1)"
   ]
  },
  {
   "cell_type": "code",
   "execution_count": null,
   "id": "f7a3e080-b367-48cc-bed7-a56b5dad2651",
   "metadata": {},
   "outputs": [],
   "source": []
  },
  {
   "cell_type": "markdown",
   "id": "b45f1546-f7ea-4047-a0ab-43879ccb7bab",
   "metadata": {},
   "source": [
    "Q(4):- Suppose you have a data set containing category data with 5 unit values which including technique would you use to transform this data into a format suitable for machine learning algorithm and explain why you will just choice.\n",
    "\n",
    "ANS:- if we have data set with five categorical values then we use nominal encoding and provide the number from zero to four for every different category data."
   ]
  },
  {
   "cell_type": "code",
   "execution_count": null,
   "id": "ba4fb774-1fea-45d1-823c-55b002a8e142",
   "metadata": {},
   "outputs": [],
   "source": []
  },
  {
   "cell_type": "markdown",
   "id": "bd8894b6-b800-482b-9d47-e3bde782a702",
   "metadata": {},
   "source": [
    "Q(5):- In a machine learning project You have a data set with 1000 rows and five columns Two of the columns are categorical and the remaining three columns are numerical If you were to use nominal including to transfer the category data how many new column would be created Show your calculation.\n",
    "\n",
    "ANS:-\n",
    "in this situation we use nominal encoding and and the number of the unique data present in the two categorical columns the new columns will be added."
   ]
  },
  {
   "cell_type": "code",
   "execution_count": null,
   "id": "52c41103-3eae-4753-a260-d80087ce5dd1",
   "metadata": {},
   "outputs": [],
   "source": []
  },
  {
   "cell_type": "markdown",
   "id": "674e2d79-b6dd-4a7a-81cb-6d01958a5852",
   "metadata": {},
   "source": [
    "Q(6):-you are working with a data set containing information about different types of animal including their species habitat and diet which encoding technique you would use to transform the categical data into a format suitable for machine learning algorithm justify your answer.\n",
    "\n",
    "ANS:-\n",
    "in that condition we will use ordinal encoding because ordinal encoding is the encoding which is used to encode the when we have large number of categorical columns."
   ]
  },
  {
   "cell_type": "code",
   "execution_count": null,
   "id": "77cdb419-aa65-4d43-8673-ca51fd53a0ea",
   "metadata": {},
   "outputs": [],
   "source": []
  },
  {
   "cell_type": "markdown",
   "id": "8b95d417-0137-44df-8ebd-c06ae831f3b1",
   "metadata": {},
   "source": [
    "Q(7):-you are working on a project that involved predicting customer charge for a telecommunication company You have a data set with side feature including the customers gender,age ,contract type, monthly charges and salary. which encoding technique would you use to transfer the caregiver data into numerical data provider step by step explanation of how you implement the encoding."
   ]
  },
  {
   "cell_type": "markdown",
   "id": "bf12deb5-fbf8-4822-b688-0ec6db2c01c4",
   "metadata": {},
   "source": [
    "ANS:- in this situation we will use one hot encoding because one hot encoding is used when we have two situations or three situations or we can say that two or three unique data present in the column.it convert the category data into binary format."
   ]
  },
  {
   "cell_type": "code",
   "execution_count": null,
   "id": "5bd99b49-20d0-4a48-ae77-c6dd3a7ae9ee",
   "metadata": {},
   "outputs": [],
   "source": []
  },
  {
   "cell_type": "code",
   "execution_count": null,
   "id": "371dd3d8-8b7a-4582-bcf1-5437c7fec4b9",
   "metadata": {},
   "outputs": [],
   "source": []
  },
  {
   "cell_type": "code",
   "execution_count": null,
   "id": "70de108c-c09c-44e8-be85-19d24d5e80ad",
   "metadata": {},
   "outputs": [],
   "source": []
  },
  {
   "cell_type": "code",
   "execution_count": null,
   "id": "0b01e3e5-35c8-411e-bb9f-14736f53626b",
   "metadata": {},
   "outputs": [],
   "source": []
  }
 ],
 "metadata": {
  "kernelspec": {
   "display_name": "Python 3 (ipykernel)",
   "language": "python",
   "name": "python3"
  },
  "language_info": {
   "codemirror_mode": {
    "name": "ipython",
    "version": 3
   },
   "file_extension": ".py",
   "mimetype": "text/x-python",
   "name": "python",
   "nbconvert_exporter": "python",
   "pygments_lexer": "ipython3",
   "version": "3.10.8"
  }
 },
 "nbformat": 4,
 "nbformat_minor": 5
}
