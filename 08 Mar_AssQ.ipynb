{
 "cells": [
  {
   "cell_type": "markdown",
   "id": "9564e901-9632-41d2-8de6-bf2d2178ae63",
   "metadata": {},
   "source": [
    "Q1. What is the Probability density function?\n",
    "\n",
    "ANS:-probability density function is works on the continuous random variable.\n",
    "\n"
   ]
  },
  {
   "cell_type": "code",
   "execution_count": null,
   "id": "413926e4-86f9-436b-811d-cb351cd761b7",
   "metadata": {},
   "outputs": [],
   "source": []
  },
  {
   "cell_type": "markdown",
   "id": "dcabe3be-8423-4a2c-9ab8-49bc24fadc7f",
   "metadata": {},
   "source": [
    "Q2. What are the types of Probability distribution?\n",
    "\n",
    "ANS:-Normal distribution, binomial distribution, poisson distribution, and uniform distribution."
   ]
  },
  {
   "cell_type": "code",
   "execution_count": null,
   "id": "0bb4fe68-dd09-4f60-b46e-f3f4f4044f08",
   "metadata": {},
   "outputs": [],
   "source": []
  },
  {
   "cell_type": "markdown",
   "id": "fb4e20a3-e609-4692-94dd-92244af8b97d",
   "metadata": {},
   "source": [
    "Q3. Write a Python function to calculate the probability density function of a normal distribution with \n",
    "given mean and standard deviation at a given point.\n",
    "\n",
    "ANS:-"
   ]
  },
  {
   "cell_type": "code",
   "execution_count": 40,
   "id": "803e8e0e-564a-47a2-9c7b-0829d51b75b2",
   "metadata": {},
   "outputs": [
    {
     "name": "stdout",
     "output_type": "stream",
     "text": [
      "0.062480828085461446\n"
     ]
    }
   ],
   "source": [
    "import math\n",
    "import numpy as np\n",
    "a=np.linspace(1,10,100)\n",
    "mean=np.mean(a)\n",
    "std=np.std(a)\n",
    "point=np.random.randint(1,10)\n",
    "p=(1/(std*((2*3.14)**0.5)))\n",
    "c=math.exp((-1/2)*(((point-mean)/std)**2))\n",
    "pdf=p*c\n",
    "print(pdf)"
   ]
  },
  {
   "cell_type": "code",
   "execution_count": null,
   "id": "d708e8bb-d976-448f-948f-94e3f065148b",
   "metadata": {},
   "outputs": [],
   "source": []
  },
  {
   "cell_type": "markdown",
   "id": "02d27206-330f-4f11-a7ab-ddc1408aa62a",
   "metadata": {},
   "source": [
    "Q4. What are the properties of Binomial distribution? Give two examples of events where binomial \n",
    "distribution can be applied.\n",
    "\n",
    "ANS:-Example:- If a coin is tossed 5 times, find the probability of:\n",
    "\n",
    "(a) Exactly 2 heads\n",
    "\n",
    "(b) At least 4 heads.\n",
    "\n",
    "Sol():-\n",
    "(a) The repeated tossing of the coin is an example of a Bernoulli trial. According to the problem:\n",
    "\n",
    "Number of trials: n=5\n",
    "\n",
    "Probability of head: p= 1/2 and hence the probability of tail, q =1/2\n",
    "\n",
    "For exactly two heads:\n",
    "\n",
    "x=2\n",
    "\n",
    "P(x=2) = 5C2 p2 q5-2 = 5! / 2! 3! × (½)2× (½)3\n",
    "\n",
    "P(x=2) = 5/16\n",
    "\n",
    "(b) For at least four heads,\n",
    "\n",
    "x ≥ 4, P(x ≥ 4) = P(x = 4) + P(x=5)\n",
    "\n",
    "Hence,\n",
    "\n",
    "P(x = 4) = 5C4 p4 q5-4 = 5!/4! 1! × (½)4× (½)1 = 5/32\n",
    "\n",
    "P(x = 5) = 5C5 p5 q5-5 = (½)5 = 1/32\n",
    "\n",
    "Therefore,\n",
    "\n",
    "P(x ≥ 4) = 5/32 + 1/32 = 6/32 = 3/16\n"
   ]
  },
  {
   "cell_type": "code",
   "execution_count": null,
   "id": "5b59813a-84af-40e0-9cfd-0b1c01db7b74",
   "metadata": {},
   "outputs": [],
   "source": []
  },
  {
   "cell_type": "markdown",
   "id": "0ca9d52b-854e-4cb8-ba26-f3836c55b5cb",
   "metadata": {},
   "source": [
    "Q5. Generate a random sample of size 1000 from a binomial distribution with probability of success 0.4 \n",
    "and plot a histogram of the results using matplotlib."
   ]
  },
  {
   "cell_type": "code",
   "execution_count": 3,
   "id": "410f35e7-2ba1-4745-aea5-8edd72586b3e",
   "metadata": {},
   "outputs": [],
   "source": [
    "import numpy as np\n",
    "a=np.random.randint(1,1000,1000)\n"
   ]
  },
  {
   "cell_type": "code",
   "execution_count": 8,
   "id": "d7cdaca6-a86f-4c2c-bc67-e2839f01af97",
   "metadata": {},
   "outputs": [
    {
     "data": {
      "image/png": "[encoded data removed]",
      "text/plain": [
       "<Figure size 1000x200 with 1 Axes>"
      ]
     },
     "metadata": {},
     "output_type": "display_data"
    }
   ],
   "source": [
    "import matplotlib.pyplot as plt\n",
    "plt.figure(figsize=(10,2))\n",
    "plt.hist(a)\n",
    "plt.show()"
   ]
  },
  {
   "cell_type": "code",
   "execution_count": null,
   "id": "877ad7cc-bd06-4eb0-b53d-f28b9aa7810b",
   "metadata": {},
   "outputs": [],
   "source": []
  },
  {
   "cell_type": "markdown",
   "id": "08fa46a6-ce74-4912-a3e9-7d4400cf2849",
   "metadata": {},
   "source": [
    "Q6. Write a Python function to calculate the cumulative distribution function of a Poisson distribution \n",
    "with given mean at a given point."
   ]
  },
  {
   "cell_type": "code",
   "execution_count": 1,
   "id": "0584c0ec-3c9a-42d9-91a0-52794ee6d677",
   "metadata": {},
   "outputs": [],
   "source": [
    "import numpy as np\n",
    "a=np.random.randint(1,1000,1000)\n"
   ]
  },
  {
   "cell_type": "code",
   "execution_count": null,
   "id": "fb4e223a-9bce-460f-8423-53f67251e45f",
   "metadata": {},
   "outputs": [],
   "source": []
  },
  {
   "cell_type": "markdown",
   "id": "48ba0771-e75a-4b86-872d-9d4f592561fa",
   "metadata": {},
   "source": [
    "Q7. How Binomial distribution different from Poisson distribution?\n",
    "\n",
    "ANS:-Binomial distribution is the one in which the number of outcomes are only two, that is success or failure. Example of binomial distribution: Coin toss. Poisson distribution: Poisson distribution is the one in which the number of possible outcomes has no limits."
   ]
  },
  {
   "cell_type": "code",
   "execution_count": null,
   "id": "1159ad7e-74b8-4fb2-8841-f20edbfa6f14",
   "metadata": {},
   "outputs": [],
   "source": []
  },
  {
   "cell_type": "markdown",
   "id": "277a8b49-2b15-4f59-b182-d3423576d337",
   "metadata": {},
   "source": [
    "Q8. Generate a random sample of size 1000 from a Poisson distribution with mean 5 and calculate the \n",
    "sample mean and variance."
   ]
  },
  {
   "cell_type": "code",
   "execution_count": null,
   "id": "4ead9b4b-7426-4e1c-9b23-b04f141e1937",
   "metadata": {},
   "outputs": [],
   "source": []
  },
  {
   "cell_type": "markdown",
   "id": "38a6425e-4ae1-411d-b248-ed5ae7f1ae9d",
   "metadata": {},
   "source": [
    "Q9. How mean and variance are related in Binomial distribution and Poisson distribution?\n",
    "\n",
    "ANS:-\n",
    "\n",
    "The mean of the binomial distribution is always equal to p, and the variance is always equal to pq/N.\n",
    "\n",
    "The mean and the variance of the Poisson distribution are the same, which is equal to the average number of successes that occur in the given interval of time."
   ]
  },
  {
   "cell_type": "code",
   "execution_count": null,
   "id": "473f7774-ea96-4718-a410-7a371a5dc3df",
   "metadata": {},
   "outputs": [],
   "source": []
  },
  {
   "cell_type": "markdown",
   "id": "b3434fce-4dd2-4c49-a111-00a07db77a81",
   "metadata": {},
   "source": [
    "Q10. In normal distribution with respect to mean position, where does the least frequent data appear?\n",
    "\n",
    "ANS:-\n",
    "If X has a Normal distribution with mean μ and standard deviation σ, then we write that X=dN(μ,σ2).\n"
   ]
  },
  {
   "cell_type": "code",
   "execution_count": null,
   "id": "2171dcab-58f5-4550-89c0-5f1654a2dcf1",
   "metadata": {},
   "outputs": [],
   "source": []
  },
  {
   "cell_type": "code",
   "execution_count": null,
   "id": "582bf0b2-3e8b-441c-8e1a-7944ce8998e6",
   "metadata": {},
   "outputs": [],
   "source": []
  }
 ],
 "metadata": {
  "kernelspec": {
   "display_name": "Python 3 (ipykernel)",
   "language": "python",
   "name": "python3"
  },
  "language_info": {
   "codemirror_mode": {
    "name": "ipython",
    "version": 3
   },
   "file_extension": ".py",
   "mimetype": "text/x-python",
   "name": "python",
   "nbconvert_exporter": "python",
   "pygments_lexer": "ipython3",
   "version": "3.10.8"
  }
 },
 "nbformat": 4,
 "nbformat_minor": 5
}
