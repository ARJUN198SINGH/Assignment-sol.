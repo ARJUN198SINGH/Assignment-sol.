{
 "cells": [
  {
   "cell_type": "markdown",
   "id": "90d4d4a4-e086-4a2f-9c1d-fa4f0f1957a9",
   "metadata": {},
   "source": [
    "Move Zeroes"
   ]
  },
  {
   "cell_type": "code",
   "execution_count": 5,
   "id": "4adef8c6-358d-4922-a0d2-f44817030bf8",
   "metadata": {},
   "outputs": [
    {
     "name": "stdout",
     "output_type": "stream",
     "text": [
      "[1, 3, 12, 0, 0, 0]\n"
     ]
    }
   ],
   "source": [
    "def zero(nums):\n",
    "    a=[]\n",
    "    b=[]\n",
    "    for i in nums:\n",
    "        if(i==0):\n",
    "            b.append(i)\n",
    "        else:\n",
    "            a.append(i)\n",
    "    a.extend(b)\n",
    "    return a\n",
    "nums = [0,0,1,0,3,12]\n",
    "print(zero(nums))"
   ]
  },
  {
   "cell_type": "code",
   "execution_count": null,
   "id": "e313f019-b55a-4258-a952-9aed341579a0",
   "metadata": {},
   "outputs": [],
   "source": []
  },
  {
   "cell_type": "markdown",
   "id": "b61b663b-eea6-49e5-bf43-cfecb6589ad4",
   "metadata": {},
   "source": [
    "First Unique Character in a String"
   ]
  },
  {
   "cell_type": "code",
   "execution_count": 10,
   "id": "f51e3cb0-bda5-4bdf-8d14-08fc781b5134",
   "metadata": {},
   "outputs": [
    {
     "name": "stdout",
     "output_type": "stream",
     "text": [
      "l\n"
     ]
    }
   ],
   "source": [
    "def find(s):\n",
    "    for i in range(len(s)):\n",
    "        if(s.count(s[i])>=2):\n",
    "                if(i==len(s)-1):\n",
    "                    print(-1)\n",
    "        \n",
    "        elif(s.count(s[i])==1):\n",
    "            print(s[i])\n",
    "            break\n",
    "s='leetcode'\n",
    "find(s)    "
   ]
  },
  {
   "cell_type": "code",
   "execution_count": null,
   "id": "4b25e1cd-ad99-4e20-b60a-d2c3432829f3",
   "metadata": {},
   "outputs": [],
   "source": []
  }
 ],
 "metadata": {
  "kernelspec": {
   "display_name": "Python 3 (ipykernel)",
   "language": "python",
   "name": "python3"
  },
  "language_info": {
   "codemirror_mode": {
    "name": "ipython",
    "version": 3
   },
   "file_extension": ".py",
   "mimetype": "text/x-python",
   "name": "python",
   "nbconvert_exporter": "python",
   "pygments_lexer": "ipython3",
   "version": "3.10.8"
  }
 },
 "nbformat": 4,
 "nbformat_minor": 5
}
