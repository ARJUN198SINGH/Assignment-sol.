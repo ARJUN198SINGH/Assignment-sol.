{
 "cells": [
  {
   "cell_type": "markdown",
   "id": "81354229-f922-4fbd-8b46-8ce29fe2e4a0",
   "metadata": {},
   "source": [
    "Q1. What are the three measures of central tendency?\n",
    "\n",
    "ANS:-mean, median, and mode."
   ]
  },
  {
   "cell_type": "code",
   "execution_count": null,
   "id": "d08db70b-b3da-416e-a3a5-bad6c89bd7c9",
   "metadata": {},
   "outputs": [],
   "source": []
  },
  {
   "cell_type": "markdown",
   "id": "3f7a0f9f-1324-4b33-a236-a1929ccec50f",
   "metadata": {},
   "source": [
    "Q2. What is the difference between the mean, median, and mode? How are they used to measure the \n",
    "central tendency of a dataset?\n",
    "\n",
    "ANS:- mean goves the average of rhe dara and median provide \n",
    "mid value of the data which is useful to avoid outliers.\n",
    "Mode provide the max. repetation value.\n",
    "we have mean(), median(), and mode() function."
   ]
  },
  {
   "cell_type": "code",
   "execution_count": null,
   "id": "0a2bfb08-66f4-4db6-ad99-a101a1c16554",
   "metadata": {},
   "outputs": [],
   "source": []
  },
  {
   "cell_type": "markdown",
   "id": "85310bbd-cb81-40e2-a95c-50612a5993f4",
   "metadata": {},
   "source": [
    "Q3. Measure the three measures of central tendency for the given height data:\n",
    "\n",
    " [178,177,176,177,178.2,178,175,179,180,175,178.9,176.2,177,172.5,178,176.5]"
   ]
  },
  {
   "cell_type": "code",
   "execution_count": 5,
   "id": "3ef70d16-d91d-46fe-8a84-c94de9091587",
   "metadata": {},
   "outputs": [
    {
     "data": {
      "text/plain": [
       "177.01875"
      ]
     },
     "execution_count": 5,
     "metadata": {},
     "output_type": "execute_result"
    }
   ],
   "source": [
    "import numpy as np\n",
    "a=[178,177,176,177,178.2,178,175,179,180,175,178.9,176.2,177,172.5,178,176.5]\n",
    "np.mean(a)"
   ]
  },
  {
   "cell_type": "code",
   "execution_count": 6,
   "id": "618a7d6b-413b-4dcd-9065-2a26c859c0a8",
   "metadata": {},
   "outputs": [
    {
     "data": {
      "text/plain": [
       "177.0"
      ]
     },
     "execution_count": 6,
     "metadata": {},
     "output_type": "execute_result"
    }
   ],
   "source": [
    "np.median(a)"
   ]
  },
  {
   "cell_type": "code",
   "execution_count": 9,
   "id": "d3917cf9-9a60-411a-9f73-8300346f94e5",
   "metadata": {},
   "outputs": [
    {
     "data": {
      "text/plain": [
       "1.7885814036548633"
      ]
     },
     "execution_count": 9,
     "metadata": {},
     "output_type": "execute_result"
    }
   ],
   "source": [
    "np.std(a)"
   ]
  },
  {
   "cell_type": "markdown",
   "id": "d5cdc5d2-6df0-467e-b603-44879c349938",
   "metadata": {},
   "source": [
    "Q4. Find the standard deviation for the given data:\n",
    "\n",
    "[178,177,176,177,178.2,178,175,179,180,175,178.9,176.2,177,172.5,178,176.5]"
   ]
  },
  {
   "cell_type": "code",
   "execution_count": 10,
   "id": "46a77e4c-093b-4edc-b2ef-53b6806ff6b0",
   "metadata": {},
   "outputs": [
    {
     "data": {
      "text/plain": [
       "1.7885814036548633"
      ]
     },
     "execution_count": 10,
     "metadata": {},
     "output_type": "execute_result"
    }
   ],
   "source": [
    "import numpy as np\n",
    "a=[178,177,176,177,178.2,178,175,179,180,175,178.9,176.2,177,172.5,178,176.5]\n",
    "np.std(a)"
   ]
  },
  {
   "cell_type": "markdown",
   "id": "9619177e-3f55-4204-aebf-9d433388f8bd",
   "metadata": {},
   "source": [
    "Q5. How are measures of dispersion such as range, variance, and standard deviation used to describe \n",
    "the spread of a dataset? Provide an example.\n",
    "\n",
    "ANS:-more variance value more the spread dataset ."
   ]
  },
  {
   "cell_type": "code",
   "execution_count": null,
   "id": "a613f1e0-456a-4506-b8ee-2ec5ba6d756d",
   "metadata": {},
   "outputs": [],
   "source": []
  },
  {
   "cell_type": "markdown",
   "id": "b3de264a-fa93-4453-8ed6-b1b6546496c2",
   "metadata": {},
   "source": [
    "Q6. What is a Venn diagram?\n",
    "\n",
    "ANS:- venn diagram is a diagram which shows the relation between the sets ."
   ]
  },
  {
   "cell_type": "code",
   "execution_count": null,
   "id": "b8dec69d-6d0c-4290-90f6-83243ca5893f",
   "metadata": {},
   "outputs": [],
   "source": []
  },
  {
   "cell_type": "markdown",
   "id": "59336861-1e07-4df3-95e6-cfe7ba9a138f",
   "metadata": {},
   "source": [
    "Q7. For the two given sets A = (2,3,4,5,6,7) & B = (0,2,6,8,10). Find:\n",
    "\n",
    "(i) \tA intersection B\n",
    "\n",
    "(ii)\tA ⋃ B"
   ]
  },
  {
   "cell_type": "code",
   "execution_count": 2,
   "id": "39371f8e-ef54-433d-982e-bffaba6c418f",
   "metadata": {},
   "outputs": [
    {
     "data": {
      "text/plain": [
       "{2, 6}"
      ]
     },
     "execution_count": 2,
     "metadata": {},
     "output_type": "execute_result"
    }
   ],
   "source": [
    "A = (2,3,4,5,6,7) \n",
    "B = (0,2,6,8,10)\n",
    "a=set(A)\n",
    "b=set(B)\n",
    "a.intersection(b)"
   ]
  },
  {
   "cell_type": "code",
   "execution_count": 3,
   "id": "85b74436-e62e-4ffb-b3b6-90f6206f0b83",
   "metadata": {},
   "outputs": [
    {
     "data": {
      "text/plain": [
       "{0, 2, 3, 4, 5, 6, 7, 8, 10}"
      ]
     },
     "execution_count": 3,
     "metadata": {},
     "output_type": "execute_result"
    }
   ],
   "source": [
    "a.union(b)"
   ]
  },
  {
   "cell_type": "code",
   "execution_count": null,
   "id": "26472eb4-d5aa-4218-b69c-4ec31854034a",
   "metadata": {},
   "outputs": [],
   "source": []
  },
  {
   "cell_type": "markdown",
   "id": "a507bed0-648a-4997-b792-221fb4fc2c9d",
   "metadata": {
    "tags": []
   },
   "source": [
    "Q8. What do you understand about skewness in data?\n",
    "\n",
    "ANS:-skeness is the used to determine the normal distribution so we can find mean median and mode value easily."
   ]
  },
  {
   "cell_type": "code",
   "execution_count": null,
   "id": "5fd0a1e4-72f2-4266-a095-9be6eaf9f50c",
   "metadata": {},
   "outputs": [],
   "source": []
  },
  {
   "cell_type": "markdown",
   "id": "c4460f3b-127a-496e-b298-f3fda07e3ae2",
   "metadata": {},
   "source": [
    "Q9. If a data is right skewed then what will be the position of median with respect to mean?\n",
    "\n",
    "ANS:- Right skeness is also knon as positive skewness ,\n",
    "it show the variation of the mean median and mode."
   ]
  },
  {
   "cell_type": "code",
   "execution_count": null,
   "id": "4fed2cdd-cf42-4e55-b725-3f1a2edb3c3e",
   "metadata": {},
   "outputs": [],
   "source": []
  },
  {
   "cell_type": "markdown",
   "id": "55e2ff8c-d78a-4981-b86e-d5dcf1fbc718",
   "metadata": {
    "tags": []
   },
   "source": [
    "Q10. Explain the difference between covariance and correlation. How are these measures used in \n",
    "statistical analysis?\n",
    "\n",
    "ANS:- Covariance shows you how the two variables differ, whereas correlation shows you how the two variables are related."
   ]
  },
  {
   "cell_type": "code",
   "execution_count": null,
   "id": "a33f8641-ca37-47e6-8eaa-d18747243322",
   "metadata": {},
   "outputs": [],
   "source": []
  },
  {
   "cell_type": "markdown",
   "id": "7ccb68e2-25fa-45f4-a8a2-7c0aa16c5784",
   "metadata": {},
   "source": [
    "Q11. What is the formula for calculating the sample mean? Provide an example calculation for a \n",
    "dataset.\n",
    "\n",
    "ANS:-x̄ = ( Σ xi ) / n"
   ]
  },
  {
   "cell_type": "code",
   "execution_count": null,
   "id": "42ec6692-c390-4ac8-b0c2-8b5e6b4584c2",
   "metadata": {},
   "outputs": [],
   "source": []
  },
  {
   "cell_type": "markdown",
   "id": "09cad1a6-6439-450c-bbaf-cdf7babeb50a",
   "metadata": {},
   "source": [
    "Q12. For a normal distribution data what is the relationship between its measure of central tendency?\n",
    "\n",
    "ANS:-mean=median=mode"
   ]
  },
  {
   "cell_type": "code",
   "execution_count": null,
   "id": "e80c2a5e-4bae-493f-9e52-1ef0f10ba5d5",
   "metadata": {},
   "outputs": [],
   "source": []
  },
  {
   "cell_type": "markdown",
   "id": "dc569fd5-3be6-4e12-a49a-68c53d69601e",
   "metadata": {},
   "source": [
    "Q13. How is covariance different from correlation?\n",
    "\n",
    "ANS:-Covariance shows how the two variables differ, whereas correlation shows you how the two variables are related."
   ]
  },
  {
   "cell_type": "code",
   "execution_count": null,
   "id": "74315457-f0d4-434c-b3bc-9b233fa1e198",
   "metadata": {},
   "outputs": [],
   "source": []
  },
  {
   "cell_type": "markdown",
   "id": "bc08584e-ff5e-4f80-8172-adc0d0f83b1e",
   "metadata": {},
   "source": [
    "Q14. How do outliers affect measures of central tendency and dispersion? Provide an example.\n",
    "\n",
    "ANS:- outliers affect the mean value and when we fill that value in missing data in data set then we get wrong output.\n",
    "so to overcome these data we use median value.\n"
   ]
  },
  {
   "cell_type": "code",
   "execution_count": null,
   "id": "cceea5df-62e3-47cb-bab3-ad02b076f7f8",
   "metadata": {},
   "outputs": [],
   "source": []
  },
  {
   "cell_type": "code",
   "execution_count": null,
   "id": "463619e4-9ba1-4cf6-ba8d-f6267045883b",
   "metadata": {},
   "outputs": [],
   "source": []
  }
 ],
 "metadata": {
  "kernelspec": {
   "display_name": "Python 3 (ipykernel)",
   "language": "python",
   "name": "python3"
  },
  "language_info": {
   "codemirror_mode": {
    "name": "ipython",
    "version": 3
   },
   "file_extension": ".py",
   "mimetype": "text/x-python",
   "name": "python",
   "nbconvert_exporter": "python",
   "pygments_lexer": "ipython3",
   "version": "3.10.8"
  }
 },
 "nbformat": 4,
 "nbformat_minor": 5
}
